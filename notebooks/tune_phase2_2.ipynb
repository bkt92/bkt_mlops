{
 "cells": [
  {
   "attachments": {},
   "cell_type": "markdown",
   "metadata": {},
   "source": [
    "# Load required libs"
   ]
  },
  {
   "cell_type": "code",
   "execution_count": 1,
   "metadata": {},
   "outputs": [
    {
     "name": "stdout",
     "output_type": "stream",
     "text": [
      "c:\\VENV\\api_prediction\n"
     ]
    }
   ],
   "source": [
    "%cd ..\n",
    "%pwd\n",
    "import sys\n",
    "sys.path.append('./src')\n",
    "from src.data_processor import RawDataProcessor\n",
    "from src.problem_config import create_prob_config\n",
    "from src.drift_detector import ks_drift_detect\n",
    "prob_config = create_prob_config(\"phase-2\", \"prob-2\")"
   ]
  },
  {
   "cell_type": "code",
   "execution_count": 2,
   "metadata": {},
   "outputs": [],
   "source": [
    "from mlflow.models.signature import infer_signature\n",
    "import mlflow\n",
    "\n",
    "def log_model_to_tracker_lgbm(model, metrics, desc):\n",
    "    MLFLOW_TRACKING_URI = 'http://127.0.0.1:5000'\n",
    "    mlflow.set_tracking_uri(MLFLOW_TRACKING_URI)\n",
    "    mlflow.set_experiment(\"phase-2_prob-2_lgbm\")\n",
    "    MLFLOW_MODEL_PREFIX = \"model\"\n",
    "    mlflow.start_run(description=desc)\n",
    "    mlflow.log_metrics(metrics)\n",
    "    mlflow.log_params(model.get_params())\n",
    "    signature = infer_signature(test_x.astype(np.float64), predictions)\n",
    "    mlflow.sklearn.log_model(\n",
    "        sk_model=model,\n",
    "        artifact_path=MLFLOW_MODEL_PREFIX,\n",
    "        signature=signature,\n",
    "        pip_requirements ='src/requirements.txt'\n",
    "        #registered_model_name=\"phase-1_prob-1_model-1\"\n",
    "    )\n",
    "\n",
    "    experimentid = mlflow.active_run().info.run_id\n",
    "    mlflow.end_run()\n",
    "    return experimentid"
   ]
  },
  {
   "attachments": {},
   "cell_type": "markdown",
   "metadata": {},
   "source": [
    "# Prepare datasets"
   ]
  },
  {
   "cell_type": "code",
   "execution_count": 146,
   "metadata": {},
   "outputs": [],
   "source": [
    "# Import xtran and ytrain\n",
    "import pandas as pd\n",
    "import numpy as np\n",
    "\n",
    "training_data = pd.read_parquet(prob_config.raw_data_path)\n",
    "\n",
    "training_data, category_index = RawDataProcessor.build_category_features(\n",
    "            training_data, prob_config.categorical_cols\n",
    "        )\n",
    "\n",
    "target_col = prob_config.target_col\n",
    "train_x0 = training_data.drop([target_col], axis=1)\n",
    "train_y0 = training_data[[target_col]]\n",
    "\n",
    "import pickle\n",
    "with open(prob_config.category_index_path, \"wb\") as f:\n",
    "    pickle.dump(category_index, f)"
   ]
  },
  {
   "cell_type": "code",
   "execution_count": 145,
   "metadata": {},
   "outputs": [],
   "source": [
    "from sklearn.model_selection import train_test_split\n",
    "\n",
    "train, dev = train_test_split(training_data, test_size=0.1, random_state=123)\n",
    "\n",
    "train_x = train.drop([\"label\"], axis=1)\n",
    "train_y = train[[target_col]]\n",
    "test_x = dev.drop([\"label\"], axis=1)\n",
    "test_y = dev[[target_col]]"
   ]
  },
  {
   "cell_type": "code",
   "execution_count": 186,
   "metadata": {},
   "outputs": [
    {
     "name": "stderr",
     "output_type": "stream",
     "text": [
      "c:\\VENV\\api_prediction\\.venv\\Lib\\site-packages\\sklearn\\preprocessing\\_label.py:99: DataConversionWarning: A column-vector y was passed when a 1d array was expected. Please change the shape of y to (n_samples, ), for example using ravel().\n",
      "  y = column_or_1d(y, warn=True)\n",
      "c:\\VENV\\api_prediction\\.venv\\Lib\\site-packages\\sklearn\\preprocessing\\_label.py:134: DataConversionWarning: A column-vector y was passed when a 1d array was expected. Please change the shape of y to (n_samples, ), for example using ravel().\n",
      "  y = column_or_1d(y, dtype=self.classes_.dtype, warn=True)\n",
      "c:\\VENV\\api_prediction\\.venv\\Lib\\site-packages\\lightgbm\\sklearn.py:736: UserWarning: 'verbose' argument is deprecated and will be removed in a future release of LightGBM. Pass 'log_evaluation()' callback via 'callbacks' argument instead.\n",
      "  _log_warning(\"'verbose' argument is deprecated and will be removed in a future release of LightGBM. \"\n"
     ]
    },
    {
     "data": {
      "text/html": [
       "<style>#sk-container-id-37 {color: black;background-color: white;}#sk-container-id-37 pre{padding: 0;}#sk-container-id-37 div.sk-toggleable {background-color: white;}#sk-container-id-37 label.sk-toggleable__label {cursor: pointer;display: block;width: 100%;margin-bottom: 0;padding: 0.3em;box-sizing: border-box;text-align: center;}#sk-container-id-37 label.sk-toggleable__label-arrow:before {content: \"▸\";float: left;margin-right: 0.25em;color: #696969;}#sk-container-id-37 label.sk-toggleable__label-arrow:hover:before {color: black;}#sk-container-id-37 div.sk-estimator:hover label.sk-toggleable__label-arrow:before {color: black;}#sk-container-id-37 div.sk-toggleable__content {max-height: 0;max-width: 0;overflow: hidden;text-align: left;background-color: #f0f8ff;}#sk-container-id-37 div.sk-toggleable__content pre {margin: 0.2em;color: black;border-radius: 0.25em;background-color: #f0f8ff;}#sk-container-id-37 input.sk-toggleable__control:checked~div.sk-toggleable__content {max-height: 200px;max-width: 100%;overflow: auto;}#sk-container-id-37 input.sk-toggleable__control:checked~label.sk-toggleable__label-arrow:before {content: \"▾\";}#sk-container-id-37 div.sk-estimator input.sk-toggleable__control:checked~label.sk-toggleable__label {background-color: #d4ebff;}#sk-container-id-37 div.sk-label input.sk-toggleable__control:checked~label.sk-toggleable__label {background-color: #d4ebff;}#sk-container-id-37 input.sk-hidden--visually {border: 0;clip: rect(1px 1px 1px 1px);clip: rect(1px, 1px, 1px, 1px);height: 1px;margin: -1px;overflow: hidden;padding: 0;position: absolute;width: 1px;}#sk-container-id-37 div.sk-estimator {font-family: monospace;background-color: #f0f8ff;border: 1px dotted black;border-radius: 0.25em;box-sizing: border-box;margin-bottom: 0.5em;}#sk-container-id-37 div.sk-estimator:hover {background-color: #d4ebff;}#sk-container-id-37 div.sk-parallel-item::after {content: \"\";width: 100%;border-bottom: 1px solid gray;flex-grow: 1;}#sk-container-id-37 div.sk-label:hover label.sk-toggleable__label {background-color: #d4ebff;}#sk-container-id-37 div.sk-serial::before {content: \"\";position: absolute;border-left: 1px solid gray;box-sizing: border-box;top: 0;bottom: 0;left: 50%;z-index: 0;}#sk-container-id-37 div.sk-serial {display: flex;flex-direction: column;align-items: center;background-color: white;padding-right: 0.2em;padding-left: 0.2em;position: relative;}#sk-container-id-37 div.sk-item {position: relative;z-index: 1;}#sk-container-id-37 div.sk-parallel {display: flex;align-items: stretch;justify-content: center;background-color: white;position: relative;}#sk-container-id-37 div.sk-item::before, #sk-container-id-37 div.sk-parallel-item::before {content: \"\";position: absolute;border-left: 1px solid gray;box-sizing: border-box;top: 0;bottom: 0;left: 50%;z-index: -1;}#sk-container-id-37 div.sk-parallel-item {display: flex;flex-direction: column;z-index: 1;position: relative;background-color: white;}#sk-container-id-37 div.sk-parallel-item:first-child::after {align-self: flex-end;width: 50%;}#sk-container-id-37 div.sk-parallel-item:last-child::after {align-self: flex-start;width: 50%;}#sk-container-id-37 div.sk-parallel-item:only-child::after {width: 0;}#sk-container-id-37 div.sk-dashed-wrapped {border: 1px dashed gray;margin: 0 0.4em 0.5em 0.4em;box-sizing: border-box;padding-bottom: 0.4em;background-color: white;}#sk-container-id-37 div.sk-label label {font-family: monospace;font-weight: bold;display: inline-block;line-height: 1.2em;}#sk-container-id-37 div.sk-label-container {text-align: center;}#sk-container-id-37 div.sk-container {/* jupyter's `normalize.less` sets `[hidden] { display: none; }` but bootstrap.min.css set `[hidden] { display: none !important; }` so we also need the `!important` here to be able to override the default hidden behavior on the sphinx rendered scikit-learn.org. See: https://github.com/scikit-learn/scikit-learn/issues/21755 */display: inline-block !important;position: relative;}#sk-container-id-37 div.sk-text-repr-fallback {display: none;}</style><div id=\"sk-container-id-37\" class=\"sk-top-container\"><div class=\"sk-text-repr-fallback\"><pre>LGBMClassifier(objective=&#x27;multiclass&#x27;, random_state=123)</pre><b>In a Jupyter environment, please rerun this cell to show the HTML representation or trust the notebook. <br />On GitHub, the HTML representation is unable to render, please try loading this page with nbviewer.org.</b></div><div class=\"sk-container\" hidden><div class=\"sk-item\"><div class=\"sk-estimator sk-toggleable\"><input class=\"sk-toggleable__control sk-hidden--visually\" id=\"sk-estimator-id-37\" type=\"checkbox\" checked><label for=\"sk-estimator-id-37\" class=\"sk-toggleable__label sk-toggleable__label-arrow\">LGBMClassifier</label><div class=\"sk-toggleable__content\"><pre>LGBMClassifier(objective=&#x27;multiclass&#x27;, random_state=123)</pre></div></div></div></div></div>"
      ],
      "text/plain": [
       "LGBMClassifier(objective='multiclass', random_state=123)"
      ]
     },
     "execution_count": 186,
     "metadata": {},
     "output_type": "execute_result"
    }
   ],
   "source": [
    "from lightgbm import LGBMClassifier\n",
    "\n",
    "#eval_set = [(train_x, train_y), (test_x, test_y)]\n",
    "model0 = LGBMClassifier(objective=\"multiclass\", random_state=123, n_estimators=100)\n",
    "model0.fit(train_x, train_y, verbose=False) #eval_set=eval_set,"
   ]
  },
  {
   "cell_type": "code",
   "execution_count": 193,
   "metadata": {},
   "outputs": [
    {
     "name": "stdout",
     "output_type": "stream",
     "text": [
      "metrics: {'accuracy_score': 0.8223120452708165}\n"
     ]
    }
   ],
   "source": [
    "from sklearn.metrics import accuracy_score\n",
    "predictions = model0.predict(test_x)\n",
    "#predictions = s.predict_model(best[0], data = test_x)[\"prediction_label\"]\n",
    "accuracy = accuracy_score(predictions, test_y)\n",
    "metrics = {\"accuracy_score\": accuracy}\n",
    "print(f\"metrics: {metrics}\")"
   ]
  },
  {
   "cell_type": "code",
   "execution_count": 191,
   "metadata": {},
   "outputs": [
    {
     "name": "stdout",
     "output_type": "stream",
     "text": [
      "60.5 ms ± 2.19 ms per loop (mean ± std. dev. of 7 runs, 10 loops each)\n"
     ]
    }
   ],
   "source": [
    "%%timeit -n 10\n",
    "model0.predict_proba(test_x)"
   ]
  },
  {
   "cell_type": "code",
   "execution_count": 153,
   "metadata": {},
   "outputs": [],
   "source": [
    "import lleaves\n",
    "model_path = \".venv/phase2_2_lgbm.txt\"\n",
    "model0.booster_.save_model(filename=model_path)\n",
    "llvm_model = lleaves.Model(model_file=model_path)\n",
    "llvm_model.compile()"
   ]
  },
  {
   "cell_type": "code",
   "execution_count": 192,
   "metadata": {},
   "outputs": [
    {
     "name": "stdout",
     "output_type": "stream",
     "text": [
      "16 ms ± 360 µs per loop (mean ± std. dev. of 7 runs, 10 loops each)\n"
     ]
    }
   ],
   "source": [
    "%%timeit -n 10\n",
    "z = llvm_model.predict(test_x)\n",
    "labels = np.argmax(z, axis=1)\n",
    "classes = model0.classes_\n",
    "labels = [classes[i] for i in labels]"
   ]
  },
  {
   "cell_type": "code",
   "execution_count": 26,
   "metadata": {},
   "outputs": [
    {
     "name": "stderr",
     "output_type": "stream",
     "text": [
      "c:\\VENV\\api_prediction\\.venv\\Lib\\site-packages\\_distutils_hack\\__init__.py:33: UserWarning: Setuptools is replacing distutils.\n",
      "  warnings.warn(\"Setuptools is replacing distutils.\")\n"
     ]
    },
    {
     "data": {
      "text/plain": [
       "'6b1fc425890a4574a352aa72de7ffb3f'"
      ]
     },
     "execution_count": 26,
     "metadata": {},
     "output_type": "execute_result"
    }
   ],
   "source": [
    "run_description = \"\"\"\n",
    "### Header\n",
    "LGBM model, First Base Model Prob2\n",
    "Model: LGBM\n",
    "    \"\"\"\n",
    "log_model_to_tracker_lgbm(model0, metrics, run_description)"
   ]
  },
  {
   "attachments": {},
   "cell_type": "markdown",
   "metadata": {},
   "source": [
    "# Drift Detection "
   ]
  },
  {
   "cell_type": "code",
   "execution_count": 34,
   "metadata": {},
   "outputs": [],
   "source": [
    "# Save referent for drift detection.\n",
    "#X_baseline_df = pd.DataFrame(X_baseline, columns=col_to_detect)\n",
    "#X_baseline_df.to_parquet(prob_config.driff_ref_path, index=False)"
   ]
  },
  {
   "attachments": {},
   "cell_type": "markdown",
   "metadata": {},
   "source": [
    "# Model drift"
   ]
  },
  {
   "cell_type": "code",
   "execution_count": 1,
   "metadata": {},
   "outputs": [],
   "source": [
    "import pandas as pd\n",
    "import redis\n",
    "import pickle\n",
    "# Load data for problem 1\n",
    "rc2 = redis.Redis(host='192.168.88.113', db=2, port=6379)\n",
    "\n",
    "captured_x = pd.DataFrame()\n",
    "for key in rc2.keys():\n",
    "    captured_data = pickle.loads(rc2.get(key))\n",
    "    captured_x = pd.concat([captured_x, captured_data])\n",
    "\n",
    "captured_x.drop_duplicates(inplace=True, ignore_index=True)\n",
    "\n",
    "#captured_x = apply_category_features(\n",
    "#    raw_df=captured_x[train_x0.columns],\n",
    "#    categorical_cols=prob_config.categorical_cols,\n",
    "#    category_index=category_index,\n",
    "#)"
   ]
  },
  {
   "cell_type": "code",
   "execution_count": null,
   "metadata": {},
   "outputs": [],
   "source": [
    "np_captured_x = captured_x.copy() #drop([\"is_drift\", \"batch_id\"], axis=1)\n",
    "np_captured_x = np_captured_x.astype(train_x.dtypes.to_dict())\n",
    "np_captured_x['label'].fillna(-1, inplace=True)"
   ]
  },
  {
   "cell_type": "code",
   "execution_count": 2,
   "metadata": {},
   "outputs": [],
   "source": [
    "allkey = rc2.keys()"
   ]
  }
 ],
 "metadata": {
  "kernelspec": {
   "display_name": "deploy",
   "language": "python",
   "name": "python3"
  },
  "language_info": {
   "codemirror_mode": {
    "name": "ipython",
    "version": 3
   },
   "file_extension": ".py",
   "mimetype": "text/x-python",
   "name": "python",
   "nbconvert_exporter": "python",
   "pygments_lexer": "ipython3",
   "version": "3.11.1"
  },
  "orig_nbformat": 4
 },
 "nbformat": 4,
 "nbformat_minor": 2
}
