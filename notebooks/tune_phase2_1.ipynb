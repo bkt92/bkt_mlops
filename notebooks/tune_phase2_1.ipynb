{
 "cells": [
  {
   "attachments": {},
   "cell_type": "markdown",
   "metadata": {},
   "source": [
    "# Load required libs"
   ]
  },
  {
   "cell_type": "code",
   "execution_count": 3,
   "metadata": {},
   "outputs": [
    {
     "name": "stdout",
     "output_type": "stream",
     "text": [
      "c:\\VENV\\api_prediction\n"
     ]
    },
    {
     "data": {
      "text/plain": [
       "'c:\\\\VENV\\\\api_prediction'"
      ]
     },
     "execution_count": 3,
     "metadata": {},
     "output_type": "execute_result"
    }
   ],
   "source": [
    "%cd ..\n",
    "%pwd"
   ]
  },
  {
   "cell_type": "code",
   "execution_count": 4,
   "metadata": {},
   "outputs": [],
   "source": [
    "import sys\n",
    "sys.path.append('./src')\n",
    "from src.data_processor import RawDataProcessor\n",
    "from src.problem_config import create_prob_config \n",
    "prob_config = create_prob_config(\"phase-2\", \"prob-1\")"
   ]
  },
  {
   "cell_type": "code",
   "execution_count": 5,
   "metadata": {},
   "outputs": [],
   "source": [
    "from mlflow.models.signature import infer_signature\n",
    "import mlflow\n",
    "\n",
    "def log_model_to_tracker_lgbm(model, metrics, desc):\n",
    "    MLFLOW_TRACKING_URI = 'http://localhost:5000'\n",
    "    mlflow.set_tracking_uri(MLFLOW_TRACKING_URI)\n",
    "    mlflow.set_experiment(\"phase-2_prob-1_lgbm\")\n",
    "    MLFLOW_MODEL_PREFIX = \"model\"\n",
    "    mlflow.start_run(description=desc)\n",
    "    mlflow.log_metrics(metrics)\n",
    "    mlflow.log_params(model.get_params())\n",
    "    signature = infer_signature(test_x.astype(np.float64), predictions)\n",
    "    mlflow.sklearn.log_model(\n",
    "        sk_model=model,\n",
    "        artifact_path=MLFLOW_MODEL_PREFIX,\n",
    "        signature=signature,\n",
    "        pip_requirements ='src/requirements.txt'\n",
    "        #registered_model_name=\"phase-1_prob-1_model-1\"\n",
    "    )\n",
    "\n",
    "    experimentid = mlflow.active_run().info.run_id\n",
    "    mlflow.end_run()\n",
    "    return experimentid"
   ]
  },
  {
   "attachments": {},
   "cell_type": "markdown",
   "metadata": {},
   "source": [
    "# Prepare datasets"
   ]
  },
  {
   "cell_type": "code",
   "execution_count": 6,
   "metadata": {},
   "outputs": [],
   "source": [
    "import pandas as pd\n",
    "import numpy as np\n",
    "import pickle\n",
    "\n",
    "training_data = pd.read_parquet(prob_config.raw_data_path)\n",
    "\n",
    "training_data, category_index = RawDataProcessor.build_category_features(\n",
    "            training_data, prob_config.categorical_cols\n",
    "        )\n",
    "\n",
    "target_col = prob_config.target_col\n",
    "train_x = training_data.drop([target_col], axis=1)\n",
    "train_y = training_data[[target_col]]\n",
    "\n",
    "# Store the category_index\n",
    "with open(prob_config.category_index_path, \"wb\") as f:\n",
    "    pickle.dump(category_index, f)"
   ]
  },
  {
   "cell_type": "code",
   "execution_count": 5,
   "metadata": {},
   "outputs": [
    {
     "name": "stderr",
     "output_type": "stream",
     "text": [
      "c:\\VENV\\api_prediction\\.venv\\Lib\\site-packages\\sklearn\\preprocessing\\_label.py:99: DataConversionWarning: A column-vector y was passed when a 1d array was expected. Please change the shape of y to (n_samples, ), for example using ravel().\n",
      "  y = column_or_1d(y, warn=True)\n",
      "c:\\VENV\\api_prediction\\.venv\\Lib\\site-packages\\sklearn\\preprocessing\\_label.py:134: DataConversionWarning: A column-vector y was passed when a 1d array was expected. Please change the shape of y to (n_samples, ), for example using ravel().\n",
      "  y = column_or_1d(y, dtype=self.classes_.dtype, warn=True)\n",
      "c:\\VENV\\api_prediction\\.venv\\Lib\\site-packages\\lightgbm\\sklearn.py:736: UserWarning: 'verbose' argument is deprecated and will be removed in a future release of LightGBM. Pass 'log_evaluation()' callback via 'callbacks' argument instead.\n",
      "  _log_warning(\"'verbose' argument is deprecated and will be removed in a future release of LightGBM. \"\n"
     ]
    },
    {
     "data": {
      "text/html": [
       "<style>#sk-container-id-1 {color: black;background-color: white;}#sk-container-id-1 pre{padding: 0;}#sk-container-id-1 div.sk-toggleable {background-color: white;}#sk-container-id-1 label.sk-toggleable__label {cursor: pointer;display: block;width: 100%;margin-bottom: 0;padding: 0.3em;box-sizing: border-box;text-align: center;}#sk-container-id-1 label.sk-toggleable__label-arrow:before {content: \"▸\";float: left;margin-right: 0.25em;color: #696969;}#sk-container-id-1 label.sk-toggleable__label-arrow:hover:before {color: black;}#sk-container-id-1 div.sk-estimator:hover label.sk-toggleable__label-arrow:before {color: black;}#sk-container-id-1 div.sk-toggleable__content {max-height: 0;max-width: 0;overflow: hidden;text-align: left;background-color: #f0f8ff;}#sk-container-id-1 div.sk-toggleable__content pre {margin: 0.2em;color: black;border-radius: 0.25em;background-color: #f0f8ff;}#sk-container-id-1 input.sk-toggleable__control:checked~div.sk-toggleable__content {max-height: 200px;max-width: 100%;overflow: auto;}#sk-container-id-1 input.sk-toggleable__control:checked~label.sk-toggleable__label-arrow:before {content: \"▾\";}#sk-container-id-1 div.sk-estimator input.sk-toggleable__control:checked~label.sk-toggleable__label {background-color: #d4ebff;}#sk-container-id-1 div.sk-label input.sk-toggleable__control:checked~label.sk-toggleable__label {background-color: #d4ebff;}#sk-container-id-1 input.sk-hidden--visually {border: 0;clip: rect(1px 1px 1px 1px);clip: rect(1px, 1px, 1px, 1px);height: 1px;margin: -1px;overflow: hidden;padding: 0;position: absolute;width: 1px;}#sk-container-id-1 div.sk-estimator {font-family: monospace;background-color: #f0f8ff;border: 1px dotted black;border-radius: 0.25em;box-sizing: border-box;margin-bottom: 0.5em;}#sk-container-id-1 div.sk-estimator:hover {background-color: #d4ebff;}#sk-container-id-1 div.sk-parallel-item::after {content: \"\";width: 100%;border-bottom: 1px solid gray;flex-grow: 1;}#sk-container-id-1 div.sk-label:hover label.sk-toggleable__label {background-color: #d4ebff;}#sk-container-id-1 div.sk-serial::before {content: \"\";position: absolute;border-left: 1px solid gray;box-sizing: border-box;top: 0;bottom: 0;left: 50%;z-index: 0;}#sk-container-id-1 div.sk-serial {display: flex;flex-direction: column;align-items: center;background-color: white;padding-right: 0.2em;padding-left: 0.2em;position: relative;}#sk-container-id-1 div.sk-item {position: relative;z-index: 1;}#sk-container-id-1 div.sk-parallel {display: flex;align-items: stretch;justify-content: center;background-color: white;position: relative;}#sk-container-id-1 div.sk-item::before, #sk-container-id-1 div.sk-parallel-item::before {content: \"\";position: absolute;border-left: 1px solid gray;box-sizing: border-box;top: 0;bottom: 0;left: 50%;z-index: -1;}#sk-container-id-1 div.sk-parallel-item {display: flex;flex-direction: column;z-index: 1;position: relative;background-color: white;}#sk-container-id-1 div.sk-parallel-item:first-child::after {align-self: flex-end;width: 50%;}#sk-container-id-1 div.sk-parallel-item:last-child::after {align-self: flex-start;width: 50%;}#sk-container-id-1 div.sk-parallel-item:only-child::after {width: 0;}#sk-container-id-1 div.sk-dashed-wrapped {border: 1px dashed gray;margin: 0 0.4em 0.5em 0.4em;box-sizing: border-box;padding-bottom: 0.4em;background-color: white;}#sk-container-id-1 div.sk-label label {font-family: monospace;font-weight: bold;display: inline-block;line-height: 1.2em;}#sk-container-id-1 div.sk-label-container {text-align: center;}#sk-container-id-1 div.sk-container {/* jupyter's `normalize.less` sets `[hidden] { display: none; }` but bootstrap.min.css set `[hidden] { display: none !important; }` so we also need the `!important` here to be able to override the default hidden behavior on the sphinx rendered scikit-learn.org. See: https://github.com/scikit-learn/scikit-learn/issues/21755 */display: inline-block !important;position: relative;}#sk-container-id-1 div.sk-text-repr-fallback {display: none;}</style><div id=\"sk-container-id-1\" class=\"sk-top-container\"><div class=\"sk-text-repr-fallback\"><pre>LGBMClassifier(objective=&#x27;binary&#x27;, random_state=123)</pre><b>In a Jupyter environment, please rerun this cell to show the HTML representation or trust the notebook. <br />On GitHub, the HTML representation is unable to render, please try loading this page with nbviewer.org.</b></div><div class=\"sk-container\" hidden><div class=\"sk-item\"><div class=\"sk-estimator sk-toggleable\"><input class=\"sk-toggleable__control sk-hidden--visually\" id=\"sk-estimator-id-1\" type=\"checkbox\" checked><label for=\"sk-estimator-id-1\" class=\"sk-toggleable__label sk-toggleable__label-arrow\">LGBMClassifier</label><div class=\"sk-toggleable__content\"><pre>LGBMClassifier(objective=&#x27;binary&#x27;, random_state=123)</pre></div></div></div></div></div>"
      ],
      "text/plain": [
       "LGBMClassifier(objective='binary', random_state=123)"
      ]
     },
     "execution_count": 5,
     "metadata": {},
     "output_type": "execute_result"
    }
   ],
   "source": [
    "from lightgbm import LGBMClassifier\n",
    "\n",
    "model0 = LGBMClassifier(objective=\"binary\", random_state=123)\n",
    "model0.fit(train_x, train_y, verbose=False)"
   ]
  },
  {
   "cell_type": "code",
   "execution_count": 6,
   "metadata": {},
   "outputs": [],
   "source": [
    "sample = training_data.sample(1000)\n",
    "\n",
    "test_x = sample.drop([target_col], axis=1)\n",
    "test_y = sample[[target_col]]"
   ]
  },
  {
   "cell_type": "code",
   "execution_count": 7,
   "metadata": {},
   "outputs": [
    {
     "name": "stdout",
     "output_type": "stream",
     "text": [
      "metrics: {'test_auc': 0.9935781577033099}\n"
     ]
    }
   ],
   "source": [
    "from sklearn.metrics import roc_auc_score\n",
    "predictions = model0.predict_proba(test_x.astype(np.float64))[:,1]\n",
    "#predictions = d4p.gbt_classification_prediction(nClasses=2).compute(test_x, daal_model)\n",
    "#predictions = model0.predict(test_x)\n",
    "auc_score = roc_auc_score(test_y, predictions)\n",
    "metrics = {\"test_auc\": auc_score}\n",
    "print(f\"metrics: {metrics}\")"
   ]
  },
  {
   "cell_type": "code",
   "execution_count": 25,
   "metadata": {},
   "outputs": [
    {
     "name": "stdout",
     "output_type": "stream",
     "text": [
      "2.27 ms ± 305 µs per loop (mean ± std. dev. of 7 runs, 10 loops each)\n"
     ]
    }
   ],
   "source": [
    "%%timeit -n 10\n",
    "model0.predict(test_x)"
   ]
  },
  {
   "cell_type": "code",
   "execution_count": 9,
   "metadata": {},
   "outputs": [],
   "source": [
    "import lleaves\n",
    "model_path = prob_config.data_path / \"phase2_1_lgbm.txt\"\n",
    "llvm_model_path = prob_config.data_path / \"phase2_1_lleaves\"\n",
    "model0.booster_.save_model(filename=model_path)\n",
    "llvm_model = lleaves.Model(model_file=model_path)\n",
    "llvm_model.compile(cache=llvm_model_path)"
   ]
  },
  {
   "cell_type": "code",
   "execution_count": 27,
   "metadata": {},
   "outputs": [
    {
     "name": "stdout",
     "output_type": "stream",
     "text": [
      "2.86 ms ± 232 µs per loop (mean ± std. dev. of 7 runs, 10 loops each)\n"
     ]
    }
   ],
   "source": [
    "%%timeit -n 10\n",
    "llvm_model.predict(test_x)"
   ]
  },
  {
   "cell_type": "code",
   "execution_count": 11,
   "metadata": {},
   "outputs": [],
   "source": [
    "import daal4py as d4p\n",
    "daal_model = d4p.get_gbt_model_from_lightgbm(model0.booster_)"
   ]
  },
  {
   "cell_type": "code",
   "execution_count": 55,
   "metadata": {},
   "outputs": [
    {
     "name": "stdout",
     "output_type": "stream",
     "text": [
      "2.48 ms ± 296 µs per loop (mean ± std. dev. of 7 runs, 10 loops each)\n"
     ]
    }
   ],
   "source": [
    "%%timeit -n 10\n",
    "daal_prediction = d4p.gbt_classification_prediction(nClasses=2, resultsToEvaluate=\"computeClassLabels|computeClassProbabilities\").compute(test_x, daal_model)"
   ]
  },
  {
   "cell_type": "code",
   "execution_count": 37,
   "metadata": {},
   "outputs": [],
   "source": [
    "import onnxruntime as rt\n",
    "from skl2onnx import convert_sklearn, update_registered_converter\n",
    "from skl2onnx.common.shape_calculator import calculate_linear_classifier_output_shapes  # noqa\n",
    "from onnxmltools.convert.lightgbm.operator_converters.LightGbm import convert_lightgbm  # noqa\n",
    "from skl2onnx.common.data_types import FloatTensorType\n",
    "import numpy\n",
    "from sklearn.datasets import load_iris\n",
    "from sklearn.pipeline import Pipeline\n",
    "from sklearn.preprocessing import StandardScaler\n",
    "from lightgbm import LGBMClassifier"
   ]
  },
  {
   "cell_type": "code",
   "execution_count": 38,
   "metadata": {},
   "outputs": [],
   "source": [
    "update_registered_converter(\n",
    "    LGBMClassifier, 'LightGbmLGBMClassifier',\n",
    "    calculate_linear_classifier_output_shapes, convert_lightgbm,\n",
    "    options={'nocl': [True, False], 'zipmap': [True, False, 'columns']})"
   ]
  },
  {
   "cell_type": "code",
   "execution_count": 44,
   "metadata": {},
   "outputs": [],
   "source": [
    "model_onnx = convert_sklearn(\n",
    "    model0, 'pipeline_lightgbm',\n",
    "    [('input', FloatTensorType([None, 41]))],\n",
    "    target_opset={'': 12, 'ai.onnx.ml': 2})\n",
    "\n",
    "# And save.\n",
    "with open(\"pipeline_lightgbm.onnx\", \"wb\") as f:\n",
    "    f.write(model_onnx.SerializeToString())"
   ]
  },
  {
   "cell_type": "code",
   "execution_count": 49,
   "metadata": {},
   "outputs": [
    {
     "name": "stdout",
     "output_type": "stream",
     "text": [
      "predict [1 1 1 1 0]\n",
      "predict_proba [[0.17720758 0.82279242]]\n"
     ]
    }
   ],
   "source": [
    "print(\"predict\", model0.predict(test_x.to_numpy()[:5].astype(numpy.float32)))\n",
    "print(\"predict_proba\", model0.predict_proba(test_x.to_numpy()[:1].astype(numpy.float32)))"
   ]
  },
  {
   "cell_type": "code",
   "execution_count": 45,
   "metadata": {},
   "outputs": [
    {
     "name": "stdout",
     "output_type": "stream",
     "text": [
      "predict [1 1 1 1 0]\n",
      "predict_proba [{0: 0.17720752954483032, 1: 0.8227924704551697}]\n"
     ]
    }
   ],
   "source": [
    "sess = rt.InferenceSession(\"pipeline_lightgbm.onnx\")\n",
    "\n",
    "pred_onx = sess.run(None, {\"input\": test_x.to_numpy()[:5].astype(numpy.float32)})\n",
    "print(\"predict\", pred_onx[0])\n",
    "print(\"predict_proba\", pred_onx[1][:1])"
   ]
  },
  {
   "cell_type": "code",
   "execution_count": 54,
   "metadata": {},
   "outputs": [
    {
     "name": "stdout",
     "output_type": "stream",
     "text": [
      "1.92 ms ± 111 µs per loop (mean ± std. dev. of 7 runs, 100 loops each)\n"
     ]
    }
   ],
   "source": [
    "%%timeit\n",
    "pred_onx = sess.run(None, {\"input\": test_x.to_numpy().astype(numpy.float32)})"
   ]
  },
  {
   "cell_type": "code",
   "execution_count": 27,
   "metadata": {},
   "outputs": [
    {
     "name": "stderr",
     "output_type": "stream",
     "text": [
      "2023/07/05 16:47:38 INFO mlflow.tracking.fluent: Experiment with name 'phase-2_prob-1_lgbm' does not exist. Creating a new experiment.\n",
      "c:\\VENV\\api_prediction\\.venv\\Lib\\site-packages\\_distutils_hack\\__init__.py:33: UserWarning: Setuptools is replacing distutils.\n",
      "  warnings.warn(\"Setuptools is replacing distutils.\")\n"
     ]
    },
    {
     "data": {
      "text/plain": [
       "'c08077d9b63a4ab6b3782a090d7fb3ea'"
      ]
     },
     "execution_count": 27,
     "metadata": {},
     "output_type": "execute_result"
    }
   ],
   "source": [
    "run_description = \"\"\"\n",
    "### Header\n",
    "LGBM model, First Base Model\n",
    "Model: LGBM\n",
    "    \"\"\"\n",
    "log_model_to_tracker_lgbm(model0, metrics, run_description)"
   ]
  },
  {
   "cell_type": "code",
   "execution_count": 19,
   "metadata": {},
   "outputs": [
    {
     "name": "stderr",
     "output_type": "stream",
     "text": [
      "2023/07/04 15:33:48 WARNING mlflow.pyfunc: Detected one or more mismatches between the model's dependencies and the current Python environment:\n",
      " - numpy (current: 1.23.0, required: numpy==1.23.5)\n",
      " - pyarrow (current: 6.0.1, required: pyarrow==11.0.0)\n",
      " - pandas (current: 1.5.3, required: pandas==2.0.1)\n",
      "To fix the mismatches, call `mlflow.pyfunc.get_model_dependencies(model_uri)` to fetch the model's environment and install dependencies using the resulting environment file.\n"
     ]
    }
   ],
   "source": [
    "import mlflow\n",
    "import pathlib\n",
    "MLFLOW_TRACKING_URI = 'http://localhost:5000'\n",
    "mlflow.set_tracking_uri(MLFLOW_TRACKING_URI)\n",
    "model_uri = str(pathlib.Path(\"models:/\", \"phase-2_prob-1_model\", \"2\").as_posix())\n",
    "model0_ref = mlflow.pyfunc.load_model(model_uri)"
   ]
  },
  {
   "cell_type": "code",
   "execution_count": 22,
   "metadata": {},
   "outputs": [
    {
     "data": {
      "text/plain": [
       "array([[9.99900175e-01, 9.98248478e-05],\n",
       "       [1.28688555e-02, 9.87131144e-01],\n",
       "       [7.01833056e-04, 9.99298167e-01],\n",
       "       ...,\n",
       "       [1.12157821e-03, 9.98878422e-01],\n",
       "       [9.03452717e-05, 9.99909655e-01],\n",
       "       [9.99874004e-01, 1.25996093e-04]])"
      ]
     },
     "execution_count": 22,
     "metadata": {},
     "output_type": "execute_result"
    }
   ],
   "source": [
    "model0_ref._model_impl.predict_proba(test_x)"
   ]
  },
  {
   "cell_type": "code",
   "execution_count": 15,
   "metadata": {},
   "outputs": [
    {
     "data": {
      "text/plain": [
       "<mlflow.lightgbm._LGBModelWrapper at 0x1c60c4bc2e0>"
      ]
     },
     "execution_count": 15,
     "metadata": {},
     "output_type": "execute_result"
    }
   ],
   "source": [
    "model0_ref._model_impl.lgb_model."
   ]
  },
  {
   "attachments": {},
   "cell_type": "markdown",
   "metadata": {},
   "source": [
    "# Drift Detect"
   ]
  },
  {
   "cell_type": "code",
   "execution_count": 132,
   "metadata": {},
   "outputs": [],
   "source": [
    "# Old KS Drift from alibi_detect\n",
    "from alibi_detect.cd import KSDrift\n",
    "X_baseline = train_x.sample(100)\n",
    "cd = KSDrift(p_val=0.05, x_ref=X_baseline.to_numpy())"
   ]
  },
  {
   "cell_type": "code",
   "execution_count": 169,
   "metadata": {},
   "outputs": [],
   "source": [
    "x=train_x.sample(1000).to_numpy()"
   ]
  },
  {
   "cell_type": "code",
   "execution_count": 172,
   "metadata": {},
   "outputs": [
    {
     "name": "stdout",
     "output_type": "stream",
     "text": [
      "21.6 ms ± 372 µs per loop (mean ± std. dev. of 7 runs, 10 loops each)\n"
     ]
    }
   ],
   "source": [
    "%%timeit\n",
    "cd.predict(x)"
   ]
  },
  {
   "cell_type": "code",
   "execution_count": 38,
   "metadata": {},
   "outputs": [],
   "source": [
    "# Save referent for drift detection.\n",
    "#X_baseline_df = pd.DataFrame(X_baseline, columns=prob_config.drift_cols)\n",
    "#X_baseline_df.to_parquet(prob_config.driff_ref_path, index=False)"
   ]
  },
  {
   "attachments": {},
   "cell_type": "markdown",
   "metadata": {},
   "source": [
    "# Model drift"
   ]
  },
  {
   "cell_type": "code",
   "execution_count": 4,
   "metadata": {},
   "outputs": [],
   "source": [
    "from sklearn.cluster import MiniBatchKMeans\n",
    "import joblib\n",
    "\n",
    "# N là số lượng cluster\n",
    "N = 19000 * len(np.unique(train_y))\n",
    "# Train clustering model cho data đã có label\n",
    "#kmeans = MiniBatchKMeans(n_clusters=N, random_state=0, n_init='auto').fit(train_x)\n",
    "\n",
    "#joblib.dump(kmeans, 'data/captured_data/phase-1/prob-1/kmeans.cpk')\n",
    "kmeans = joblib.load('data/captured_data/phase-1/prob-1/kmeans.cpk')\n",
    "\n",
    "# Tạo 1 mảng ánh xạ cluster với 1 label mới (do các data drift thuộc cùng 1 cluster sẽ có label giống nhau)\n",
    "new_labels = []\n",
    "\n",
    "# Duyệt từng cluster\n",
    "for  i  in  range(N):\n",
    "\t# Lấy các label của các data point thuộc cluster i\n",
    "\tmask = (kmeans.labels_ == i)\n",
    "\tcluster_labels = train_y[mask]\n",
    "\n",
    "\tif  len(cluster_labels) == 0:\n",
    "\t\t# Nếu cluster i rỗng thì xác định cluster i ánh xạ với 1 label mặc định (ở đây lựa chọn là 0)\n",
    "\t\tnew_labels.append(0)\n",
    "\telse:\n",
    "\t\t# Tìm label mới cho cả cụm cluster trong trường hợp cụm cluster khác rỗng\n",
    "\t\t#if  isinstance(train_y.flatten()[0], float):\n",
    "\t\t\t# Nếu là bài toán Regression thì lấy giá trị trung bình của các label thuộc cluster\n",
    "\t\t#\tnew_labels.append(np.mean(cluster_labels.flatten()))\n",
    "\t\t#else:\n",
    "\t\t\t# Nếu là bài toán Classification thì lấy label xuất hiện nhiều nhất trong cluster\n",
    "\t\t\tnew_labels.append(np.bincount(cluster_labels.to_numpy().flatten()).argmax())\n",
    "\n",
    "# Ánh xạ lại label cho data drift dựa trên kết quả predict cluster ở trên\n",
    "y_drift_propagated = [new_labels[c] for  c  in  kmeans.labels_]"
   ]
  },
  {
   "cell_type": "code",
   "execution_count": 5,
   "metadata": {},
   "outputs": [
    {
     "data": {
      "text/plain": [
       "{'test_auc': 0.8626996177558589}"
      ]
     },
     "execution_count": 5,
     "metadata": {},
     "output_type": "execute_result"
    }
   ],
   "source": [
    "from sklearn.metrics import roc_auc_score\n",
    "y_drift_test_propagated = [ new_labels[c] for c in kmeans.predict(train_x)]\n",
    "propagated_auc = {\"test_auc\": roc_auc_score(train_y, y_drift_propagated)}\n",
    "propagated_auc"
   ]
  },
  {
   "attachments": {},
   "cell_type": "markdown",
   "metadata": {},
   "source": [
    "# Online Data"
   ]
  },
  {
   "cell_type": "code",
   "execution_count": 2,
   "metadata": {},
   "outputs": [],
   "source": [
    "import pandas as pd\n",
    "import redis\n",
    "import pickle\n",
    "# Load data for problem 1\n",
    "rc1 = redis.Redis(host='localhost', db=1, port=6379,  socket_keepalive=True)\n",
    "\n",
    "captured_x = pd.DataFrame()\n",
    "for key in rc1.keys():\n",
    "    captured_data = pickle.loads(rc1.get(key))\n",
    "    captured_x = pd.concat([captured_x, captured_data])\n",
    "\n",
    "#captured_x.drop_duplicates(inplace=True, ignore_index=True)\n",
    "#captured_x = apply_category_features(\n",
    "#    raw_df=captured_x[train_x.columns],\n",
    "#    categorical_cols=prob_config.categorical_cols,\n",
    "#    category_index=category_index,\n",
    "#)"
   ]
  },
  {
   "cell_type": "code",
   "execution_count": 7,
   "metadata": {},
   "outputs": [],
   "source": [
    "allkey = rc1.keys()"
   ]
  },
  {
   "attachments": {},
   "cell_type": "markdown",
   "metadata": {},
   "source": [
    "# Test API"
   ]
  },
  {
   "cell_type": "code",
   "execution_count": 19,
   "metadata": {},
   "outputs": [
    {
     "name": "stdout",
     "output_type": "stream",
     "text": [
      "{\"id\": \"123\", \"predictions\": [0.9998940907040825, 0.9998837423846397, 0.9998839077678122, 0.9925387737871727, 0.9998312531011813, 0.9947252168982391, 0.9998837423846397, 0.00014542207962149096, 0.9989706337320569, 0.9875498308556642, 0.99343781620919, 0.5357602162788402, 0.44005802147545464, 0.999611156961625, 0.9998691604210737, 0.00013624585501300376, 0.7581794698315378, 0.7834442915282387, 0.9541812699131945, 0.9966554863330027, 0.00011172515012575173, 0.9866436954532017, 0.9998865364025179, 0.00014582498847773515, 0.9909732504502361, 0.9974129847335662, 0.9994365767562283, 0.9987575701735351, 0.9998837423846397, 0.00016191065769012583, 0.9986278872817316, 0.9998837423846397, 0.9978634960763247, 0.9995141548690593, 0.6643903933638151, 0.9998837423846397, 0.9998837423846397, 8.025772588206463e-05, 0.9989620739872076, 0.00013624585501300376, 8.767557777107723e-05, 0.9993847284322537, 0.6307952253193835, 0.9664884488409891, 0.9935544561922129, 0.9998735434462112, 0.00015151533312950224, 0.9998968463212649, 0.999905894469594, 0.00015151533312950224, 0.9991096755748172, 0.9996761344458595, 0.9998472218072099, 0.9989134112515644, 0.9969901703373883, 0.9993737994039702, 0.9998691604210737, 0.9656185815497171, 0.9987225041803001, 0.0001501728117842259, 0.0003030946270267494, 0.00013064842578777047, 0.9990478173805096, 0.9876250710133168, 0.7368463853585235, 0.752979103076752, 0.00014229546982357202, 0.9998837423846397, 0.9884309010381582, 0.00015151533312950224, 0.0001592372617206905, 0.00014269131797681948, 0.9998837423846397, 0.9924524661396744, 0.9696949461318509, 0.9995333042724514, 0.9998837423846397, 0.9819771759664145, 0.9924600455513372, 0.9982749626581428, 0.9875495278107316, 0.9844644027489055, 0.999905894469594, 0.23878100061316504, 0.999905894469594, 0.9998837423846397, 0.00035219129353964514, 0.0001952527095961213, 0.9998837423846397, 0.995705853269579, 0.9990438853181648, 0.00015893071826924524, 0.9998848146415696, 0.815205793118366, 0.9998837423846397, 0.9972071546707647, 0.9975415089388792, 0.00035219129353964514, 0.9918253428270457, 0.9984083160340455, 0.9950078568867073, 0.00010177189481432553, 0.999611156961625, 0.00015151533312950224, 0.8955390747309873, 0.9998691604210737, 8.10706068115766e-05, 0.9998691604210737, 0.9919733628931873, 0.21612059544562573, 0.7082530863417915, 0.9998691604210737, 0.00019285271357072218, 0.9993737994039702, 0.9998691604210737, 0.00012963928398397522, 0.00011796542024971708, 0.5138757129561617, 0.9990813950248114, 0.9990041718716799, 0.996665479500168, 0.7932712294531643, 0.9199148944121155, 0.5646471981700734, 0.9925361950143248, 0.9691534728773471, 8.553480616214345e-05, 0.7535586543280919, 0.9962403360132971, 0.9542331231964749, 0.992384186110045, 0.999611156961625, 0.9998976521337084, 0.9989580572924719, 8.120997007917708e-05, 0.18078541451021848, 0.9979380105224467, 0.9998837423846397, 0.8955390747309873, 0.9894126954773049, 0.00013066793696013323, 0.9998691604210737, 0.00010177189481432553, 0.9998837423846397, 0.3761106243576272, 0.9959600236970798, 8.091222285774162e-05, 0.00015151533312950224, 0.998387647487783, 0.9924524661396744, 0.9998837423846397, 0.4334498050502352, 0.9960877627460227, 0.00909914108582804, 0.9989974336831365, 0.00015151533312950224, 0.00014269131797681948, 0.00014698978357082182, 0.999002473461584, 0.9998853498558521, 0.00011110182854084836, 0.999611156961625, 0.0001755653716887404, 0.32547585174596383, 0.9967927699521657, 0.00013066793696013323, 0.9998837423846397, 0.9966574141519141, 0.9415555438072255, 0.00015151533312950224, 0.9998940907040825, 0.8458700372117416, 0.00013906124374740857, 0.00014940891452318845, 0.9887889526008238, 0.98679028853911, 0.9942519483451783, 0.9998691604210737, 0.9819374747428308, 0.9985883576845966, 0.9997103726857567, 0.00014229546982357202, 0.00015893071826924524, 0.0003030946270267494, 0.6210526885567799, 0.998987588184329, 0.0022115198740568416, 0.9998865364025179, 0.9998899512983547, 0.0001419397065285361, 0.9998837423846397, 0.9996057308606813, 0.00015151533312950224, 0.9998837423846397, 0.9936718068094456, 0.00011367398267868697, 0.9992841053365911, 0.00015609442604428415, 0.9992555055813908, 0.9993868886325258, 0.00035219129353964514, 0.2831258648995925, 0.9990146280248228, 0.9998588876291664, 0.9999096547282988, 0.9980677677135043, 0.9998312531011813, 0.9989620739872076, 0.0003030946270267494, 0.40355321271481864, 0.00011749700250552223, 0.9991047660771394, 0.00011796542024971708, 0.00014138119727552924, 0.4547121559264884, 0.9981668469177403, 8.767557777107723e-05, 0.31505217626039034, 0.00013943178738559802, 0.00014972239087803204, 0.9998773851987675, 0.9983403242095604, 0.0003030946270267494, 8.925673281063612e-05, 0.999905894469594, 0.9992734061502734, 0.0001692503138164872, 0.8887000122522385, 6.97006613619294e-05, 0.9951988917371427, 0.9992981669439214, 0.999905894469594, 0.9998837423846397, 0.9921598832153772, 0.00015144016681504276, 8.889055638014427e-05, 0.003560175766470315, 0.9996828965823179, 8.946931879954996e-05, 0.00015770480692099467, 0.7808920897439326, 8.553480616214345e-05, 0.9949611296644713, 0.0001333260489600004, 0.9998837423846397, 0.9897417707830407, 0.00035219129353964514, 0.00010249455743388392, 0.9996900077783382, 0.9996805919320815, 0.9998837423846397, 0.9966752029211007, 0.00012924897318303545, 0.9983403242095604, 0.9989365115152172, 0.999071281980012, 7.375954473401286e-05, 0.9846038059553456, 0.9996805919320815, 0.3941472758233706, 0.9996828965823179, 0.9988510815482169, 0.9998691604210737, 0.00014661871724324068, 0.2092181074982549, 0.9936484254619116, 0.31505217626039034, 0.9933836332918466, 0.9951233914807192, 0.7229639867597993, 0.00013023480490484665, 0.997997023317774, 0.00014269131797681948, 0.00010363357005378155, 0.9905563815764838, 0.5150073841027782, 0.9998773851987675, 0.9876627523954898, 0.9998837423846397, 0.9998837423846397, 0.00010209866847067298, 0.9998940907040825, 0.0001632085192592878, 0.997997023317774, 0.9326778098615407, 0.9929828321339697, 0.9975191889139842, 0.00035219129353964514, 0.9998231362415761, 0.9819771759664145, 0.9987013110082145, 0.9942366267360004, 0.9990281018108086, 9.955068644295972e-05, 0.00015151533312950224, 0.9990669256894567, 0.9688495897113902, 0.9996763701451702, 0.9996828965823179, 0.9961147925981844, 0.989418965038331, 0.9998837423846397, 0.3743778719013545, 0.00015770480692099467, 0.9996763701451702, 0.9864917479005888, 0.9989365115152172, 0.00014031122149508408, 0.9998231362415761, 0.00013407516487724867, 0.44005802147545464, 0.00014386972701330955, 0.9998532508929928, 0.995705853269579, 0.9998837423846397, 0.6743750515906873, 0.9948571069555558, 0.9998837423846397, 0.0001929438486636562, 0.9855395869897433, 0.00016720484722207795, 0.9949611296644713, 0.9985041701833157, 0.9987013110082145, 0.7940634213328039, 0.15557946237958334, 0.9989365115152172, 0.9975415089388792, 0.8262226014535103, 0.9998940907040825, 0.9987432945118992, 0.9445095760247892, 0.9982597619484973, 0.9998837423846397, 8.619733438881186e-05, 0.9989134112515644, 0.8741704832183445, 0.9975031517081112, 0.9982597619484973, 9.980375439264226e-05, 0.3982630605395115, 0.19604726048446908, 0.9996828965823179, 0.22690105749642966, 0.6766400830387308, 9.7221786484011e-05, 8.748384383305465e-05, 0.9996207215216234, 0.9916064580892476, 0.4568131694206605, 9.7221786484011e-05, 0.9998837423846397, 0.00012038232462784232, 0.999905894469594, 0.9990116262957011, 0.9925387737871727, 0.5137500886671387, 0.2732079340120724, 0.9996207215216234, 0.9995333042724514, 0.00013176246353816605, 0.9998691604210737, 0.9944956832385344, 0.9998837423846397, 0.00012038232462784232, 0.9970374380556454, 0.00015893071826924524, 0.9928155799586614, 0.998181550246246, 0.9906420401235351, 0.999905894469594, 0.9932796954940296, 0.9998710371762856, 0.4568131694206605, 0.00015151533312950224, 0.9975350993182512, 9.199753647547352e-05, 0.9992683086368817, 0.9998418191099624, 0.9998837423846397, 0.9980677677135043, 0.00011465344447496378, 0.9993380155799425, 0.990337527742616, 0.00035219129353964514, 0.9998691604210737, 0.9996805919320815, 0.99343781620919, 0.9998691604210737, 0.9998837423846397, 0.9998532717883486, 0.983235055527295, 0.9998837423846397, 0.00035219129353964514, 0.3953603075769825, 0.6766400830387308, 0.9977612924925713, 8.482100216755126e-05, 0.1879085104728072, 0.0025678384271922822, 0.0023568526972946404, 0.9989620739872076, 7.23699201297524e-05, 0.00015435625608254294, 9.694763616097762e-05, 0.9974379282899244, 0.9998837423846397, 0.999417779905513, 0.999905894469594, 0.00015151533312950224, 0.697479147527172, 0.998847434582315, 0.9911443622643203, 0.9936484254619116, 0.9415555438072255, 0.9962422496777015, 0.9989935404186333, 0.9992734061502734, 0.999905894469594, 0.9990441278259014, 0.00018792819353270117, 0.9445095760247892, 0.9954706510753859, 0.9866436954532017, 0.9988646774720749, 0.9978106644478352, 0.7611556464623723, 0.9990011934447535, 0.4547121559264884, 0.8616567884301181, 0.9991498919877754, 0.9998691604210737, 0.9999137089777405, 0.9983926022069529, 0.9992859015900313, 0.9914293826913646, 0.9998837423846397, 0.9998940907040825, 0.0001347617619291812, 0.9996805919320815, 0.00014902397116814487, 0.9927411488852681, 0.9998983225684244, 0.9998837423846397, 0.00016218392222054848, 0.00015151533312950224, 0.00035219129353964514, 0.25849280936749075, 0.9991096755748172, 0.9998989744392657, 0.9992734061502734, 8.482100216755126e-05, 0.9978422941082626, 0.815205793118366, 0.004973297913927203, 0.9998691604210737, 0.000148229833710323, 0.1879085104728072, 0.9996784712482033, 0.9996784712482033, 0.9996828965823179, 0.9977879302960031, 0.9978422941082626, 0.9998837423846397, 0.3381913565359421, 0.9998910506174983, 0.9918268653600526, 0.9998976521337084, 0.00011516676829979331, 0.9992981669439214, 0.997486456920051, 0.9248275548564892, 0.0001490265716740265, 0.9998940907040825, 0.9286434802208727, 0.999905894469594, 0.00013484731845777751, 0.9998837423846397, 0.9998853498558521, 0.9954582101497235, 0.9998832554840715, 0.2728122134118019, 0.999905894469594, 0.9962422496777015, 0.5137500886671387, 0.4016334845241644, 9.164282317832583e-05, 0.9998691604210737, 0.0023568526972946404, 0.9979036798136465, 0.9998588876291664, 0.9884309010381582, 0.9975031517081112, 0.9631492373581989, 0.9990207029872343, 0.99824575909154, 0.9631492373581989, 0.2385469001528873, 0.9998465290730406, 0.9996828965823179, 0.9998837423846397, 0.98679028853911, 0.998181550246246, 0.9992455169372454, 0.9998837423846397, 9.955068644295972e-05, 0.9876250710133168, 8.748384383305465e-05, 0.9914253739790938, 0.9951233914807192, 0.00015775707347234492, 0.9750431657824892, 0.34723363866509627, 0.9990595520826252, 0.9995641317777405, 0.9996761344458595, 0.9996496109352513, 0.9538367174124674, 0.9998497383273198, 0.9992830642966247, 0.00017186771546530595, 0.9998837423846397, 0.00013615017190342983, 0.9996805919320815, 0.999905894469594, 0.00017498446886502828, 0.9992734061502734, 0.9919002806952205, 0.9998837423846397, 0.9998691604210737, 0.9987225041803001, 0.00012911832134065204, 0.00017529971786430133, 0.9998837423846397, 0.9995049287989154, 0.9908657842342662, 0.00010651446118011365, 0.00014229546982357202, 0.9890055918938057, 0.9996828965823179, 0.00013237690992379755, 0.9930065729020948, 0.9708688026880407, 0.00015151533312950224, 0.9892948885087686, 0.9960176603844172, 0.9992022563787135, 0.9998837423846397, 0.9998691604210737, 0.999611156961625, 0.2636325133422932, 0.9998588876291664, 0.00015419452414732805, 0.9992734061502734, 0.00015151533312950224, 0.8679625368200612, 0.9936718068094456, 0.9998940907040825, 0.9998691604210737, 0.9998837423846397, 0.9992555055813908, 0.9992555055813908, 0.9954862748929185, 0.220915445360192, 0.9982872166819449, 0.9844644027489055, 0.00014290520054006635, 0.8788745494681562, 0.23731598645822038, 0.9980677677135043, 0.9984221614367264, 0.0001366656759277322, 0.9989935404186333, 0.9987498111023525, 0.9998553174685054, 0.9974702397989313, 9.904180434869716e-05, 0.9957329520572046, 0.00015151533312950224, 0.9989365115152172, 0.9998837423846397, 0.9996784712482033, 0.9998691604210737, 0.9882224530777497, 0.9996828965823179, 0.00015893071826924524, 0.00017947071903221906, 0.9948119675521122, 0.999905894469594, 0.9918504556100676, 0.9989620739872076, 0.752979103076752, 0.9904822311119936, 0.00015151533312950224, 0.9990479003053966, 0.006235357446053969, 0.00012593907487059832, 0.9989446257439655, 0.9998837423846397, 0.5718162699671248, 0.9982122914079578, 0.9971436255392313, 0.9989620739872076, 0.999905894469594, 0.39646087230458393, 0.00015733348979910902, 0.9998588876291664, 0.9908657842342662, 0.9947467840383225, 0.9867887943795125, 0.9998837423846397, 0.9926743273255408, 0.9908972801897002, 0.9998837423846397, 0.9991598651620355, 0.999106935787095, 0.9944956832385344, 0.3953603075769825, 0.9975716682282666, 0.9997122530975403, 0.9750431657824892, 0.9926958812329446, 0.9998837423846397, 0.9983022675481958, 0.9998691604210737, 0.9998553174685054, 0.9926743273255408, 0.2131907739903371, 0.22123234289718016, 0.9966176081716228, 0.999611156961625, 0.9199148944121155, 0.9996761344458595, 0.9991598651620355, 0.9990669256894567, 0.9987740213478699, 0.9998691604210737, 0.9881605690921761, 0.5150073841027782, 0.9978634960763247, 0.9656185815497171, 0.9983908146053564, 0.00012911832134065204, 0.00010428734329189465, 0.00010512250733742225, 0.00012924897318303545, 0.999905894469594, 0.9992555055813908, 0.9998837423846397, 0.9990479003053966, 0.00011805427918728067, 0.00015151533312950224, 0.9994199893054433, 0.9969901703373883, 0.00015144016681504276, 0.8776362652317856, 0.39646087230458393, 0.9996805919320815, 0.9998710371762856, 0.9996761344458595, 0.9924155970338099, 0.9325986664554422, 0.9998910506174983, 0.00014698978357082182, 0.999611156961625, 0.9998837423846397, 0.9893839198063178, 0.9998691604210737, 0.00013407516487724867, 0.9998837423846397, 0.9954916079349675, 0.00035219129353964514, 0.9998472218072099, 0.00015151533312950224, 0.9998832554840715, 0.0001261173965944177, 0.9998691604210737, 0.5215414240811578, 0.025633734063041824, 0.999868075718527, 0.00017320927494061838, 0.9989620739872076, 0.9996828965823179, 0.999548797475303, 0.00015151533312950224, 0.2728122134118019, 0.0001329194453627365, 0.9992022563787135, 0.7581794698315378, 0.9998968463212649, 9.163640477801916e-05, 0.999905894469594, 0.9998854100009966, 0.9917456618636437, 0.999905894469594, 0.9999171540317326, 0.9999096547282988, 0.0003030946270267494, 0.9998832554840715, 0.999905894469594, 0.00013219563253064005, 0.43892435216113185, 0.00011234654256963341, 0.48077001999007896, 0.6210526885567799, 0.9998837423846397, 0.9998691604210737, 0.9992830642966247, 0.00015151533312950224, 0.9989620739872076, 0.00015893071826924524, 0.0046272457339102185, 0.00015151533312950224, 0.9992137958410653, 0.9952223946438139, 0.9998691604210737, 0.9892948885087686, 0.9949050073330368, 0.00015151533312950224, 0.9960345900871765, 0.00013172358939895037, 0.9987119287793871, 0.9998837423846397, 0.4188817022703971, 0.9998837423846397, 0.9998837423846397, 0.00016609265106544896, 0.9290090442105129, 7.515701570102244e-05, 0.7332773307109107, 0.9905563815764838, 0.010626293435750627, 0.999905894469594, 0.9998837423846397, 0.9984554094489795, 0.00010651446118011365, 0.9958153602077634, 0.9995641317777405, 0.997726879541728, 0.9956503019395385, 0.025633734063041824, 0.9993847284322537, 0.0001523962368452102, 0.9867887943795125, 0.00012692887070526925, 0.9987479395116594, 0.9984083160340455, 0.980224534461969, 0.00014244230375251257, 0.999611156961625, 0.999905894469594, 0.9998588876291664, 0.9998940907040825, 0.2385469001528873, 0.00014940891452318845, 0.9990116262957011, 0.9918253428270457, 0.9113481557984898, 0.00010415562274739004, 0.9998914116782995, 0.0001604323034047988, 0.9759733327475132, 0.9998691604210737, 0.9996828965823179, 0.999905894469594, 0.9819374747428308, 0.9948571069555558, 0.9992734061502734, 0.953704711433464, 8.26069481831126e-05, 0.9999096547282988, 0.9998691604210737, 0.9998940907040825, 0.9977005270470842, 0.9998837423846397, 0.9996761344458595, 0.00010840540325010025, 0.9998837423846397, 0.9521605441539805, 0.9977005270470842, 0.9998837423846397, 0.9998837423846397, 0.9628551383771865, 0.7210687767286967, 0.9999137089777405, 0.9989974336831365, 9.833112492965572e-05, 0.9998837423846397, 0.9998983225684244, 0.00015151533312950224, 0.9998940907040825, 0.0003030946270267494, 0.9998532717883486, 0.0001333260489600004, 0.00013023480490484665, 0.9940741760880023, 0.9693496863029835, 8.120997007917708e-05, 0.999611156961625, 0.015272286309991844, 0.21612059544562573, 0.9992830642966247, 0.999905894469594, 0.9998837423846397, 0.00015770480692099467, 0.0001419397065285361, 0.995905101578057, 0.00019657672851104436, 0.00015151533312950224, 0.36706873607560453, 0.0001352237367492456, 0.7611556464623723, 0.9997103726857567, 0.9919002806952205, 0.999417779905513, 0.9963051382791007, 0.9974981210015836, 0.9693496863029835, 0.00011039751457048001, 8.091222285774162e-05, 0.9961160458664673, 0.9976109258396052, 0.999611156961625, 0.45190691938019445, 0.4541828806018726, 0.00012302912720906737, 0.9998837423846397, 0.9885581059979217, 0.9974129847335662, 0.9998691604210737, 0.00035219129353964514, 0.9992830642966247, 0.004973297913927203, 0.9592561752334536, 0.9998983225684244, 0.5891839414352766, 0.9989620739872076, 0.00015151533312950224, 0.00013121110551160962, 0.9980144801545033, 0.3941472758233706, 0.9981616708229606, 0.9996761344458595, 9.980375439264226e-05, 0.9984554094489795, 0.9998837423846397, 0.9935812843139563, 0.9992830642966247, 0.9990207029872343, 0.9983022675481958, 0.9998940907040825, 0.9998837423846397, 0.00015471229943497163, 0.533104882708112, 0.19604726048446908, 0.0001322798556017206, 0.00015151533312950224, 0.6743750515906873, 0.9998691604210737, 0.9761190196132975, 0.9924623570283928, 0.00015532288216143093, 0.00010315634340490378, 0.3006118199290906, 0.0001718417554877316, 0.00015151533312950224, 0.9998832554840715, 0.9982473200077172, 0.9926958812329446, 0.9998691604210737, 0.999905894469594, 0.9290090442105129, 0.9992734061502734, 0.9960176603844172, 0.8987062655672633, 0.15557946237958334, 0.00015893071826924524, 0.0001329194453627365, 0.005511911316586562, 0.9979036798136465, 0.32547585174596383, 0.4801152135727616, 0.00011039751457048001, 0.9971072126391916, 0.9965503908794711, 0.9908972801897002, 0.8237680179122427, 0.9982749626581428, 0.998387647487783, 0.9945640256478622, 0.9992830642966247, 0.9688495897113902, 0.983173408584497, 0.7808920897439326, 0.38254753964768856, 0.9948163972277896, 0.9881605690921761, 0.9948300198660521, 0.9977828312171387, 0.00015471229943497163, 0.9998837423846397, 0.9998691604210737, 0.9929804825281617, 0.0046272457339102185, 0.9998854100009966, 0.00017186771546530595, 0.994320963400239, 0.9998989744392657, 0.9933639238334966, 0.9964049236651568, 0.0001838280910700099, 0.48077001999007896, 0.997726506741355, 0.999905894469594, 0.9992938492146382, 0.36706873607560453, 0.9990478173805096, 0.00035219129353964514, 0.5431214820380231, 0.9993102368592413, 0.9998108188586484, 0.00017947071903221906, 0.9992555055813908, 0.9917356969439712, 0.00010528407659385542, 0.9998837423846397, 0.9998832554840715, 0.22138539243266242, 0.9998764113433787, 0.9996828965823179, 0.9998837423846397, 0.9998472218072099, 0.9998837423846397, 0.9998940907040825, 0.00013906124374740857, 0.0047094544056173445, 0.982853501590377, 0.23445138751822514, 0.0001692503138164872, 0.9998938041374188, 0.7332773307109107, 0.8830083628395252, 0.9981080692058291, 0.9998837423846397, 0.9996763701451702, 0.9993847284322537, 0.9296383957870232, 0.999905894469594, 0.9882224530777497, 0.3327543857278798, 0.9834237227237089, 0.697479147527172, 0.9998837423846397, 0.9998983225684244, 0.9992734061502734, 9.904180434869716e-05, 0.00013943178738559802, 0.9974379282899244, 0.00015151533312950224, 0.00015151533312950224, 0.00010113819950349142, 0.9998837423846397, 0.00015151533312950224, 9.939648065982375e-05, 0.9989620739872076, 0.999611156961625, 0.3201071213593238, 0.9992555055813908, 0.9996057308606813, 0.00015435848281241754, 0.9044938723886513, 0.9998691604210737, 0.9940741760880023, 0.00014386972701330955, 0.00011090815322962319, 0.9998837423846397, 0.999905894469594, 0.999611156961625, 0.00015709448266499278, 0.9998691604210737, 0.9998837423846397, 0.9974981210015836, 0.00012270532535414429, 0.9998691604210737, 0.9998837423846397, 0.9923432597402128, 0.00015151533312950224, 0.9691534728773471, 0.00017741987198273686, 0.9993102368592413, 0.00011465344447496378, 0.9973181122373379, 0.9971072126391916, 0.0003030946270267494, 0.9914345849354729, 0.00014999572999745676, 0.7639654747503594, 0.0001322798556017206, 0.999905894469594, 0.9992734061502734], \"drift\": 1}\n"
     ]
    }
   ],
   "source": [
    "rows = []\n",
    "test = pickle.loads(rc1.get(allkey[12]))\n",
    "\n",
    "for index, row in test.iterrows():\n",
    "    rows.append(row.to_list())\n",
    "\n",
    "data = {\n",
    "  \"id\": \"123\",\n",
    "  \"rows\": rows,\n",
    "  \"columns\": test.columns.to_list()\n",
    "}\n",
    "\n",
    "import requests\n",
    "#response = requests.post('http://14.225.205.204:5040/phase-2/prob-1/predict', json=data)\n",
    "response = requests.post('http://localhost:8000/phase-2/prob-1/predict', json=data)\n",
    "print(response.text)"
   ]
  },
  {
   "cell_type": "code",
   "execution_count": 108,
   "metadata": {},
   "outputs": [
    {
     "data": {
      "text/plain": [
       "True"
      ]
     },
     "execution_count": 108,
     "metadata": {},
     "output_type": "execute_result"
    }
   ],
   "source": [
    "from aiocache import Cache\n",
    "from aiocache.serializers import PickleSerializer\n",
    "\n",
    "cacherequest = Cache(Cache.REDIS, endpoint=\"localhost\", port=6379, db=1, serializer=PickleSerializer())\n",
    "await cacherequest.clear()"
   ]
  }
 ],
 "metadata": {
  "kernelspec": {
   "display_name": "deploy",
   "language": "python",
   "name": "python3"
  },
  "language_info": {
   "codemirror_mode": {
    "name": "ipython",
    "version": 3
   },
   "file_extension": ".py",
   "mimetype": "text/x-python",
   "name": "python",
   "nbconvert_exporter": "python",
   "pygments_lexer": "ipython3",
   "version": "3.11.1"
  },
  "orig_nbformat": 4
 },
 "nbformat": 4,
 "nbformat_minor": 2
}
