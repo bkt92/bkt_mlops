{
 "cells": [
  {
   "attachments": {},
   "cell_type": "markdown",
   "metadata": {},
   "source": [
    "# Load required libs"
   ]
  },
  {
   "cell_type": "code",
   "execution_count": 1,
   "metadata": {},
   "outputs": [
    {
     "name": "stdout",
     "output_type": "stream",
     "text": [
      "c:\\VENV\\api_prediction\n"
     ]
    },
    {
     "data": {
      "text/plain": [
       "'c:\\\\VENV\\\\api_prediction'"
      ]
     },
     "execution_count": 1,
     "metadata": {},
     "output_type": "execute_result"
    }
   ],
   "source": [
    "%cd ..\n",
    "%pwd"
   ]
  },
  {
   "cell_type": "code",
   "execution_count": 4,
   "metadata": {},
   "outputs": [],
   "source": [
    "import sys\n",
    "sys.path.append('./src')\n",
    "from src.data_processor import RawDataProcessor\n",
    "from src.problem_config import create_prob_config \n",
    "prob_config = create_prob_config(\"phase-2\", \"prob-1\")"
   ]
  },
  {
   "cell_type": "code",
   "execution_count": 38,
   "metadata": {},
   "outputs": [],
   "source": [
    "from mlflow.models.signature import infer_signature\n",
    "import mlflow\n",
    "\n",
    "def log_model_to_tracker_lgbm(model, metrics, desc):\n",
    "    MLFLOW_TRACKING_URI = 'http://127.0.0.1:5000'\n",
    "    mlflow.set_tracking_uri(MLFLOW_TRACKING_URI)\n",
    "    mlflow.set_experiment(\"phase-2_prob-1_lgbm\")\n",
    "    MLFLOW_MODEL_PREFIX = \"model\"\n",
    "    mlflow.start_run(description=desc)\n",
    "    mlflow.log_metrics(metrics)\n",
    "    mlflow.log_params(model.get_params())\n",
    "    signature = infer_signature(test_x.astype(np.float64), predictions)\n",
    "    mlflow.sklearn.log_model(\n",
    "        sk_model=model,\n",
    "        artifact_path=MLFLOW_MODEL_PREFIX,\n",
    "        signature=signature,\n",
    "        pip_requirements ='src/requirements.txt'\n",
    "        #registered_model_name=\"phase-1_prob-1_model-1\"\n",
    "    )\n",
    "\n",
    "    experimentid = mlflow.active_run().info.run_id\n",
    "    mlflow.end_run()\n",
    "    return experimentid"
   ]
  },
  {
   "attachments": {},
   "cell_type": "markdown",
   "metadata": {},
   "source": [
    "# Prepare datasets"
   ]
  },
  {
   "cell_type": "code",
   "execution_count": 5,
   "metadata": {},
   "outputs": [],
   "source": [
    "import pandas as pd\n",
    "import numpy as np\n",
    "import pickle\n",
    "\n",
    "training_data = pd.read_parquet(prob_config.raw_data_path)\n",
    "\n",
    "training_data, category_index = RawDataProcessor.build_category_features(\n",
    "            training_data, prob_config.categorical_cols\n",
    "        )\n",
    "\n",
    "target_col = prob_config.target_col\n",
    "train_x = training_data.drop([target_col], axis=1)\n",
    "train_y = training_data[[target_col]]\n",
    "\n",
    "# Store the category_index\n",
    "with open(prob_config.category_index_path, \"wb\") as f:\n",
    "    pickle.dump(category_index, f)"
   ]
  },
  {
   "cell_type": "code",
   "execution_count": 39,
   "metadata": {},
   "outputs": [
    {
     "name": "stderr",
     "output_type": "stream",
     "text": [
      "c:\\VENV\\api_prediction\\.venv\\Lib\\site-packages\\sklearn\\preprocessing\\_label.py:99: DataConversionWarning: A column-vector y was passed when a 1d array was expected. Please change the shape of y to (n_samples, ), for example using ravel().\n",
      "  y = column_or_1d(y, warn=True)\n",
      "c:\\VENV\\api_prediction\\.venv\\Lib\\site-packages\\sklearn\\preprocessing\\_label.py:134: DataConversionWarning: A column-vector y was passed when a 1d array was expected. Please change the shape of y to (n_samples, ), for example using ravel().\n",
      "  y = column_or_1d(y, dtype=self.classes_.dtype, warn=True)\n",
      "c:\\VENV\\api_prediction\\.venv\\Lib\\site-packages\\lightgbm\\sklearn.py:736: UserWarning: 'verbose' argument is deprecated and will be removed in a future release of LightGBM. Pass 'log_evaluation()' callback via 'callbacks' argument instead.\n",
      "  _log_warning(\"'verbose' argument is deprecated and will be removed in a future release of LightGBM. \"\n"
     ]
    },
    {
     "data": {
      "text/html": [
       "<style>#sk-container-id-2 {color: black;background-color: white;}#sk-container-id-2 pre{padding: 0;}#sk-container-id-2 div.sk-toggleable {background-color: white;}#sk-container-id-2 label.sk-toggleable__label {cursor: pointer;display: block;width: 100%;margin-bottom: 0;padding: 0.3em;box-sizing: border-box;text-align: center;}#sk-container-id-2 label.sk-toggleable__label-arrow:before {content: \"▸\";float: left;margin-right: 0.25em;color: #696969;}#sk-container-id-2 label.sk-toggleable__label-arrow:hover:before {color: black;}#sk-container-id-2 div.sk-estimator:hover label.sk-toggleable__label-arrow:before {color: black;}#sk-container-id-2 div.sk-toggleable__content {max-height: 0;max-width: 0;overflow: hidden;text-align: left;background-color: #f0f8ff;}#sk-container-id-2 div.sk-toggleable__content pre {margin: 0.2em;color: black;border-radius: 0.25em;background-color: #f0f8ff;}#sk-container-id-2 input.sk-toggleable__control:checked~div.sk-toggleable__content {max-height: 200px;max-width: 100%;overflow: auto;}#sk-container-id-2 input.sk-toggleable__control:checked~label.sk-toggleable__label-arrow:before {content: \"▾\";}#sk-container-id-2 div.sk-estimator input.sk-toggleable__control:checked~label.sk-toggleable__label {background-color: #d4ebff;}#sk-container-id-2 div.sk-label input.sk-toggleable__control:checked~label.sk-toggleable__label {background-color: #d4ebff;}#sk-container-id-2 input.sk-hidden--visually {border: 0;clip: rect(1px 1px 1px 1px);clip: rect(1px, 1px, 1px, 1px);height: 1px;margin: -1px;overflow: hidden;padding: 0;position: absolute;width: 1px;}#sk-container-id-2 div.sk-estimator {font-family: monospace;background-color: #f0f8ff;border: 1px dotted black;border-radius: 0.25em;box-sizing: border-box;margin-bottom: 0.5em;}#sk-container-id-2 div.sk-estimator:hover {background-color: #d4ebff;}#sk-container-id-2 div.sk-parallel-item::after {content: \"\";width: 100%;border-bottom: 1px solid gray;flex-grow: 1;}#sk-container-id-2 div.sk-label:hover label.sk-toggleable__label {background-color: #d4ebff;}#sk-container-id-2 div.sk-serial::before {content: \"\";position: absolute;border-left: 1px solid gray;box-sizing: border-box;top: 0;bottom: 0;left: 50%;z-index: 0;}#sk-container-id-2 div.sk-serial {display: flex;flex-direction: column;align-items: center;background-color: white;padding-right: 0.2em;padding-left: 0.2em;position: relative;}#sk-container-id-2 div.sk-item {position: relative;z-index: 1;}#sk-container-id-2 div.sk-parallel {display: flex;align-items: stretch;justify-content: center;background-color: white;position: relative;}#sk-container-id-2 div.sk-item::before, #sk-container-id-2 div.sk-parallel-item::before {content: \"\";position: absolute;border-left: 1px solid gray;box-sizing: border-box;top: 0;bottom: 0;left: 50%;z-index: -1;}#sk-container-id-2 div.sk-parallel-item {display: flex;flex-direction: column;z-index: 1;position: relative;background-color: white;}#sk-container-id-2 div.sk-parallel-item:first-child::after {align-self: flex-end;width: 50%;}#sk-container-id-2 div.sk-parallel-item:last-child::after {align-self: flex-start;width: 50%;}#sk-container-id-2 div.sk-parallel-item:only-child::after {width: 0;}#sk-container-id-2 div.sk-dashed-wrapped {border: 1px dashed gray;margin: 0 0.4em 0.5em 0.4em;box-sizing: border-box;padding-bottom: 0.4em;background-color: white;}#sk-container-id-2 div.sk-label label {font-family: monospace;font-weight: bold;display: inline-block;line-height: 1.2em;}#sk-container-id-2 div.sk-label-container {text-align: center;}#sk-container-id-2 div.sk-container {/* jupyter's `normalize.less` sets `[hidden] { display: none; }` but bootstrap.min.css set `[hidden] { display: none !important; }` so we also need the `!important` here to be able to override the default hidden behavior on the sphinx rendered scikit-learn.org. See: https://github.com/scikit-learn/scikit-learn/issues/21755 */display: inline-block !important;position: relative;}#sk-container-id-2 div.sk-text-repr-fallback {display: none;}</style><div id=\"sk-container-id-2\" class=\"sk-top-container\"><div class=\"sk-text-repr-fallback\"><pre>LGBMClassifier(objective=&#x27;binary&#x27;, random_state=123)</pre><b>In a Jupyter environment, please rerun this cell to show the HTML representation or trust the notebook. <br />On GitHub, the HTML representation is unable to render, please try loading this page with nbviewer.org.</b></div><div class=\"sk-container\" hidden><div class=\"sk-item\"><div class=\"sk-estimator sk-toggleable\"><input class=\"sk-toggleable__control sk-hidden--visually\" id=\"sk-estimator-id-2\" type=\"checkbox\" checked><label for=\"sk-estimator-id-2\" class=\"sk-toggleable__label sk-toggleable__label-arrow\">LGBMClassifier</label><div class=\"sk-toggleable__content\"><pre>LGBMClassifier(objective=&#x27;binary&#x27;, random_state=123)</pre></div></div></div></div></div>"
      ],
      "text/plain": [
       "LGBMClassifier(objective='binary', random_state=123)"
      ]
     },
     "execution_count": 39,
     "metadata": {},
     "output_type": "execute_result"
    }
   ],
   "source": [
    "from lightgbm import LGBMClassifier\n",
    "\n",
    "model0 = LGBMClassifier(objective=\"binary\", random_state=123)\n",
    "model0.fit(train_x, train_y, verbose=False)"
   ]
  },
  {
   "cell_type": "code",
   "execution_count": 8,
   "metadata": {},
   "outputs": [],
   "source": [
    "sample = training_data.sample(1000)\n",
    "\n",
    "test_x = sample.drop([target_col], axis=1)\n",
    "test_y = sample[[target_col]]"
   ]
  },
  {
   "cell_type": "code",
   "execution_count": 9,
   "metadata": {},
   "outputs": [
    {
     "name": "stdout",
     "output_type": "stream",
     "text": [
      "metrics: {'test_auc': 0.9951577733560488}\n"
     ]
    }
   ],
   "source": [
    "from sklearn.metrics import roc_auc_score\n",
    "predictions = model0.predict_proba(test_x.astype(np.float64))[:,1]\n",
    "#predictions = d4p.gbt_classification_prediction(nClasses=2).compute(test_x, daal_model)\n",
    "#predictions = llvm_model.predict(test_x)\n",
    "auc_score = roc_auc_score(test_y, predictions)\n",
    "metrics = {\"test_auc\": auc_score}\n",
    "print(f\"metrics: {metrics}\")"
   ]
  },
  {
   "cell_type": "code",
   "execution_count": 10,
   "metadata": {},
   "outputs": [
    {
     "name": "stdout",
     "output_type": "stream",
     "text": [
      "76.8 ms ± 3.26 ms per loop (mean ± std. dev. of 7 runs, 10 loops each)\n"
     ]
    }
   ],
   "source": [
    "%%timeit -n 10\n",
    "model0.predict(train_x)"
   ]
  },
  {
   "cell_type": "code",
   "execution_count": 48,
   "metadata": {},
   "outputs": [],
   "source": [
    "import lleaves\n",
    "model_path = prob_config.data_path / \"phase2_1_lgbm.txt\"\n",
    "llvm_model_path = prob_config.data_path / \"phase2_1_lleaves\"\n",
    "model0.booster_.save_model(filename=model_path)\n",
    "llvm_model = lleaves.Model(model_file=model_path)\n",
    "llvm_model.compile(cache=llvm_model_path)"
   ]
  },
  {
   "cell_type": "code",
   "execution_count": 39,
   "metadata": {},
   "outputs": [
    {
     "name": "stdout",
     "output_type": "stream",
     "text": [
      "26.8 ms ± 555 µs per loop (mean ± std. dev. of 7 runs, 10 loops each)\n"
     ]
    }
   ],
   "source": [
    "%%timeit -n 10\n",
    "llvm_model.predict(train_x)"
   ]
  },
  {
   "cell_type": "code",
   "execution_count": 11,
   "metadata": {},
   "outputs": [],
   "source": [
    "import daal4py as d4p\n",
    "daal_model = d4p.get_gbt_model_from_lightgbm(model0.booster_)"
   ]
  },
  {
   "cell_type": "code",
   "execution_count": 55,
   "metadata": {},
   "outputs": [
    {
     "name": "stdout",
     "output_type": "stream",
     "text": [
      "2.48 ms ± 296 µs per loop (mean ± std. dev. of 7 runs, 10 loops each)\n"
     ]
    }
   ],
   "source": [
    "%%timeit -n 10\n",
    "daal_prediction = d4p.gbt_classification_prediction(nClasses=2, resultsToEvaluate=\"computeClassLabels|computeClassProbabilities\").compute(test_x, daal_model)"
   ]
  },
  {
   "cell_type": "code",
   "execution_count": 37,
   "metadata": {},
   "outputs": [],
   "source": [
    "import onnxruntime as rt\n",
    "from skl2onnx import convert_sklearn, update_registered_converter\n",
    "from skl2onnx.common.shape_calculator import calculate_linear_classifier_output_shapes  # noqa\n",
    "from onnxmltools.convert.lightgbm.operator_converters.LightGbm import convert_lightgbm  # noqa\n",
    "from skl2onnx.common.data_types import FloatTensorType\n",
    "import numpy\n",
    "from sklearn.datasets import load_iris\n",
    "from sklearn.pipeline import Pipeline\n",
    "from sklearn.preprocessing import StandardScaler\n",
    "from lightgbm import LGBMClassifier"
   ]
  },
  {
   "cell_type": "code",
   "execution_count": 38,
   "metadata": {},
   "outputs": [],
   "source": [
    "update_registered_converter(\n",
    "    LGBMClassifier, 'LightGbmLGBMClassifier',\n",
    "    calculate_linear_classifier_output_shapes, convert_lightgbm,\n",
    "    options={'nocl': [True, False], 'zipmap': [True, False, 'columns']})"
   ]
  },
  {
   "cell_type": "code",
   "execution_count": 44,
   "metadata": {},
   "outputs": [],
   "source": [
    "model_onnx = convert_sklearn(\n",
    "    model0, 'pipeline_lightgbm',\n",
    "    [('input', FloatTensorType([None, 41]))],\n",
    "    target_opset={'': 12, 'ai.onnx.ml': 2})\n",
    "\n",
    "# And save.\n",
    "with open(\"pipeline_lightgbm.onnx\", \"wb\") as f:\n",
    "    f.write(model_onnx.SerializeToString())"
   ]
  },
  {
   "cell_type": "code",
   "execution_count": 49,
   "metadata": {},
   "outputs": [
    {
     "name": "stdout",
     "output_type": "stream",
     "text": [
      "predict [1 1 1 1 0]\n",
      "predict_proba [[0.17720758 0.82279242]]\n"
     ]
    }
   ],
   "source": [
    "print(\"predict\", model0.predict(test_x.to_numpy()[:5].astype(numpy.float32)))\n",
    "print(\"predict_proba\", model0.predict_proba(test_x.to_numpy()[:1].astype(numpy.float32)))"
   ]
  },
  {
   "cell_type": "code",
   "execution_count": 45,
   "metadata": {},
   "outputs": [
    {
     "name": "stdout",
     "output_type": "stream",
     "text": [
      "predict [1 1 1 1 0]\n",
      "predict_proba [{0: 0.17720752954483032, 1: 0.8227924704551697}]\n"
     ]
    }
   ],
   "source": [
    "sess = rt.InferenceSession(\"pipeline_lightgbm.onnx\")\n",
    "\n",
    "pred_onx = sess.run(None, {\"input\": test_x.to_numpy()[:5].astype(numpy.float32)})\n",
    "print(\"predict\", pred_onx[0])\n",
    "print(\"predict_proba\", pred_onx[1][:1])"
   ]
  },
  {
   "cell_type": "code",
   "execution_count": 54,
   "metadata": {},
   "outputs": [
    {
     "name": "stdout",
     "output_type": "stream",
     "text": [
      "1.92 ms ± 111 µs per loop (mean ± std. dev. of 7 runs, 100 loops each)\n"
     ]
    }
   ],
   "source": [
    "%%timeit\n",
    "pred_onx = sess.run(None, {\"input\": test_x.to_numpy().astype(numpy.float32)})"
   ]
  },
  {
   "cell_type": "code",
   "execution_count": 40,
   "metadata": {},
   "outputs": [
    {
     "name": "stderr",
     "output_type": "stream",
     "text": [
      "c:\\VENV\\api_prediction\\.venv\\Lib\\site-packages\\_distutils_hack\\__init__.py:33: UserWarning: Setuptools is replacing distutils.\n",
      "  warnings.warn(\"Setuptools is replacing distutils.\")\n"
     ]
    },
    {
     "data": {
      "text/plain": [
       "'a41c2c67b7484680ba61f540ef0ec034'"
      ]
     },
     "execution_count": 40,
     "metadata": {},
     "output_type": "execute_result"
    }
   ],
   "source": [
    "run_description = \"\"\"\n",
    "### Header\n",
    "LGBM model, First Base Model Prob1\n",
    "Model: LGBM\n",
    "    \"\"\"\n",
    "log_model_to_tracker_lgbm(model0, metrics, run_description)"
   ]
  },
  {
   "cell_type": "code",
   "execution_count": 20,
   "metadata": {},
   "outputs": [],
   "source": [
    "import mlflow\n",
    "import pathlib\n",
    "MLFLOW_TRACKING_URI = 'http://localhost:5000'\n",
    "mlflow.set_tracking_uri(MLFLOW_TRACKING_URI)\n",
    "model_uri = str(pathlib.Path(\"models:/\", \"phase-2_prob-1_model\", \"1\").as_posix())\n",
    "model0_ref = mlflow.pyfunc.load_model(model_uri)"
   ]
  },
  {
   "attachments": {},
   "cell_type": "markdown",
   "metadata": {},
   "source": [
    "# Drift Detect"
   ]
  },
  {
   "cell_type": "code",
   "execution_count": 22,
   "metadata": {},
   "outputs": [],
   "source": [
    "# Old KS Drift from alibi_detect\n",
    "from alibi_detect.cd import KSDrift\n",
    "X_baseline = train_x.sample(500)\n",
    "cd = KSDrift(p_val=0.05, x_ref=X_baseline.to_numpy())"
   ]
  },
  {
   "cell_type": "code",
   "execution_count": 25,
   "metadata": {},
   "outputs": [],
   "source": [
    "x=train_x.sample(1000).to_numpy()"
   ]
  },
  {
   "cell_type": "code",
   "execution_count": 26,
   "metadata": {},
   "outputs": [
    {
     "name": "stdout",
     "output_type": "stream",
     "text": [
      "21.7 ms ± 345 µs per loop (mean ± std. dev. of 7 runs, 10 loops each)\n"
     ]
    }
   ],
   "source": [
    "%%timeit\n",
    "cd.predict(x)"
   ]
  },
  {
   "cell_type": "code",
   "execution_count": 38,
   "metadata": {},
   "outputs": [],
   "source": [
    "# Save referent for drift detection.\n",
    "#X_baseline_df = pd.DataFrame(X_baseline, columns=prob_config.drift_cols)\n",
    "#X_baseline_df.to_parquet(prob_config.driff_ref_path, index=False)"
   ]
  },
  {
   "attachments": {},
   "cell_type": "markdown",
   "metadata": {},
   "source": [
    "# Model drift"
   ]
  },
  {
   "cell_type": "code",
   "execution_count": 4,
   "metadata": {},
   "outputs": [],
   "source": [
    "from sklearn.cluster import MiniBatchKMeans\n",
    "import joblib\n",
    "\n",
    "# N là số lượng cluster\n",
    "N = 19000 * len(np.unique(train_y))\n",
    "# Train clustering model cho data đã có label\n",
    "#kmeans = MiniBatchKMeans(n_clusters=N, random_state=0, n_init='auto').fit(train_x)\n",
    "\n",
    "#joblib.dump(kmeans, 'data/captured_data/phase-1/prob-1/kmeans.cpk')\n",
    "kmeans = joblib.load('data/captured_data/phase-1/prob-1/kmeans.cpk')\n",
    "\n",
    "# Tạo 1 mảng ánh xạ cluster với 1 label mới (do các data drift thuộc cùng 1 cluster sẽ có label giống nhau)\n",
    "new_labels = []\n",
    "\n",
    "# Duyệt từng cluster\n",
    "for  i  in  range(N):\n",
    "\t# Lấy các label của các data point thuộc cluster i\n",
    "\tmask = (kmeans.labels_ == i)\n",
    "\tcluster_labels = train_y[mask]\n",
    "\n",
    "\tif  len(cluster_labels) == 0:\n",
    "\t\t# Nếu cluster i rỗng thì xác định cluster i ánh xạ với 1 label mặc định (ở đây lựa chọn là 0)\n",
    "\t\tnew_labels.append(0)\n",
    "\telse:\n",
    "\t\t# Tìm label mới cho cả cụm cluster trong trường hợp cụm cluster khác rỗng\n",
    "\t\t#if  isinstance(train_y.flatten()[0], float):\n",
    "\t\t\t# Nếu là bài toán Regression thì lấy giá trị trung bình của các label thuộc cluster\n",
    "\t\t#\tnew_labels.append(np.mean(cluster_labels.flatten()))\n",
    "\t\t#else:\n",
    "\t\t\t# Nếu là bài toán Classification thì lấy label xuất hiện nhiều nhất trong cluster\n",
    "\t\t\tnew_labels.append(np.bincount(cluster_labels.to_numpy().flatten()).argmax())\n",
    "\n",
    "# Ánh xạ lại label cho data drift dựa trên kết quả predict cluster ở trên\n",
    "y_drift_propagated = [new_labels[c] for  c  in  kmeans.labels_]"
   ]
  },
  {
   "cell_type": "code",
   "execution_count": 5,
   "metadata": {},
   "outputs": [
    {
     "data": {
      "text/plain": [
       "{'test_auc': 0.8626996177558589}"
      ]
     },
     "execution_count": 5,
     "metadata": {},
     "output_type": "execute_result"
    }
   ],
   "source": [
    "from sklearn.metrics import roc_auc_score\n",
    "y_drift_test_propagated = [ new_labels[c] for c in kmeans.predict(train_x)]\n",
    "propagated_auc = {\"test_auc\": roc_auc_score(train_y, y_drift_propagated)}\n",
    "propagated_auc"
   ]
  },
  {
   "attachments": {},
   "cell_type": "markdown",
   "metadata": {},
   "source": [
    "# Online Data"
   ]
  },
  {
   "cell_type": "code",
   "execution_count": 51,
   "metadata": {},
   "outputs": [],
   "source": [
    "import pandas as pd\n",
    "import redis\n",
    "import pickle\n",
    "# Load data for problem 1\n",
    "rc1 = redis.Redis(host='192.168.88.113', db=1, port=6379,  socket_keepalive=True)\n",
    "\n",
    "captured_x = pd.DataFrame()\n",
    "for key in rc1.keys():\n",
    "    captured_data = pickle.loads(rc1.get(key))\n",
    "    captured_x = pd.concat([captured_x, captured_data])\n",
    "\n",
    "#captured_x.drop_duplicates(inplace=True, ignore_index=True)\n",
    "#captured_x = apply_category_features(\n",
    "#    raw_df=captured_x[train_x.columns],\n",
    "#    categorical_cols=prob_config.categorical_cols,\n",
    "#    category_index=category_index,\n",
    "#)"
   ]
  },
  {
   "cell_type": "code",
   "execution_count": 52,
   "metadata": {},
   "outputs": [],
   "source": [
    "allkey = rc1.keys()"
   ]
  },
  {
   "cell_type": "code",
   "execution_count": 55,
   "metadata": {},
   "outputs": [],
   "source": [
    "rc1test= redis.Redis(host='localhost', db=1, port=6379,  socket_keepalive=True)"
   ]
  },
  {
   "attachments": {},
   "cell_type": "markdown",
   "metadata": {},
   "source": [
    "# Test API"
   ]
  },
  {
   "cell_type": "code",
   "execution_count": 54,
   "metadata": {},
   "outputs": [
    {
     "name": "stdout",
     "output_type": "stream",
     "text": [
      "{\"id\": \"123\", \"predictions\": [0.9996763701451702, 0.9857119592873476, 0.9973838047958833, 0.9966127569405077, 0.0001442165932706208, 0.9998462473861623, 0.9989974336831365, 0.00015151533312950143, 0.999905894469594, 0.00015151533312950143, 0.9996496109352513, 0.973646840948313, 0.9884523216583968, 0.992061930461313, 0.0001589307182692447, 0.9998854100009966, 0.9986778158373006, 0.00013997068793426977, 0.9998688087824612, 0.9996808243884079, 0.4728927534138918, 0.4876038570752588, 0.9918079948621418, 0.9989785591318632, 0.9998837423846397, 0.9998832554840715, 0.9998854100009966, 0.41852422580149545, 0.30271929480491494, 0.00015151533312950143, 0.3849817490758212, 0.2806271311813172, 0.9981492161167862, 0.9975900912739318, 0.999905894469594, 0.9996805919320815, 0.9998971169824639, 0.9984596352613586, 0.6966608605212625, 0.9989000606736896, 0.9998865364025179, 0.9998837423846397, 0.0001213360003881867, 0.9998108188586484, 0.00015151533312950143, 0.9996763701451702, 0.999736470596015, 0.999905894469594, 0.5037035799088024, 9.291883557849787e-05, 0.00011166553975880924, 0.2095449229119631, 0.0001489355696189847, 0.00401411664508902, 0.9989974336831365, 0.9965742380486524, 0.9914327460239842, 0.00013615017190342937, 0.9614448388934442, 0.9998910506174983, 0.9999171540317326, 0.9941551613275613, 0.9998399404915767, 0.9999096547282988, 0.00035219129353964264, 0.9997103726857567, 0.9998832554840715, 0.9998837423846397, 0.31416586047751993, 0.7523226103322651, 0.21583339361894663, 0.9732556657189245, 0.9993150424692666, 0.004973297913927181, 0.15012344145104287, 0.5670721260354382, 0.9919733628931873, 0.9991623638400546, 0.9998837423846397, 0.9987632431781873, 0.9998832554840715, 0.9913247281451802, 0.00015942787905001566, 0.9998837423846397, 0.9850124628228416, 0.9753577862168525, 0.9954166705985691, 0.9996828965823179, 0.9998837423846397, 0.9985379711758895, 0.9987498111023525, 0.9998253526136163, 0.9996805919320815, 0.3664268022441258, 0.997212947598147, 7.236992012975201e-05, 0.9996828965823179, 0.9998837423846397, 0.00010041819321596317, 0.9977311260636619, 0.0001052119574902497, 0.9993150424692666, 0.00011343202508052394, 0.9991085499806874, 0.9998837423846397, 0.13613684677414095, 0.999905894469594, 0.9954508413246929, 0.00012099294184442302, 0.004879472029962786, 0.9933698389248772, 0.00015151533312950143, 0.9770885360121765, 0.9998837423846397, 0.00014818803162713052, 0.9998837423846397, 7.5664235492532e-05, 0.9993150424692666, 0.9919733628931873, 0.8132000838544365, 0.00017346502222551443, 0.9994402749483092, 0.8644843854177241, 0.9998837423846397, 0.9998343108930393, 0.9999171540317326, 0.0002449112851847088, 0.9996828965823179, 6.970066136192891e-05, 0.999905894469594, 0.999905894469594, 0.9979084694589615, 0.00013522373674924537, 0.9610018822066461, 0.00012467891138495012, 0.00015665422018247972, 0.0001251929248650375, 0.19378685225026349, 0.7204198170492059, 0.00016085151737538797, 0.9989620739872076, 0.999879564657931, 7.745017238890062e-05, 0.9429589789775463, 0.7161986286815596, 0.40513762990785807, 0.00015923726172068964, 0.9967966098221285, 0.9992981669439214, 0.9996786899063498, 0.5976967137668705, 0.0027166310511379543, 0.4600997582053753, 0.9997942513281399, 0.00012202139865220661, 0.7313969820725434, 0.9996828965823179, 0.9989974336831365, 0.5159758535490677, 0.9992734061502734, 0.0003030946270267483, 0.9998837423846397, 0.0001589307182692447, 0.9976579881340498, 0.00014803528549618355, 0.21687874291472847, 0.4685471188174404, 0.999905894469594, 0.00010651446118011308, 0.9995939178832782, 0.9978133305333515, 0.9931841998952139, 0.9950752815099725, 0.00015778862520495474, 0.716121936916762, 0.9998231362415761, 0.007735493941589616, 0.9992734061502734, 0.00015923726172068964, 0.00018049772194836332, 0.9994688678098297, 0.9993742062169311, 0.9949186964064571, 0.9998837423846397, 0.9990392476356381, 0.3998892187109153, 0.00017346502222551443, 0.9923699054063052, 0.9996808243884079, 0.0001133752854814073, 0.9985012313230366, 0.2294497917946034, 0.9866632905265796, 0.9998837423846397, 0.7830967234909163, 0.9990215332377335, 0.21296981382174496, 0.2920529989175556, 0.9917356969439712, 0.0001589307182692447, 0.0001205957874841484, 0.6974078633420606, 0.999905894469594, 0.8284784639733586, 9.77252700608985e-05, 0.0001336767097737167, 0.9999096547282988, 0.999905894469594, 0.9946351858902216, 0.9991148906429452, 0.9998553174685054, 0.9998837423846397, 0.999905894469594, 0.00012439683842137395, 0.9998854100009966, 0.9996761344458595, 0.0054348320895737795, 0.00015311491451759114, 0.9965849037117032, 0.9594954002069139, 0.9998837423846397, 0.38423282138651355, 0.00013514725657660142, 0.9990215332377335, 0.3804897436977326, 0.22660794049233013, 0.9997069083763066, 0.00012019757405173262, 0.999858067645429, 0.00015144016681504195, 0.9998837423846397, 0.9998837423846397, 0.00017947071903221844, 0.0001735107809474731, 0.9999137089777405, 0.9932706963017187, 0.9995839102429848, 0.999905894469594, 0.9986528152954266, 0.9998837423846397, 0.9819392785935185, 0.9993102368592413, 0.999611156961625, 0.28939106666581965, 0.00018484622865942645, 0.00014614822593657007, 0.9298556168253347, 0.00016135849075299267, 0.9996828965823179, 9.164282317832534e-05, 0.9998837423846397, 0.00014506426444752812, 0.9966127569405077, 0.9998837423846397, 0.9998837423846397, 0.9999171540317326, 0.00015770480692099383, 0.9998837423846397, 0.9998837423846397, 0.9998375485958133, 0.0001589307182692447, 0.00015151533312950143, 0.33463629734206884, 0.9919733628931873, 0.999905894469594, 0.9987939257729809, 0.9929782848808368, 0.9861800258854453, 0.1996340428111415, 0.9908613700292297, 0.9917356969439712, 0.2912370363686906, 0.9511997520715995, 8.512442390871985e-05, 0.9998231362415761, 0.00016054621390885587, 0.9996333369224073, 0.9993150424692666, 0.9998837423846397, 0.9998661415750371, 0.9998837423846397, 0.9989234039513359, 0.9998837423846397, 0.999905894469594, 0.9584000918711069, 0.00012257052723717264, 0.9998837423846397, 0.0001461510506095456, 9.043567186112572e-05, 0.9999096547282988, 0.00015151533312950143, 0.9881207511957083, 0.9967280611520214, 0.9988579884187627, 0.9998837423846397, 0.00014969963646227608, 0.999326822359848, 0.9998837423846397, 0.9986162081909506, 0.8457825916544072, 0.000112430902086499, 0.00035219129353964264, 0.00019074899145091054, 0.00012023275213953799, 0.9206620799125268, 0.00010863781272904755, 0.9998910506174983, 0.40816661106279306, 0.979922635043148, 0.999905894469594, 0.3439341533444432, 0.9899113970637741, 0.00015393958431479427, 0.9912039802287077, 0.9999096547282988, 0.38558851591138543, 0.9991131373738837, 0.0028973071955588577, 0.9990595520826252, 0.9668605980572895, 0.9792389515739942, 0.9966882625329924, 0.9989974336831365, 0.8263687406396346, 0.9996784712482033, 0.9997663444045405, 0.9992981669439214, 0.9998837423846397, 0.21296981382174496, 0.18540738247809813, 0.1459965716902316, 0.9984639763399962, 0.19421650581313984, 0.5885974697636733, 0.999905894469594, 0.00015770480692099383, 0.9969746589956775, 0.8433981391734758, 0.999905894469594, 0.9927242855095109, 0.9979882539992313, 0.5266374327622464, 0.9998837423846397, 0.9998832554840715, 0.9883603621430732, 0.9933329375061957, 0.46835484176256303, 0.004906561172739952, 0.5792422339362457, 0.3156373798701342, 0.00015151533312950143, 7.409627276839445e-05, 0.9996761344458595, 0.9962647258978211, 0.38949334185376305, 0.00013430397575796345, 0.9970653452402983, 0.9363412314379019, 0.9998910506174983, 0.9993102368592413, 7.745017238890062e-05, 0.9999096547282988, 0.00015151533312950143, 0.9998837423846397, 0.00010703035067730005, 0.4476583305657798, 0.4949543034521838, 0.3945221890973174, 9.724932710038015e-05, 0.9970617185547547, 0.0001157565469263764, 0.9987939257729809, 0.9164874935730387, 0.0001133752854814073, 0.819500536806547, 0.9996761344458595, 0.9996828965823179, 0.042206227038928096, 0.2418486481755088, 0.46199363696257956, 0.36683862845946397, 0.9998837423846397, 0.00015151533312950143, 0.9869151142116361, 0.00010161648463919829, 0.9985970636741068, 0.16661812486084004, 0.00016085151737538797, 0.9515184029153609, 0.00011581238222898583, 0.9977453885406865, 0.9985909498768003, 0.00013615017190342937, 0.9992195948961929, 0.992061930461313, 0.9455336129249243, 0.9998837423846397, 0.000161910657690125, 0.0001589307182692447, 0.999905894469594, 0.7490326419824737, 0.9904861985991623, 0.00017059688022057445, 0.9998854100009966, 8.56213619360541e-05, 0.20285144341539654, 0.004232983837625982, 0.9998231362415761, 8.966202304208848e-05, 0.00011039751457047962, 0.9998837423846397, 0.0001234824283467175, 0.0001426913179768187, 0.9993913682875359, 0.9668605980572895, 0.999656348207354, 0.999905894469594, 0.9989620739872076, 0.9993830346268678, 0.00019074899145091054, 0.00011112833514907796, 0.3003848980796793, 0.5318397459493862, 0.9810271914162039, 0.9996828965823179, 0.9948455528857675, 0.9994264830462525, 0.9996828965823179, 0.9999096547282988, 0.5627771514794998, 0.00013615017190342937, 0.9943535219716186, 0.9998837423846397, 0.00015532288216143039, 7.745017238890062e-05, 0.999905894469594, 0.00016686944328429725, 0.9267516018083507, 0.00016222597436954493, 0.9999137089777405, 0.999905894469594, 0.999326822359848, 0.9989620739872076, 0.9744651150315065, 0.9994264830462525, 0.999905894469594, 0.9976579881340498, 9.946752106300075e-05, 0.0001547122994349711, 0.9990595520826252, 0.0001251929248650375, 0.9970964064426113, 0.0001355384375027593, 0.9992734061502734, 0.9886194105165876, 0.00035219129353964264, 0.189822926654535, 0.0001306908820128211, 0.9998837423846397, 0.0001498218804923654, 0.9973236817666187, 0.9863885110445259, 0.00018447035375021873, 0.817584761033237, 0.9998837423846397, 0.9910739457248763, 0.21239312678974753, 0.0001105994029463034, 0.9991598651620355, 0.00015151533312950143, 0.9657490820093768, 0.00010824196038576055, 0.9998837423846397, 0.9996784712482033, 0.0003030946270267483, 0.9988912233020204, 0.0001264745452954503, 0.9992762178612254, 0.0001589307182692447, 0.9998837423846397, 0.9974187119609519, 0.9996682776772532, 0.9986642726721519, 0.00014381684263914006, 0.9998837423846397, 8.527333187656412e-05, 0.7994066739947849, 0.999905894469594, 0.9824916285043066, 0.7344927888099987, 0.00013578683294835598, 0.00015151533312950143, 0.00015388966942067557, 0.9996761344458595, 0.9998837423846397, 0.9987842063968891, 0.9993625943501251, 0.00015151533312950143, 0.996959605048629, 0.00015151533312950143, 0.5035518019859563, 0.9986023341225032, 0.9998837423846397, 0.9989974336831365, 0.9998832554840715, 0.18675401050365065, 0.0001574099066646371, 0.999874632276183, 0.9999096547282988, 0.9579894124371958, 0.00013615017190342937, 0.2180889485552053, 7.081136120894299e-05, 0.968483958379118, 0.24372024905500467, 0.5599698588479486, 8.291792950149474e-05, 8.957949707522678e-05, 0.999905894469594, 0.004055404603537885, 0.9998899512983547, 0.9998899512983547, 0.43125768937544795, 0.9996496109352513, 0.997311154171246, 0.00016011981356131428, 0.00014549332912825477, 0.9998837423846397, 0.9996784712482033, 0.00015135425593403671, 0.00015151533312950143, 0.8181854262493894, 0.31629919734752715, 0.9993268803899574, 0.0003030946270267483, 0.9844119707863844, 0.9794104001638678, 0.9998837423846397, 0.00013418979518185192, 0.9998837423846397, 0.9146479262703795, 0.9996761344458595, 0.00016141514895494298, 0.5341543329601256, 0.6129666272763521, 0.00011885013436245228, 0.28587868842540604, 0.3335184383288162, 0.00014692835033979637, 0.9976579881340498, 0.999905894469594, 0.9993070975980746, 0.9993339129169782, 0.9998837423846397, 8.307942014603161e-05, 0.9995123140273221, 0.36455501092145975, 0.2985520051779468, 0.9989693895296015, 0.9998837423846397, 0.00013714440647381816, 0.9996828965823179, 0.9989722502705725, 0.4772770094863379, 0.15929392437603887, 0.00010197846018020956, 0.9987320654536014, 0.8509692364464513, 0.00011165645744650128, 0.9942750867179317, 0.9975487320610071, 0.9998837423846397, 0.00015151533312950143, 0.00013615017190342937, 0.0001589307182692447, 0.9974187119609519, 0.9993150424692666, 0.9976537455739241, 0.9998837423846397, 0.0001479141336316761, 0.996949855728106, 0.999905894469594, 0.004709454405617328, 0.99884037766372, 8.872666036550332e-05, 0.9996828965823179, 0.991609944005941, 0.9998837423846397, 0.9996682776772532, 0.005639395540872238, 0.0003030946270267483, 0.9998837423846397, 0.9912712111372517, 9.019768304404032e-05, 0.00017754103428584809, 0.9985552375670871, 0.9380644242355649, 0.9500910131727436, 0.9996761344458595, 0.9917356969439712, 0.7793966938203771, 0.9994554554599133, 0.9998971169824639, 0.9910669232960186, 0.00012587051393735563, 0.7544005973332985, 0.9963599719909028, 0.00012093279853298069, 0.9814100747430825, 0.002431528440170269, 0.9992981669439214, 0.00019074899145091054, 0.4975790326460494, 0.486834025914872, 0.9996761344458595, 0.9946544070765586, 0.00015923726172068964, 0.9992431732189593, 0.9996786899063498, 0.9998837423846397, 0.9978110737008601, 0.9998837423846397, 0.9927418415416742, 0.9750362544022889, 0.00013746213730295436, 0.9987727187867359, 0.9995935883312417, 0.9998837423846397, 0.000112430902086499, 0.00015151533312950143, 0.9993150424692666, 0.00013364207526689293, 0.0001398250897803207, 0.5447736482934811, 0.9998837423846397, 0.3079377272239484, 0.9993150424692666, 0.2369742827864475, 0.9996828965823179, 0.9814086283303305, 0.00013557475740503516, 0.9922411271700586, 0.9515184029153609, 0.9218026988200921, 0.00012067155979129708, 0.0001251929248650375, 0.9212531040597239, 0.9972948076839898, 0.9998832554840715, 0.00014244230375251208, 0.006148095520972481, 0.5052076133832082, 0.00019165923274392852, 0.9995746596442083, 9.144945421473453e-05, 0.0001589307182692447, 0.9998837423846397, 3.979632860191084e-05, 0.000133979835422839, 0.3605780299461743, 0.9990595520826252, 0.9191736442242968, 0.0001275583060060438, 0.997883269104538, 0.9998837423846397, 0.9925887730316801, 8.512739447159824e-05, 0.9989974336831365, 9.653685506992942e-05, 0.9861800258854453, 0.9374031596736899, 0.00015151533312950143, 0.9961278444571551, 0.9989066866048658, 0.9990430566871806, 0.9996828965823179, 0.9975853625343416, 0.9998939244197261, 0.9972864057954286, 0.9996808243884079, 0.9901861173062645, 0.9942937258127225, 0.9998837423846397, 0.00014930449428766162, 0.999905894469594, 0.00012635420291760778, 0.9998837423846397, 0.9998837423846397, 0.00014614452351796353, 0.47950004651259637, 0.00011234654256963302, 0.9998837423846397, 0.9834612260063155, 0.9996057308606813, 0.7500975875474583, 0.9977458675646531, 0.00013303254515639924, 0.00011115934920948254, 0.992507430934953, 0.9281738269876307, 0.923655278071983, 0.9284796007605102, 0.9928009297789486, 0.9976184693379526, 0.9998108188586484, 0.9129321110596453, 0.9993150424692666, 0.9990883445839116, 0.9990595520826252, 0.7251881141130914, 0.9998832554840715, 8.120997007917664e-05, 0.9998399404915767, 0.999905894469594, 0.9917356969439712, 0.9998837423846397, 0.45000389773869076, 0.42765442944877863, 0.0036341782735416317, 0.00012872605231590387, 0.9999096547282988, 7.409627276839445e-05, 0.9998910506174983, 0.9920435983384437, 0.9996828965823179, 0.9998837423846397, 0.0001547122994349711, 0.9874099891712158, 0.00035219129353964264, 0.00012103167937444024, 0.7151000720666532, 0.9894123886744095, 0.9998832554840715, 0.9983197469677132, 0.9977718668359115, 0.00035219129353964264, 8.056587365893103e-05, 0.9955430266385531, 0.9991623638400546, 0.9998832554840715, 0.9998837423846397, 0.17457806023886474, 0.9958674888252591, 0.9974072966336428, 0.9998837423846397, 0.9998837423846397, 0.9998837423846397, 0.0001629419782669775, 0.9998837423846397, 0.999858067645429, 0.005266229473154839, 0.8975948191572608, 0.00017111382443383384, 0.00011779831318630213, 0.0001275647369966992, 0.8959746374411159, 0.9264453560931943, 0.9836691548307698, 0.9993102368592413, 0.006366105122388429, 0.4241576616812984, 0.00468437876702416, 0.9989974336831365, 0.9954048054768285, 0.9507417108163679, 0.00015151533312950143, 0.999905894469594, 0.9998865364025179, 0.9988313337639129, 0.00015151533312950143, 0.2593854292467655, 0.00019618634732154966, 0.9990595520826252, 0.999905894469594, 0.9236862358896006, 0.9940547541902562, 0.9998832554840715, 0.999905894469594, 0.9920435983384437, 0.0001589307182692447, 0.9996786899063498, 0.2891830346433974, 0.9998837423846397, 0.00018871746505163555, 0.9993102368592413, 0.9999096547282988, 0.9694843395898688, 0.9853422694756293, 0.9993150424692666, 0.9998837423846397, 0.00015633246401023108, 0.9998837423846397, 0.0001589307182692447, 0.9988208796053187, 0.971951000983624, 0.46843699134227723, 0.9978110121442537, 0.37173431771997206, 0.999905894469594, 0.00017741987198273624, 0.9863104507240086, 0.9991169797599168, 0.00013237414105216758, 0.9929157469726728, 0.31629919734752715, 0.00015151533312950143, 0.9975853625343416, 0.23505169429768902, 0.9963027063532756, 0.41076736478482545, 0.9998253526136163, 0.9653959260287865, 0.35224400647417203, 0.9917356969439712, 0.9918717869859602, 0.9926958812329446, 0.006198364630197864, 0.9993917120878794, 0.9988764794204166, 0.9998837423846397, 0.999905894469594, 0.36493785284302543, 0.9989234039513359, 0.19243254277480398, 0.005662271130951562, 0.9935667163327709, 0.998022889584677, 0.00011090815322962281, 8.571485922045387e-05, 0.9985318251655207, 0.00035219129353964264, 0.00012868126793146468, 0.9996761344458595, 0.9998837423846397, 0.00011165645744650128, 0.9949411408818287, 0.00016085151737538797, 0.9985865465300985, 0.4096838079871786, 0.999905894469594, 0.19657993898496348, 0.5357797574820989, 0.9997663444045405, 0.9998418191099624, 0.9975037250152912, 0.5377353021455332, 0.999905894469594, 0.9882959176672483, 0.999611156961625, 0.49192664176486994, 0.9910669232960186, 7.745017238890062e-05, 0.923855695210473, 0.9986561908458552, 0.9987575701735351, 0.9998837423846397, 0.4055956919550957, 0.20131605813924403, 0.005482296943104746, 0.9432832677526479, 0.00013495429601232623, 0.9998837423846397, 0.9998837423846397, 0.8004200423472191, 0.9940547541902562, 7.798738213413052e-05, 0.9974545784727837, 0.9983482490756066, 0.9996784712482033, 0.9998837423846397, 0.9998837423846397, 0.9998910506174983, 8.135015384841945e-05, 0.9992882901729992, 8.593802206029477e-05, 0.9996784712482033, 0.3864301689463163, 0.9919733628931873, 0.00014480819032856287, 0.9989620739872076, 0.00019074899145091054, 0.4531923945131454, 3.979632860191084e-05, 0.9998837423846397, 0.9996828965823179, 0.9984038154536198, 0.00015151533312950143, 0.0024811463416394477, 0.00010035629163786235, 0.825385889593033, 0.9987575701735351, 0.2779429161129465, 0.00011115934920948254, 0.00012275018470974693, 0.9996828965823179, 0.00015608782672151109, 0.9998832554840715, 0.9991061106332605, 0.7423543781886404, 0.991688933766738, 0.00013615017190342937, 0.9089239923410382, 0.44205564084248294, 0.3691381719661842, 0.9993976066795469, 0.9992678020932919, 0.00021286766602372057, 0.9976428258957417, 0.20159474294978696, 0.9985552375670871, 0.9995058392587134, 0.999611156961625, 0.7746801755639587, 0.9933630265280781, 0.9446341487943961, 0.9998837423846397, 0.9996496109352513, 0.9998837423846397, 0.9979084694589615, 0.9998837423846397, 0.9855891833629019, 0.9986538401699845, 0.9998837423846397, 0.9995688319788874, 0.9998837423846397, 0.851236069744591, 0.00013342702087818686, 8.742526777790332e-05, 0.006977928142405886, 0.9199373344573242, 0.9992981669439214, 0.00013460676578875387, 0.9996805919320815, 0.999905894469594, 0.00027764512130862116, 0.999905894469594, 0.00011668312036814094, 0.00016135960303005693, 0.0001235460814705884, 0.998734289780925, 0.9996763701451702, 0.33441889331702596, 0.999656348207354, 0.9998837423846397, 0.9981978620333753, 0.00013615017190342937, 0.9955373723636193, 0.17257990604097656, 0.15971875358740092, 0.9998837423846397, 0.9992841053365911, 0.9998837423846397, 0.999147857775194, 8.056587365893103e-05, 0.9766220750282149, 0.9989974336831365, 0.9847912395205769, 8.733298887450258e-05, 0.00015598431518467178, 0.9998837423846397, 0.7282995592108922, 0.8058115186484306, 0.9978790925954193, 0.9842689479932211, 0.8055803618754676, 0.9976793605107065, 0.00015151533312950143, 0.9922411271700586, 0.9297982291263841, 0.9998837423846397, 0.9998837423846397, 0.9919733628931873, 0.5765116325988275, 0.9871273217158805, 0.9998837423846397, 0.9998837423846397, 0.999905894469594, 0.9612231274967539, 0.6664154012152579, 0.9998837423846397, 0.9977458675646531, 0.9996784712482033, 0.00035219129353964264, 0.9992734061502734, 0.00224245806393926, 0.004935131920503036, 0.9998910506174983, 0.5943981464061784, 0.9993030304995919, 0.9998905708976414, 0.22742038487003996, 0.3223279365297953, 0.999611156961625, 0.0003030946270267483, 0.9988912233020204, 0.4567286985891436, 0.9986036770188691, 0.999611156961625, 0.9218026988200921, 0.9994363373891898], \"drift\": 0}\n"
     ]
    }
   ],
   "source": [
    "rows = []\n",
    "test = pickle.loads(rc1.get(allkey[87]))\n",
    "\n",
    "for index, row in test.iterrows():\n",
    "    rows.append(row.to_list())\n",
    "\n",
    "data = {\n",
    "  \"id\": \"123\",\n",
    "  \"rows\": rows,\n",
    "  \"columns\": test.columns.to_list()\n",
    "}\n",
    "\n",
    "import requests\n",
    "#response = requests.post('http://14.225.205.204:80/phase-2/prob-1/predict', json=data)\n",
    "response = requests.post('http://27.71.25.203:8000/phase-2/prob-1/predict', json=data)\n",
    "print(response.text)"
   ]
  },
  {
   "cell_type": "code",
   "execution_count": 48,
   "metadata": {},
   "outputs": [
    {
     "data": {
      "text/plain": [
       "True"
      ]
     },
     "execution_count": 48,
     "metadata": {},
     "output_type": "execute_result"
    }
   ],
   "source": [
    "from aiocache import Cache\n",
    "from aiocache.serializers import PickleSerializer\n",
    "\n",
    "cacherequest = Cache(Cache.REDIS, endpoint=\"localhost\", port=6379, db=1, serializer=PickleSerializer())\n",
    "await cacherequest.clear()"
   ]
  }
 ],
 "metadata": {
  "kernelspec": {
   "display_name": "deploy",
   "language": "python",
   "name": "python3"
  },
  "language_info": {
   "codemirror_mode": {
    "name": "ipython",
    "version": 3
   },
   "file_extension": ".py",
   "mimetype": "text/x-python",
   "name": "python",
   "nbconvert_exporter": "python",
   "pygments_lexer": "ipython3",
   "version": "3.11.1"
  },
  "orig_nbformat": 4
 },
 "nbformat": 4,
 "nbformat_minor": 2
}
