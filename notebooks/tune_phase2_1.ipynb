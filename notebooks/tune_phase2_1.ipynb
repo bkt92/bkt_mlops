{
 "cells": [
  {
   "attachments": {},
   "cell_type": "markdown",
   "metadata": {},
   "source": [
    "# Load required libs"
   ]
  },
  {
   "cell_type": "code",
   "execution_count": 1,
   "metadata": {},
   "outputs": [
    {
     "name": "stdout",
     "output_type": "stream",
     "text": [
      "c:\\VENV\\api_prediction\n"
     ]
    },
    {
     "data": {
      "text/plain": [
       "'c:\\\\VENV\\\\api_prediction'"
      ]
     },
     "execution_count": 1,
     "metadata": {},
     "output_type": "execute_result"
    }
   ],
   "source": [
    "%cd ..\n",
    "%pwd"
   ]
  },
  {
   "cell_type": "code",
   "execution_count": 2,
   "metadata": {},
   "outputs": [],
   "source": [
    "import sys\n",
    "sys.path.append('./src')\n",
    "from src.data_processor import RawDataProcessor\n",
    "from src.problem_config import create_prob_config \n",
    "prob_config = create_prob_config(\"phase-2\", \"prob-1\")"
   ]
  },
  {
   "cell_type": "code",
   "execution_count": 3,
   "metadata": {},
   "outputs": [],
   "source": [
    "from mlflow.models.signature import infer_signature\n",
    "import mlflow\n",
    "\n",
    "def log_model_to_tracker_lgbm(model, metrics, desc):\n",
    "    MLFLOW_TRACKING_URI = 'http://192.168.88.113:5000'\n",
    "    mlflow.set_tracking_uri(MLFLOW_TRACKING_URI)\n",
    "    mlflow.set_experiment(\"phase-2_prob-1_lgbm\")\n",
    "    MLFLOW_MODEL_PREFIX = \"model\"\n",
    "    mlflow.start_run(description=desc)\n",
    "    mlflow.log_metrics(metrics)\n",
    "    mlflow.log_params(model.get_params())\n",
    "    signature = infer_signature(test_x.astype(np.float64), predictions)\n",
    "    mlflow.sklearn.log_model(\n",
    "        sk_model=model,\n",
    "        artifact_path=MLFLOW_MODEL_PREFIX,\n",
    "        signature=signature,\n",
    "        pip_requirements ='src/requirements.txt'\n",
    "        #registered_model_name=\"phase-1_prob-1_model-1\"\n",
    "    )\n",
    "\n",
    "    experimentid = mlflow.active_run().info.run_id\n",
    "    mlflow.end_run()\n",
    "    return experimentid"
   ]
  },
  {
   "attachments": {},
   "cell_type": "markdown",
   "metadata": {},
   "source": [
    "# Prepare datasets"
   ]
  },
  {
   "cell_type": "code",
   "execution_count": 4,
   "metadata": {},
   "outputs": [],
   "source": [
    "import pandas as pd\n",
    "import numpy as np\n",
    "import pickle\n",
    "\n",
    "training_data = pd.read_parquet(prob_config.raw_data_path)\n",
    "\n",
    "training_data, category_index = RawDataProcessor.build_category_features(\n",
    "            training_data, prob_config.categorical_cols\n",
    "        )\n",
    "\n",
    "target_col = prob_config.target_col\n",
    "train_x = training_data.drop([target_col], axis=1)\n",
    "train_y = training_data[[target_col]]\n",
    "\n",
    "# Store the category_index\n",
    "with open(prob_config.category_index_path, \"wb\") as f:\n",
    "    pickle.dump(category_index, f)"
   ]
  },
  {
   "cell_type": "code",
   "execution_count": 8,
   "metadata": {},
   "outputs": [
    {
     "name": "stderr",
     "output_type": "stream",
     "text": [
      "c:\\VENV\\api_prediction\\.venv\\Lib\\site-packages\\sklearn\\preprocessing\\_label.py:99: DataConversionWarning: A column-vector y was passed when a 1d array was expected. Please change the shape of y to (n_samples, ), for example using ravel().\n",
      "  y = column_or_1d(y, warn=True)\n",
      "c:\\VENV\\api_prediction\\.venv\\Lib\\site-packages\\sklearn\\preprocessing\\_label.py:134: DataConversionWarning: A column-vector y was passed when a 1d array was expected. Please change the shape of y to (n_samples, ), for example using ravel().\n",
      "  y = column_or_1d(y, dtype=self.classes_.dtype, warn=True)\n",
      "c:\\VENV\\api_prediction\\.venv\\Lib\\site-packages\\lightgbm\\sklearn.py:736: UserWarning: 'verbose' argument is deprecated and will be removed in a future release of LightGBM. Pass 'log_evaluation()' callback via 'callbacks' argument instead.\n",
      "  _log_warning(\"'verbose' argument is deprecated and will be removed in a future release of LightGBM. \"\n"
     ]
    },
    {
     "data": {
      "text/html": [
       "<style>#sk-container-id-1 {color: black;background-color: white;}#sk-container-id-1 pre{padding: 0;}#sk-container-id-1 div.sk-toggleable {background-color: white;}#sk-container-id-1 label.sk-toggleable__label {cursor: pointer;display: block;width: 100%;margin-bottom: 0;padding: 0.3em;box-sizing: border-box;text-align: center;}#sk-container-id-1 label.sk-toggleable__label-arrow:before {content: \"▸\";float: left;margin-right: 0.25em;color: #696969;}#sk-container-id-1 label.sk-toggleable__label-arrow:hover:before {color: black;}#sk-container-id-1 div.sk-estimator:hover label.sk-toggleable__label-arrow:before {color: black;}#sk-container-id-1 div.sk-toggleable__content {max-height: 0;max-width: 0;overflow: hidden;text-align: left;background-color: #f0f8ff;}#sk-container-id-1 div.sk-toggleable__content pre {margin: 0.2em;color: black;border-radius: 0.25em;background-color: #f0f8ff;}#sk-container-id-1 input.sk-toggleable__control:checked~div.sk-toggleable__content {max-height: 200px;max-width: 100%;overflow: auto;}#sk-container-id-1 input.sk-toggleable__control:checked~label.sk-toggleable__label-arrow:before {content: \"▾\";}#sk-container-id-1 div.sk-estimator input.sk-toggleable__control:checked~label.sk-toggleable__label {background-color: #d4ebff;}#sk-container-id-1 div.sk-label input.sk-toggleable__control:checked~label.sk-toggleable__label {background-color: #d4ebff;}#sk-container-id-1 input.sk-hidden--visually {border: 0;clip: rect(1px 1px 1px 1px);clip: rect(1px, 1px, 1px, 1px);height: 1px;margin: -1px;overflow: hidden;padding: 0;position: absolute;width: 1px;}#sk-container-id-1 div.sk-estimator {font-family: monospace;background-color: #f0f8ff;border: 1px dotted black;border-radius: 0.25em;box-sizing: border-box;margin-bottom: 0.5em;}#sk-container-id-1 div.sk-estimator:hover {background-color: #d4ebff;}#sk-container-id-1 div.sk-parallel-item::after {content: \"\";width: 100%;border-bottom: 1px solid gray;flex-grow: 1;}#sk-container-id-1 div.sk-label:hover label.sk-toggleable__label {background-color: #d4ebff;}#sk-container-id-1 div.sk-serial::before {content: \"\";position: absolute;border-left: 1px solid gray;box-sizing: border-box;top: 0;bottom: 0;left: 50%;z-index: 0;}#sk-container-id-1 div.sk-serial {display: flex;flex-direction: column;align-items: center;background-color: white;padding-right: 0.2em;padding-left: 0.2em;position: relative;}#sk-container-id-1 div.sk-item {position: relative;z-index: 1;}#sk-container-id-1 div.sk-parallel {display: flex;align-items: stretch;justify-content: center;background-color: white;position: relative;}#sk-container-id-1 div.sk-item::before, #sk-container-id-1 div.sk-parallel-item::before {content: \"\";position: absolute;border-left: 1px solid gray;box-sizing: border-box;top: 0;bottom: 0;left: 50%;z-index: -1;}#sk-container-id-1 div.sk-parallel-item {display: flex;flex-direction: column;z-index: 1;position: relative;background-color: white;}#sk-container-id-1 div.sk-parallel-item:first-child::after {align-self: flex-end;width: 50%;}#sk-container-id-1 div.sk-parallel-item:last-child::after {align-self: flex-start;width: 50%;}#sk-container-id-1 div.sk-parallel-item:only-child::after {width: 0;}#sk-container-id-1 div.sk-dashed-wrapped {border: 1px dashed gray;margin: 0 0.4em 0.5em 0.4em;box-sizing: border-box;padding-bottom: 0.4em;background-color: white;}#sk-container-id-1 div.sk-label label {font-family: monospace;font-weight: bold;display: inline-block;line-height: 1.2em;}#sk-container-id-1 div.sk-label-container {text-align: center;}#sk-container-id-1 div.sk-container {/* jupyter's `normalize.less` sets `[hidden] { display: none; }` but bootstrap.min.css set `[hidden] { display: none !important; }` so we also need the `!important` here to be able to override the default hidden behavior on the sphinx rendered scikit-learn.org. See: https://github.com/scikit-learn/scikit-learn/issues/21755 */display: inline-block !important;position: relative;}#sk-container-id-1 div.sk-text-repr-fallback {display: none;}</style><div id=\"sk-container-id-1\" class=\"sk-top-container\"><div class=\"sk-text-repr-fallback\"><pre>LGBMClassifier(objective=&#x27;binary&#x27;, random_state=123)</pre><b>In a Jupyter environment, please rerun this cell to show the HTML representation or trust the notebook. <br />On GitHub, the HTML representation is unable to render, please try loading this page with nbviewer.org.</b></div><div class=\"sk-container\" hidden><div class=\"sk-item\"><div class=\"sk-estimator sk-toggleable\"><input class=\"sk-toggleable__control sk-hidden--visually\" id=\"sk-estimator-id-1\" type=\"checkbox\" checked><label for=\"sk-estimator-id-1\" class=\"sk-toggleable__label sk-toggleable__label-arrow\">LGBMClassifier</label><div class=\"sk-toggleable__content\"><pre>LGBMClassifier(objective=&#x27;binary&#x27;, random_state=123)</pre></div></div></div></div></div>"
      ],
      "text/plain": [
       "LGBMClassifier(objective='binary', random_state=123)"
      ]
     },
     "execution_count": 8,
     "metadata": {},
     "output_type": "execute_result"
    }
   ],
   "source": [
    "from lightgbm import LGBMClassifier\n",
    "\n",
    "model0 = LGBMClassifier(objective=\"binary\", random_state=123)\n",
    "model0.fit(train_x, train_y, verbose=False)"
   ]
  },
  {
   "cell_type": "code",
   "execution_count": 9,
   "metadata": {},
   "outputs": [],
   "source": [
    "sample = training_data.sample(1000)\n",
    "\n",
    "test_x = sample.drop([target_col], axis=1)\n",
    "test_y = sample[[target_col]]"
   ]
  },
  {
   "cell_type": "code",
   "execution_count": 25,
   "metadata": {},
   "outputs": [
    {
     "name": "stdout",
     "output_type": "stream",
     "text": [
      "metrics: {'test_auc': 0.991104987330875}\n"
     ]
    }
   ],
   "source": [
    "from sklearn.metrics import roc_auc_score\n",
    "predictions = model0.predict_proba(test_x.astype(np.float64))[:,1]\n",
    "#predictions = d4p.gbt_classification_prediction(nClasses=2).compute(test_x, daal_model)\n",
    "#predictions = llvm_model.predict(test_x)\n",
    "auc_score = roc_auc_score(test_y, predictions)\n",
    "metrics = {\"test_auc\": auc_score}\n",
    "print(f\"metrics: {metrics}\")"
   ]
  },
  {
   "cell_type": "code",
   "execution_count": 19,
   "metadata": {},
   "outputs": [
    {
     "name": "stdout",
     "output_type": "stream",
     "text": [
      "76.9 ms ± 1.3 ms per loop (mean ± std. dev. of 7 runs, 10 loops each)\n"
     ]
    }
   ],
   "source": [
    "%%timeit -n 10\n",
    "model0.predict(train_x)"
   ]
  },
  {
   "cell_type": "code",
   "execution_count": 12,
   "metadata": {},
   "outputs": [],
   "source": [
    "import lleaves\n",
    "model_path = prob_config.data_path / \"phase2_1_lgbm.txt\"\n",
    "llvm_model_path = prob_config.data_path / \"phase2_1_lleaves\"\n",
    "model0.booster_.save_model(filename=model_path)\n",
    "llvm_model = lleaves.Model(model_file=model_path)\n",
    "llvm_model.compile(cache=llvm_model_path)"
   ]
  },
  {
   "cell_type": "code",
   "execution_count": 20,
   "metadata": {},
   "outputs": [
    {
     "name": "stdout",
     "output_type": "stream",
     "text": [
      "25.4 ms ± 1.28 ms per loop (mean ± std. dev. of 7 runs, 10 loops each)\n"
     ]
    }
   ],
   "source": [
    "%%timeit -n 10\n",
    "llvm_model.predict(train_x)"
   ]
  },
  {
   "cell_type": "code",
   "execution_count": 11,
   "metadata": {},
   "outputs": [],
   "source": [
    "import daal4py as d4p\n",
    "daal_model = d4p.get_gbt_model_from_lightgbm(model0.booster_)"
   ]
  },
  {
   "cell_type": "code",
   "execution_count": 55,
   "metadata": {},
   "outputs": [
    {
     "name": "stdout",
     "output_type": "stream",
     "text": [
      "2.48 ms ± 296 µs per loop (mean ± std. dev. of 7 runs, 10 loops each)\n"
     ]
    }
   ],
   "source": [
    "%%timeit -n 10\n",
    "daal_prediction = d4p.gbt_classification_prediction(nClasses=2, resultsToEvaluate=\"computeClassLabels|computeClassProbabilities\").compute(test_x, daal_model)"
   ]
  },
  {
   "cell_type": "code",
   "execution_count": 37,
   "metadata": {},
   "outputs": [],
   "source": [
    "import onnxruntime as rt\n",
    "from skl2onnx import convert_sklearn, update_registered_converter\n",
    "from skl2onnx.common.shape_calculator import calculate_linear_classifier_output_shapes  # noqa\n",
    "from onnxmltools.convert.lightgbm.operator_converters.LightGbm import convert_lightgbm  # noqa\n",
    "from skl2onnx.common.data_types import FloatTensorType\n",
    "import numpy\n",
    "from sklearn.datasets import load_iris\n",
    "from sklearn.pipeline import Pipeline\n",
    "from sklearn.preprocessing import StandardScaler\n",
    "from lightgbm import LGBMClassifier"
   ]
  },
  {
   "cell_type": "code",
   "execution_count": 38,
   "metadata": {},
   "outputs": [],
   "source": [
    "update_registered_converter(\n",
    "    LGBMClassifier, 'LightGbmLGBMClassifier',\n",
    "    calculate_linear_classifier_output_shapes, convert_lightgbm,\n",
    "    options={'nocl': [True, False], 'zipmap': [True, False, 'columns']})"
   ]
  },
  {
   "cell_type": "code",
   "execution_count": 44,
   "metadata": {},
   "outputs": [],
   "source": [
    "model_onnx = convert_sklearn(\n",
    "    model0, 'pipeline_lightgbm',\n",
    "    [('input', FloatTensorType([None, 41]))],\n",
    "    target_opset={'': 12, 'ai.onnx.ml': 2})\n",
    "\n",
    "# And save.\n",
    "with open(\"pipeline_lightgbm.onnx\", \"wb\") as f:\n",
    "    f.write(model_onnx.SerializeToString())"
   ]
  },
  {
   "cell_type": "code",
   "execution_count": 49,
   "metadata": {},
   "outputs": [
    {
     "name": "stdout",
     "output_type": "stream",
     "text": [
      "predict [1 1 1 1 0]\n",
      "predict_proba [[0.17720758 0.82279242]]\n"
     ]
    }
   ],
   "source": [
    "print(\"predict\", model0.predict(test_x.to_numpy()[:5].astype(numpy.float32)))\n",
    "print(\"predict_proba\", model0.predict_proba(test_x.to_numpy()[:1].astype(numpy.float32)))"
   ]
  },
  {
   "cell_type": "code",
   "execution_count": 45,
   "metadata": {},
   "outputs": [
    {
     "name": "stdout",
     "output_type": "stream",
     "text": [
      "predict [1 1 1 1 0]\n",
      "predict_proba [{0: 0.17720752954483032, 1: 0.8227924704551697}]\n"
     ]
    }
   ],
   "source": [
    "sess = rt.InferenceSession(\"pipeline_lightgbm.onnx\")\n",
    "\n",
    "pred_onx = sess.run(None, {\"input\": test_x.to_numpy()[:5].astype(numpy.float32)})\n",
    "print(\"predict\", pred_onx[0])\n",
    "print(\"predict_proba\", pred_onx[1][:1])"
   ]
  },
  {
   "cell_type": "code",
   "execution_count": 54,
   "metadata": {},
   "outputs": [
    {
     "name": "stdout",
     "output_type": "stream",
     "text": [
      "1.92 ms ± 111 µs per loop (mean ± std. dev. of 7 runs, 100 loops each)\n"
     ]
    }
   ],
   "source": [
    "%%timeit\n",
    "pred_onx = sess.run(None, {\"input\": test_x.to_numpy().astype(numpy.float32)})"
   ]
  },
  {
   "cell_type": "code",
   "execution_count": 10,
   "metadata": {},
   "outputs": [
    {
     "name": "stderr",
     "output_type": "stream",
     "text": [
      "2023/07/06 17:04:13 INFO mlflow.tracking.fluent: Experiment with name 'phase-2_prob-1_lgbm' does not exist. Creating a new experiment.\n",
      "c:\\VENV\\api_prediction\\.venv\\Lib\\site-packages\\_distutils_hack\\__init__.py:33: UserWarning: Setuptools is replacing distutils.\n",
      "  warnings.warn(\"Setuptools is replacing distutils.\")\n"
     ]
    },
    {
     "data": {
      "text/plain": [
       "'061becc8f54344c19f02d1c70b5e8271'"
      ]
     },
     "execution_count": 10,
     "metadata": {},
     "output_type": "execute_result"
    }
   ],
   "source": [
    "run_description = \"\"\"\n",
    "### Header\n",
    "LGBM model, First Base Model Prob1\n",
    "Model: LGBM\n",
    "    \"\"\"\n",
    "log_model_to_tracker_lgbm(model0, metrics, run_description)"
   ]
  },
  {
   "cell_type": "code",
   "execution_count": 19,
   "metadata": {},
   "outputs": [
    {
     "name": "stderr",
     "output_type": "stream",
     "text": [
      "2023/07/04 15:33:48 WARNING mlflow.pyfunc: Detected one or more mismatches between the model's dependencies and the current Python environment:\n",
      " - numpy (current: 1.23.0, required: numpy==1.23.5)\n",
      " - pyarrow (current: 6.0.1, required: pyarrow==11.0.0)\n",
      " - pandas (current: 1.5.3, required: pandas==2.0.1)\n",
      "To fix the mismatches, call `mlflow.pyfunc.get_model_dependencies(model_uri)` to fetch the model's environment and install dependencies using the resulting environment file.\n"
     ]
    }
   ],
   "source": [
    "import mlflow\n",
    "import pathlib\n",
    "MLFLOW_TRACKING_URI = 'http://localhost:5000'\n",
    "mlflow.set_tracking_uri(MLFLOW_TRACKING_URI)\n",
    "model_uri = str(pathlib.Path(\"models:/\", \"phase-2_prob-1_model\", \"2\").as_posix())\n",
    "model0_ref = mlflow.pyfunc.load_model(model_uri)"
   ]
  },
  {
   "cell_type": "code",
   "execution_count": 22,
   "metadata": {},
   "outputs": [
    {
     "data": {
      "text/plain": [
       "array([[9.99900175e-01, 9.98248478e-05],\n",
       "       [1.28688555e-02, 9.87131144e-01],\n",
       "       [7.01833056e-04, 9.99298167e-01],\n",
       "       ...,\n",
       "       [1.12157821e-03, 9.98878422e-01],\n",
       "       [9.03452717e-05, 9.99909655e-01],\n",
       "       [9.99874004e-01, 1.25996093e-04]])"
      ]
     },
     "execution_count": 22,
     "metadata": {},
     "output_type": "execute_result"
    }
   ],
   "source": [
    "model0_ref._model_impl.predict_proba(test_x)"
   ]
  },
  {
   "cell_type": "code",
   "execution_count": 15,
   "metadata": {},
   "outputs": [
    {
     "data": {
      "text/plain": [
       "<mlflow.lightgbm._LGBModelWrapper at 0x1c60c4bc2e0>"
      ]
     },
     "execution_count": 15,
     "metadata": {},
     "output_type": "execute_result"
    }
   ],
   "source": [
    "model0_ref._model_impl.lgb_model."
   ]
  },
  {
   "attachments": {},
   "cell_type": "markdown",
   "metadata": {},
   "source": [
    "# Drift Detect"
   ]
  },
  {
   "cell_type": "code",
   "execution_count": 132,
   "metadata": {},
   "outputs": [],
   "source": [
    "# Old KS Drift from alibi_detect\n",
    "from alibi_detect.cd import KSDrift\n",
    "X_baseline = train_x.sample(100)\n",
    "cd = KSDrift(p_val=0.05, x_ref=X_baseline.to_numpy())"
   ]
  },
  {
   "cell_type": "code",
   "execution_count": 169,
   "metadata": {},
   "outputs": [],
   "source": [
    "x=train_x.sample(1000).to_numpy()"
   ]
  },
  {
   "cell_type": "code",
   "execution_count": 172,
   "metadata": {},
   "outputs": [
    {
     "name": "stdout",
     "output_type": "stream",
     "text": [
      "21.6 ms ± 372 µs per loop (mean ± std. dev. of 7 runs, 10 loops each)\n"
     ]
    }
   ],
   "source": [
    "%%timeit\n",
    "cd.predict(x)"
   ]
  },
  {
   "cell_type": "code",
   "execution_count": 38,
   "metadata": {},
   "outputs": [],
   "source": [
    "# Save referent for drift detection.\n",
    "#X_baseline_df = pd.DataFrame(X_baseline, columns=prob_config.drift_cols)\n",
    "#X_baseline_df.to_parquet(prob_config.driff_ref_path, index=False)"
   ]
  },
  {
   "attachments": {},
   "cell_type": "markdown",
   "metadata": {},
   "source": [
    "# Model drift"
   ]
  },
  {
   "cell_type": "code",
   "execution_count": 4,
   "metadata": {},
   "outputs": [],
   "source": [
    "from sklearn.cluster import MiniBatchKMeans\n",
    "import joblib\n",
    "\n",
    "# N là số lượng cluster\n",
    "N = 19000 * len(np.unique(train_y))\n",
    "# Train clustering model cho data đã có label\n",
    "#kmeans = MiniBatchKMeans(n_clusters=N, random_state=0, n_init='auto').fit(train_x)\n",
    "\n",
    "#joblib.dump(kmeans, 'data/captured_data/phase-1/prob-1/kmeans.cpk')\n",
    "kmeans = joblib.load('data/captured_data/phase-1/prob-1/kmeans.cpk')\n",
    "\n",
    "# Tạo 1 mảng ánh xạ cluster với 1 label mới (do các data drift thuộc cùng 1 cluster sẽ có label giống nhau)\n",
    "new_labels = []\n",
    "\n",
    "# Duyệt từng cluster\n",
    "for  i  in  range(N):\n",
    "\t# Lấy các label của các data point thuộc cluster i\n",
    "\tmask = (kmeans.labels_ == i)\n",
    "\tcluster_labels = train_y[mask]\n",
    "\n",
    "\tif  len(cluster_labels) == 0:\n",
    "\t\t# Nếu cluster i rỗng thì xác định cluster i ánh xạ với 1 label mặc định (ở đây lựa chọn là 0)\n",
    "\t\tnew_labels.append(0)\n",
    "\telse:\n",
    "\t\t# Tìm label mới cho cả cụm cluster trong trường hợp cụm cluster khác rỗng\n",
    "\t\t#if  isinstance(train_y.flatten()[0], float):\n",
    "\t\t\t# Nếu là bài toán Regression thì lấy giá trị trung bình của các label thuộc cluster\n",
    "\t\t#\tnew_labels.append(np.mean(cluster_labels.flatten()))\n",
    "\t\t#else:\n",
    "\t\t\t# Nếu là bài toán Classification thì lấy label xuất hiện nhiều nhất trong cluster\n",
    "\t\t\tnew_labels.append(np.bincount(cluster_labels.to_numpy().flatten()).argmax())\n",
    "\n",
    "# Ánh xạ lại label cho data drift dựa trên kết quả predict cluster ở trên\n",
    "y_drift_propagated = [new_labels[c] for  c  in  kmeans.labels_]"
   ]
  },
  {
   "cell_type": "code",
   "execution_count": 5,
   "metadata": {},
   "outputs": [
    {
     "data": {
      "text/plain": [
       "{'test_auc': 0.8626996177558589}"
      ]
     },
     "execution_count": 5,
     "metadata": {},
     "output_type": "execute_result"
    }
   ],
   "source": [
    "from sklearn.metrics import roc_auc_score\n",
    "y_drift_test_propagated = [ new_labels[c] for c in kmeans.predict(train_x)]\n",
    "propagated_auc = {\"test_auc\": roc_auc_score(train_y, y_drift_propagated)}\n",
    "propagated_auc"
   ]
  },
  {
   "attachments": {},
   "cell_type": "markdown",
   "metadata": {},
   "source": [
    "# Online Data"
   ]
  },
  {
   "cell_type": "code",
   "execution_count": 26,
   "metadata": {},
   "outputs": [],
   "source": [
    "import pandas as pd\n",
    "import redis\n",
    "import pickle\n",
    "# Load data for problem 1\n",
    "rc1 = redis.Redis(host='localhost', db=1, port=6379,  socket_keepalive=True)\n",
    "\n",
    "captured_x = pd.DataFrame()\n",
    "for key in rc1.keys():\n",
    "    captured_data = pickle.loads(rc1.get(key))\n",
    "    captured_x = pd.concat([captured_x, captured_data])\n",
    "\n",
    "#captured_x.drop_duplicates(inplace=True, ignore_index=True)\n",
    "#captured_x = apply_category_features(\n",
    "#    raw_df=captured_x[train_x.columns],\n",
    "#    categorical_cols=prob_config.categorical_cols,\n",
    "#    category_index=category_index,\n",
    "#)"
   ]
  },
  {
   "cell_type": "code",
   "execution_count": 27,
   "metadata": {},
   "outputs": [],
   "source": [
    "allkey = rc1.keys()"
   ]
  },
  {
   "attachments": {},
   "cell_type": "markdown",
   "metadata": {},
   "source": [
    "# Test API"
   ]
  },
  {
   "cell_type": "code",
   "execution_count": 35,
   "metadata": {},
   "outputs": [
    {
     "name": "stdout",
     "output_type": "stream",
     "text": [
      "{\"id\": \"123\", \"predictions\": [0.000144157715702458, 0.9998910506174983, 0.9996761344458595, 0.38227860458063473, 0.9996828965823179, 0.00013418979518185192, 0.9985471777304273, 0.00035219129353964264, 0.2833331026012375, 0.9897228771500641, 0.4754449065134028, 0.005686294921973172, 0.0003030946270267483, 0.9998837423846397, 0.9998418191099624, 0.9957329520572046, 0.35836806196949783, 0.0001552404798845687, 0.9987575701735351, 0.9919733628931873, 0.9892411403393556, 0.0001031883445218667, 0.0001234824283467175, 0.4385608480118832, 9.661959091970735e-05, 0.00014977381377852253, 0.9553484820114022, 0.9998837423846397, 0.999905894469594, 0.999905894469594, 0.9997663444045405, 0.9998928155544562, 0.39418753934831424, 0.9993664030797447, 0.9993830346268678, 0.0003030946270267483, 0.9990215332377335, 0.6468861548798545, 0.0001084382434679105, 0.0003030946270267483, 0.9998910506174983, 0.9998837423846397, 0.00014160522661576044, 0.00014480819032856287, 0.33441889331702596, 0.1912285530075295, 0.999611156961625, 0.6295866760322194, 0.9374031596736899, 0.9990595520826252, 0.9960388046452151, 0.9824276741756229, 0.9998837423846397, 0.5291718460436519, 0.9067928788897364, 0.9982873538280614, 0.00015014291462582113, 0.9988585972316503, 7.081136120894299e-05, 0.9899501442175607, 0.8543383206480113, 0.00015151533312950143, 0.9996379955899337, 0.00015151533312950143, 0.9897727553528841, 0.00011166553975880924, 8.120997007917664e-05, 6.500185083784603e-05, 0.999905894469594, 9.542745863046232e-05, 0.9976843998879625, 0.0001753944800659037, 0.9990595520826252, 0.00018049772194836332, 0.18848305583249458, 0.9992734061502734, 0.00010545403291984405, 0.9999096547282988, 0.999905894469594, 0.9998837423846397, 0.00018049772194836332, 0.9644532081801027, 0.9998837423846397, 0.00013557475740503516, 0.9917356969439712, 0.0001306908820128211, 0.9996828965823179, 0.9999171540317326, 0.32067960091597525, 0.00015151533312950143, 0.9998837423846397, 0.999905894469594, 8.512442390871985e-05, 0.28448198215314013, 0.9996828965823179, 0.24566816064660812, 0.00018504873762121413, 0.9874539991721706, 0.907942992889009, 0.00015151533312950143, 0.9998837423846397, 8.112650766885705e-05, 0.9996784712482033, 0.995876869030802, 0.0001177181754226286, 0.00015151533312950143, 0.999611156961625, 0.9102632679777773, 0.4979036517647016, 0.00012100739053719266, 0.9861025185238549, 0.9989620739872076, 0.00027925834633652565, 0.9946210323599974, 0.9909548799342174, 0.9996784712482033, 7.079368990165098e-05, 0.00014555276101588534, 0.9992734061502734, 0.999903617814329, 0.00016162649740452368, 0.004394796847226728, 0.9996784712482033, 0.00011230196062043257, 0.0001723410488255482, 0.999905894469594, 0.9998837423846397, 0.999905894469594, 0.999905894469594, 0.9984371915822957, 0.997311154171246, 0.00018049772194836332, 0.00035219129353964264, 0.7432881304751322, 0.9996828965823179, 0.999656348207354, 0.00011376014796489532, 0.44519395352022384, 0.00014387733358384332, 0.9998837423846397, 0.00012055094679330321, 9.333057185262952e-05, 0.9946544070765586, 0.9993202018218705, 0.9992734061502734, 0.9998837423846397, 0.999905894469594, 0.9998837423846397, 0.00011899779734395036, 0.17961362622523558, 0.9988336563170739, 0.9989007633325252, 0.9997019467583983, 0.005143952499979636, 0.9963205345498107, 0.9998837423846397, 0.25092114064507914, 0.9993027934739922, 0.0003030946270267483, 0.9618342295628289, 0.8531911508183663, 0.9998837423846397, 0.999874632276183, 0.9998837423846397, 0.9998837423846397, 0.9996784712482033, 0.4473115048682904, 0.9963663160503154, 0.00035219129353964264, 0.9996057308606813, 0.999611156961625, 0.9998837423846397, 0.0001547122994349711, 0.00015151533312950143, 0.999905894469594, 0.00015151533312950143, 0.9998837423846397, 0.3848838330282755, 0.9996207215216234, 0.00015151533312950143, 0.9996784712482033, 0.999905894469594, 0.5682470032409557, 0.9901553190976862, 0.24870434591795493, 8.879801213024395e-05, 0.9952987525426633, 0.9987842063968891, 0.00012629162298551178, 0.9988961961351439, 0.00035219129353964264, 0.00016378073994001657, 0.00015151533312950143, 0.004055404603537885, 0.000184212482536296, 0.9970415443531114, 0.00011760730448205105, 0.23139694429331686, 0.492221189249337, 0.00011039751457047962, 0.9942089674137496, 0.5350153273058296, 0.9981951601390731, 0.8194246997957193, 0.005065844167909666, 0.00014398223640285724, 0.9998837423846397, 0.9998837423846397, 0.9772606287676342, 0.9982240021732378, 9.055530013186434e-05, 0.9974171502007477, 0.00035219129353964264, 0.00014276316103492697, 0.9976537455739241, 0.9998837423846397, 8.89685320249883e-05, 0.005266229473154839, 0.9998837423846397, 0.9998837423846397, 0.191919434769034, 0.9997019467583983, 0.9989785591318632, 0.13632429119684106, 0.00016030434628259334, 0.9998837423846397, 0.9797292620845964, 0.2797793879813169, 0.9993102368592413, 0.9998837423846397, 0.9998837423846397, 0.9970727436890902, 0.7871672133782674, 0.9950380289572136, 0.9981506838120803, 0.9991061106332605, 0.9994199893054433, 0.9998837423846397, 0.999905894469594, 0.00011145263973631303, 0.9998910506174983, 0.999905894469594, 0.999905894469594, 0.9958592441098814, 8.446243025831718e-05, 0.9998899512983547, 0.16534784367624059, 8.593802206029477e-05, 0.9998735434462112, 0.004232983837625982, 0.997661555917798, 0.9984834795348834, 0.00013615017190342937, 0.00013997068793426977, 0.9989974336831365, 0.9998837423846397, 0.9992981669439214, 0.00012712339648793795, 0.0001828813189794517, 0.9343480147462002, 0.00010337863666674465, 0.956571760603537, 0.9908795195480589, 0.998998625120264, 0.996454345686843, 0.00014803528549618355, 0.8679553039227058, 8.593802206029477e-05, 0.997311154171246, 0.9951616608879692, 0.4750597609031487, 0.9991498919877754, 0.998387834332906, 0.00018049772194836332, 0.00013349079421698062, 0.992097202421998, 0.9990883445839116, 0.0001485512376990111, 0.9996429958120586, 0.0001358246741644487, 0.00013972817623436907, 0.9926958812329446, 0.9993150424692666, 0.39391578630969626, 0.47869762888737954, 0.9917356969439712, 0.8445777774752307, 0.0003030946270267483, 0.9996805919320815, 0.32505195679251503, 0.9998837423846397, 0.1941556612539036, 0.9992136262422905, 0.9996786899063498, 0.00015151533312950143, 0.00016275676019415286, 0.7830967234909163, 0.9915106581748023, 0.5048217598092717, 0.9961278444571551, 0.999905894469594, 0.00017741987198273624, 7.745017238890062e-05, 0.9984739855550494, 0.2769448115726328, 0.9988208796053187, 0.00035219129353964264, 0.9998837423846397, 0.00012769243860198486, 0.9983207023146896, 0.010344970775003773, 0.0001183562229891908, 0.9993150424692666, 0.9998837423846397, 0.999905894469594, 0.0001619374080240588, 0.999905894469594, 0.9957250552762357, 0.9998837423846397, 0.17286968343111278, 0.9978008071909018, 0.9999171540317326, 0.00014967490737515443, 0.9987956710245598, 0.8450051535347112, 0.9637940752982967, 0.9999096547282988, 0.9996784712482033, 0.9998837423846397, 0.0001355384375027593, 9.901994089023998e-05, 0.9996763701451702, 9.826811394847545e-05, 0.4965654674926141, 0.9996784712482033, 0.9869320302877584, 0.9918268653600526, 0.9998837423846397, 0.9999096547282988, 0.9998837423846397, 0.20866645807987674, 0.9998832554840715, 0.9939916769903753, 0.9998837423846397, 0.9998837423846397, 7.095403704330889e-05, 0.9126803236088077, 0.9998837423846397, 0.9998553174685054, 0.8318410336256846, 0.9998837423846397, 0.00018049772194836332, 0.999905894469594, 0.9985966459538937, 0.9520427435892356, 0.00010794662731273351, 0.9999171540317326, 0.9917049559701238, 0.758843012438308, 0.00018763439247307986, 0.999905894469594, 0.9907742981319665, 0.4017525692472756, 7.745017238890062e-05, 0.9998837423846397, 0.00011554723865902362, 0.9981978620333753, 0.9994688678098297, 0.9985213854872482, 0.00014477727648379865, 0.00011962185838803417, 0.9989620739872076, 0.9883930486561964, 0.4780474545754563, 0.35364282660410107, 0.9998832554840715, 0.9998399404915767, 0.0001589307182692447, 0.9402893314492022, 0.4105567853615786, 0.00012999254257682602, 0.9985059807057438, 0.9994394576718788, 0.9998837423846397, 0.9071871820760952, 0.999874632276183, 0.999905894469594, 0.00015239623684520963, 0.9996057308606813, 0.37229280726674724, 8.925984756465323e-05, 0.9380644242355649, 0.9996496109352513, 0.9767359989952059, 0.00014967490737515443, 0.00010802762999719525, 0.33240222691029225, 0.9896843292320261, 0.9998837423846397, 0.9991498919877754, 0.9998837423846397, 0.8695599651217872, 0.00019525270959612026, 0.00011069038560211018, 0.424008834313336, 0.9932923289140007, 0.00015151533312950143, 0.0001404048051300211, 0.9824096406518924, 0.9998837423846397, 0.00015151533312950143, 0.9998837423846397, 0.9993241475450345, 0.9752184063745933, 0.004192093299690709, 0.9998837423846397, 0.9998837423846397, 0.9998837423846397, 0.6181699831897429, 0.9998837423846397, 0.9998837423846397, 0.9998837423846397, 0.00015151533312950143, 0.9992884585045099, 0.00015151533312950143, 0.0035601757664702987, 0.825385889593033, 0.4459125577773106, 0.9970047969801447, 0.999905894469594, 0.9998837423846397, 0.00012844189511625138, 0.17184121780284572, 0.9998976521337084, 0.9933453596226541, 0.6345525138100556, 0.00014614452351796353, 0.7630694271063957, 0.0001595015775115587, 0.0001477988848359785, 0.9760747929092702, 0.9936096941483263, 0.999903617814329, 0.9998832554840715, 0.00035219129353964264, 0.3616266614883194, 0.005611789793353274, 0.9998837423846397, 0.9994315313409209, 8.512442390871985e-05, 0.4600997582053753, 0.00015151533312950143, 0.9998837423846397, 0.9143339108649882, 0.9991085499806874, 0.4649950394467996, 0.9990215332377335, 0.999905894469594, 0.8712432125338393, 0.9993830346268678, 0.31655456040800467, 0.00014634601612119823, 0.999905894469594, 0.00016563183484662793, 0.998758393979024, 0.00013298251159470225, 0.9051100899863805, 0.9971358329881636, 0.00012202139865220661, 0.9998837423846397, 0.30815413631321226, 0.9998837423846397, 0.9997103726857567, 0.00014284830698064986, 0.24080093492594318, 0.0035601757664702987, 0.9996761344458595, 0.9998837423846397, 0.9998899512983547, 0.00014614452351796353, 0.9983197469677132, 0.9994458960647197, 0.5219908495146859, 0.9970241588189562, 0.9422563144601588, 0.9995746596442083, 0.000161910657690125, 0.4126867597019424, 0.0001358246741644487, 0.9988932674493917, 0.323411360013479, 0.999905894469594, 0.9999096547282988, 0.0001155059581889379, 0.00014244230375251208, 0.9961861370683366, 0.9979752434976754, 0.998897860120431, 0.00015113033521032174, 0.9998837423846397, 0.9998837423846397, 0.10762285196123844, 0.9998837423846397, 0.9998837423846397, 0.9998837423846397, 0.9998854100009966, 0.9998837423846397, 0.9993150424692666, 0.917157613455294, 0.994480773711547, 0.00015151533312950143, 0.9990215332377335, 0.9999268697564094, 0.9998837423846397, 0.0001363953865103347, 0.9993150424692666, 0.24732944844338287, 0.9998928155544562, 0.999905894469594, 0.999611156961625, 0.4098336362515316, 0.0001830860379041938, 0.9999171540317326, 0.9857457005487072, 0.9998837423846397, 0.999905894469594, 0.9996308969129098, 0.9992981669439214, 0.9669804810866485, 0.989145758248191, 0.9991198459048509, 0.9996496109352513, 0.9998837423846397, 0.8433981391734758, 0.38786669426543263, 0.9998837423846397, 0.9998837423846397, 0.00018275685957911384, 0.9908613700292297, 0.9998837423846397, 0.9568257281584334, 0.9998837423846397, 0.00020543091462393607, 0.00014556443123628037, 0.3346335044615802, 0.9875765375065118, 0.5330139070710237, 0.0001473939386237514, 0.00014142141360142646, 0.7817884715050809, 0.00014688383355982956, 0.00011115934920948254, 0.0001589307182692447, 0.9987057887427084, 0.27238588288680254, 0.8376504827984366, 0.9996761344458595, 0.3455367356383557, 0.00018049772194836332, 0.00010072143214351204, 0.005738555282226928, 0.9998837423846397, 0.9991144725440309, 9.05792174808235e-05, 0.9999171540317326, 0.9998837423846397, 0.531065457017947, 0.8250677934323014, 7.745017238890062e-05, 0.9920435983384437, 0.9998694581997358, 0.9998865364025179, 0.0001589307182692447, 0.20572992224297793, 0.00010315634340490342, 0.9998837423846397, 0.5318397459493862, 0.1490516469896347, 8.338096516657351e-05, 0.8186081275322993, 0.9921129214537399, 0.00012672041948711077, 0.3872463022709639, 0.4711861192390581, 0.9996828965823179, 0.9992683086368817, 0.7863034038077028, 0.9998837423846397, 0.9994240091443302, 0.6272199596318195, 0.9967095382364161, 0.0001294309236014993, 0.9969769180508189, 0.23505169429768902, 0.9990590606810609, 0.9949310018536669, 0.16913519058623416, 0.9976579881340498, 0.3406272718972886, 0.9996761344458595, 0.9998837423846397, 0.9998837423846397, 0.9990314981997784, 7.600916132894414e-05, 0.0003030946270267483, 0.7185252743522785, 0.9996805919320815, 0.9993830346268678, 0.9637940752982967, 8.512442390871985e-05, 0.629356713598235, 0.9998899512983547, 0.19906133732743378, 0.9996784712482033, 0.9919733628931873, 0.7887051212203934, 0.999905894469594, 0.8975948191572608, 0.9998854100009966, 0.14815716688639136, 0.8793741024366108, 0.999905894469594, 0.0001589307182692447, 0.999905894469594, 0.9989050559671385, 8.030106407338736e-05, 0.00020231019308102126, 0.9920435983384437, 0.9991858761483162, 0.2976486360703222, 0.9885980750688921, 0.9993102368592413, 0.4236714612582602, 0.9999171540317326, 9.939648065982303e-05, 0.00012664843694041187, 0.35224400647417203, 0.9998837423846397, 0.9996828965823179, 0.9998837423846397, 0.0001299402114564506, 0.9952268799253479, 0.9988244874716279, 0.27651471622822693, 0.999191460015822, 0.99913141829361, 0.9998837423846397, 0.9989974336831365, 0.773440201068485, 0.00017741987198273624, 0.9998837423846397, 0.9998837423846397, 0.00012156213179781725, 0.3303426123388119, 0.9919733628931873, 0.9986199811615142, 8.448473807028973e-05, 0.44174979942008336, 0.6087343621544757, 0.9994264830462525, 0.9996786899063498, 0.9998837423846397, 0.9920683980882349, 0.9992830642966247, 0.999905894469594, 0.2029929352083555, 0.00010113819950349106, 8.512442390871985e-05, 0.00011234654256963302, 0.999611156961625, 0.998793272922247, 7.747104049473338e-05, 0.9998837423846397, 0.9992859015900313, 0.0001052139984574842, 0.95497244967885, 0.9938760532781028, 0.7195860688105024, 0.9998837423846397, 0.00010473743277947397, 0.9972517226388409, 0.999611156961625, 0.8974332896272659, 0.00011145263973631303, 0.9984343307105692, 0.0001589307182692447, 0.9978407628657022, 0.9980931307776642, 0.9981951601390731, 0.9991181005512426, 0.9998837423846397, 0.9989140453371481, 6.615003283664743e-05, 0.0001402732871355988, 0.9998837423846397, 0.0001105994029463034, 0.9992734061502734, 0.7328040107866107, 0.9987956710245598, 0.9996828965823179, 0.9855418462387027, 0.8228891892065923, 0.00019074899145091054, 0.9853422694756293, 0.9996784712482033, 0.3199536118020318, 0.00035219129353964264, 0.0001543562560825421, 0.42046937464554013, 0.5057005048859682, 0.9887495829491856, 0.5450722156576319, 0.00012108564249513654, 0.999611156961625, 0.9998837423846397, 9.043567186112572e-05, 0.8393367763763597, 0.9998837423846397, 0.31655456040800467, 0.999903617814329, 0.9990215332377335, 0.13438024753390893, 0.9955169481418991, 0.9995073335985499, 0.999905894469594, 0.9918268653600526, 0.9993030304995919, 0.3426207181822633, 0.9950314877734326, 0.9998837423846397, 0.5392265517261646, 0.8379248194987354, 0.0028313042780246976, 0.9991643873508264, 0.9998837423846397, 0.9989693895296015, 0.9998837423846397, 0.9952739984444195, 0.999905894469594, 0.9992683086368817, 0.9996828965823179, 0.7097690036157996, 0.9998854100009966, 0.9997124487886837, 0.00010959448512185174, 0.00016141514895494298, 0.48243686992045987, 8.593802206029477e-05, 0.9819721324558623, 0.9954605543350369, 0.0001638156041674199, 0.9998837423846397, 0.00019165923274392852, 8.925984756465323e-05, 0.9834540936075048, 0.00013702310281370778, 0.9999096547282988, 0.9998837423846397, 0.00018134439990323908, 0.9953985975662712, 0.9986023341225032, 0.9356797227649684, 0.9993150424692666, 7.5664235492532e-05, 0.9987558201631368, 0.00015151533312950143, 0.9956502470170324, 0.00035219129353964264, 0.00015151533312950143, 0.00011684864561927088, 0.9425987007598421, 8.719739106265247e-05, 0.9951420882731894, 0.9996805919320815, 0.37563941383257954, 0.9998837423846397, 0.0001705913365837178, 0.7365173850942407, 0.00012202139865220661, 0.9999137089777405, 0.9998837423846397, 0.0037484185675305645, 0.29149330252446026, 0.9886132184829169, 0.00015151533312950143, 0.9993202018218705, 0.00019525270959612026, 0.9996784712482033, 0.9998837423846397, 0.9998899512983547, 8.804585946353673e-05, 0.0001263570974445884, 0.00011039751457047962, 0.9918744310906771, 7.28807747055331e-05, 0.00015151533312950143, 0.9993015897366453, 0.8560354843313557, 0.1564606304713541, 0.00015151533312950143, 8.826085488397592e-05, 0.9999096547282988, 0.3658840805794282, 0.9902136756699245, 0.9918079948621418, 0.9991858761483162, 0.9971093737654755, 0.7940298263251968, 0.9998837423846397, 0.9991764490812509, 0.9998356551052938, 0.9999171540317326, 0.9998837423846397, 0.9998837423846397, 0.00021082424647900187, 0.00015598431518467178, 0.9998837423846397, 0.0001589307182692447, 8.307942014603161e-05, 0.0001482396480409586, 7.878629503217859e-05, 0.00012103167937444024, 0.7571130229751359, 0.0003030946270267483, 0.9994593522801423, 0.9998837423846397, 0.9998832554840715, 0.9993830346268678, 0.9996761344458595, 0.5314130379508311, 0.9873998961661734, 0.9998837423846397, 0.9618581156754316, 0.00015006546886143205, 0.9998837423846397, 0.9941214011631353, 0.9954233244672369, 0.9998865364025179, 0.4151689601918152, 0.999905894469594, 0.00015151533312950143, 0.9774386579106086, 0.0001309570094643061, 0.9998837423846397, 9.826811394847545e-05, 0.00015151533312950143, 0.00012212022057219183, 0.999905894469594, 0.19906133732743378, 0.958356670817302, 0.9998756145055341, 0.00013888152856068213, 0.9977310924445861, 0.9997019467583983, 9.783826314448895e-05, 0.9996784712482033, 0.20866645807987674, 0.9998837423846397, 0.9372947385553967, 0.46933559402897296, 0.9998837423846397, 8.512442390871985e-05, 0.999905894469594, 0.00035219129353964264, 0.000184212482536296, 8.689399775516596e-05, 0.7845166790720798, 0.4971566498539579, 0.004192093299690709, 0.28104413610791035, 0.9992107769585946, 0.9996831122319352, 0.00017365453479668694, 0.9992981669439214, 0.9996761344458595, 0.9998837423846397, 0.9908955738744758, 0.00025967298446291404, 0.9996761344458595, 0.002642677417957026, 0.9097892277275438, 0.5866257317146872, 0.9919733628931873, 0.0001589307182692447, 0.0003030946270267483, 0.9993102368592413, 0.9982673285285959, 8.338096516657351e-05, 0.38949885750092017, 0.9983902821774042, 0.2674437194428406, 0.90882012072478, 0.4772770094863379, 0.9917356969439712, 0.00010763770934099249, 0.19433526861690179, 0.9998854100009966, 0.9993150424692666, 0.9992678020932919, 0.32561042561945913, 0.9985424235367484, 0.9380644242355649, 0.9371856864739445, 0.9819368555849638, 0.9724101809933752, 0.9988983156630298, 0.9998854100009966, 0.9983089485449057, 0.9999096547282988, 0.00035219129353964264, 0.21868835477923732, 0.9999171540317326, 0.9991498919877754, 0.21454129681144166, 0.999905894469594, 0.9998837423846397, 0.00014824265170060687, 0.544139594342298, 0.8374348249296, 0.00015151533312950143, 0.38949334185376305, 0.9996784712482033, 0.9993683653271825, 0.00011076522464514911, 0.9961278444571551, 0.9834540936075048, 0.9986623495853182, 0.9933974420235034, 0.9998837423846397, 0.999905894469594, 9.769398286413168e-05, 0.00752284209554878, 0.9998837423846397, 0.8687333995538038, 0.9970361698741286, 0.9998837423846397, 0.9998837423846397, 0.00011145263973631303, 0.9993150424692666, 0.9884974078451553, 0.9998837423846397, 0.9994174231105611, 0.9998837423846397, 0.00013738488848453516, 0.9780024705931962, 0.9991533466765844, 0.9998837423846397, 0.9893075953294965, 0.999905894469594, 0.9996761344458595, 0.0001589307182692447, 0.00012946478807291645, 7.745017238890062e-05, 0.8004200423472191, 0.10118735825357274, 0.999905894469594, 0.9999171540317326, 0.9999171540317326, 0.00014480819032856287, 0.9995868099469248, 0.9992555055813908, 0.9977823212177356, 0.9988652545750402, 0.0002029915476688439, 0.00014803528549618355, 0.9998553174685054, 0.998022889584677, 0.9998688087824612, 0.999611156961625, 0.9993004920730504, 0.934963974096448, 0.8250505174561099, 0.9998899512983547, 0.9874127058961492, 0.9500910131727436, 0.9998837423846397, 0.9998399404915767, 0.9984596352613586, 0.3508335777710946, 0.9450059630958897, 0.8723708169311947, 0.9999096547282988, 0.00012202139865220661, 0.971856004552109, 0.9996805919320815, 0.9998899512983547, 0.00015151533312950143, 0.00015151533312950143, 0.7484474410831593, 0.9947188855625346, 0.00015151533312950143, 0.9998837423846397, 0.6470151692641193, 9.043567186112572e-05, 0.2457973669026744, 0.000161910657690125, 0.37395211641484705, 0.9919733628931873, 0.999905894469594, 0.25196580878461294], \"drift\": 0}\n"
     ]
    }
   ],
   "source": [
    "rows = []\n",
    "test = pickle.loads(rc1.get(allkey[2]))\n",
    "\n",
    "for index, row in test.iterrows():\n",
    "    rows.append(row.to_list())\n",
    "\n",
    "data = {\n",
    "  \"id\": \"123\",\n",
    "  \"rows\": rows,\n",
    "  \"columns\": test.columns.to_list()\n",
    "}\n",
    "\n",
    "import requests\n",
    "#response = requests.post('http://14.225.205.204:5040/phase-2/prob-1/predict', json=data)\n",
    "response = requests.post('http://localhost:8000/phase-2/prob-1/predict', json=data)\n",
    "print(response.text)"
   ]
  },
  {
   "cell_type": "code",
   "execution_count": 108,
   "metadata": {},
   "outputs": [
    {
     "data": {
      "text/plain": [
       "True"
      ]
     },
     "execution_count": 108,
     "metadata": {},
     "output_type": "execute_result"
    }
   ],
   "source": [
    "from aiocache import Cache\n",
    "from aiocache.serializers import PickleSerializer\n",
    "\n",
    "cacherequest = Cache(Cache.REDIS, endpoint=\"localhost\", port=6379, db=1, serializer=PickleSerializer())\n",
    "await cacherequest.clear()"
   ]
  }
 ],
 "metadata": {
  "kernelspec": {
   "display_name": "deploy",
   "language": "python",
   "name": "python3"
  },
  "language_info": {
   "codemirror_mode": {
    "name": "ipython",
    "version": 3
   },
   "file_extension": ".py",
   "mimetype": "text/x-python",
   "name": "python",
   "nbconvert_exporter": "python",
   "pygments_lexer": "ipython3",
   "version": "3.11.1"
  },
  "orig_nbformat": 4
 },
 "nbformat": 4,
 "nbformat_minor": 2
}
