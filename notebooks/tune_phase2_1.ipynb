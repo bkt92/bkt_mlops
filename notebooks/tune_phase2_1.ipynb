{
 "cells": [
  {
   "attachments": {},
   "cell_type": "markdown",
   "metadata": {},
   "source": [
    "# Load required libs"
   ]
  },
  {
   "cell_type": "code",
   "execution_count": 1,
   "metadata": {},
   "outputs": [
    {
     "name": "stdout",
     "output_type": "stream",
     "text": [
      "c:\\VENV\\api_prediction\n"
     ]
    }
   ],
   "source": [
    "%cd ..\n",
    "%pwd\n",
    "import sys\n",
    "sys.path.append('./src')\n",
    "from src.data_processor import RawDataProcessor\n",
    "from src.problem_config import create_prob_config\n",
    "from src.drift_detector import ks_drift_detect\n",
    "prob_config = create_prob_config(\"phase-2\", \"prob-1\")"
   ]
  },
  {
   "cell_type": "code",
   "execution_count": 2,
   "metadata": {},
   "outputs": [],
   "source": [
    "from mlflow.models.signature import infer_signature\n",
    "import mlflow\n",
    "\n",
    "def log_model_to_tracker_lgbm(model, metrics, desc):\n",
    "    MLFLOW_TRACKING_URI = 'http://127.0.0.1:5000'\n",
    "    mlflow.set_tracking_uri(MLFLOW_TRACKING_URI)\n",
    "    mlflow.set_experiment(\"phase-2_prob-1_lgbm\")\n",
    "    MLFLOW_MODEL_PREFIX = \"model\"\n",
    "    mlflow.start_run(description=desc)\n",
    "    mlflow.log_metrics(metrics)\n",
    "    mlflow.log_params(model.get_params())\n",
    "    signature = infer_signature(test_x.astype(np.float64), predictions)\n",
    "    mlflow.sklearn.log_model(\n",
    "        sk_model=model,\n",
    "        artifact_path=MLFLOW_MODEL_PREFIX,\n",
    "        signature=signature,\n",
    "        pip_requirements ='src/requirements.txt'\n",
    "        #registered_model_name=\"phase-1_prob-1_model-1\"\n",
    "    )\n",
    "\n",
    "    experimentid = mlflow.active_run().info.run_id\n",
    "    mlflow.end_run()\n",
    "    return experimentid"
   ]
  },
  {
   "attachments": {},
   "cell_type": "markdown",
   "metadata": {},
   "source": [
    "# Prepare datasets"
   ]
  },
  {
   "cell_type": "code",
   "execution_count": 4,
   "metadata": {},
   "outputs": [],
   "source": [
    "import pandas as pd\n",
    "import numpy as np\n",
    "import pickle\n",
    "\n",
    "training_data = pd.read_parquet(prob_config.raw_data_path)\n",
    "\n",
    "training_data, category_index = RawDataProcessor.build_category_features(\n",
    "            training_data, prob_config.categorical_cols\n",
    "        )\n",
    "\n",
    "target_col = prob_config.target_col\n",
    "train_x0 = training_data.drop([target_col], axis=1)\n",
    "train_y0 = training_data[[target_col]]\n",
    "\n",
    "# Store the category_index\n",
    "with open(prob_config.category_index_path, \"wb\") as f:\n",
    "    pickle.dump(category_index, f)"
   ]
  },
  {
   "cell_type": "code",
   "execution_count": 62,
   "metadata": {},
   "outputs": [],
   "source": [
    "from sklearn.model_selection import train_test_split\n",
    "\n",
    "train, dev = train_test_split(training_data, test_size=0.1, random_state=123)\n",
    "\n",
    "train_x = train.drop([\"label\"], axis=1)\n",
    "train_y = train[[target_col]]\n",
    "test_x = dev.drop([\"label\"], axis=1)\n",
    "test_y = dev[[target_col]]"
   ]
  },
  {
   "cell_type": "code",
   "execution_count": 63,
   "metadata": {},
   "outputs": [
    {
     "name": "stderr",
     "output_type": "stream",
     "text": [
      "c:\\VENV\\api_prediction\\.venv\\Lib\\site-packages\\sklearn\\preprocessing\\_label.py:99: DataConversionWarning: A column-vector y was passed when a 1d array was expected. Please change the shape of y to (n_samples, ), for example using ravel().\n",
      "  y = column_or_1d(y, warn=True)\n",
      "c:\\VENV\\api_prediction\\.venv\\Lib\\site-packages\\sklearn\\preprocessing\\_label.py:134: DataConversionWarning: A column-vector y was passed when a 1d array was expected. Please change the shape of y to (n_samples, ), for example using ravel().\n",
      "  y = column_or_1d(y, dtype=self.classes_.dtype, warn=True)\n",
      "c:\\VENV\\api_prediction\\.venv\\Lib\\site-packages\\lightgbm\\sklearn.py:736: UserWarning: 'verbose' argument is deprecated and will be removed in a future release of LightGBM. Pass 'log_evaluation()' callback via 'callbacks' argument instead.\n",
      "  _log_warning(\"'verbose' argument is deprecated and will be removed in a future release of LightGBM. \"\n"
     ]
    },
    {
     "data": {
      "text/html": [
       "<style>#sk-container-id-4 {color: black;background-color: white;}#sk-container-id-4 pre{padding: 0;}#sk-container-id-4 div.sk-toggleable {background-color: white;}#sk-container-id-4 label.sk-toggleable__label {cursor: pointer;display: block;width: 100%;margin-bottom: 0;padding: 0.3em;box-sizing: border-box;text-align: center;}#sk-container-id-4 label.sk-toggleable__label-arrow:before {content: \"▸\";float: left;margin-right: 0.25em;color: #696969;}#sk-container-id-4 label.sk-toggleable__label-arrow:hover:before {color: black;}#sk-container-id-4 div.sk-estimator:hover label.sk-toggleable__label-arrow:before {color: black;}#sk-container-id-4 div.sk-toggleable__content {max-height: 0;max-width: 0;overflow: hidden;text-align: left;background-color: #f0f8ff;}#sk-container-id-4 div.sk-toggleable__content pre {margin: 0.2em;color: black;border-radius: 0.25em;background-color: #f0f8ff;}#sk-container-id-4 input.sk-toggleable__control:checked~div.sk-toggleable__content {max-height: 200px;max-width: 100%;overflow: auto;}#sk-container-id-4 input.sk-toggleable__control:checked~label.sk-toggleable__label-arrow:before {content: \"▾\";}#sk-container-id-4 div.sk-estimator input.sk-toggleable__control:checked~label.sk-toggleable__label {background-color: #d4ebff;}#sk-container-id-4 div.sk-label input.sk-toggleable__control:checked~label.sk-toggleable__label {background-color: #d4ebff;}#sk-container-id-4 input.sk-hidden--visually {border: 0;clip: rect(1px 1px 1px 1px);clip: rect(1px, 1px, 1px, 1px);height: 1px;margin: -1px;overflow: hidden;padding: 0;position: absolute;width: 1px;}#sk-container-id-4 div.sk-estimator {font-family: monospace;background-color: #f0f8ff;border: 1px dotted black;border-radius: 0.25em;box-sizing: border-box;margin-bottom: 0.5em;}#sk-container-id-4 div.sk-estimator:hover {background-color: #d4ebff;}#sk-container-id-4 div.sk-parallel-item::after {content: \"\";width: 100%;border-bottom: 1px solid gray;flex-grow: 1;}#sk-container-id-4 div.sk-label:hover label.sk-toggleable__label {background-color: #d4ebff;}#sk-container-id-4 div.sk-serial::before {content: \"\";position: absolute;border-left: 1px solid gray;box-sizing: border-box;top: 0;bottom: 0;left: 50%;z-index: 0;}#sk-container-id-4 div.sk-serial {display: flex;flex-direction: column;align-items: center;background-color: white;padding-right: 0.2em;padding-left: 0.2em;position: relative;}#sk-container-id-4 div.sk-item {position: relative;z-index: 1;}#sk-container-id-4 div.sk-parallel {display: flex;align-items: stretch;justify-content: center;background-color: white;position: relative;}#sk-container-id-4 div.sk-item::before, #sk-container-id-4 div.sk-parallel-item::before {content: \"\";position: absolute;border-left: 1px solid gray;box-sizing: border-box;top: 0;bottom: 0;left: 50%;z-index: -1;}#sk-container-id-4 div.sk-parallel-item {display: flex;flex-direction: column;z-index: 1;position: relative;background-color: white;}#sk-container-id-4 div.sk-parallel-item:first-child::after {align-self: flex-end;width: 50%;}#sk-container-id-4 div.sk-parallel-item:last-child::after {align-self: flex-start;width: 50%;}#sk-container-id-4 div.sk-parallel-item:only-child::after {width: 0;}#sk-container-id-4 div.sk-dashed-wrapped {border: 1px dashed gray;margin: 0 0.4em 0.5em 0.4em;box-sizing: border-box;padding-bottom: 0.4em;background-color: white;}#sk-container-id-4 div.sk-label label {font-family: monospace;font-weight: bold;display: inline-block;line-height: 1.2em;}#sk-container-id-4 div.sk-label-container {text-align: center;}#sk-container-id-4 div.sk-container {/* jupyter's `normalize.less` sets `[hidden] { display: none; }` but bootstrap.min.css set `[hidden] { display: none !important; }` so we also need the `!important` here to be able to override the default hidden behavior on the sphinx rendered scikit-learn.org. See: https://github.com/scikit-learn/scikit-learn/issues/21755 */display: inline-block !important;position: relative;}#sk-container-id-4 div.sk-text-repr-fallback {display: none;}</style><div id=\"sk-container-id-4\" class=\"sk-top-container\"><div class=\"sk-text-repr-fallback\"><pre>LGBMClassifier(is_unbalance=True, objective=&#x27;binary&#x27;, random_state=123)</pre><b>In a Jupyter environment, please rerun this cell to show the HTML representation or trust the notebook. <br />On GitHub, the HTML representation is unable to render, please try loading this page with nbviewer.org.</b></div><div class=\"sk-container\" hidden><div class=\"sk-item\"><div class=\"sk-estimator sk-toggleable\"><input class=\"sk-toggleable__control sk-hidden--visually\" id=\"sk-estimator-id-4\" type=\"checkbox\" checked><label for=\"sk-estimator-id-4\" class=\"sk-toggleable__label sk-toggleable__label-arrow\">LGBMClassifier</label><div class=\"sk-toggleable__content\"><pre>LGBMClassifier(is_unbalance=True, objective=&#x27;binary&#x27;, random_state=123)</pre></div></div></div></div></div>"
      ],
      "text/plain": [
       "LGBMClassifier(is_unbalance=True, objective='binary', random_state=123)"
      ]
     },
     "execution_count": 63,
     "metadata": {},
     "output_type": "execute_result"
    }
   ],
   "source": [
    "from lightgbm import LGBMClassifier\n",
    "\n",
    "model0 = LGBMClassifier(objective=\"binary\", random_state=123, is_unbalance=True)\n",
    "model0.fit(train_x, train_y, verbose=False)"
   ]
  },
  {
   "cell_type": "code",
   "execution_count": 94,
   "metadata": {},
   "outputs": [
    {
     "name": "stdout",
     "output_type": "stream",
     "text": [
      "metrics: {'test_auc': 0.9902415454678807}\n"
     ]
    }
   ],
   "source": [
    "from sklearn.metrics import roc_auc_score\n",
    "predictions = model0.predict_proba(test_x.astype(np.float64))[:,1]\n",
    "#predictions = d4p.gbt_classification_prediction(nClasses=2).compute(test_x, daal_model)\n",
    "#predictions = llvm_model.predict(test_x)\n",
    "auc_score = roc_auc_score(test_y, predictions)\n",
    "metrics = {\"test_auc\": auc_score}\n",
    "print(f\"metrics: {metrics}\")"
   ]
  },
  {
   "cell_type": "code",
   "execution_count": 40,
   "metadata": {},
   "outputs": [
    {
     "name": "stderr",
     "output_type": "stream",
     "text": [
      "c:\\VENV\\api_prediction\\.venv\\Lib\\site-packages\\_distutils_hack\\__init__.py:33: UserWarning: Setuptools is replacing distutils.\n",
      "  warnings.warn(\"Setuptools is replacing distutils.\")\n"
     ]
    },
    {
     "data": {
      "text/plain": [
       "'a41c2c67b7484680ba61f540ef0ec034'"
      ]
     },
     "execution_count": 40,
     "metadata": {},
     "output_type": "execute_result"
    }
   ],
   "source": [
    "run_description = \"\"\"\n",
    "### Header\n",
    "LGBM model, First Base Model Prob1\n",
    "Model: LGBM\n",
    "    \"\"\"\n",
    "log_model_to_tracker_lgbm(model0, metrics, run_description)"
   ]
  },
  {
   "attachments": {},
   "cell_type": "markdown",
   "metadata": {},
   "source": [
    "# Drift Detect"
   ]
  },
  {
   "cell_type": "code",
   "execution_count": 38,
   "metadata": {},
   "outputs": [],
   "source": [
    "# Save referent for drift detection.\n",
    "#X_baseline_df = pd.DataFrame(X_baseline, columns=prob_config.drift_cols)\n",
    "#X_baseline_df.to_parquet(prob_config.driff_ref_path, index=False)"
   ]
  },
  {
   "attachments": {},
   "cell_type": "markdown",
   "metadata": {},
   "source": [
    "# Model drift"
   ]
  },
  {
   "cell_type": "code",
   "execution_count": 13,
   "metadata": {},
   "outputs": [],
   "source": [
    "from sklearn.cluster import MiniBatchKMeans\n",
    "import joblib\n",
    "\n",
    "# N là số lượng cluster\n",
    "N = 19000 * len(np.unique(train_y))\n",
    "# Train clustering model cho data đã có label\n",
    "kmeans = MiniBatchKMeans(n_clusters=N, random_state=0, n_init='auto').fit(train_x)\n",
    "\n",
    "#joblib.dump(kmeans, 'data/captured_data/phase-1/prob-1/kmeans.cpk')\n",
    "#kmeans = joblib.load('data/captured_data/phase-1/prob-1/kmeans.cpk')\n",
    "\n",
    "# Tạo 1 mảng ánh xạ cluster với 1 label mới (do các data drift thuộc cùng 1 cluster sẽ có label giống nhau)\n",
    "new_labels = []\n",
    "\n",
    "# Duyệt từng cluster\n",
    "for  i  in  range(N):\n",
    "\t# Lấy các label của các data point thuộc cluster i\n",
    "\tmask = (kmeans.labels_ == i)\n",
    "\tcluster_labels = train_y[mask]\n",
    "\n",
    "\tif  len(cluster_labels) == 0:\n",
    "\t\t# Nếu cluster i rỗng thì xác định cluster i ánh xạ với 1 label mặc định (ở đây lựa chọn là 0)\n",
    "\t\tnew_labels.append(0)\n",
    "\telse:\n",
    "\t\t# Tìm label mới cho cả cụm cluster trong trường hợp cụm cluster khác rỗng\n",
    "\t\t#if  isinstance(train_y.flatten()[0], float):\n",
    "\t\t\t# Nếu là bài toán Regression thì lấy giá trị trung bình của các label thuộc cluster\n",
    "\t\t#\tnew_labels.append(np.mean(cluster_labels.flatten()))\n",
    "\t\t#else:\n",
    "\t\t\t# Nếu là bài toán Classification thì lấy label xuất hiện nhiều nhất trong cluster\n",
    "\t\t\tnew_labels.append(np.bincount(cluster_labels.to_numpy().flatten()).argmax())\n",
    "\n",
    "# Ánh xạ lại label cho data drift dựa trên kết quả predict cluster ở trên\n",
    "y_drift_propagated = [new_labels[c] for  c  in  kmeans.labels_]"
   ]
  },
  {
   "cell_type": "code",
   "execution_count": 15,
   "metadata": {},
   "outputs": [
    {
     "data": {
      "text/plain": [
       "{'test_auc': 0.9857373418231327}"
      ]
     },
     "execution_count": 15,
     "metadata": {},
     "output_type": "execute_result"
    }
   ],
   "source": [
    "from sklearn.metrics import roc_auc_score\n",
    "y_drift_test_propagated = [ new_labels[c] for c in kmeans.predict(train_x)]\n",
    "propagated_auc = {\"test_auc\": roc_auc_score(train_y, y_drift_propagated)}\n",
    "propagated_auc"
   ]
  },
  {
   "attachments": {},
   "cell_type": "markdown",
   "metadata": {},
   "source": [
    "# Online Data"
   ]
  },
  {
   "cell_type": "code",
   "execution_count": 14,
   "metadata": {},
   "outputs": [],
   "source": [
    "import pandas as pd\n",
    "import redis\n",
    "import pickle\n",
    "# Load data for problem 1\n",
    "rc1 = redis.Redis(host='localhost', db=1, port=6379,  socket_keepalive=True)\n",
    "\n",
    "#captured_x = {}\n",
    "#for key in rc1.keys():\n",
    "#    captured_data = pickle.loads(rc1.get(key))\n",
    "#    #captured_x = pd.concat([captured_x, captured_data])\n",
    "#    captured_x[key] = captured_data\n",
    "\n",
    "#captured_x.drop_duplicates(inplace=True, ignore_index=True)\n",
    "#captured_x = apply_category_features(\n",
    "#    raw_df=captured_x[train_x.columns],\n",
    "#    categorical_cols=prob_config.categorical_cols,\n",
    "#    category_index=category_index,\n",
    "#)"
   ]
  },
  {
   "cell_type": "markdown",
   "metadata": {},
   "source": [
    "# Test Model Performance"
   ]
  },
  {
   "cell_type": "code",
   "execution_count": null,
   "metadata": {},
   "outputs": [
    {
     "name": "stdout",
     "output_type": "stream",
     "text": [
      "5.31 ms ± 1.8 ms per loop (mean ± std. dev. of 7 runs, 10 loops each)\n"
     ]
    }
   ],
   "source": [
    "%%timeit -n 10\n",
    "model0.predict(test_x.sample(2000))"
   ]
  },
  {
   "cell_type": "code",
   "execution_count": null,
   "metadata": {},
   "outputs": [],
   "source": [
    "import lleaves\n",
    "model_path = \".venv/phase2_1_lgbm.txt\"\n",
    "model0.booster_.save_model(filename=model_path)\n",
    "llvm_model = lleaves.Model(model_file=model_path)\n",
    "llvm_model.compile()"
   ]
  },
  {
   "cell_type": "code",
   "execution_count": null,
   "metadata": {},
   "outputs": [
    {
     "name": "stdout",
     "output_type": "stream",
     "text": [
      "4.38 ms ± 166 µs per loop (mean ± std. dev. of 7 runs, 10 loops each)\n"
     ]
    }
   ],
   "source": [
    "%%timeit -n 10\n",
    "llvm_model.predict(test_x.sample(2000))"
   ]
  },
  {
   "cell_type": "code",
   "execution_count": null,
   "metadata": {},
   "outputs": [],
   "source": [
    "import daal4py as d4p\n",
    "daal_model = d4p.get_gbt_model_from_lightgbm(model0.booster_)"
   ]
  },
  {
   "cell_type": "code",
   "execution_count": null,
   "metadata": {},
   "outputs": [
    {
     "name": "stdout",
     "output_type": "stream",
     "text": [
      "3.77 ms ± 299 µs per loop (mean ± std. dev. of 7 runs, 10 loops each)\n"
     ]
    }
   ],
   "source": [
    "%%timeit -n 10\n",
    "daal_prediction = d4p.gbt_classification_prediction(nClasses=2, resultsToEvaluate=\"computeClassLabels|computeClassProbabilities\").compute(test_x.sample(2000), daal_model)"
   ]
  },
  {
   "cell_type": "code",
   "execution_count": null,
   "metadata": {},
   "outputs": [
    {
     "name": "stderr",
     "output_type": "stream",
     "text": [
      "c:\\VENV\\api_prediction\\.venv\\Lib\\site-packages\\skl2onnx\\algebra\\onnx_ops.py:159: UserWarning: OpSchema.FormalParameter.typeStr is deprecated and will be removed in 1.16. Use OpSchema.FormalParameter.type_str instead.\n",
      "  tys = obj.typeStr or ''\n",
      "c:\\VENV\\api_prediction\\.venv\\Lib\\site-packages\\skl2onnx\\algebra\\automation.py:154: UserWarning: OpSchema.FormalParameter.isHomogeneous is deprecated and will be removed in 1.16. Use OpSchema.FormalParameter.is_homogeneous instead.\n",
      "  if getattr(obj, 'isHomogeneous', False):\n",
      "c:\\VENV\\api_prediction\\.venv\\Lib\\site-packages\\jinja2\\environment.py:485: UserWarning: OpSchema.FormalParameter.typeStr is deprecated and will be removed in 1.16. Use OpSchema.FormalParameter.type_str instead.\n",
      "  return getattr(obj, attribute)\n"
     ]
    }
   ],
   "source": [
    "import onnxruntime as rt\n",
    "from skl2onnx import convert_sklearn, update_registered_converter\n",
    "from skl2onnx.common.shape_calculator import calculate_linear_classifier_output_shapes  # noqa\n",
    "from onnxmltools.convert.lightgbm.operator_converters.LightGbm import convert_lightgbm  # noqa\n",
    "from skl2onnx.common.data_types import FloatTensorType\n",
    "import numpy\n",
    "from sklearn.datasets import load_iris\n",
    "from sklearn.pipeline import Pipeline\n",
    "from sklearn.preprocessing import StandardScaler\n",
    "from lightgbm import LGBMClassifier"
   ]
  },
  {
   "cell_type": "code",
   "execution_count": null,
   "metadata": {},
   "outputs": [],
   "source": [
    "update_registered_converter(\n",
    "    LGBMClassifier, 'LightGbmLGBMClassifier',\n",
    "    calculate_linear_classifier_output_shapes, convert_lightgbm,\n",
    "    options={'nocl': [True, False], 'zipmap': [True, False, 'columns']})"
   ]
  },
  {
   "cell_type": "code",
   "execution_count": null,
   "metadata": {},
   "outputs": [],
   "source": [
    "model_onnx = convert_sklearn(\n",
    "    model0, 'pipeline_lightgbm',\n",
    "    [('input', FloatTensorType([None, 41]))],\n",
    "    target_opset={'': 12, 'ai.onnx.ml': 2})\n",
    "\n",
    "# And save.\n",
    "with open(\".venv/pipeline_lightgbm1.onnx\", \"wb\") as f:\n",
    "    f.write(model_onnx.SerializeToString())"
   ]
  },
  {
   "cell_type": "code",
   "execution_count": null,
   "metadata": {},
   "outputs": [
    {
     "name": "stdout",
     "output_type": "stream",
     "text": [
      "predict [1 1 0 1 1]\n",
      "predict_proba [[0.01256021 0.98743979]]\n"
     ]
    }
   ],
   "source": [
    "print(\"predict\", model0.predict(test_x.to_numpy()[:5].astype(numpy.float32)))\n",
    "print(\"predict_proba\", model0.predict_proba(test_x.to_numpy()[:1].astype(numpy.float32)))"
   ]
  },
  {
   "cell_type": "code",
   "execution_count": null,
   "metadata": {},
   "outputs": [
    {
     "name": "stdout",
     "output_type": "stream",
     "text": [
      "predict [1 1 0 1 1]\n",
      "predict_proba [{0: 0.012560248374938965, 1: 0.987439751625061}]\n"
     ]
    }
   ],
   "source": [
    "sess = rt.InferenceSession(\".venv/pipeline_lightgbm1.onnx\")\n",
    "\n",
    "pred_onx = sess.run(None, {\"input\": test_x.to_numpy()[:5].astype(numpy.float32)})\n",
    "print(\"predict\", pred_onx[0])\n",
    "print(\"predict_proba\", pred_onx[1][:1])"
   ]
  },
  {
   "cell_type": "code",
   "execution_count": null,
   "metadata": {},
   "outputs": [
    {
     "name": "stdout",
     "output_type": "stream",
     "text": [
      "4.86 ms ± 128 µs per loop (mean ± std. dev. of 7 runs, 100 loops each)\n"
     ]
    }
   ],
   "source": [
    "%%timeit\n",
    "pred_onx = sess.run(None, {\"input\": test_x.sample(2000).to_numpy().astype(numpy.float32)})"
   ]
  },
  {
   "cell_type": "code",
   "execution_count": null,
   "metadata": {},
   "outputs": [],
   "source": [
    "import mlflow\n",
    "import pathlib\n",
    "MLFLOW_TRACKING_URI = 'http://localhost:5000'\n",
    "mlflow.set_tracking_uri(MLFLOW_TRACKING_URI)\n",
    "model_uri = str(pathlib.Path(\"models:/\", \"phase-2_prob-1_model\", \"1\").as_posix())\n",
    "model0_ref = mlflow.pyfunc.load_model(model_uri)"
   ]
  }
 ],
 "metadata": {
  "kernelspec": {
   "display_name": "deploy",
   "language": "python",
   "name": "python3"
  },
  "language_info": {
   "codemirror_mode": {
    "name": "ipython",
    "version": 3
   },
   "file_extension": ".py",
   "mimetype": "text/x-python",
   "name": "python",
   "nbconvert_exporter": "python",
   "pygments_lexer": "ipython3",
   "version": "3.11.1"
  },
  "orig_nbformat": 4
 },
 "nbformat": 4,
 "nbformat_minor": 2
}
