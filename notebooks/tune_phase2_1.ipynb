{
 "cells": [
  {
   "attachments": {},
   "cell_type": "markdown",
   "metadata": {},
   "source": [
    "# Load required libs"
   ]
  },
  {
   "cell_type": "code",
   "execution_count": 1,
   "metadata": {},
   "outputs": [
    {
     "name": "stdout",
     "output_type": "stream",
     "text": [
      "c:\\VENV\\api_prediction\n"
     ]
    },
    {
     "data": {
      "text/plain": [
       "'c:\\\\VENV\\\\api_prediction'"
      ]
     },
     "execution_count": 1,
     "metadata": {},
     "output_type": "execute_result"
    }
   ],
   "source": [
    "%cd ..\n",
    "%pwd"
   ]
  },
  {
   "cell_type": "code",
   "execution_count": 2,
   "metadata": {},
   "outputs": [],
   "source": [
    "import sys\n",
    "sys.path.append('./src')\n",
    "from src.data_processor import RawDataProcessor\n",
    "from src.problem_config import create_prob_config \n",
    "prob_config = create_prob_config(\"phase-2\", \"prob-1\")"
   ]
  },
  {
   "cell_type": "code",
   "execution_count": 3,
   "metadata": {},
   "outputs": [],
   "source": [
    "from mlflow.models.signature import infer_signature\n",
    "import mlflow\n",
    "\n",
    "def log_model_to_tracker_lgbm(model, metrics, desc):\n",
    "    MLFLOW_TRACKING_URI = 'http://192.168.88.113:5000'\n",
    "    mlflow.set_tracking_uri(MLFLOW_TRACKING_URI)\n",
    "    mlflow.set_experiment(\"phase-2_prob-1_lgbm\")\n",
    "    MLFLOW_MODEL_PREFIX = \"model\"\n",
    "    mlflow.start_run(description=desc)\n",
    "    mlflow.log_metrics(metrics)\n",
    "    mlflow.log_params(model.get_params())\n",
    "    signature = infer_signature(test_x.astype(np.float64), predictions)\n",
    "    mlflow.sklearn.log_model(\n",
    "        sk_model=model,\n",
    "        artifact_path=MLFLOW_MODEL_PREFIX,\n",
    "        signature=signature,\n",
    "        pip_requirements ='src/requirements.txt'\n",
    "        #registered_model_name=\"phase-1_prob-1_model-1\"\n",
    "    )\n",
    "\n",
    "    experimentid = mlflow.active_run().info.run_id\n",
    "    mlflow.end_run()\n",
    "    return experimentid"
   ]
  },
  {
   "attachments": {},
   "cell_type": "markdown",
   "metadata": {},
   "source": [
    "# Prepare datasets"
   ]
  },
  {
   "cell_type": "code",
   "execution_count": 4,
   "metadata": {},
   "outputs": [],
   "source": [
    "import pandas as pd\n",
    "import numpy as np\n",
    "import pickle\n",
    "\n",
    "training_data = pd.read_parquet(prob_config.raw_data_path)\n",
    "\n",
    "training_data, category_index = RawDataProcessor.build_category_features(\n",
    "            training_data, prob_config.categorical_cols\n",
    "        )\n",
    "\n",
    "target_col = prob_config.target_col\n",
    "train_x = training_data.drop([target_col], axis=1)\n",
    "train_y = training_data[[target_col]]\n",
    "\n",
    "# Store the category_index\n",
    "with open(prob_config.category_index_path, \"wb\") as f:\n",
    "    pickle.dump(category_index, f)"
   ]
  },
  {
   "cell_type": "code",
   "execution_count": 8,
   "metadata": {},
   "outputs": [
    {
     "name": "stderr",
     "output_type": "stream",
     "text": [
      "c:\\VENV\\api_prediction\\.venv\\Lib\\site-packages\\sklearn\\preprocessing\\_label.py:99: DataConversionWarning: A column-vector y was passed when a 1d array was expected. Please change the shape of y to (n_samples, ), for example using ravel().\n",
      "  y = column_or_1d(y, warn=True)\n",
      "c:\\VENV\\api_prediction\\.venv\\Lib\\site-packages\\sklearn\\preprocessing\\_label.py:134: DataConversionWarning: A column-vector y was passed when a 1d array was expected. Please change the shape of y to (n_samples, ), for example using ravel().\n",
      "  y = column_or_1d(y, dtype=self.classes_.dtype, warn=True)\n",
      "c:\\VENV\\api_prediction\\.venv\\Lib\\site-packages\\lightgbm\\sklearn.py:736: UserWarning: 'verbose' argument is deprecated and will be removed in a future release of LightGBM. Pass 'log_evaluation()' callback via 'callbacks' argument instead.\n",
      "  _log_warning(\"'verbose' argument is deprecated and will be removed in a future release of LightGBM. \"\n"
     ]
    },
    {
     "data": {
      "text/html": [
       "<style>#sk-container-id-1 {color: black;background-color: white;}#sk-container-id-1 pre{padding: 0;}#sk-container-id-1 div.sk-toggleable {background-color: white;}#sk-container-id-1 label.sk-toggleable__label {cursor: pointer;display: block;width: 100%;margin-bottom: 0;padding: 0.3em;box-sizing: border-box;text-align: center;}#sk-container-id-1 label.sk-toggleable__label-arrow:before {content: \"▸\";float: left;margin-right: 0.25em;color: #696969;}#sk-container-id-1 label.sk-toggleable__label-arrow:hover:before {color: black;}#sk-container-id-1 div.sk-estimator:hover label.sk-toggleable__label-arrow:before {color: black;}#sk-container-id-1 div.sk-toggleable__content {max-height: 0;max-width: 0;overflow: hidden;text-align: left;background-color: #f0f8ff;}#sk-container-id-1 div.sk-toggleable__content pre {margin: 0.2em;color: black;border-radius: 0.25em;background-color: #f0f8ff;}#sk-container-id-1 input.sk-toggleable__control:checked~div.sk-toggleable__content {max-height: 200px;max-width: 100%;overflow: auto;}#sk-container-id-1 input.sk-toggleable__control:checked~label.sk-toggleable__label-arrow:before {content: \"▾\";}#sk-container-id-1 div.sk-estimator input.sk-toggleable__control:checked~label.sk-toggleable__label {background-color: #d4ebff;}#sk-container-id-1 div.sk-label input.sk-toggleable__control:checked~label.sk-toggleable__label {background-color: #d4ebff;}#sk-container-id-1 input.sk-hidden--visually {border: 0;clip: rect(1px 1px 1px 1px);clip: rect(1px, 1px, 1px, 1px);height: 1px;margin: -1px;overflow: hidden;padding: 0;position: absolute;width: 1px;}#sk-container-id-1 div.sk-estimator {font-family: monospace;background-color: #f0f8ff;border: 1px dotted black;border-radius: 0.25em;box-sizing: border-box;margin-bottom: 0.5em;}#sk-container-id-1 div.sk-estimator:hover {background-color: #d4ebff;}#sk-container-id-1 div.sk-parallel-item::after {content: \"\";width: 100%;border-bottom: 1px solid gray;flex-grow: 1;}#sk-container-id-1 div.sk-label:hover label.sk-toggleable__label {background-color: #d4ebff;}#sk-container-id-1 div.sk-serial::before {content: \"\";position: absolute;border-left: 1px solid gray;box-sizing: border-box;top: 0;bottom: 0;left: 50%;z-index: 0;}#sk-container-id-1 div.sk-serial {display: flex;flex-direction: column;align-items: center;background-color: white;padding-right: 0.2em;padding-left: 0.2em;position: relative;}#sk-container-id-1 div.sk-item {position: relative;z-index: 1;}#sk-container-id-1 div.sk-parallel {display: flex;align-items: stretch;justify-content: center;background-color: white;position: relative;}#sk-container-id-1 div.sk-item::before, #sk-container-id-1 div.sk-parallel-item::before {content: \"\";position: absolute;border-left: 1px solid gray;box-sizing: border-box;top: 0;bottom: 0;left: 50%;z-index: -1;}#sk-container-id-1 div.sk-parallel-item {display: flex;flex-direction: column;z-index: 1;position: relative;background-color: white;}#sk-container-id-1 div.sk-parallel-item:first-child::after {align-self: flex-end;width: 50%;}#sk-container-id-1 div.sk-parallel-item:last-child::after {align-self: flex-start;width: 50%;}#sk-container-id-1 div.sk-parallel-item:only-child::after {width: 0;}#sk-container-id-1 div.sk-dashed-wrapped {border: 1px dashed gray;margin: 0 0.4em 0.5em 0.4em;box-sizing: border-box;padding-bottom: 0.4em;background-color: white;}#sk-container-id-1 div.sk-label label {font-family: monospace;font-weight: bold;display: inline-block;line-height: 1.2em;}#sk-container-id-1 div.sk-label-container {text-align: center;}#sk-container-id-1 div.sk-container {/* jupyter's `normalize.less` sets `[hidden] { display: none; }` but bootstrap.min.css set `[hidden] { display: none !important; }` so we also need the `!important` here to be able to override the default hidden behavior on the sphinx rendered scikit-learn.org. See: https://github.com/scikit-learn/scikit-learn/issues/21755 */display: inline-block !important;position: relative;}#sk-container-id-1 div.sk-text-repr-fallback {display: none;}</style><div id=\"sk-container-id-1\" class=\"sk-top-container\"><div class=\"sk-text-repr-fallback\"><pre>LGBMClassifier(objective=&#x27;binary&#x27;, random_state=123)</pre><b>In a Jupyter environment, please rerun this cell to show the HTML representation or trust the notebook. <br />On GitHub, the HTML representation is unable to render, please try loading this page with nbviewer.org.</b></div><div class=\"sk-container\" hidden><div class=\"sk-item\"><div class=\"sk-estimator sk-toggleable\"><input class=\"sk-toggleable__control sk-hidden--visually\" id=\"sk-estimator-id-1\" type=\"checkbox\" checked><label for=\"sk-estimator-id-1\" class=\"sk-toggleable__label sk-toggleable__label-arrow\">LGBMClassifier</label><div class=\"sk-toggleable__content\"><pre>LGBMClassifier(objective=&#x27;binary&#x27;, random_state=123)</pre></div></div></div></div></div>"
      ],
      "text/plain": [
       "LGBMClassifier(objective='binary', random_state=123)"
      ]
     },
     "execution_count": 8,
     "metadata": {},
     "output_type": "execute_result"
    }
   ],
   "source": [
    "from lightgbm import LGBMClassifier\n",
    "\n",
    "model0 = LGBMClassifier(objective=\"binary\", random_state=123)\n",
    "model0.fit(train_x, train_y, verbose=False)"
   ]
  },
  {
   "cell_type": "code",
   "execution_count": 9,
   "metadata": {},
   "outputs": [],
   "source": [
    "sample = training_data.sample(1000)\n",
    "\n",
    "test_x = sample.drop([target_col], axis=1)\n",
    "test_y = sample[[target_col]]"
   ]
  },
  {
   "cell_type": "code",
   "execution_count": 25,
   "metadata": {},
   "outputs": [
    {
     "name": "stdout",
     "output_type": "stream",
     "text": [
      "metrics: {'test_auc': 0.991104987330875}\n"
     ]
    }
   ],
   "source": [
    "from sklearn.metrics import roc_auc_score\n",
    "predictions = model0.predict_proba(test_x.astype(np.float64))[:,1]\n",
    "#predictions = d4p.gbt_classification_prediction(nClasses=2).compute(test_x, daal_model)\n",
    "#predictions = llvm_model.predict(test_x)\n",
    "auc_score = roc_auc_score(test_y, predictions)\n",
    "metrics = {\"test_auc\": auc_score}\n",
    "print(f\"metrics: {metrics}\")"
   ]
  },
  {
   "cell_type": "code",
   "execution_count": 47,
   "metadata": {},
   "outputs": [
    {
     "data": {
      "text/plain": [
       "array([0, 1], dtype=int64)"
      ]
     },
     "execution_count": 47,
     "metadata": {},
     "output_type": "execute_result"
    }
   ],
   "source": [
    "model0.classes_"
   ]
  },
  {
   "cell_type": "code",
   "execution_count": 46,
   "metadata": {},
   "outputs": [
    {
     "name": "stdout",
     "output_type": "stream",
     "text": [
      "71.6 ms ± 4.1 ms per loop (mean ± std. dev. of 7 runs, 10 loops each)\n"
     ]
    }
   ],
   "source": [
    "%%timeit -n 10\n",
    "gbm.predict(train_x)"
   ]
  },
  {
   "cell_type": "code",
   "execution_count": 48,
   "metadata": {},
   "outputs": [],
   "source": [
    "import lleaves\n",
    "model_path = prob_config.data_path / \"phase2_1_lgbm.txt\"\n",
    "llvm_model_path = prob_config.data_path / \"phase2_1_lleaves\"\n",
    "model0.booster_.save_model(filename=model_path)\n",
    "llvm_model = lleaves.Model(model_file=model_path)\n",
    "llvm_model.compile(cache=llvm_model_path)"
   ]
  },
  {
   "cell_type": "code",
   "execution_count": 39,
   "metadata": {},
   "outputs": [
    {
     "name": "stdout",
     "output_type": "stream",
     "text": [
      "26.8 ms ± 555 µs per loop (mean ± std. dev. of 7 runs, 10 loops each)\n"
     ]
    }
   ],
   "source": [
    "%%timeit -n 10\n",
    "llvm_model.predict(train_x)"
   ]
  },
  {
   "cell_type": "code",
   "execution_count": 11,
   "metadata": {},
   "outputs": [],
   "source": [
    "import daal4py as d4p\n",
    "daal_model = d4p.get_gbt_model_from_lightgbm(model0.booster_)"
   ]
  },
  {
   "cell_type": "code",
   "execution_count": 55,
   "metadata": {},
   "outputs": [
    {
     "name": "stdout",
     "output_type": "stream",
     "text": [
      "2.48 ms ± 296 µs per loop (mean ± std. dev. of 7 runs, 10 loops each)\n"
     ]
    }
   ],
   "source": [
    "%%timeit -n 10\n",
    "daal_prediction = d4p.gbt_classification_prediction(nClasses=2, resultsToEvaluate=\"computeClassLabels|computeClassProbabilities\").compute(test_x, daal_model)"
   ]
  },
  {
   "cell_type": "code",
   "execution_count": 37,
   "metadata": {},
   "outputs": [],
   "source": [
    "import onnxruntime as rt\n",
    "from skl2onnx import convert_sklearn, update_registered_converter\n",
    "from skl2onnx.common.shape_calculator import calculate_linear_classifier_output_shapes  # noqa\n",
    "from onnxmltools.convert.lightgbm.operator_converters.LightGbm import convert_lightgbm  # noqa\n",
    "from skl2onnx.common.data_types import FloatTensorType\n",
    "import numpy\n",
    "from sklearn.datasets import load_iris\n",
    "from sklearn.pipeline import Pipeline\n",
    "from sklearn.preprocessing import StandardScaler\n",
    "from lightgbm import LGBMClassifier"
   ]
  },
  {
   "cell_type": "code",
   "execution_count": 38,
   "metadata": {},
   "outputs": [],
   "source": [
    "update_registered_converter(\n",
    "    LGBMClassifier, 'LightGbmLGBMClassifier',\n",
    "    calculate_linear_classifier_output_shapes, convert_lightgbm,\n",
    "    options={'nocl': [True, False], 'zipmap': [True, False, 'columns']})"
   ]
  },
  {
   "cell_type": "code",
   "execution_count": 44,
   "metadata": {},
   "outputs": [],
   "source": [
    "model_onnx = convert_sklearn(\n",
    "    model0, 'pipeline_lightgbm',\n",
    "    [('input', FloatTensorType([None, 41]))],\n",
    "    target_opset={'': 12, 'ai.onnx.ml': 2})\n",
    "\n",
    "# And save.\n",
    "with open(\"pipeline_lightgbm.onnx\", \"wb\") as f:\n",
    "    f.write(model_onnx.SerializeToString())"
   ]
  },
  {
   "cell_type": "code",
   "execution_count": 49,
   "metadata": {},
   "outputs": [
    {
     "name": "stdout",
     "output_type": "stream",
     "text": [
      "predict [1 1 1 1 0]\n",
      "predict_proba [[0.17720758 0.82279242]]\n"
     ]
    }
   ],
   "source": [
    "print(\"predict\", model0.predict(test_x.to_numpy()[:5].astype(numpy.float32)))\n",
    "print(\"predict_proba\", model0.predict_proba(test_x.to_numpy()[:1].astype(numpy.float32)))"
   ]
  },
  {
   "cell_type": "code",
   "execution_count": 45,
   "metadata": {},
   "outputs": [
    {
     "name": "stdout",
     "output_type": "stream",
     "text": [
      "predict [1 1 1 1 0]\n",
      "predict_proba [{0: 0.17720752954483032, 1: 0.8227924704551697}]\n"
     ]
    }
   ],
   "source": [
    "sess = rt.InferenceSession(\"pipeline_lightgbm.onnx\")\n",
    "\n",
    "pred_onx = sess.run(None, {\"input\": test_x.to_numpy()[:5].astype(numpy.float32)})\n",
    "print(\"predict\", pred_onx[0])\n",
    "print(\"predict_proba\", pred_onx[1][:1])"
   ]
  },
  {
   "cell_type": "code",
   "execution_count": 54,
   "metadata": {},
   "outputs": [
    {
     "name": "stdout",
     "output_type": "stream",
     "text": [
      "1.92 ms ± 111 µs per loop (mean ± std. dev. of 7 runs, 100 loops each)\n"
     ]
    }
   ],
   "source": [
    "%%timeit\n",
    "pred_onx = sess.run(None, {\"input\": test_x.to_numpy().astype(numpy.float32)})"
   ]
  },
  {
   "cell_type": "code",
   "execution_count": 10,
   "metadata": {},
   "outputs": [
    {
     "name": "stderr",
     "output_type": "stream",
     "text": [
      "2023/07/06 17:04:13 INFO mlflow.tracking.fluent: Experiment with name 'phase-2_prob-1_lgbm' does not exist. Creating a new experiment.\n",
      "c:\\VENV\\api_prediction\\.venv\\Lib\\site-packages\\_distutils_hack\\__init__.py:33: UserWarning: Setuptools is replacing distutils.\n",
      "  warnings.warn(\"Setuptools is replacing distutils.\")\n"
     ]
    },
    {
     "data": {
      "text/plain": [
       "'061becc8f54344c19f02d1c70b5e8271'"
      ]
     },
     "execution_count": 10,
     "metadata": {},
     "output_type": "execute_result"
    }
   ],
   "source": [
    "run_description = \"\"\"\n",
    "### Header\n",
    "LGBM model, First Base Model Prob1\n",
    "Model: LGBM\n",
    "    \"\"\"\n",
    "log_model_to_tracker_lgbm(model0, metrics, run_description)"
   ]
  },
  {
   "cell_type": "code",
   "execution_count": 19,
   "metadata": {},
   "outputs": [
    {
     "name": "stderr",
     "output_type": "stream",
     "text": [
      "2023/07/04 15:33:48 WARNING mlflow.pyfunc: Detected one or more mismatches between the model's dependencies and the current Python environment:\n",
      " - numpy (current: 1.23.0, required: numpy==1.23.5)\n",
      " - pyarrow (current: 6.0.1, required: pyarrow==11.0.0)\n",
      " - pandas (current: 1.5.3, required: pandas==2.0.1)\n",
      "To fix the mismatches, call `mlflow.pyfunc.get_model_dependencies(model_uri)` to fetch the model's environment and install dependencies using the resulting environment file.\n"
     ]
    }
   ],
   "source": [
    "import mlflow\n",
    "import pathlib\n",
    "MLFLOW_TRACKING_URI = 'http://localhost:5000'\n",
    "mlflow.set_tracking_uri(MLFLOW_TRACKING_URI)\n",
    "model_uri = str(pathlib.Path(\"models:/\", \"phase-2_prob-1_model\", \"2\").as_posix())\n",
    "model0_ref = mlflow.pyfunc.load_model(model_uri)"
   ]
  },
  {
   "cell_type": "code",
   "execution_count": 22,
   "metadata": {},
   "outputs": [
    {
     "data": {
      "text/plain": [
       "array([[9.99900175e-01, 9.98248478e-05],\n",
       "       [1.28688555e-02, 9.87131144e-01],\n",
       "       [7.01833056e-04, 9.99298167e-01],\n",
       "       ...,\n",
       "       [1.12157821e-03, 9.98878422e-01],\n",
       "       [9.03452717e-05, 9.99909655e-01],\n",
       "       [9.99874004e-01, 1.25996093e-04]])"
      ]
     },
     "execution_count": 22,
     "metadata": {},
     "output_type": "execute_result"
    }
   ],
   "source": [
    "model0_ref._model_impl.predict_proba(test_x)"
   ]
  },
  {
   "cell_type": "code",
   "execution_count": 15,
   "metadata": {},
   "outputs": [
    {
     "data": {
      "text/plain": [
       "<mlflow.lightgbm._LGBModelWrapper at 0x1c60c4bc2e0>"
      ]
     },
     "execution_count": 15,
     "metadata": {},
     "output_type": "execute_result"
    }
   ],
   "source": [
    "model0_ref._model_impl.lgb_model."
   ]
  },
  {
   "attachments": {},
   "cell_type": "markdown",
   "metadata": {},
   "source": [
    "# Drift Detect"
   ]
  },
  {
   "cell_type": "code",
   "execution_count": 132,
   "metadata": {},
   "outputs": [],
   "source": [
    "# Old KS Drift from alibi_detect\n",
    "from alibi_detect.cd import KSDrift\n",
    "X_baseline = train_x.sample(100)\n",
    "cd = KSDrift(p_val=0.05, x_ref=X_baseline.to_numpy())"
   ]
  },
  {
   "cell_type": "code",
   "execution_count": 169,
   "metadata": {},
   "outputs": [],
   "source": [
    "x=train_x.sample(1000).to_numpy()"
   ]
  },
  {
   "cell_type": "code",
   "execution_count": 172,
   "metadata": {},
   "outputs": [
    {
     "name": "stdout",
     "output_type": "stream",
     "text": [
      "21.6 ms ± 372 µs per loop (mean ± std. dev. of 7 runs, 10 loops each)\n"
     ]
    }
   ],
   "source": [
    "%%timeit\n",
    "cd.predict(x)"
   ]
  },
  {
   "cell_type": "code",
   "execution_count": 38,
   "metadata": {},
   "outputs": [],
   "source": [
    "# Save referent for drift detection.\n",
    "#X_baseline_df = pd.DataFrame(X_baseline, columns=prob_config.drift_cols)\n",
    "#X_baseline_df.to_parquet(prob_config.driff_ref_path, index=False)"
   ]
  },
  {
   "attachments": {},
   "cell_type": "markdown",
   "metadata": {},
   "source": [
    "# Model drift"
   ]
  },
  {
   "cell_type": "code",
   "execution_count": 4,
   "metadata": {},
   "outputs": [],
   "source": [
    "from sklearn.cluster import MiniBatchKMeans\n",
    "import joblib\n",
    "\n",
    "# N là số lượng cluster\n",
    "N = 19000 * len(np.unique(train_y))\n",
    "# Train clustering model cho data đã có label\n",
    "#kmeans = MiniBatchKMeans(n_clusters=N, random_state=0, n_init='auto').fit(train_x)\n",
    "\n",
    "#joblib.dump(kmeans, 'data/captured_data/phase-1/prob-1/kmeans.cpk')\n",
    "kmeans = joblib.load('data/captured_data/phase-1/prob-1/kmeans.cpk')\n",
    "\n",
    "# Tạo 1 mảng ánh xạ cluster với 1 label mới (do các data drift thuộc cùng 1 cluster sẽ có label giống nhau)\n",
    "new_labels = []\n",
    "\n",
    "# Duyệt từng cluster\n",
    "for  i  in  range(N):\n",
    "\t# Lấy các label của các data point thuộc cluster i\n",
    "\tmask = (kmeans.labels_ == i)\n",
    "\tcluster_labels = train_y[mask]\n",
    "\n",
    "\tif  len(cluster_labels) == 0:\n",
    "\t\t# Nếu cluster i rỗng thì xác định cluster i ánh xạ với 1 label mặc định (ở đây lựa chọn là 0)\n",
    "\t\tnew_labels.append(0)\n",
    "\telse:\n",
    "\t\t# Tìm label mới cho cả cụm cluster trong trường hợp cụm cluster khác rỗng\n",
    "\t\t#if  isinstance(train_y.flatten()[0], float):\n",
    "\t\t\t# Nếu là bài toán Regression thì lấy giá trị trung bình của các label thuộc cluster\n",
    "\t\t#\tnew_labels.append(np.mean(cluster_labels.flatten()))\n",
    "\t\t#else:\n",
    "\t\t\t# Nếu là bài toán Classification thì lấy label xuất hiện nhiều nhất trong cluster\n",
    "\t\t\tnew_labels.append(np.bincount(cluster_labels.to_numpy().flatten()).argmax())\n",
    "\n",
    "# Ánh xạ lại label cho data drift dựa trên kết quả predict cluster ở trên\n",
    "y_drift_propagated = [new_labels[c] for  c  in  kmeans.labels_]"
   ]
  },
  {
   "cell_type": "code",
   "execution_count": 5,
   "metadata": {},
   "outputs": [
    {
     "data": {
      "text/plain": [
       "{'test_auc': 0.8626996177558589}"
      ]
     },
     "execution_count": 5,
     "metadata": {},
     "output_type": "execute_result"
    }
   ],
   "source": [
    "from sklearn.metrics import roc_auc_score\n",
    "y_drift_test_propagated = [ new_labels[c] for c in kmeans.predict(train_x)]\n",
    "propagated_auc = {\"test_auc\": roc_auc_score(train_y, y_drift_propagated)}\n",
    "propagated_auc"
   ]
  },
  {
   "attachments": {},
   "cell_type": "markdown",
   "metadata": {},
   "source": [
    "# Online Data"
   ]
  },
  {
   "cell_type": "code",
   "execution_count": 26,
   "metadata": {},
   "outputs": [],
   "source": [
    "import pandas as pd\n",
    "import redis\n",
    "import pickle\n",
    "# Load data for problem 1\n",
    "rc1 = redis.Redis(host='localhost', db=1, port=6379,  socket_keepalive=True)\n",
    "\n",
    "captured_x = pd.DataFrame()\n",
    "for key in rc1.keys():\n",
    "    captured_data = pickle.loads(rc1.get(key))\n",
    "    captured_x = pd.concat([captured_x, captured_data])\n",
    "\n",
    "#captured_x.drop_duplicates(inplace=True, ignore_index=True)\n",
    "#captured_x = apply_category_features(\n",
    "#    raw_df=captured_x[train_x.columns],\n",
    "#    categorical_cols=prob_config.categorical_cols,\n",
    "#    category_index=category_index,\n",
    "#)"
   ]
  },
  {
   "cell_type": "code",
   "execution_count": 27,
   "metadata": {},
   "outputs": [],
   "source": [
    "allkey = rc1.keys()"
   ]
  },
  {
   "attachments": {},
   "cell_type": "markdown",
   "metadata": {},
   "source": [
    "# Test API"
   ]
  },
  {
   "cell_type": "code",
   "execution_count": 52,
   "metadata": {},
   "outputs": [
    {
     "name": "stdout",
     "output_type": "stream",
     "text": [
      "{\"id\": \"123\", \"predictions\": [0.999905894469594, 0.9982137953368204, 0.9998837423846397, 0.005662271130951562, 0.9983902821774042, 0.3885123168416646, 0.36683862845946397, 0.6957572396545334, 0.9998837423846397, 0.99993561982375, 0.00015151533312950143, 0.004935131920503036, 0.9951420882731894, 0.00015151533312950143, 0.4975790326460494, 0.9998837423846397, 0.9996784712482033, 0.8757181376222133, 0.10762285196123844, 0.9998837423846397, 0.9984604031529982, 0.0003030946270267483, 0.9998691905148397, 9.221100547946161e-05, 0.9996784712482033, 0.5263126545496319, 0.9992373621840459, 0.00015048398050289722, 0.00011722781910257276, 0.9986857564508228, 0.2920324548003542, 0.00023495320623125377, 0.0022348806287717164, 0.9998837423846397, 0.999905894469594, 0.997997023317774, 0.31111151404362075, 0.00014589227975874084, 0.9892269421457419, 0.24373161657753298, 0.14697461736920883, 0.9989785591318632, 0.999905894469594, 0.00015347951935021917, 0.9998837423846397, 0.9984799636066983, 0.9998837423846397, 0.9645611089465718, 0.9998837423846397, 0.5684098838237261, 0.005482296943104746, 0.0025420713382659746, 0.00015151533312950143, 0.004229197243355093, 0.0001234824283467175, 0.41076736478482545, 0.00013869074304441036, 0.9996761344458595, 0.5283825796342778, 0.9998837423846397, 0.39137677356287953, 0.999611156961625, 0.00011166553975880924, 8.319799971785682e-05, 0.000114999324227503, 0.7328040107866107, 0.9925696491198434, 0.9998375485958133, 0.9992734061502734, 0.9900882665952273, 0.00015151533312950143, 0.9976755543285473, 0.4802169291792686, 0.46336869295531624, 0.9998837423846397, 0.00013133012391554908, 0.9987371255196928, 0.00014069319374872876, 0.9913487171780176, 0.9998905708976414, 0.9998910506174983, 0.9998837423846397, 0.9998553174685054, 0.992061930461313, 0.4460242873703613, 0.9996805919320815, 0.4321297920979496, 0.9753864125751412, 0.9998837423846397, 0.00013557475740503516, 0.5206230978979692, 0.999569226177468, 0.00014506426444752812, 0.37676686052348635, 0.9794104001638678, 0.9998837423846397, 0.0030467420292355006, 0.9998837423846397, 0.9996761344458595, 0.9992981669439214, 0.18681134086894832, 0.9988380139738116, 0.9904244608739098, 0.9998837423846397, 0.0001589307182692447, 0.9992859015900313, 0.9998837423846397, 8.847898411764785e-05, 0.9996784712482033, 0.9992555055813908, 0.00012835344350370812, 0.9992734061502734, 0.00015151533312950143, 0.9999268697564094, 0.1689525879637451, 0.0001265777449194238, 0.00014614452351796353, 0.99741132978918, 0.9998837423846397, 0.9774265015266907, 0.00013229258150156787, 0.9996496109352513, 0.9989785591318632, 0.9989818916005113, 0.5219908495146859, 0.9998837423846397, 0.0001753944800659037, 0.7204198170492059, 0.7151000720666532, 0.9911450195528609, 0.9993574348158842, 0.9998837423846397, 0.2711229463080504, 8.568404089634134e-05, 0.9869043128452004, 0.005480193781909696, 0.9998837423846397, 0.997997023317774, 0.005143952499979636, 0.00015151533312950143, 0.00015151533312950143, 0.9996763701451702, 0.999905894469594, 0.9996784712482033, 0.9992107769585946, 0.9998837423846397, 0.9981492161167862, 0.47770705181769296, 0.9984596352613586, 0.0001306908820128211, 0.9998837423846397, 0.8939082861734418, 0.9998837423846397, 0.00017751354216184783, 0.00013381973516511127, 0.9996828965823179, 0.9917356969439712, 0.9952590568089068, 0.0001759983920461862, 0.7652801092045933, 0.9835086190223373, 7.745017238890062e-05, 0.9996761344458595, 0.005862234329944208, 0.9998837423846397, 0.0001235460814705884, 0.00014967490737515443, 0.0001105994029463034, 0.8777772664508507, 0.2180284246283984, 0.3262719696161861, 0.5765116325988275, 0.9998735434462112, 0.999905894469594, 0.9999171540317326, 0.999611156961625, 0.9260450184242307, 0.9776803844995302, 0.00011684864561927088, 0.00014284830698064986, 0.9919733628931873, 0.9918268653600526, 0.00010718693881885302, 0.4234462504640793, 0.00016039564519702913, 0.9999171540317326, 0.9968069063582012, 0.9923779385679408, 0.9998837423846397, 0.9992734061502734, 0.9206295456908642, 0.408265263754274, 0.3739918701436774, 0.9919733628931873, 0.9821141108917811, 0.9998837423846397, 0.00010257819207867911, 0.30615916899316864, 0.23607224313626102, 0.2100953020796624, 0.9986994795657748, 0.9990215332377335, 0.00010113819950349106, 0.9998837423846397, 0.9854662049234949, 0.44794195266013903, 0.00035219129353964264, 0.9998854100009966, 0.9900234325025529, 0.00014614658485686383, 0.00014967490737515443, 0.9998837423846397, 0.9998837423846397, 0.9998803129583393, 0.9924927741801076, 0.00014555276101588534, 0.0001042337610250042, 0.9922183549251999, 0.00015151533312950143, 0.00014787749040115337, 0.9996828965823179, 0.0001589307182692447, 0.9998837423846397, 0.9970241588189562, 0.999905894469594, 0.0001687896144802491, 0.2659970012142329, 0.00015337908500118137, 0.6983191365329996, 0.9490290351702513, 0.8360841020647447, 0.9979865380362474, 0.9992555055813908, 0.004192093299690709, 0.9999096547282988, 0.3455367356383557, 0.999905894469594, 0.9981118706475297, 7.362397428379884e-05, 0.997470324349792, 0.00017741987198273624, 0.0001543562560825421, 0.00014069073863939423, 0.999112521394686, 0.8727195024503636, 0.9992555055813908, 0.38005092756642134, 0.9998914116782995, 0.9919733628931873, 0.9831214704200619, 0.9998735434462112, 0.9996763701451702, 0.000129248973183035, 0.12111939575558243, 0.9998837423846397, 0.45430351788585616, 0.9996496109352513, 0.00015151533312950143, 0.37883843076894097, 0.0001348695244536368, 0.9998837423846397, 0.9998837423846397, 0.0001704027275183923, 0.4721390558759066, 0.00013615017190342937, 0.2214668117475836, 0.9992981669439214, 0.99896226000624, 0.9998976521337084, 0.9998837423846397, 0.00011885013436245228, 0.9998837423846397, 0.9996828965823179, 0.9992481696102414, 0.9990327007930002, 0.00012699389902005208, 0.32086568440214297, 0.9989693895296015, 0.000140035442995986, 0.00012302912720906693, 0.998905525601774, 0.9998072506417989, 0.9999096547282988, 0.00015151533312950143, 0.0025420713382659746, 0.9989339064372666, 0.9986444226404578, 0.9903002728595186, 0.9998837423846397, 0.9996784712482033, 0.4531923945131454, 0.13632429119684106, 0.21278043875299046, 0.00035219129353964264, 0.9204506178634978, 0.9961501008991022, 0.9998971169824639, 0.9998837423846397, 0.999905894469594, 0.00011477664090356793, 0.9998837423846397, 0.9990209391035357, 0.9998837423846397, 0.15493246719721904, 0.00013514725657660142, 0.0001475412506064381, 0.00019140956490209854, 0.1847992639273007, 0.2657432344293016, 0.9985865465300985, 0.9734424690106136, 0.8237680179122429, 0.47448001913782234, 0.22370466707719408, 0.8441534932680586, 0.999905894469594, 0.12707604820382065, 0.0001589307182692447, 0.8856021038969277, 5.93835187647318e-05, 0.9741578380875383, 0.6464865318466592, 0.0001595015775115587, 0.9987575701735351, 0.9998837423846397, 0.9996828965823179, 0.0001848104900370337, 0.9917356969439712, 0.9998832554840715, 0.9998837423846397, 0.006138300715968523, 0.00015151533312950143, 0.9874517490396075, 0.9989450641290365, 0.8390962249499146, 0.0003030946270267483, 0.6488070472369942, 0.0001275583060060438, 0.9849948926378719, 0.23505169429768902, 0.00014967490737515443, 0.9985370007041584, 0.7885869643350767, 0.2657312246982257, 0.9976815936029997, 0.00018049772194836332, 0.9118373998406295, 0.9989620739872076, 0.9998914116782995, 0.9900234325025529, 0.6401372078272811, 0.9985705300830003, 0.8374991218084062, 0.9182972778457106, 0.5060126862682154, 0.9954272761549993, 0.9998837423846397, 0.0001105994029463034, 0.9992678020932919, 0.9779748353133019, 0.8658369659000537, 0.9998837423846397, 0.5348357532080295, 9.019768304404032e-05, 0.9996805919320815, 0.5395863098344502, 0.0001234824283467175, 0.00013415800085278342, 0.4318602122307969, 0.8237680179122429, 9.333057185262952e-05, 0.9998837423846397, 0.7940298263251968, 9.661993980167964e-05, 0.43133762025428024, 0.9917356969439712, 0.9997069083763066, 0.7482020433923757, 0.8445777774752307, 0.20011846341831066, 0.9998837423846397, 0.9998837423846397, 0.9998837423846397, 0.23753775540647828, 0.9979865380362474, 0.531065457017947, 0.9669804810866485, 0.0003030946270267483, 0.9998837423846397, 0.5784584032504051, 0.31041056827836977, 0.9995868099469248, 8.448473807028973e-05, 0.00010355859174473514, 0.9581783961751134, 0.9998837423846397, 0.3420066328725109, 0.9951554176659002, 0.9999171540317326, 0.9982673285285959, 0.9866632905265796, 0.0003030946270267483, 0.00015144492058241486, 0.9951420882731894, 0.00015052396670221424, 0.006109842071061462, 0.00010050215337861228, 0.999905894469594, 0.9998356551052938, 0.9684930933596485, 0.00015151533312950143, 0.9987329457080386, 0.9997069083763066, 0.00014556443123628037, 0.9918692468067085, 0.9988336563170739, 0.6526665568135477, 0.20309514423257105, 0.9584926977282373, 0.24004945753749724, 0.00015017281178422536, 0.9998837423846397, 0.999905894469594, 0.9977481914744257, 8.512739447159824e-05, 9.266225327546382e-05, 0.9990410083602439, 0.997545580896997, 0.9992981669439214, 0.9874517490396075, 0.2824441224602859, 0.9992981669439214, 0.0001547122994349711, 0.9994093509565742, 0.00018049772194836332, 0.00325778948335946, 0.5985007433060082, 0.00012019757405173262, 0.0038400730784346063, 0.9997122530975403, 0.9998837423846397, 0.9998853498558521, 0.8536701804982113, 0.9998837423846397, 0.9998837423846397, 0.8843820882786511, 0.00016638517680931918, 0.9996786899063498, 0.999903617814329, 0.9998837423846397, 0.9997122530975403, 0.9998837423846397, 0.9998837423846397, 0.999905894469594, 0.9998837423846397, 0.8587801117212424, 0.9967390499821637, 0.00014556443123628037, 0.41648539091379355, 0.9998971169824639, 5.93835187647318e-05, 0.22660794049233013, 0.9129321110596453, 0.9380644242355649, 0.9996828965823179, 0.10902069254397362, 0.25145463713907573, 7.458245169351344e-05, 0.00019632773326028964, 0.9993268803899574, 0.20956943101613976, 0.00011165645744650128, 9.946752106300075e-05, 0.964914477161229, 9.38173781042702e-05, 0.00015151533312950143, 0.9996761344458595, 0.9998375485958133, 0.999905894469594, 0.9998910506174983, 0.00015633246401023108, 0.9857119592873476, 0.9998837423846397, 0.9998837423846397, 0.9999096547282988, 0.31569278864701483, 0.24980840071757682, 0.3344481789191353, 0.9969444881525604, 0.2841341644037286, 0.9926722451746912, 0.42872011729913817, 0.4808461455372707, 0.002839700359691256, 0.00013975531267458848, 0.999905894469594, 0.00015393958431479427, 0.9998837423846397, 0.19278643311803131, 0.21081932091221847, 0.3709213744970669, 0.9919733628931873, 0.5991116510119086, 0.9998837423846397, 0.9996808243884079, 0.9772342841882208, 0.23525786501650708, 0.9994688678098297, 0.9748713764019669, 0.9950603692389981, 0.26076607212284997, 0.3804897436977326, 0.9988610887342727, 0.0036341782735416317, 0.9996863805656679, 0.18489128284480189, 0.00014542301532634267, 0.9990215332377335, 0.0003030946270267483, 0.999905894469594, 0.00016815983047561257, 0.00015151533312950143, 0.9867887943795125, 0.8284784639733586, 0.0001637763693362394, 0.9998837423846397, 0.9998976521337084, 0.9989974336831365, 0.30189826691925253, 0.44358028676303857, 8.345739958908247e-05, 0.9925768476216915, 0.9998837423846397, 0.9975498426711765, 0.1840674921308487, 0.999905894469594, 0.4252994268537015, 0.9992683086368817, 0.9126820751946436, 0.9998837423846397, 0.00011102176592821706, 0.0001306908820128211, 0.9913490768154334, 0.9998832554840715, 0.999905894469594, 0.9990910984572635, 0.9998899512983547, 0.9998837423846397, 0.00010249455743388339, 0.3658445083808123, 0.9998837423846397, 0.9996805919320815, 0.9965475425981877, 0.9954764749489979, 0.00013615017190342937, 0.00012413864372564287, 0.00015151533312950143, 0.428939254204703, 0.9992734061502734, 0.0001578351766947547, 0.9954508413246929, 0.00015151533312950143, 0.9991661778005053, 0.34991644693980667, 0.999231406703255, 0.9990259970599336, 0.00012844189511625138, 0.9998837423846397, 0.6940840728632477, 0.9059315728451088, 0.0001426913179768187, 0.9998837423846397, 0.9986612246611697, 0.9979178438187115, 0.5680546948701942, 0.9998837423846397, 0.9996828965823179, 0.5727286715738497, 0.00013342702087818686, 0.9996784712482033, 7.745017238890062e-05, 0.9999171540317326, 0.00016030434628259334, 0.9989693895296015, 0.2775695064900138, 0.6300729130217455, 0.00224245806393926, 0.9996761344458595, 0.5710279662817529, 0.9998971169824639, 0.00014020885175354366, 0.00011885013436245228, 0.9941488309396211, 0.00014486964093707652, 0.00016660886658768304, 0.7185366341460152, 0.9978430259757108, 0.00013615017190342937, 0.37042042683168996, 0.9612231274967539, 8.742526777790332e-05, 0.44822255342084505, 0.8536701804982113, 0.9998910506174983, 0.9987557680803463, 0.742696424379826, 0.9998899512983547, 0.9983207023146896, 0.9909939545388515, 0.00017674057746150948, 0.998263961358428, 0.1620088146186415, 0.2369742827864475, 8.198895345428445e-05, 0.00015770480692099383, 0.33053314767354747, 0.9998837423846397, 0.9998910506174983, 0.38037075157491057, 0.00016815983047561257, 0.8791671363209734, 0.00014314307961215054, 0.3375358470346399, 0.9998108188586484, 0.997311154171246, 0.3603548231192993, 0.9998837423846397, 0.9998837423846397, 0.999905894469594, 0.9999096547282988, 0.22616172144003127, 0.4721390558759066, 0.9992555055813908, 0.9998832554840715, 0.9996808243884079, 8.607134990603771e-05, 0.9969457165935347, 0.000140035442995986, 0.9988323751754415, 0.5035518019859563, 0.9998837423846397, 0.000129248973183035, 0.00468437876702416, 0.00013867893776782896, 0.9870257945948063, 0.9998837423846397, 0.6526665568135477, 9.445651988667479e-05, 0.9998837423846397, 0.00016011981356131428, 0.9996828965823179, 0.5356557027264064, 0.9985970636741068, 0.9991554108902626, 0.00013522373674924537, 0.999905894469594, 0.00013149959606124502, 0.00012467891138495012, 0.9972757290366254, 0.9890645904262867, 0.9996831122319352, 6.970066136192891e-05, 0.999905894469594, 0.9998832554840715, 0.9998837423846397, 0.99896226000624, 0.9921902898085795, 9.724932710038015e-05, 0.9992981669439214, 0.9993004920730504, 0.7084427959597565, 0.9206295456908642, 0.00012439683842137395, 0.9998837423846397, 0.9998837423846397, 0.5462783096384886, 0.9998811897346715, 0.9886194105165876, 0.999905894469594, 0.9946210323599974, 0.9993150424692666, 0.9903308441220741, 0.00011821224636484419, 0.00012826914758992815, 0.99993561982375, 0.14836629602761703, 0.9995364751426523, 0.999905894469594, 0.9996828965823179, 8.957949707522678e-05, 0.0061401779545284165, 0.9998837423846397, 7.747104049473338e-05, 0.32067960091597525, 0.9983766633892026, 0.00015151533312950143, 0.9992107769585946, 0.2234587572109807, 0.2754372446764741, 0.9998837423846397, 0.999326822359848, 0.00012026763150029335, 0.9998837423846397, 0.9998399404915767, 0.9998837423846397, 0.00035219129353964264, 0.0001329194453627358, 0.9998865364025179, 0.00015532288216143039, 0.11968821962924642, 0.9956431299725841, 0.9854893581003671, 0.9933329375061957, 0.9999096547282988, 0.999051665352834, 0.997914668580825, 0.9995939178832782, 0.00016316732669299696, 0.9987529068892613, 0.28198262941941316, 0.3768594826290756, 0.9996784712482033, 0.999905894469594, 0.9993976066795469, 0.9995839102429848, 0.6493884931769921, 0.9998837423846397, 0.9985370007041584, 0.998102283793971, 0.998597351242648, 0.9992981669439214, 0.9983197469677132, 0.9998789570130803, 0.9996828965823179, 9.687839530294986e-05, 0.9992981669439214, 0.00013615017190342937, 0.23505169429768902, 0.514042066008892, 0.9998837423846397, 0.999611156961625, 0.9996784712482033, 0.00035219129353964264, 0.999905894469594, 0.9981978620333753, 0.9999171540317326, 0.9996429958120586, 0.00018942756989397515, 0.9992734061502734, 0.5054301564719138, 0.9867887943795125, 0.2877930443884741, 0.9996828965823179, 0.0001443044147022251, 0.32651889879054313, 6.970066136192891e-05, 0.44946726567199086, 0.000175406989934797, 0.5819014244532533, 0.00012180718799557666, 0.9998694581997358, 0.999905894469594, 0.005490046792759896, 0.0001547122994349711, 0.0001407240412663393, 0.999611156961625, 0.9996808243884079, 9.783826314448895e-05, 9.221955076861429e-05, 0.4541828806018726, 0.25945335645742884, 0.999905894469594, 0.9642480442090887, 0.7555199711282463, 0.9966886510776192, 0.9998837423846397, 0.9989200678071921, 0.00010135709709954409, 0.9998832554840715, 0.9993150424692666, 0.00015017281178422536, 0.8814302322662894, 0.27833086305962373, 0.00015151533312950143, 0.9999171540317326, 0.00013495429601232623, 0.003999193574099494, 0.00015151533312950143, 0.9430386908839236, 0.9993102368592413, 0.9998837423846397, 0.040377181826343554, 0.37395211641484705, 0.9935667163327709, 0.9946261401321849, 0.9970621696256052, 0.00014930449428766162, 0.9998072506417989, 0.9997013869916725, 0.0001909880226606016, 0.8969095233042801, 0.9980866312002044, 0.8538917265814064, 9.99543225157526e-05, 0.2226264062648856, 0.9998399404915767, 0.007735493941589616, 0.00019780445508571826, 0.00014969963646227608, 0.2244892159777546, 0.999905894469594, 0.41400129553702447, 0.00019525270959612026, 0.9080039982806504, 0.9991814105006377, 0.00016316732669299696, 0.00013544687220981105, 0.00010612722192874306, 0.9998837423846397, 9.333057185262952e-05, 0.000114999324227503, 0.0001619374080240588, 0.9992107769585946, 0.9972186366310849, 0.28341764273466785, 0.9971998191444006, 0.9997103726857567, 0.5335523468917441, 9.199753647547303e-05, 0.2797793879813169, 0.43150134125373746, 0.9998837423846397, 0.9998837423846397, 0.9941886108877338, 0.9998837423846397, 0.9859644100581156, 0.004973297913927181, 0.9976200031858291, 0.999905894469594, 0.9998837423846397, 0.8408961101677905, 0.9766220750282149, 0.628284242304032, 0.946860249676651, 0.5229341748415917, 0.0001528922966854571, 0.21687874291472847, 8.607134990603771e-05, 0.00010651446118011308, 0.968483958379118, 0.9975900912739318, 0.9996784712482033, 0.4224358297886218, 0.9133346403864625, 0.9928998500540819, 0.5966251223559831, 0.9998837423846397, 0.1600994083047691, 0.9983089485449057, 0.00011343202508052394, 0.984356384381395, 0.9998837423846397, 0.0001348473184577768, 0.9978761929945175, 0.9975631948976499, 0.9985098325476333, 0.999389726910455, 0.9998735434462112, 0.9999171540317326, 0.9998837423846397, 0.999611156961625, 0.5845626240118909, 0.9990234304796761, 0.9998837423846397, 0.00012664843694041187, 0.9998910506174983, 0.5023365667534707, 0.37003647006237567, 0.00010824196038576055, 0.002987035217462293, 0.44205564084248294, 0.14622329212548116, 0.006977928142405886, 0.7185366341460152, 0.255876941604873, 0.999611156961625, 0.4408089334170842, 0.00012664843694041187, 0.9950212102140455, 0.9998837423846397, 0.3466140219494181, 0.9998837423846397, 0.999905894469594, 0.9996057308606813, 0.4473115048682904, 0.2978845738001839, 0.9996828965823179, 0.000161910657690125, 0.9996828965823179, 0.999905894469594, 0.9993896565952687, 0.9989726316942177, 0.00019074899145091054, 0.00016638517680931918, 0.9962644646543307, 0.9422563144601588, 0.999905894469594, 0.9998832554840715, 0.0001093874923849274, 0.23957566190672233, 0.19805559441543852, 0.3357867395158551, 0.005482296943104746, 0.9740108558543835, 0.9998832554840715, 0.9191736442242968, 0.9979698105648845, 0.9998837423846397, 0.901040064121493, 0.00015151533312950143, 0.999905894469594, 0.5474018842132248, 0.9993913682875359, 0.8030116137134821, 0.9986623495853182, 8.53916059623988e-05, 0.9996808243884079, 0.7652131424318501, 0.0003030946270267483, 0.0036083983894646164, 0.9996496109352513, 0.00012202139865220661, 0.9998837423846397, 0.9919754876725976, 0.9990595520826252, 0.0001426913179768187, 0.9998837423846397, 0.00011376014796489532, 0.9992734061502734, 0.9976200031858291, 0.9998899512983547, 0.00015151533312950143, 0.7484252890445499, 0.9999096547282988, 0.5057005048859682, 0.0001176145603466874, 0.9998854100009966, 0.00015600658678207961, 0.4632921030158976, 0.9990310773762824, 9.144945421473453e-05, 0.0003030946270267483, 0.9996786899063498, 0.9971978891543241, 0.9634700561804294, 0.9990215332377335, 0.00015133659207026954, 0.9998837423846397, 0.9371215026530838, 0.00013615017190342937, 0.9998837423846397, 0.865252910483548, 0.7421006450531394, 0.9998837423846397, 0.9640933809457206, 0.00011133673633581061, 0.9866711034754847, 0.005229655218345014, 0.00014001198343446618, 0.9989620739872076, 0.3079377272239484, 0.999858067645429, 0.0001547122994349711, 0.9988178806576669, 0.9975415089388792, 0.9999096547282988, 0.00015151533312950143, 0.00010543164658715498, 0.9998837423846397, 0.23607224313626102, 0.006881091576279511, 0.9993102368592413, 0.9987057887427084, 0.9996761344458595, 8.872666036550332e-05, 0.9998837423846397, 0.9998837423846397, 0.9988991045378219, 0.9998837423846397, 0.9989233330551807, 0.0001656771882418991, 0.9998854100009966, 0.9998661415750371, 0.00015151533312950143, 0.00015151533312950143, 0.0001093874923849274, 0.9987842063968891, 0.9956848490244211, 0.00035219129353964264, 0.00035219129353964264], \"drift\": 0}\n"
     ]
    }
   ],
   "source": [
    "rows = []\n",
    "test = pickle.loads(rc1.get(allkey[20]))\n",
    "\n",
    "for index, row in test.iterrows():\n",
    "    rows.append(row.to_list())\n",
    "\n",
    "data = {\n",
    "  \"id\": \"123\",\n",
    "  \"rows\": rows,\n",
    "  \"columns\": test.columns.to_list()\n",
    "}\n",
    "\n",
    "import requests\n",
    "#response = requests.post('http://14.225.205.204:5040/phase-2/prob-1/predict', json=data)\n",
    "response = requests.post('http://localhost:8000/phase-2/prob-1/predict', json=data)\n",
    "print(response.text)"
   ]
  },
  {
   "cell_type": "code",
   "execution_count": 108,
   "metadata": {},
   "outputs": [
    {
     "data": {
      "text/plain": [
       "True"
      ]
     },
     "execution_count": 108,
     "metadata": {},
     "output_type": "execute_result"
    }
   ],
   "source": [
    "from aiocache import Cache\n",
    "from aiocache.serializers import PickleSerializer\n",
    "\n",
    "cacherequest = Cache(Cache.REDIS, endpoint=\"localhost\", port=6379, db=1, serializer=PickleSerializer())\n",
    "await cacherequest.clear()"
   ]
  }
 ],
 "metadata": {
  "kernelspec": {
   "display_name": "deploy",
   "language": "python",
   "name": "python3"
  },
  "language_info": {
   "codemirror_mode": {
    "name": "ipython",
    "version": 3
   },
   "file_extension": ".py",
   "mimetype": "text/x-python",
   "name": "python",
   "nbconvert_exporter": "python",
   "pygments_lexer": "ipython3",
   "version": "3.11.1"
  },
  "orig_nbformat": 4
 },
 "nbformat": 4,
 "nbformat_minor": 2
}
