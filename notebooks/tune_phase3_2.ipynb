{
 "cells": [
  {
   "attachments": {},
   "cell_type": "markdown",
   "metadata": {},
   "source": [
    "# Load required libs"
   ]
  },
  {
   "cell_type": "code",
   "execution_count": 1,
   "metadata": {},
   "outputs": [
    {
     "name": "stdout",
     "output_type": "stream",
     "text": [
      "c:\\VENV\\api_prediction\n"
     ]
    }
   ],
   "source": [
    "%cd ..\n",
    "%pwd\n",
    "import sys\n",
    "sys.path.append('./src')\n",
    "from src.data_processor import RawDataProcessor\n",
    "from src.problem_config import create_prob_config\n",
    "from src.drift_detector import ks_drift_detect\n",
    "prob_config = create_prob_config(\"phase-3\", \"prob-2\")"
   ]
  },
  {
   "cell_type": "code",
   "execution_count": 14,
   "metadata": {},
   "outputs": [],
   "source": [
    "from mlflow.models.signature import infer_signature\n",
    "import mlflow\n",
    "\n",
    "def log_model_to_tracker_lgbm(model, metrics, desc):\n",
    "    MLFLOW_TRACKING_URI = 'http://192.168.88.113:5000'\n",
    "    mlflow.set_tracking_uri(MLFLOW_TRACKING_URI)\n",
    "    mlflow.set_experiment(\"phase-3_prob-2_lgbm\")\n",
    "    MLFLOW_MODEL_PREFIX = \"model\"\n",
    "    mlflow.start_run(description=desc)\n",
    "    mlflow.log_metrics(metrics)\n",
    "    mlflow.log_params(model.get_params())\n",
    "    signature = infer_signature(test_x.astype(np.float64), predictions)\n",
    "    mlflow.sklearn.log_model(\n",
    "        sk_model=model,\n",
    "        artifact_path=MLFLOW_MODEL_PREFIX,\n",
    "        signature=signature,\n",
    "        pip_requirements ='src/requirements.txt'\n",
    "        #registered_model_name=\"phase-1_prob-1_model-1\"\n",
    "    )\n",
    "\n",
    "    experimentid = mlflow.active_run().info.run_id\n",
    "    mlflow.end_run()\n",
    "    return experimentid"
   ]
  },
  {
   "attachments": {},
   "cell_type": "markdown",
   "metadata": {},
   "source": [
    "# Prepare datasets"
   ]
  },
  {
   "cell_type": "code",
   "execution_count": 3,
   "metadata": {},
   "outputs": [],
   "source": [
    "# Import xtran and ytrain\n",
    "import pandas as pd\n",
    "import numpy as np\n",
    "import pickle\n",
    "\n",
    "training_data = pd.read_parquet(prob_config.raw_data_path)\n",
    "\n",
    "training_data, category_index = RawDataProcessor.build_category_features(\n",
    "            training_data, prob_config.categorical_cols\n",
    "        )\n",
    "\n",
    "target_col = prob_config.target_col\n",
    "train_x0 = training_data.drop([target_col], axis=1)\n",
    "train_y0 = training_data[[target_col]]\n",
    "\n",
    "with open(prob_config.category_index_path, \"wb\") as f:\n",
    "    pickle.dump(category_index, f)"
   ]
  },
  {
   "cell_type": "code",
   "execution_count": 4,
   "metadata": {},
   "outputs": [],
   "source": [
    "from sklearn.model_selection import train_test_split\n",
    "\n",
    "train, dev = train_test_split(training_data, test_size=0.1, random_state=123)\n",
    "\n",
    "train_x = train.drop([\"label\"], axis=1)\n",
    "train_y = train[[target_col]]\n",
    "test_x = dev.drop([\"label\"], axis=1)\n",
    "test_y = dev[[target_col]]"
   ]
  },
  {
   "cell_type": "code",
   "execution_count": 6,
   "metadata": {},
   "outputs": [
    {
     "name": "stderr",
     "output_type": "stream",
     "text": [
      "c:\\VENV\\api_prediction\\.venv\\Lib\\site-packages\\sklearn\\preprocessing\\_label.py:99: DataConversionWarning: A column-vector y was passed when a 1d array was expected. Please change the shape of y to (n_samples, ), for example using ravel().\n",
      "  y = column_or_1d(y, warn=True)\n",
      "c:\\VENV\\api_prediction\\.venv\\Lib\\site-packages\\sklearn\\preprocessing\\_label.py:134: DataConversionWarning: A column-vector y was passed when a 1d array was expected. Please change the shape of y to (n_samples, ), for example using ravel().\n",
      "  y = column_or_1d(y, dtype=self.classes_.dtype, warn=True)\n",
      "c:\\VENV\\api_prediction\\.venv\\Lib\\site-packages\\lightgbm\\sklearn.py:736: UserWarning: 'verbose' argument is deprecated and will be removed in a future release of LightGBM. Pass 'log_evaluation()' callback via 'callbacks' argument instead.\n",
      "  _log_warning(\"'verbose' argument is deprecated and will be removed in a future release of LightGBM. \"\n"
     ]
    },
    {
     "data": {
      "text/html": [
       "<style>#sk-container-id-1 {color: black;background-color: white;}#sk-container-id-1 pre{padding: 0;}#sk-container-id-1 div.sk-toggleable {background-color: white;}#sk-container-id-1 label.sk-toggleable__label {cursor: pointer;display: block;width: 100%;margin-bottom: 0;padding: 0.3em;box-sizing: border-box;text-align: center;}#sk-container-id-1 label.sk-toggleable__label-arrow:before {content: \"▸\";float: left;margin-right: 0.25em;color: #696969;}#sk-container-id-1 label.sk-toggleable__label-arrow:hover:before {color: black;}#sk-container-id-1 div.sk-estimator:hover label.sk-toggleable__label-arrow:before {color: black;}#sk-container-id-1 div.sk-toggleable__content {max-height: 0;max-width: 0;overflow: hidden;text-align: left;background-color: #f0f8ff;}#sk-container-id-1 div.sk-toggleable__content pre {margin: 0.2em;color: black;border-radius: 0.25em;background-color: #f0f8ff;}#sk-container-id-1 input.sk-toggleable__control:checked~div.sk-toggleable__content {max-height: 200px;max-width: 100%;overflow: auto;}#sk-container-id-1 input.sk-toggleable__control:checked~label.sk-toggleable__label-arrow:before {content: \"▾\";}#sk-container-id-1 div.sk-estimator input.sk-toggleable__control:checked~label.sk-toggleable__label {background-color: #d4ebff;}#sk-container-id-1 div.sk-label input.sk-toggleable__control:checked~label.sk-toggleable__label {background-color: #d4ebff;}#sk-container-id-1 input.sk-hidden--visually {border: 0;clip: rect(1px 1px 1px 1px);clip: rect(1px, 1px, 1px, 1px);height: 1px;margin: -1px;overflow: hidden;padding: 0;position: absolute;width: 1px;}#sk-container-id-1 div.sk-estimator {font-family: monospace;background-color: #f0f8ff;border: 1px dotted black;border-radius: 0.25em;box-sizing: border-box;margin-bottom: 0.5em;}#sk-container-id-1 div.sk-estimator:hover {background-color: #d4ebff;}#sk-container-id-1 div.sk-parallel-item::after {content: \"\";width: 100%;border-bottom: 1px solid gray;flex-grow: 1;}#sk-container-id-1 div.sk-label:hover label.sk-toggleable__label {background-color: #d4ebff;}#sk-container-id-1 div.sk-serial::before {content: \"\";position: absolute;border-left: 1px solid gray;box-sizing: border-box;top: 0;bottom: 0;left: 50%;z-index: 0;}#sk-container-id-1 div.sk-serial {display: flex;flex-direction: column;align-items: center;background-color: white;padding-right: 0.2em;padding-left: 0.2em;position: relative;}#sk-container-id-1 div.sk-item {position: relative;z-index: 1;}#sk-container-id-1 div.sk-parallel {display: flex;align-items: stretch;justify-content: center;background-color: white;position: relative;}#sk-container-id-1 div.sk-item::before, #sk-container-id-1 div.sk-parallel-item::before {content: \"\";position: absolute;border-left: 1px solid gray;box-sizing: border-box;top: 0;bottom: 0;left: 50%;z-index: -1;}#sk-container-id-1 div.sk-parallel-item {display: flex;flex-direction: column;z-index: 1;position: relative;background-color: white;}#sk-container-id-1 div.sk-parallel-item:first-child::after {align-self: flex-end;width: 50%;}#sk-container-id-1 div.sk-parallel-item:last-child::after {align-self: flex-start;width: 50%;}#sk-container-id-1 div.sk-parallel-item:only-child::after {width: 0;}#sk-container-id-1 div.sk-dashed-wrapped {border: 1px dashed gray;margin: 0 0.4em 0.5em 0.4em;box-sizing: border-box;padding-bottom: 0.4em;background-color: white;}#sk-container-id-1 div.sk-label label {font-family: monospace;font-weight: bold;display: inline-block;line-height: 1.2em;}#sk-container-id-1 div.sk-label-container {text-align: center;}#sk-container-id-1 div.sk-container {/* jupyter's `normalize.less` sets `[hidden] { display: none; }` but bootstrap.min.css set `[hidden] { display: none !important; }` so we also need the `!important` here to be able to override the default hidden behavior on the sphinx rendered scikit-learn.org. See: https://github.com/scikit-learn/scikit-learn/issues/21755 */display: inline-block !important;position: relative;}#sk-container-id-1 div.sk-text-repr-fallback {display: none;}</style><div id=\"sk-container-id-1\" class=\"sk-top-container\"><div class=\"sk-text-repr-fallback\"><pre>LGBMClassifier(objective=&#x27;multiclass&#x27;, random_state=123)</pre><b>In a Jupyter environment, please rerun this cell to show the HTML representation or trust the notebook. <br />On GitHub, the HTML representation is unable to render, please try loading this page with nbviewer.org.</b></div><div class=\"sk-container\" hidden><div class=\"sk-item\"><div class=\"sk-estimator sk-toggleable\"><input class=\"sk-toggleable__control sk-hidden--visually\" id=\"sk-estimator-id-1\" type=\"checkbox\" checked><label for=\"sk-estimator-id-1\" class=\"sk-toggleable__label sk-toggleable__label-arrow\">LGBMClassifier</label><div class=\"sk-toggleable__content\"><pre>LGBMClassifier(objective=&#x27;multiclass&#x27;, random_state=123)</pre></div></div></div></div></div>"
      ],
      "text/plain": [
       "LGBMClassifier(objective='multiclass', random_state=123)"
      ]
     },
     "execution_count": 6,
     "metadata": {},
     "output_type": "execute_result"
    }
   ],
   "source": [
    "from lightgbm import LGBMClassifier\n",
    "\n",
    "#eval_set = [(train_x, train_y), (test_x, test_y)]\n",
    "model0 = LGBMClassifier(objective=\"multiclass\", random_state=123, n_estimators=100)\n",
    "model0.fit(train_x, train_y, verbose=False) #eval_set=eval_set,"
   ]
  },
  {
   "cell_type": "code",
   "execution_count": 15,
   "metadata": {},
   "outputs": [
    {
     "name": "stdout",
     "output_type": "stream",
     "text": [
      "metrics: {'accuracy_score': 0.831087636089253}\n"
     ]
    }
   ],
   "source": [
    "from sklearn.metrics import accuracy_score\n",
    "predictions = model0.predict(test_x)\n",
    "#predictions = s.predict_model(best[0], data = test_x)[\"prediction_label\"]\n",
    "accuracy = accuracy_score(predictions, test_y)\n",
    "metrics = {\"accuracy_score\": accuracy}\n",
    "print(f\"metrics: {metrics}\")"
   ]
  },
  {
   "cell_type": "code",
   "execution_count": 16,
   "metadata": {},
   "outputs": [
    {
     "name": "stdout",
     "output_type": "stream",
     "text": [
      "103 ms ± 5.91 ms per loop (mean ± std. dev. of 7 runs, 10 loops each)\n"
     ]
    }
   ],
   "source": [
    "%%timeit -n 10\n",
    "model0.predict_proba(test_x)"
   ]
  },
  {
   "cell_type": "code",
   "execution_count": 153,
   "metadata": {},
   "outputs": [],
   "source": [
    "import lleaves\n",
    "model_path = \".venv/phase2_2_lgbm.txt\"\n",
    "model0.booster_.save_model(filename=model_path)\n",
    "llvm_model = lleaves.Model(model_file=model_path)\n",
    "llvm_model.compile()"
   ]
  },
  {
   "cell_type": "code",
   "execution_count": 192,
   "metadata": {},
   "outputs": [
    {
     "name": "stdout",
     "output_type": "stream",
     "text": [
      "16 ms ± 360 µs per loop (mean ± std. dev. of 7 runs, 10 loops each)\n"
     ]
    }
   ],
   "source": [
    "%%timeit -n 10\n",
    "z = llvm_model.predict(test_x)\n",
    "labels = np.argmax(z, axis=1)\n",
    "classes = model0.classes_\n",
    "labels = [classes[i] for i in labels]"
   ]
  },
  {
   "cell_type": "code",
   "execution_count": 17,
   "metadata": {},
   "outputs": [
    {
     "name": "stderr",
     "output_type": "stream",
     "text": [
      "2023/08/01 14:40:54 INFO mlflow.tracking.fluent: Experiment with name 'phase-3_prob-2_lgbm' does not exist. Creating a new experiment.\n",
      "c:\\VENV\\api_prediction\\.venv\\Lib\\site-packages\\_distutils_hack\\__init__.py:33: UserWarning: Setuptools is replacing distutils.\n",
      "  warnings.warn(\"Setuptools is replacing distutils.\")\n"
     ]
    },
    {
     "data": {
      "text/plain": [
       "'78a617acde8a4a3fb612a2984f38e16f'"
      ]
     },
     "execution_count": 17,
     "metadata": {},
     "output_type": "execute_result"
    }
   ],
   "source": [
    "run_description = \"\"\"\n",
    "### Header\n",
    "LGBM model, First Base Model Prob2\n",
    "Model: LGBM\n",
    "    \"\"\"\n",
    "log_model_to_tracker_lgbm(model0, metrics, run_description)"
   ]
  },
  {
   "attachments": {},
   "cell_type": "markdown",
   "metadata": {},
   "source": [
    "# Drift Detection "
   ]
  },
  {
   "cell_type": "code",
   "execution_count": 10,
   "metadata": {},
   "outputs": [],
   "source": [
    "# Save referent for drift detection.\n",
    "X_baseline = train_x0.sample(1000)\n",
    "X_baseline_df = pd.DataFrame(X_baseline, columns=prob_config.drift_cols)\n",
    "X_baseline_df.to_parquet(prob_config.driff_ref_path, index=False)"
   ]
  },
  {
   "attachments": {},
   "cell_type": "markdown",
   "metadata": {},
   "source": [
    "# Model drift"
   ]
  },
  {
   "cell_type": "code",
   "execution_count": 9,
   "metadata": {},
   "outputs": [],
   "source": [
    "import pandas as pd\n",
    "import redis\n",
    "import pickle\n",
    "# Load data for problem 1\n",
    "rc2 = redis.Redis(host='localhost', db=2, port=6379)\n",
    "\n",
    "captured_x = pd.DataFrame()\n",
    "for key in rc2.keys():\n",
    "    captured_data = pickle.loads(rc2.get(key))\n",
    "    captured_x = pd.concat([captured_x, captured_data])\n",
    "\n",
    "#captured_x.drop_duplicates(inplace=True, ignore_index=True)\n",
    "\n",
    "#captured_x = apply_category_features(\n",
    "#    raw_df=captured_x[train_x0.columns],\n",
    "#    categorical_cols=prob_config.categorical_cols,\n",
    "#    category_index=category_index,\n",
    "#)"
   ]
  },
  {
   "cell_type": "code",
   "execution_count": 10,
   "metadata": {},
   "outputs": [
    {
     "data": {
      "text/html": [
       "<div>\n",
       "<style scoped>\n",
       "    .dataframe tbody tr th:only-of-type {\n",
       "        vertical-align: middle;\n",
       "    }\n",
       "\n",
       "    .dataframe tbody tr th {\n",
       "        vertical-align: top;\n",
       "    }\n",
       "\n",
       "    .dataframe thead th {\n",
       "        text-align: right;\n",
       "    }\n",
       "</style>\n",
       "<table border=\"1\" class=\"dataframe\">\n",
       "  <thead>\n",
       "    <tr style=\"text-align: right;\">\n",
       "      <th></th>\n",
       "      <th>feature17</th>\n",
       "      <th>feature37</th>\n",
       "      <th>feature6</th>\n",
       "      <th>feature4</th>\n",
       "      <th>feature11</th>\n",
       "      <th>feature27</th>\n",
       "      <th>feature34</th>\n",
       "      <th>feature22</th>\n",
       "      <th>feature3</th>\n",
       "      <th>feature29</th>\n",
       "      <th>...</th>\n",
       "      <th>feature1</th>\n",
       "      <th>feature15</th>\n",
       "      <th>feature28</th>\n",
       "      <th>feature18</th>\n",
       "      <th>feature8</th>\n",
       "      <th>feature41</th>\n",
       "      <th>feature35</th>\n",
       "      <th>feature31</th>\n",
       "      <th>feature10</th>\n",
       "      <th>feature39</th>\n",
       "    </tr>\n",
       "  </thead>\n",
       "  <tbody>\n",
       "    <tr>\n",
       "      <th>0</th>\n",
       "      <td>0.000000</td>\n",
       "      <td>0.0</td>\n",
       "      <td>-2.315934</td>\n",
       "      <td>INT</td>\n",
       "      <td>4.256000e+08</td>\n",
       "      <td>0.000000e+00</td>\n",
       "      <td>0.492686</td>\n",
       "      <td>0.0</td>\n",
       "      <td>-</td>\n",
       "      <td>0.0</td>\n",
       "      <td>...</td>\n",
       "      <td>0.000010</td>\n",
       "      <td>372.107265</td>\n",
       "      <td>0.0</td>\n",
       "      <td>0.000000</td>\n",
       "      <td>4667.444206</td>\n",
       "      <td>0.0</td>\n",
       "      <td>-2.004091</td>\n",
       "      <td>2.0</td>\n",
       "      <td>68.209288</td>\n",
       "      <td>2.639593</td>\n",
       "    </tr>\n",
       "    <tr>\n",
       "      <th>1</th>\n",
       "      <td>8866.796943</td>\n",
       "      <td>0.0</td>\n",
       "      <td>-3.273952</td>\n",
       "      <td>FIN</td>\n",
       "      <td>1.008715e+04</td>\n",
       "      <td>5.650000e+02</td>\n",
       "      <td>0.313822</td>\n",
       "      <td>255.0</td>\n",
       "      <td>http</td>\n",
       "      <td>3924.0</td>\n",
       "      <td>...</td>\n",
       "      <td>1.240390</td>\n",
       "      <td>316.660025</td>\n",
       "      <td>1.0</td>\n",
       "      <td>7763.113809</td>\n",
       "      <td>5326.917090</td>\n",
       "      <td>0.0</td>\n",
       "      <td>3.638178</td>\n",
       "      <td>0.0</td>\n",
       "      <td>53.093191</td>\n",
       "      <td>3.214469</td>\n",
       "    </tr>\n",
       "    <tr>\n",
       "      <th>2</th>\n",
       "      <td>18.661908</td>\n",
       "      <td>0.0</td>\n",
       "      <td>-3.687166</td>\n",
       "      <td>FIN</td>\n",
       "      <td>1.422364e+06</td>\n",
       "      <td>6.610000e+02</td>\n",
       "      <td>1.575556</td>\n",
       "      <td>255.0</td>\n",
       "      <td>-</td>\n",
       "      <td>0.0</td>\n",
       "      <td>...</td>\n",
       "      <td>0.016294</td>\n",
       "      <td>-439.369067</td>\n",
       "      <td>0.0</td>\n",
       "      <td>18.196987</td>\n",
       "      <td>5439.471865</td>\n",
       "      <td>0.0</td>\n",
       "      <td>0.023476</td>\n",
       "      <td>0.0</td>\n",
       "      <td>76.989293</td>\n",
       "      <td>2.879847</td>\n",
       "    </tr>\n",
       "    <tr>\n",
       "      <th>3</th>\n",
       "      <td>0.000000</td>\n",
       "      <td>0.0</td>\n",
       "      <td>-1.859722</td>\n",
       "      <td>INT</td>\n",
       "      <td>8.400000e+07</td>\n",
       "      <td>0.000000e+00</td>\n",
       "      <td>0.590194</td>\n",
       "      <td>0.0</td>\n",
       "      <td>-</td>\n",
       "      <td>0.0</td>\n",
       "      <td>...</td>\n",
       "      <td>0.000008</td>\n",
       "      <td>-122.402656</td>\n",
       "      <td>0.0</td>\n",
       "      <td>0.000000</td>\n",
       "      <td>-1532.726454</td>\n",
       "      <td>0.0</td>\n",
       "      <td>-7.390149</td>\n",
       "      <td>2.0</td>\n",
       "      <td>84.509609</td>\n",
       "      <td>3.899141</td>\n",
       "    </tr>\n",
       "    <tr>\n",
       "      <th>4</th>\n",
       "      <td>0.000000</td>\n",
       "      <td>0.0</td>\n",
       "      <td>-7.013076</td>\n",
       "      <td>INT</td>\n",
       "      <td>0.000000e+00</td>\n",
       "      <td>0.000000e+00</td>\n",
       "      <td>0.250888</td>\n",
       "      <td>0.0</td>\n",
       "      <td>-</td>\n",
       "      <td>0.0</td>\n",
       "      <td>...</td>\n",
       "      <td>0.000000</td>\n",
       "      <td>-567.023876</td>\n",
       "      <td>0.0</td>\n",
       "      <td>0.000000</td>\n",
       "      <td>2081.799772</td>\n",
       "      <td>1.0</td>\n",
       "      <td>-11.181647</td>\n",
       "      <td>2.0</td>\n",
       "      <td>58.613624</td>\n",
       "      <td>3.695266</td>\n",
       "    </tr>\n",
       "    <tr>\n",
       "      <th>...</th>\n",
       "      <td>...</td>\n",
       "      <td>...</td>\n",
       "      <td>...</td>\n",
       "      <td>...</td>\n",
       "      <td>...</td>\n",
       "      <td>...</td>\n",
       "      <td>...</td>\n",
       "      <td>...</td>\n",
       "      <td>...</td>\n",
       "      <td>...</td>\n",
       "      <td>...</td>\n",
       "      <td>...</td>\n",
       "      <td>...</td>\n",
       "      <td>...</td>\n",
       "      <td>...</td>\n",
       "      <td>...</td>\n",
       "      <td>...</td>\n",
       "      <td>...</td>\n",
       "      <td>...</td>\n",
       "      <td>...</td>\n",
       "      <td>...</td>\n",
       "    </tr>\n",
       "    <tr>\n",
       "      <th>995</th>\n",
       "      <td>0.000000</td>\n",
       "      <td>0.0</td>\n",
       "      <td>-2.315604</td>\n",
       "      <td>INT</td>\n",
       "      <td>1.000000e+08</td>\n",
       "      <td>6.658514e-09</td>\n",
       "      <td>0.782214</td>\n",
       "      <td>0.0</td>\n",
       "      <td>-</td>\n",
       "      <td>0.0</td>\n",
       "      <td>...</td>\n",
       "      <td>0.000008</td>\n",
       "      <td>308.238249</td>\n",
       "      <td>0.0</td>\n",
       "      <td>0.000000</td>\n",
       "      <td>900.130696</td>\n",
       "      <td>0.0</td>\n",
       "      <td>-8.494361</td>\n",
       "      <td>2.0</td>\n",
       "      <td>37.602370</td>\n",
       "      <td>4.515803</td>\n",
       "    </tr>\n",
       "    <tr>\n",
       "      <th>996</th>\n",
       "      <td>0.000000</td>\n",
       "      <td>0.0</td>\n",
       "      <td>-4.264351</td>\n",
       "      <td>INT</td>\n",
       "      <td>2.000000e+08</td>\n",
       "      <td>0.000000e+00</td>\n",
       "      <td>1.332541</td>\n",
       "      <td>0.0</td>\n",
       "      <td>-</td>\n",
       "      <td>0.0</td>\n",
       "      <td>...</td>\n",
       "      <td>0.000004</td>\n",
       "      <td>98.219524</td>\n",
       "      <td>0.0</td>\n",
       "      <td>0.000000</td>\n",
       "      <td>6944.998493</td>\n",
       "      <td>0.0</td>\n",
       "      <td>2.404023</td>\n",
       "      <td>2.0</td>\n",
       "      <td>47.146412</td>\n",
       "      <td>3.123270</td>\n",
       "    </tr>\n",
       "    <tr>\n",
       "      <th>997</th>\n",
       "      <td>6673.116690</td>\n",
       "      <td>0.0</td>\n",
       "      <td>-6.366335</td>\n",
       "      <td>FIN</td>\n",
       "      <td>3.358990e+03</td>\n",
       "      <td>7.100000e+01</td>\n",
       "      <td>0.475187</td>\n",
       "      <td>255.0</td>\n",
       "      <td>dns</td>\n",
       "      <td>0.0</td>\n",
       "      <td>...</td>\n",
       "      <td>1.112239</td>\n",
       "      <td>-59.633238</td>\n",
       "      <td>0.0</td>\n",
       "      <td>251.124297</td>\n",
       "      <td>5069.522457</td>\n",
       "      <td>0.0</td>\n",
       "      <td>3.763291</td>\n",
       "      <td>1.0</td>\n",
       "      <td>44.138606</td>\n",
       "      <td>3.416183</td>\n",
       "    </tr>\n",
       "    <tr>\n",
       "      <th>998</th>\n",
       "      <td>6540.847392</td>\n",
       "      <td>0.0</td>\n",
       "      <td>-6.006549</td>\n",
       "      <td>FIN</td>\n",
       "      <td>4.984898e+03</td>\n",
       "      <td>4.500000e+01</td>\n",
       "      <td>0.290594</td>\n",
       "      <td>255.0</td>\n",
       "      <td>-</td>\n",
       "      <td>0.0</td>\n",
       "      <td>...</td>\n",
       "      <td>1.092901</td>\n",
       "      <td>25.613197</td>\n",
       "      <td>0.0</td>\n",
       "      <td>345.025125</td>\n",
       "      <td>-2638.345765</td>\n",
       "      <td>0.0</td>\n",
       "      <td>-3.429945</td>\n",
       "      <td>1.0</td>\n",
       "      <td>36.443458</td>\n",
       "      <td>2.831593</td>\n",
       "    </tr>\n",
       "    <tr>\n",
       "      <th>999</th>\n",
       "      <td>0.000000</td>\n",
       "      <td>0.0</td>\n",
       "      <td>-6.295122</td>\n",
       "      <td>INT</td>\n",
       "      <td>1.140000e+08</td>\n",
       "      <td>0.000000e+00</td>\n",
       "      <td>1.419896</td>\n",
       "      <td>0.0</td>\n",
       "      <td>dns</td>\n",
       "      <td>0.0</td>\n",
       "      <td>...</td>\n",
       "      <td>0.000004</td>\n",
       "      <td>-592.832031</td>\n",
       "      <td>0.0</td>\n",
       "      <td>0.000000</td>\n",
       "      <td>3332.999788</td>\n",
       "      <td>0.0</td>\n",
       "      <td>-2.001823</td>\n",
       "      <td>2.0</td>\n",
       "      <td>27.772422</td>\n",
       "      <td>4.735647</td>\n",
       "    </tr>\n",
       "  </tbody>\n",
       "</table>\n",
       "<p>42816 rows × 41 columns</p>\n",
       "</div>"
      ],
      "text/plain": [
       "       feature17  feature37  feature6 feature4     feature11     feature27  \\\n",
       "0       0.000000        0.0 -2.315934      INT  4.256000e+08  0.000000e+00   \n",
       "1    8866.796943        0.0 -3.273952      FIN  1.008715e+04  5.650000e+02   \n",
       "2      18.661908        0.0 -3.687166      FIN  1.422364e+06  6.610000e+02   \n",
       "3       0.000000        0.0 -1.859722      INT  8.400000e+07  0.000000e+00   \n",
       "4       0.000000        0.0 -7.013076      INT  0.000000e+00  0.000000e+00   \n",
       "..           ...        ...       ...      ...           ...           ...   \n",
       "995     0.000000        0.0 -2.315604      INT  1.000000e+08  6.658514e-09   \n",
       "996     0.000000        0.0 -4.264351      INT  2.000000e+08  0.000000e+00   \n",
       "997  6673.116690        0.0 -6.366335      FIN  3.358990e+03  7.100000e+01   \n",
       "998  6540.847392        0.0 -6.006549      FIN  4.984898e+03  4.500000e+01   \n",
       "999     0.000000        0.0 -6.295122      INT  1.140000e+08  0.000000e+00   \n",
       "\n",
       "     feature34  feature22 feature3  feature29  ...  feature1   feature15  \\\n",
       "0     0.492686        0.0        -        0.0  ...  0.000010  372.107265   \n",
       "1     0.313822      255.0     http     3924.0  ...  1.240390  316.660025   \n",
       "2     1.575556      255.0        -        0.0  ...  0.016294 -439.369067   \n",
       "3     0.590194        0.0        -        0.0  ...  0.000008 -122.402656   \n",
       "4     0.250888        0.0        -        0.0  ...  0.000000 -567.023876   \n",
       "..         ...        ...      ...        ...  ...       ...         ...   \n",
       "995   0.782214        0.0        -        0.0  ...  0.000008  308.238249   \n",
       "996   1.332541        0.0        -        0.0  ...  0.000004   98.219524   \n",
       "997   0.475187      255.0      dns        0.0  ...  1.112239  -59.633238   \n",
       "998   0.290594      255.0        -        0.0  ...  1.092901   25.613197   \n",
       "999   1.419896        0.0      dns        0.0  ...  0.000004 -592.832031   \n",
       "\n",
       "     feature28    feature18     feature8  feature41  feature35  feature31  \\\n",
       "0          0.0     0.000000  4667.444206        0.0  -2.004091        2.0   \n",
       "1          1.0  7763.113809  5326.917090        0.0   3.638178        0.0   \n",
       "2          0.0    18.196987  5439.471865        0.0   0.023476        0.0   \n",
       "3          0.0     0.000000 -1532.726454        0.0  -7.390149        2.0   \n",
       "4          0.0     0.000000  2081.799772        1.0 -11.181647        2.0   \n",
       "..         ...          ...          ...        ...        ...        ...   \n",
       "995        0.0     0.000000   900.130696        0.0  -8.494361        2.0   \n",
       "996        0.0     0.000000  6944.998493        0.0   2.404023        2.0   \n",
       "997        0.0   251.124297  5069.522457        0.0   3.763291        1.0   \n",
       "998        0.0   345.025125 -2638.345765        0.0  -3.429945        1.0   \n",
       "999        0.0     0.000000  3332.999788        0.0  -2.001823        2.0   \n",
       "\n",
       "     feature10  feature39  \n",
       "0    68.209288   2.639593  \n",
       "1    53.093191   3.214469  \n",
       "2    76.989293   2.879847  \n",
       "3    84.509609   3.899141  \n",
       "4    58.613624   3.695266  \n",
       "..         ...        ...  \n",
       "995  37.602370   4.515803  \n",
       "996  47.146412   3.123270  \n",
       "997  44.138606   3.416183  \n",
       "998  36.443458   2.831593  \n",
       "999  27.772422   4.735647  \n",
       "\n",
       "[42816 rows x 41 columns]"
      ]
     },
     "execution_count": 10,
     "metadata": {},
     "output_type": "execute_result"
    }
   ],
   "source": [
    "captured_x"
   ]
  },
  {
   "cell_type": "code",
   "execution_count": 14,
   "metadata": {},
   "outputs": [
    {
     "data": {
      "text/plain": [
       "True"
      ]
     },
     "execution_count": 14,
     "metadata": {},
     "output_type": "execute_result"
    }
   ],
   "source": [
    "rc2.flushdb()"
   ]
  },
  {
   "cell_type": "code",
   "execution_count": 18,
   "metadata": {},
   "outputs": [
    {
     "data": {
      "text/plain": [
       "293"
      ]
     },
     "execution_count": 18,
     "metadata": {},
     "output_type": "execute_result"
    }
   ],
   "source": [
    "len(rc2.keys())"
   ]
  },
  {
   "cell_type": "code",
   "execution_count": null,
   "metadata": {},
   "outputs": [],
   "source": [
    "np_captured_x = captured_x.copy() #drop([\"is_drift\", \"batch_id\"], axis=1)\n",
    "np_captured_x = np_captured_x.astype(train_x.dtypes.to_dict())\n",
    "np_captured_x['label'].fillna(-1, inplace=True)"
   ]
  },
  {
   "cell_type": "code",
   "execution_count": 2,
   "metadata": {},
   "outputs": [],
   "source": [
    "allkey = rc2.keys()"
   ]
  }
 ],
 "metadata": {
  "kernelspec": {
   "display_name": "deploy",
   "language": "python",
   "name": "python3"
  },
  "language_info": {
   "codemirror_mode": {
    "name": "ipython",
    "version": 3
   },
   "file_extension": ".py",
   "mimetype": "text/x-python",
   "name": "python",
   "nbconvert_exporter": "python",
   "pygments_lexer": "ipython3",
   "version": "3.11.1"
  },
  "orig_nbformat": 4
 },
 "nbformat": 4,
 "nbformat_minor": 2
}
