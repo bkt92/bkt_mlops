{
 "cells": [
  {
   "attachments": {},
   "cell_type": "markdown",
   "metadata": {},
   "source": [
    "# Load required libs"
   ]
  },
  {
   "cell_type": "code",
   "execution_count": 1,
   "metadata": {},
   "outputs": [
    {
     "name": "stdout",
     "output_type": "stream",
     "text": [
      "c:\\VENV\\api_prediction\n"
     ]
    }
   ],
   "source": [
    "%cd ..\n",
    "%pwd\n",
    "import sys\n",
    "sys.path.append('./src')\n",
    "from src.data_processor import RawDataProcessor\n",
    "from src.problem_config import create_prob_config\n",
    "from src.drift_detector import ks_drift_detect\n",
    "prob_config = create_prob_config(\"phase-3\", \"prob-1\")"
   ]
  },
  {
   "cell_type": "code",
   "execution_count": 2,
   "metadata": {},
   "outputs": [],
   "source": [
    "from mlflow.models.signature import infer_signature\n",
    "import mlflow\n",
    "\n",
    "def log_model_to_tracker_lgbm(model, metrics, desc):\n",
    "    MLFLOW_TRACKING_URI = 'http://192.168.88.113:5000'\n",
    "    mlflow.set_tracking_uri(MLFLOW_TRACKING_URI)\n",
    "    mlflow.set_experiment(\"phase-3_prob-1_lgbm\")\n",
    "    MLFLOW_MODEL_PREFIX = \"model\"\n",
    "    mlflow.start_run(description=desc)\n",
    "    mlflow.log_metrics(metrics)\n",
    "    mlflow.log_params(model.get_params())\n",
    "    signature = infer_signature(test_x.astype(np.float64), predictions)\n",
    "    mlflow.sklearn.log_model(\n",
    "        sk_model=model,\n",
    "        artifact_path=MLFLOW_MODEL_PREFIX,\n",
    "        signature=signature,\n",
    "        pip_requirements ='src/requirements.txt'\n",
    "        #registered_model_name=\"phase-1_prob-1_model-1\"\n",
    "    )\n",
    "\n",
    "    experimentid = mlflow.active_run().info.run_id\n",
    "    mlflow.end_run()\n",
    "    return experimentid"
   ]
  },
  {
   "attachments": {},
   "cell_type": "markdown",
   "metadata": {},
   "source": [
    "# Prepare datasets"
   ]
  },
  {
   "cell_type": "code",
   "execution_count": 4,
   "metadata": {},
   "outputs": [],
   "source": [
    "import pandas as pd\n",
    "import numpy as np\n",
    "import pickle\n",
    "\n",
    "training_data = pd.read_parquet(prob_config.raw_data_path)\n",
    "training_data = training_data.drop_duplicates()\n",
    "\n",
    "training_data, category_index = RawDataProcessor.build_category_features(\n",
    "            training_data, prob_config.categorical_cols\n",
    "        )\n",
    "\n",
    "# Store the category_index\n",
    "with open(prob_config.category_index_path, \"wb\") as f:\n",
    "    pickle.dump(category_index, f)"
   ]
  },
  {
   "cell_type": "code",
   "execution_count": 3,
   "metadata": {},
   "outputs": [],
   "source": [
    "#conflict_labels = training_data[training_data.duplicated(prob_config.feature_cols, keep=False)].sort_values(by=prob_config.feature_cols)\n",
    "#conflict_labels.groupby(prob_config.feature_cols).apply(lambda x: tuple(x.index))"
   ]
  },
  {
   "cell_type": "code",
   "execution_count": 5,
   "metadata": {},
   "outputs": [],
   "source": [
    "from sklearn.model_selection import train_test_split\n",
    "\n",
    "#training_data.drop_duplicates(subset=prob_config.feature_cols, keep=False, inplace=True)\n",
    "target_col = prob_config.target_col\n",
    "train_x0 = training_data.drop([target_col], axis=1)\n",
    "train_y0 = training_data[[target_col]]\n",
    "\n",
    "train, dev = train_test_split(training_data, test_size=0.1, random_state=123)\n",
    "\n",
    "train_x = train.drop([\"label\"], axis=1)\n",
    "train_y = train[[target_col]]\n",
    "test_x = dev.drop([\"label\"], axis=1)\n",
    "test_y = dev[[target_col]]"
   ]
  },
  {
   "cell_type": "code",
   "execution_count": 6,
   "metadata": {},
   "outputs": [],
   "source": [
    "labels_dict = {}\n",
    "labels_unq = train_y0['label'].unique()\n",
    "labels_unq.sort()\n",
    "for i in range(len(labels_unq)):\n",
    "    labels_dict[labels_unq[i]] = i\n",
    "\n",
    "inv_labels_dict = {v: k for k, v in labels_dict.items()}\n",
    "model_classes_path = prob_config.data_path / 'classes.npy'\n",
    "np.save(model_classes_path, labels_unq)"
   ]
  },
  {
   "cell_type": "code",
   "execution_count": 21,
   "metadata": {},
   "outputs": [
    {
     "name": "stdout",
     "output_type": "stream",
     "text": [
      "[flaml.automl.logger: 08-24 22:10:43] {1679} INFO - task = classification\n",
      "[flaml.automl.logger: 08-24 22:10:43] {1690} INFO - Evaluation method: holdout\n",
      "[flaml.automl.logger: 08-24 22:10:43] {1788} INFO - Minimizing error metric: 1-accuracy\n",
      "[flaml.automl.logger: 08-24 22:10:43] {1900} INFO - List of ML learners in AutoML Run: ['lgbm']\n",
      "[flaml.automl.logger: 08-24 22:10:43] {2218} INFO - iteration 0, current learner lgbm\n",
      "[flaml.automl.logger: 08-24 22:10:43] {2344} INFO - Estimated sufficient time budget=3278s. Estimated necessary time budget=3s.\n",
      "[flaml.automl.logger: 08-24 22:10:43] {2391} INFO -  at 0.5s,\testimator lgbm's best error=0.1597,\tbest estimator lgbm's best error=0.1597\n",
      "[flaml.automl.logger: 08-24 22:10:43] {2218} INFO - iteration 1, current learner lgbm\n",
      "[flaml.automl.logger: 08-24 22:10:43] {2391} INFO -  at 0.6s,\testimator lgbm's best error=0.1385,\tbest estimator lgbm's best error=0.1385\n",
      "[flaml.automl.logger: 08-24 22:10:43] {2218} INFO - iteration 2, current learner lgbm\n",
      "[flaml.automl.logger: 08-24 22:10:43] {2391} INFO -  at 0.7s,\testimator lgbm's best error=0.1385,\tbest estimator lgbm's best error=0.1385\n",
      "[flaml.automl.logger: 08-24 22:10:43] {2218} INFO - iteration 3, current learner lgbm\n",
      "[flaml.automl.logger: 08-24 22:10:43] {2391} INFO -  at 0.9s,\testimator lgbm's best error=0.1061,\tbest estimator lgbm's best error=0.1061\n",
      "[flaml.automl.logger: 08-24 22:10:43] {2218} INFO - iteration 4, current learner lgbm\n",
      "[flaml.automl.logger: 08-24 22:10:43] {2391} INFO -  at 0.9s,\testimator lgbm's best error=0.1061,\tbest estimator lgbm's best error=0.1061\n",
      "[flaml.automl.logger: 08-24 22:10:43] {2218} INFO - iteration 5, current learner lgbm\n",
      "[flaml.automl.logger: 08-24 22:10:44] {2391} INFO -  at 1.2s,\testimator lgbm's best error=0.0973,\tbest estimator lgbm's best error=0.0973\n",
      "[flaml.automl.logger: 08-24 22:10:44] {2218} INFO - iteration 6, current learner lgbm\n",
      "[flaml.automl.logger: 08-24 22:10:44] {2391} INFO -  at 1.3s,\testimator lgbm's best error=0.0973,\tbest estimator lgbm's best error=0.0973\n",
      "[flaml.automl.logger: 08-24 22:10:44] {2218} INFO - iteration 7, current learner lgbm\n",
      "[flaml.automl.logger: 08-24 22:10:44] {2391} INFO -  at 2.1s,\testimator lgbm's best error=0.0955,\tbest estimator lgbm's best error=0.0955\n",
      "[flaml.automl.logger: 08-24 22:10:44] {2218} INFO - iteration 8, current learner lgbm\n",
      "[flaml.automl.logger: 08-24 22:10:45] {2391} INFO -  at 2.3s,\testimator lgbm's best error=0.0955,\tbest estimator lgbm's best error=0.0955\n",
      "[flaml.automl.logger: 08-24 22:10:45] {2218} INFO - iteration 9, current learner lgbm\n",
      "[flaml.automl.logger: 08-24 22:10:46] {2391} INFO -  at 3.1s,\testimator lgbm's best error=0.0953,\tbest estimator lgbm's best error=0.0953\n",
      "[flaml.automl.logger: 08-24 22:10:46] {2218} INFO - iteration 10, current learner lgbm\n",
      "[flaml.automl.logger: 08-24 22:10:46] {2391} INFO -  at 3.8s,\testimator lgbm's best error=0.0953,\tbest estimator lgbm's best error=0.0953\n",
      "[flaml.automl.logger: 08-24 22:10:46] {2218} INFO - iteration 11, current learner lgbm\n",
      "[flaml.automl.logger: 08-24 22:10:48] {2391} INFO -  at 5.3s,\testimator lgbm's best error=0.0953,\tbest estimator lgbm's best error=0.0953\n",
      "[flaml.automl.logger: 08-24 22:10:48] {2218} INFO - iteration 12, current learner lgbm\n",
      "[flaml.automl.logger: 08-24 22:10:48] {2391} INFO -  at 5.8s,\testimator lgbm's best error=0.0953,\tbest estimator lgbm's best error=0.0953\n",
      "[flaml.automl.logger: 08-24 22:10:48] {2218} INFO - iteration 13, current learner lgbm\n",
      "[flaml.automl.logger: 08-24 22:10:49] {2391} INFO -  at 6.3s,\testimator lgbm's best error=0.0953,\tbest estimator lgbm's best error=0.0953\n",
      "[flaml.automl.logger: 08-24 22:10:49] {2218} INFO - iteration 14, current learner lgbm\n",
      "[flaml.automl.logger: 08-24 22:10:50] {2391} INFO -  at 7.3s,\testimator lgbm's best error=0.0923,\tbest estimator lgbm's best error=0.0923\n",
      "[flaml.automl.logger: 08-24 22:10:50] {2218} INFO - iteration 15, current learner lgbm\n",
      "[flaml.automl.logger: 08-24 22:10:50] {2391} INFO -  at 7.6s,\testimator lgbm's best error=0.0923,\tbest estimator lgbm's best error=0.0923\n",
      "[flaml.automl.logger: 08-24 22:10:50] {2218} INFO - iteration 16, current learner lgbm\n",
      "[flaml.automl.logger: 08-24 22:10:55] {2391} INFO -  at 12.8s,\testimator lgbm's best error=0.0923,\tbest estimator lgbm's best error=0.0923\n",
      "[flaml.automl.logger: 08-24 22:10:55] {2218} INFO - iteration 17, current learner lgbm\n",
      "[flaml.automl.logger: 08-24 22:10:57] {2391} INFO -  at 14.2s,\testimator lgbm's best error=0.0923,\tbest estimator lgbm's best error=0.0923\n",
      "[flaml.automl.logger: 08-24 22:10:57] {2218} INFO - iteration 18, current learner lgbm\n",
      "[flaml.automl.logger: 08-24 22:10:57] {2391} INFO -  at 15.0s,\testimator lgbm's best error=0.0923,\tbest estimator lgbm's best error=0.0923\n",
      "[flaml.automl.logger: 08-24 22:10:57] {2218} INFO - iteration 19, current learner lgbm\n",
      "[flaml.automl.logger: 08-24 22:10:58] {2391} INFO -  at 15.7s,\testimator lgbm's best error=0.0923,\tbest estimator lgbm's best error=0.0923\n",
      "[flaml.automl.logger: 08-24 22:10:58] {2218} INFO - iteration 20, current learner lgbm\n",
      "[flaml.automl.logger: 08-24 22:11:00] {2391} INFO -  at 17.2s,\testimator lgbm's best error=0.0890,\tbest estimator lgbm's best error=0.0890\n",
      "[flaml.automl.logger: 08-24 22:11:00] {2218} INFO - iteration 21, current learner lgbm\n",
      "[flaml.automl.logger: 08-24 22:11:01] {2391} INFO -  at 18.7s,\testimator lgbm's best error=0.0890,\tbest estimator lgbm's best error=0.0890\n",
      "[flaml.automl.logger: 08-24 22:11:01] {2218} INFO - iteration 22, current learner lgbm\n",
      "[flaml.automl.logger: 08-24 22:11:03] {2391} INFO -  at 20.1s,\testimator lgbm's best error=0.0890,\tbest estimator lgbm's best error=0.0890\n",
      "[flaml.automl.logger: 08-24 22:11:03] {2218} INFO - iteration 23, current learner lgbm\n",
      "[flaml.automl.logger: 08-24 22:11:06] {2391} INFO -  at 23.3s,\testimator lgbm's best error=0.0849,\tbest estimator lgbm's best error=0.0849\n",
      "[flaml.automl.logger: 08-24 22:11:06] {2218} INFO - iteration 24, current learner lgbm\n",
      "[flaml.automl.logger: 08-24 22:11:07] {2391} INFO -  at 24.7s,\testimator lgbm's best error=0.0849,\tbest estimator lgbm's best error=0.0849\n",
      "[flaml.automl.logger: 08-24 22:11:07] {2218} INFO - iteration 25, current learner lgbm\n",
      "[flaml.automl.logger: 08-24 22:11:11] {2391} INFO -  at 28.3s,\testimator lgbm's best error=0.0833,\tbest estimator lgbm's best error=0.0833\n",
      "[flaml.automl.logger: 08-24 22:11:11] {2218} INFO - iteration 26, current learner lgbm\n",
      "[flaml.automl.logger: 08-24 22:11:14] {2391} INFO -  at 31.6s,\testimator lgbm's best error=0.0833,\tbest estimator lgbm's best error=0.0833\n",
      "[flaml.automl.logger: 08-24 22:11:14] {2218} INFO - iteration 27, current learner lgbm\n",
      "[flaml.automl.logger: 08-24 22:11:16] {2391} INFO -  at 33.1s,\testimator lgbm's best error=0.0833,\tbest estimator lgbm's best error=0.0833\n",
      "[flaml.automl.logger: 08-24 22:11:16] {2218} INFO - iteration 28, current learner lgbm\n",
      "[flaml.automl.logger: 08-24 22:11:24] {2391} INFO -  at 41.1s,\testimator lgbm's best error=0.0833,\tbest estimator lgbm's best error=0.0833\n",
      "[flaml.automl.logger: 08-24 22:11:24] {2218} INFO - iteration 29, current learner lgbm\n",
      "[flaml.automl.logger: 08-24 22:11:42] {2391} INFO -  at 59.2s,\testimator lgbm's best error=0.0833,\tbest estimator lgbm's best error=0.0833\n",
      "[flaml.automl.logger: 08-24 22:11:42] {2218} INFO - iteration 30, current learner lgbm\n",
      "[flaml.automl.logger: 08-24 22:11:42] {2391} INFO -  at 59.8s,\testimator lgbm's best error=0.0833,\tbest estimator lgbm's best error=0.0833\n",
      "[flaml.automl.logger: 08-24 22:11:42] {2218} INFO - iteration 31, current learner lgbm\n",
      "[flaml.automl.logger: 08-24 22:11:49] {2391} INFO -  at 66.8s,\testimator lgbm's best error=0.0833,\tbest estimator lgbm's best error=0.0833\n",
      "[flaml.automl.logger: 08-24 22:11:49] {2218} INFO - iteration 32, current learner lgbm\n",
      "[flaml.automl.logger: 08-24 22:11:51] {2391} INFO -  at 68.5s,\testimator lgbm's best error=0.0833,\tbest estimator lgbm's best error=0.0833\n",
      "[flaml.automl.logger: 08-24 22:11:51] {2218} INFO - iteration 33, current learner lgbm\n",
      "[flaml.automl.logger: 08-24 22:11:52] {2391} INFO -  at 69.6s,\testimator lgbm's best error=0.0833,\tbest estimator lgbm's best error=0.0833\n",
      "[flaml.automl.logger: 08-24 22:11:52] {2218} INFO - iteration 34, current learner lgbm\n",
      "[flaml.automl.logger: 08-24 22:12:04] {2391} INFO -  at 81.9s,\testimator lgbm's best error=0.0833,\tbest estimator lgbm's best error=0.0833\n",
      "[flaml.automl.logger: 08-24 22:12:04] {2218} INFO - iteration 35, current learner lgbm\n",
      "[flaml.automl.logger: 08-24 22:12:05] {2391} INFO -  at 82.7s,\testimator lgbm's best error=0.0833,\tbest estimator lgbm's best error=0.0833\n",
      "[flaml.automl.logger: 08-24 22:12:05] {2218} INFO - iteration 36, current learner lgbm\n",
      "[flaml.automl.logger: 08-24 22:12:22] {2391} INFO -  at 99.1s,\testimator lgbm's best error=0.0833,\tbest estimator lgbm's best error=0.0833\n",
      "[flaml.automl.logger: 08-24 22:12:22] {2218} INFO - iteration 37, current learner lgbm\n",
      "[flaml.automl.logger: 08-24 22:12:37] {2391} INFO -  at 114.6s,\testimator lgbm's best error=0.0833,\tbest estimator lgbm's best error=0.0833\n",
      "[flaml.automl.logger: 08-24 22:12:37] {2218} INFO - iteration 38, current learner lgbm\n",
      "[flaml.automl.logger: 08-24 22:12:38] {2391} INFO -  at 115.5s,\testimator lgbm's best error=0.0833,\tbest estimator lgbm's best error=0.0833\n",
      "[flaml.automl.logger: 08-24 22:12:38] {2218} INFO - iteration 39, current learner lgbm\n",
      "[flaml.automl.logger: 08-24 22:12:42] {2391} INFO -  at 119.6s,\testimator lgbm's best error=0.0811,\tbest estimator lgbm's best error=0.0811\n",
      "[flaml.automl.logger: 08-24 22:12:42] {2218} INFO - iteration 40, current learner lgbm\n",
      "[flaml.automl.logger: 08-24 22:12:45] {2391} INFO -  at 123.0s,\testimator lgbm's best error=0.0811,\tbest estimator lgbm's best error=0.0811\n",
      "[flaml.automl.logger: 08-24 22:12:45] {2218} INFO - iteration 41, current learner lgbm\n",
      "[flaml.automl.logger: 08-24 22:12:57] {2391} INFO -  at 134.5s,\testimator lgbm's best error=0.0811,\tbest estimator lgbm's best error=0.0811\n",
      "[flaml.automl.logger: 08-24 22:12:57] {2218} INFO - iteration 42, current learner lgbm\n",
      "[flaml.automl.logger: 08-24 22:12:58] {2391} INFO -  at 135.9s,\testimator lgbm's best error=0.0811,\tbest estimator lgbm's best error=0.0811\n",
      "[flaml.automl.logger: 08-24 22:12:58] {2218} INFO - iteration 43, current learner lgbm\n",
      "[flaml.automl.logger: 08-24 22:13:01] {2391} INFO -  at 138.1s,\testimator lgbm's best error=0.0811,\tbest estimator lgbm's best error=0.0811\n",
      "[flaml.automl.logger: 08-24 22:13:01] {2218} INFO - iteration 44, current learner lgbm\n",
      "[flaml.automl.logger: 08-24 22:13:08] {2391} INFO -  at 145.9s,\testimator lgbm's best error=0.0809,\tbest estimator lgbm's best error=0.0809\n",
      "[flaml.automl.logger: 08-24 22:13:08] {2218} INFO - iteration 45, current learner lgbm\n",
      "[flaml.automl.logger: 08-24 22:13:27] {2391} INFO -  at 164.3s,\testimator lgbm's best error=0.0809,\tbest estimator lgbm's best error=0.0809\n",
      "[flaml.automl.logger: 08-24 22:13:27] {2218} INFO - iteration 46, current learner lgbm\n",
      "[flaml.automl.logger: 08-24 22:13:30] {2391} INFO -  at 167.5s,\testimator lgbm's best error=0.0791,\tbest estimator lgbm's best error=0.0791\n",
      "[flaml.automl.logger: 08-24 22:13:30] {2218} INFO - iteration 47, current learner lgbm\n",
      "[flaml.automl.logger: 08-24 22:13:34] {2391} INFO -  at 172.1s,\testimator lgbm's best error=0.0781,\tbest estimator lgbm's best error=0.0781\n",
      "[flaml.automl.logger: 08-24 22:13:34] {2218} INFO - iteration 48, current learner lgbm\n",
      "[flaml.automl.logger: 08-24 22:13:38] {2391} INFO -  at 175.1s,\testimator lgbm's best error=0.0781,\tbest estimator lgbm's best error=0.0781\n",
      "[flaml.automl.logger: 08-24 22:13:38] {2218} INFO - iteration 49, current learner lgbm\n",
      "[flaml.automl.logger: 08-24 22:13:39] {2391} INFO -  at 176.6s,\testimator lgbm's best error=0.0772,\tbest estimator lgbm's best error=0.0772\n",
      "[flaml.automl.logger: 08-24 22:13:39] {2218} INFO - iteration 50, current learner lgbm\n",
      "[flaml.automl.logger: 08-24 22:13:44] {2391} INFO -  at 181.2s,\testimator lgbm's best error=0.0772,\tbest estimator lgbm's best error=0.0772\n",
      "[flaml.automl.logger: 08-24 22:13:44] {2218} INFO - iteration 51, current learner lgbm\n",
      "[flaml.automl.logger: 08-24 22:13:49] {2391} INFO -  at 186.2s,\testimator lgbm's best error=0.0772,\tbest estimator lgbm's best error=0.0772\n",
      "[flaml.automl.logger: 08-24 22:13:49] {2218} INFO - iteration 52, current learner lgbm\n",
      "[flaml.automl.logger: 08-24 22:13:49] {2391} INFO -  at 186.7s,\testimator lgbm's best error=0.0772,\tbest estimator lgbm's best error=0.0772\n",
      "[flaml.automl.logger: 08-24 22:13:49] {2218} INFO - iteration 53, current learner lgbm\n",
      "[flaml.automl.logger: 08-24 22:13:50] {2391} INFO -  at 187.5s,\testimator lgbm's best error=0.0772,\tbest estimator lgbm's best error=0.0772\n",
      "[flaml.automl.logger: 08-24 22:13:50] {2218} INFO - iteration 54, current learner lgbm\n",
      "[flaml.automl.logger: 08-24 22:13:55] {2391} INFO -  at 192.1s,\testimator lgbm's best error=0.0772,\tbest estimator lgbm's best error=0.0772\n",
      "[flaml.automl.logger: 08-24 22:13:55] {2218} INFO - iteration 55, current learner lgbm\n",
      "[flaml.automl.logger: 08-24 22:13:56] {2391} INFO -  at 193.7s,\testimator lgbm's best error=0.0772,\tbest estimator lgbm's best error=0.0772\n",
      "[flaml.automl.logger: 08-24 22:13:56] {2218} INFO - iteration 56, current learner lgbm\n",
      "[flaml.automl.logger: 08-24 22:13:58] {2391} INFO -  at 195.5s,\testimator lgbm's best error=0.0772,\tbest estimator lgbm's best error=0.0772\n",
      "[flaml.automl.logger: 08-24 22:13:58] {2218} INFO - iteration 57, current learner lgbm\n",
      "[flaml.automl.logger: 08-24 22:14:00] {2391} INFO -  at 197.4s,\testimator lgbm's best error=0.0772,\tbest estimator lgbm's best error=0.0772\n",
      "[flaml.automl.logger: 08-24 22:14:00] {2218} INFO - iteration 58, current learner lgbm\n",
      "[flaml.automl.logger: 08-24 22:14:01] {2391} INFO -  at 198.8s,\testimator lgbm's best error=0.0772,\tbest estimator lgbm's best error=0.0772\n",
      "[flaml.automl.logger: 08-24 22:14:01] {2218} INFO - iteration 59, current learner lgbm\n",
      "[flaml.automl.logger: 08-24 22:14:04] {2391} INFO -  at 201.2s,\testimator lgbm's best error=0.0772,\tbest estimator lgbm's best error=0.0772\n",
      "[flaml.automl.logger: 08-24 22:14:04] {2218} INFO - iteration 60, current learner lgbm\n",
      "[flaml.automl.logger: 08-24 22:14:05] {2391} INFO -  at 202.3s,\testimator lgbm's best error=0.0772,\tbest estimator lgbm's best error=0.0772\n",
      "[flaml.automl.logger: 08-24 22:14:05] {2218} INFO - iteration 61, current learner lgbm\n",
      "[flaml.automl.logger: 08-24 22:14:09] {2391} INFO -  at 206.4s,\testimator lgbm's best error=0.0772,\tbest estimator lgbm's best error=0.0772\n",
      "[flaml.automl.logger: 08-24 22:14:09] {2218} INFO - iteration 62, current learner lgbm\n",
      "[flaml.automl.logger: 08-24 22:14:09] {2391} INFO -  at 207.0s,\testimator lgbm's best error=0.0772,\tbest estimator lgbm's best error=0.0772\n",
      "[flaml.automl.logger: 08-24 22:14:09] {2218} INFO - iteration 63, current learner lgbm\n",
      "[flaml.automl.logger: 08-24 22:14:10] {2391} INFO -  at 207.3s,\testimator lgbm's best error=0.0772,\tbest estimator lgbm's best error=0.0772\n",
      "[flaml.automl.logger: 08-24 22:14:10] {2218} INFO - iteration 64, current learner lgbm\n",
      "[flaml.automl.logger: 08-24 22:14:18] {2391} INFO -  at 215.7s,\testimator lgbm's best error=0.0772,\tbest estimator lgbm's best error=0.0772\n",
      "[flaml.automl.logger: 08-24 22:14:18] {2218} INFO - iteration 65, current learner lgbm\n",
      "[flaml.automl.logger: 08-24 22:14:19] {2391} INFO -  at 216.2s,\testimator lgbm's best error=0.0772,\tbest estimator lgbm's best error=0.0772\n",
      "[flaml.automl.logger: 08-24 22:14:19] {2218} INFO - iteration 66, current learner lgbm\n",
      "[flaml.automl.logger: 08-24 22:14:24] {2391} INFO -  at 221.6s,\testimator lgbm's best error=0.0750,\tbest estimator lgbm's best error=0.0750\n",
      "[flaml.automl.logger: 08-24 22:14:24] {2218} INFO - iteration 67, current learner lgbm\n",
      "[flaml.automl.logger: 08-24 22:14:28] {2391} INFO -  at 225.4s,\testimator lgbm's best error=0.0750,\tbest estimator lgbm's best error=0.0750\n",
      "[flaml.automl.logger: 08-24 22:14:28] {2218} INFO - iteration 68, current learner lgbm\n",
      "[flaml.automl.logger: 08-24 22:14:36] {2391} INFO -  at 233.3s,\testimator lgbm's best error=0.0750,\tbest estimator lgbm's best error=0.0750\n",
      "[flaml.automl.logger: 08-24 22:14:36] {2218} INFO - iteration 69, current learner lgbm\n",
      "[flaml.automl.logger: 08-24 22:14:43] {2391} INFO -  at 240.4s,\testimator lgbm's best error=0.0750,\tbest estimator lgbm's best error=0.0750\n",
      "[flaml.automl.logger: 08-24 22:14:43] {2218} INFO - iteration 70, current learner lgbm\n",
      "[flaml.automl.logger: 08-24 22:14:49] {2391} INFO -  at 246.4s,\testimator lgbm's best error=0.0750,\tbest estimator lgbm's best error=0.0750\n",
      "[flaml.automl.logger: 08-24 22:14:49] {2218} INFO - iteration 71, current learner lgbm\n",
      "[flaml.automl.logger: 08-24 22:15:00] {2391} INFO -  at 257.1s,\testimator lgbm's best error=0.0750,\tbest estimator lgbm's best error=0.0750\n",
      "[flaml.automl.logger: 08-24 22:15:00] {2218} INFO - iteration 72, current learner lgbm\n",
      "[flaml.automl.logger: 08-24 22:15:06] {2391} INFO -  at 263.4s,\testimator lgbm's best error=0.0750,\tbest estimator lgbm's best error=0.0750\n",
      "[flaml.automl.logger: 08-24 22:15:06] {2218} INFO - iteration 73, current learner lgbm\n",
      "[flaml.automl.logger: 08-24 22:15:09] {2391} INFO -  at 266.6s,\testimator lgbm's best error=0.0750,\tbest estimator lgbm's best error=0.0750\n",
      "[flaml.automl.logger: 08-24 22:15:09] {2218} INFO - iteration 74, current learner lgbm\n",
      "[flaml.automl.logger: 08-24 22:15:22] {2391} INFO -  at 279.4s,\testimator lgbm's best error=0.0750,\tbest estimator lgbm's best error=0.0750\n",
      "[flaml.automl.logger: 08-24 22:15:22] {2218} INFO - iteration 75, current learner lgbm\n",
      "[flaml.automl.logger: 08-24 22:15:26] {2391} INFO -  at 283.6s,\testimator lgbm's best error=0.0750,\tbest estimator lgbm's best error=0.0750\n",
      "[flaml.automl.logger: 08-24 22:15:26] {2218} INFO - iteration 76, current learner lgbm\n",
      "[flaml.automl.logger: 08-24 22:15:36] {2391} INFO -  at 293.3s,\testimator lgbm's best error=0.0750,\tbest estimator lgbm's best error=0.0750\n",
      "[flaml.automl.logger: 08-24 22:15:36] {2218} INFO - iteration 77, current learner lgbm\n",
      "[flaml.automl.logger: 08-24 22:15:38] {2391} INFO -  at 295.1s,\testimator lgbm's best error=0.0750,\tbest estimator lgbm's best error=0.0750\n",
      "[flaml.automl.logger: 08-24 22:15:38] {2218} INFO - iteration 78, current learner lgbm\n",
      "[flaml.automl.logger: 08-24 22:15:57] {2391} INFO -  at 314.5s,\testimator lgbm's best error=0.0750,\tbest estimator lgbm's best error=0.0750\n",
      "[flaml.automl.logger: 08-24 22:15:57] {2218} INFO - iteration 79, current learner lgbm\n",
      "[flaml.automl.logger: 08-24 22:16:18] {2391} INFO -  at 335.6s,\testimator lgbm's best error=0.0750,\tbest estimator lgbm's best error=0.0750\n",
      "[flaml.automl.logger: 08-24 22:16:18] {2218} INFO - iteration 80, current learner lgbm\n",
      "[flaml.automl.logger: 08-24 22:16:20] {2391} INFO -  at 337.6s,\testimator lgbm's best error=0.0750,\tbest estimator lgbm's best error=0.0750\n",
      "[flaml.automl.logger: 08-24 22:16:20] {2218} INFO - iteration 81, current learner lgbm\n",
      "[flaml.automl.logger: 08-24 22:16:37] {2391} INFO -  at 354.2s,\testimator lgbm's best error=0.0750,\tbest estimator lgbm's best error=0.0750\n",
      "[flaml.automl.logger: 08-24 22:16:37] {2218} INFO - iteration 82, current learner lgbm\n",
      "[flaml.automl.logger: 08-24 22:16:40] {2391} INFO -  at 357.8s,\testimator lgbm's best error=0.0750,\tbest estimator lgbm's best error=0.0750\n",
      "[flaml.automl.logger: 08-24 22:16:40] {2218} INFO - iteration 83, current learner lgbm\n",
      "[flaml.automl.logger: 08-24 22:16:43] {2391} INFO -  at 360.8s,\testimator lgbm's best error=0.0750,\tbest estimator lgbm's best error=0.0750\n",
      "[flaml.automl.logger: 08-24 22:16:43] {2218} INFO - iteration 84, current learner lgbm\n",
      "[flaml.automl.logger: 08-24 22:17:01] {2391} INFO -  at 378.7s,\testimator lgbm's best error=0.0750,\tbest estimator lgbm's best error=0.0750\n",
      "[flaml.automl.logger: 08-24 22:17:01] {2218} INFO - iteration 85, current learner lgbm\n",
      "[flaml.automl.logger: 08-24 22:17:04] {2391} INFO -  at 381.8s,\testimator lgbm's best error=0.0750,\tbest estimator lgbm's best error=0.0750\n",
      "[flaml.automl.logger: 08-24 22:17:04] {2218} INFO - iteration 86, current learner lgbm\n",
      "[flaml.automl.logger: 08-24 22:17:19] {2391} INFO -  at 396.9s,\testimator lgbm's best error=0.0750,\tbest estimator lgbm's best error=0.0750\n",
      "[flaml.automl.logger: 08-24 22:17:19] {2218} INFO - iteration 87, current learner lgbm\n",
      "[flaml.automl.logger: 08-24 22:17:27] {2391} INFO -  at 404.2s,\testimator lgbm's best error=0.0750,\tbest estimator lgbm's best error=0.0750\n",
      "[flaml.automl.logger: 08-24 22:17:27] {2218} INFO - iteration 88, current learner lgbm\n",
      "[flaml.automl.logger: 08-24 22:17:32] {2391} INFO -  at 409.2s,\testimator lgbm's best error=0.0750,\tbest estimator lgbm's best error=0.0750\n",
      "[flaml.automl.logger: 08-24 22:17:32] {2218} INFO - iteration 89, current learner lgbm\n",
      "[flaml.automl.logger: 08-24 22:17:47] {2391} INFO -  at 424.7s,\testimator lgbm's best error=0.0750,\tbest estimator lgbm's best error=0.0750\n",
      "[flaml.automl.logger: 08-24 22:17:47] {2218} INFO - iteration 90, current learner lgbm\n",
      "[flaml.automl.logger: 08-24 22:17:49] {2391} INFO -  at 426.9s,\testimator lgbm's best error=0.0750,\tbest estimator lgbm's best error=0.0750\n",
      "[flaml.automl.logger: 08-24 22:17:49] {2218} INFO - iteration 91, current learner lgbm\n",
      "[flaml.automl.logger: 08-24 22:18:12] {2391} INFO -  at 449.1s,\testimator lgbm's best error=0.0750,\tbest estimator lgbm's best error=0.0750\n",
      "[flaml.automl.logger: 08-24 22:18:12] {2218} INFO - iteration 92, current learner lgbm\n",
      "[flaml.automl.logger: 08-24 22:18:15] {2391} INFO -  at 452.5s,\testimator lgbm's best error=0.0750,\tbest estimator lgbm's best error=0.0750\n",
      "[flaml.automl.logger: 08-24 22:18:15] {2218} INFO - iteration 93, current learner lgbm\n",
      "[flaml.automl.logger: 08-24 22:18:17] {2391} INFO -  at 454.4s,\testimator lgbm's best error=0.0750,\tbest estimator lgbm's best error=0.0750\n",
      "[flaml.automl.logger: 08-24 22:18:17] {2218} INFO - iteration 94, current learner lgbm\n",
      "[flaml.automl.logger: 08-24 22:18:40] {2391} INFO -  at 477.6s,\testimator lgbm's best error=0.0750,\tbest estimator lgbm's best error=0.0750\n",
      "[flaml.automl.logger: 08-24 22:18:40] {2218} INFO - iteration 95, current learner lgbm\n",
      "[flaml.automl.logger: 08-24 22:18:46] {2391} INFO -  at 483.6s,\testimator lgbm's best error=0.0750,\tbest estimator lgbm's best error=0.0750\n",
      "[flaml.automl.logger: 08-24 22:18:46] {2218} INFO - iteration 96, current learner lgbm\n",
      "[flaml.automl.logger: 08-24 22:18:54] {2391} INFO -  at 491.1s,\testimator lgbm's best error=0.0750,\tbest estimator lgbm's best error=0.0750\n",
      "[flaml.automl.logger: 08-24 22:18:54] {2218} INFO - iteration 97, current learner lgbm\n",
      "[flaml.automl.logger: 08-24 22:18:56] {2391} INFO -  at 493.5s,\testimator lgbm's best error=0.0750,\tbest estimator lgbm's best error=0.0750\n",
      "[flaml.automl.logger: 08-24 22:18:56] {2218} INFO - iteration 98, current learner lgbm\n",
      "[flaml.automl.logger: 08-24 22:19:25] {2391} INFO -  at 522.7s,\testimator lgbm's best error=0.0750,\tbest estimator lgbm's best error=0.0750\n",
      "[flaml.automl.logger: 08-24 22:19:25] {2218} INFO - iteration 99, current learner lgbm\n",
      "[flaml.automl.logger: 08-24 22:19:28] {2391} INFO -  at 525.2s,\testimator lgbm's best error=0.0750,\tbest estimator lgbm's best error=0.0750\n",
      "[flaml.automl.logger: 08-24 22:19:28] {2218} INFO - iteration 100, current learner lgbm\n",
      "[flaml.automl.logger: 08-24 22:19:52] {2391} INFO -  at 549.1s,\testimator lgbm's best error=0.0750,\tbest estimator lgbm's best error=0.0750\n",
      "[flaml.automl.logger: 08-24 22:19:52] {2218} INFO - iteration 101, current learner lgbm\n",
      "[flaml.automl.logger: 08-24 22:19:56] {2391} INFO -  at 553.1s,\testimator lgbm's best error=0.0750,\tbest estimator lgbm's best error=0.0750\n",
      "[flaml.automl.logger: 08-24 22:19:56] {2218} INFO - iteration 102, current learner lgbm\n",
      "[flaml.automl.logger: 08-24 22:20:12] {2391} INFO -  at 569.8s,\testimator lgbm's best error=0.0750,\tbest estimator lgbm's best error=0.0750\n",
      "[flaml.automl.logger: 08-24 22:20:12] {2218} INFO - iteration 103, current learner lgbm\n",
      "[flaml.automl.logger: 08-24 22:20:33] {2391} INFO -  at 590.5s,\testimator lgbm's best error=0.0750,\tbest estimator lgbm's best error=0.0750\n",
      "[flaml.automl.logger: 08-24 22:20:33] {2218} INFO - iteration 104, current learner lgbm\n",
      "[flaml.automl.logger: 08-24 22:20:35] {2391} INFO -  at 592.5s,\testimator lgbm's best error=0.0750,\tbest estimator lgbm's best error=0.0750\n",
      "[flaml.automl.logger: 08-24 22:20:35] {2218} INFO - iteration 105, current learner lgbm\n",
      "[flaml.automl.logger: 08-24 22:20:37] {2391} INFO -  at 595.0s,\testimator lgbm's best error=0.0750,\tbest estimator lgbm's best error=0.0750\n",
      "[flaml.automl.logger: 08-24 22:20:43] {2627} INFO - retrain lgbm for 5.6s\n",
      "[flaml.automl.logger: 08-24 22:20:43] {2630} INFO - retrained model: LGBMClassifier(colsample_bytree=0.667293102702816,\n",
      "               learning_rate=0.0775767904075595, max_bin=255, n_estimators=511,\n",
      "               num_leaves=61, reg_alpha=0.0009765625,\n",
      "               reg_lambda=0.062435110376239486, verbose=-1)\n",
      "[flaml.automl.logger: 08-24 22:20:43] {1930} INFO - fit succeeded\n",
      "[flaml.automl.logger: 08-24 22:20:43] {1931} INFO - Time taken to find the best model: 221.58306741714478\n"
     ]
    }
   ],
   "source": [
    "''' import AutoML class from flaml package '''\n",
    "from flaml import AutoML\n",
    "automl = AutoML()\n",
    "\n",
    "settings = {\n",
    "    \"time_budget\": 600,  # total running time in seconds\n",
    "    \"metric\": 'roc_auc', \n",
    "    \"estimator_list\": ['lgbm'],#lgbm, xgboost\n",
    "    \"task\": 'classification',  # task type\n",
    "    \"log_file_name\": 'prob1_experiment.log',  # flaml log file\n",
    "    \"seed\": 123,    # random seed\n",
    "}\n",
    "\n",
    "automl.fit(X_train=train_x, y_train=train_y['label'], **settings)"
   ]
  },
  {
   "cell_type": "code",
   "execution_count": 22,
   "metadata": {},
   "outputs": [
    {
     "name": "stdout",
     "output_type": "stream",
     "text": [
      "Best hyperparmeter config: {'n_estimators': 511, 'num_leaves': 61, 'min_child_samples': 20, 'learning_rate': 0.0775767904075595, 'log_max_bin': 8, 'colsample_bytree': 0.667293102702816, 'reg_alpha': 0.0009765625, 'reg_lambda': 0.062435110376239486}\n",
      "Best accuracy on validation data: 0.925\n",
      "Training duration of best run: 5.64 s\n"
     ]
    }
   ],
   "source": [
    "print('Best hyperparmeter config:', automl.best_config)\n",
    "print('Best accuracy on validation data: {0:.4g}'.format(1-automl.best_loss))\n",
    "print('Training duration of best run: {0:.4g} s'.format(automl.best_config_train_time))"
   ]
  },
  {
   "cell_type": "code",
   "execution_count": 23,
   "metadata": {},
   "outputs": [
    {
     "data": {
      "text/html": [
       "<style>#sk-container-id-4 {color: black;background-color: white;}#sk-container-id-4 pre{padding: 0;}#sk-container-id-4 div.sk-toggleable {background-color: white;}#sk-container-id-4 label.sk-toggleable__label {cursor: pointer;display: block;width: 100%;margin-bottom: 0;padding: 0.3em;box-sizing: border-box;text-align: center;}#sk-container-id-4 label.sk-toggleable__label-arrow:before {content: \"▸\";float: left;margin-right: 0.25em;color: #696969;}#sk-container-id-4 label.sk-toggleable__label-arrow:hover:before {color: black;}#sk-container-id-4 div.sk-estimator:hover label.sk-toggleable__label-arrow:before {color: black;}#sk-container-id-4 div.sk-toggleable__content {max-height: 0;max-width: 0;overflow: hidden;text-align: left;background-color: #f0f8ff;}#sk-container-id-4 div.sk-toggleable__content pre {margin: 0.2em;color: black;border-radius: 0.25em;background-color: #f0f8ff;}#sk-container-id-4 input.sk-toggleable__control:checked~div.sk-toggleable__content {max-height: 200px;max-width: 100%;overflow: auto;}#sk-container-id-4 input.sk-toggleable__control:checked~label.sk-toggleable__label-arrow:before {content: \"▾\";}#sk-container-id-4 div.sk-estimator input.sk-toggleable__control:checked~label.sk-toggleable__label {background-color: #d4ebff;}#sk-container-id-4 div.sk-label input.sk-toggleable__control:checked~label.sk-toggleable__label {background-color: #d4ebff;}#sk-container-id-4 input.sk-hidden--visually {border: 0;clip: rect(1px 1px 1px 1px);clip: rect(1px, 1px, 1px, 1px);height: 1px;margin: -1px;overflow: hidden;padding: 0;position: absolute;width: 1px;}#sk-container-id-4 div.sk-estimator {font-family: monospace;background-color: #f0f8ff;border: 1px dotted black;border-radius: 0.25em;box-sizing: border-box;margin-bottom: 0.5em;}#sk-container-id-4 div.sk-estimator:hover {background-color: #d4ebff;}#sk-container-id-4 div.sk-parallel-item::after {content: \"\";width: 100%;border-bottom: 1px solid gray;flex-grow: 1;}#sk-container-id-4 div.sk-label:hover label.sk-toggleable__label {background-color: #d4ebff;}#sk-container-id-4 div.sk-serial::before {content: \"\";position: absolute;border-left: 1px solid gray;box-sizing: border-box;top: 0;bottom: 0;left: 50%;z-index: 0;}#sk-container-id-4 div.sk-serial {display: flex;flex-direction: column;align-items: center;background-color: white;padding-right: 0.2em;padding-left: 0.2em;position: relative;}#sk-container-id-4 div.sk-item {position: relative;z-index: 1;}#sk-container-id-4 div.sk-parallel {display: flex;align-items: stretch;justify-content: center;background-color: white;position: relative;}#sk-container-id-4 div.sk-item::before, #sk-container-id-4 div.sk-parallel-item::before {content: \"\";position: absolute;border-left: 1px solid gray;box-sizing: border-box;top: 0;bottom: 0;left: 50%;z-index: -1;}#sk-container-id-4 div.sk-parallel-item {display: flex;flex-direction: column;z-index: 1;position: relative;background-color: white;}#sk-container-id-4 div.sk-parallel-item:first-child::after {align-self: flex-end;width: 50%;}#sk-container-id-4 div.sk-parallel-item:last-child::after {align-self: flex-start;width: 50%;}#sk-container-id-4 div.sk-parallel-item:only-child::after {width: 0;}#sk-container-id-4 div.sk-dashed-wrapped {border: 1px dashed gray;margin: 0 0.4em 0.5em 0.4em;box-sizing: border-box;padding-bottom: 0.4em;background-color: white;}#sk-container-id-4 div.sk-label label {font-family: monospace;font-weight: bold;display: inline-block;line-height: 1.2em;}#sk-container-id-4 div.sk-label-container {text-align: center;}#sk-container-id-4 div.sk-container {/* jupyter's `normalize.less` sets `[hidden] { display: none; }` but bootstrap.min.css set `[hidden] { display: none !important; }` so we also need the `!important` here to be able to override the default hidden behavior on the sphinx rendered scikit-learn.org. See: https://github.com/scikit-learn/scikit-learn/issues/21755 */display: inline-block !important;position: relative;}#sk-container-id-4 div.sk-text-repr-fallback {display: none;}</style><div id=\"sk-container-id-4\" class=\"sk-top-container\"><div class=\"sk-text-repr-fallback\"><pre>LGBMClassifier(colsample_bytree=0.667293102702816, is_unbalance=True,\n",
       "               learning_rate=0.0775767904075595, log_max_bin=8,\n",
       "               n_estimators=511, num_leaves=61, objective=&#x27;binary&#x27;,\n",
       "               random_state=123, reg_alpha=0.0009765625,\n",
       "               reg_lambda=0.062435110376239486)</pre><b>In a Jupyter environment, please rerun this cell to show the HTML representation or trust the notebook. <br />On GitHub, the HTML representation is unable to render, please try loading this page with nbviewer.org.</b></div><div class=\"sk-container\" hidden><div class=\"sk-item\"><div class=\"sk-estimator sk-toggleable\"><input class=\"sk-toggleable__control sk-hidden--visually\" id=\"sk-estimator-id-4\" type=\"checkbox\" checked><label for=\"sk-estimator-id-4\" class=\"sk-toggleable__label sk-toggleable__label-arrow\">LGBMClassifier</label><div class=\"sk-toggleable__content\"><pre>LGBMClassifier(colsample_bytree=0.667293102702816, is_unbalance=True,\n",
       "               learning_rate=0.0775767904075595, log_max_bin=8,\n",
       "               n_estimators=511, num_leaves=61, objective=&#x27;binary&#x27;,\n",
       "               random_state=123, reg_alpha=0.0009765625,\n",
       "               reg_lambda=0.062435110376239486)</pre></div></div></div></div></div>"
      ],
      "text/plain": [
       "LGBMClassifier(colsample_bytree=0.667293102702816, is_unbalance=True,\n",
       "               learning_rate=0.0775767904075595, log_max_bin=8,\n",
       "               n_estimators=511, num_leaves=61, objective='binary',\n",
       "               random_state=123, reg_alpha=0.0009765625,\n",
       "               reg_lambda=0.062435110376239486)"
      ]
     },
     "execution_count": 23,
     "metadata": {},
     "output_type": "execute_result"
    }
   ],
   "source": [
    "from lightgbm import LGBMClassifier\n",
    "\n",
    "#model0 = LGBMClassifier(objective=\"binary\", random_state=123, is_unbalance=True, num_leaves=34)\n",
    "model0 = LGBMClassifier(objective=\"binary\", random_state=123, is_unbalance=True, **automl.best_config)\n",
    "model0.fit(train_x0, train_y0['label'])"
   ]
  },
  {
   "cell_type": "code",
   "execution_count": 7,
   "metadata": {},
   "outputs": [],
   "source": [
    "\n",
    "#fix_label = pd.DataFrame(model0.predict(conflict_labels[prob_config.feature_cols].drop_duplicates()))\n",
    "#train_x_new = pd.DataFrame(np.concatenate((train_x, conflict_labels[prob_config.feature_cols].drop_duplicates())), columns=train_x.columns)\n",
    "#train_y_new = pd.DataFrame(np.concatenate((train_y, fix_label)), columns=train_y.columns)\n",
    "\n",
    "#model1 = LGBMClassifier(objective=\"binary\", random_state=123, is_unbalance=True)\n",
    "#model1.fit(train_x_new, train_y_new, verbose=False)"
   ]
  },
  {
   "cell_type": "code",
   "execution_count": 46,
   "metadata": {},
   "outputs": [
    {
     "name": "stdout",
     "output_type": "stream",
     "text": [
      "metrics: {'test_auc': 0.9975518059888039}\n"
     ]
    }
   ],
   "source": [
    "from sklearn.metrics import roc_auc_score\n",
    "predictions = model1.predict_proba(test_x.astype(np.float64))[:,1]\n",
    "#predictions = d4p.gbt_classification_prediction(nClasses=2).compute(test_x, daal_model)\n",
    "#predictions = llvm_model.predict(test_x)\n",
    "auc_score = roc_auc_score(test_y, predictions)\n",
    "metrics = {\"test_auc\": auc_score}\n",
    "print(f\"metrics: {metrics}\")"
   ]
  },
  {
   "cell_type": "code",
   "execution_count": 27,
   "metadata": {},
   "outputs": [],
   "source": [
    "data21 = pd.read_parquet('data/phase-2/prob-1/raw_train.parquet')\n",
    "\n",
    "data21 = RawDataProcessor.apply_category_features(\n",
    "    raw_df=data21,\n",
    "    categorical_cols=prob_config.categorical_cols,\n",
    "    category_index=category_index,\n",
    ")\n",
    "\n",
    "data21.drop_duplicates(inplace=True)"
   ]
  },
  {
   "cell_type": "code",
   "execution_count": 47,
   "metadata": {},
   "outputs": [
    {
     "data": {
      "text/plain": [
       "0.9975144388997476"
      ]
     },
     "execution_count": 47,
     "metadata": {},
     "output_type": "execute_result"
    }
   ],
   "source": [
    "roc_auc_score(data21[[target_col]], model1.predict_proba(data21.drop([target_col], axis=1))[:,1])"
   ]
  },
  {
   "cell_type": "code",
   "execution_count": 15,
   "metadata": {},
   "outputs": [],
   "source": [
    "#conflict_labels2 = data21[data21.duplicated(prob_config.feature_cols, keep=False)].sort_values(by=prob_config.feature_cols)\n",
    "#conflict_labels2.groupby(prob_config.feature_cols).apply(lambda x: tuple(x.index))"
   ]
  },
  {
   "cell_type": "code",
   "execution_count": 29,
   "metadata": {},
   "outputs": [],
   "source": [
    "unswnb15 = pd.read_csv('C:/VENV/MLOPS Competition/UNSW-NB15/UNSW_NB15_training-set.csv')\n",
    "unswnb15_t = pd.read_csv('C:/VENV/MLOPS Competition/UNSW-NB15/UNSW_NB15_testing-set.csv')\n",
    "\n",
    "def label_mod(x):\n",
    "    if x in ['Exploits', 'Normal']:\n",
    "        return x\n",
    "    elif (x == 'DoS') or (x == 'Fuzzers'):\n",
    "        return 'Denial of Service'\n",
    "    elif (x == 'Reconnaissance'):\n",
    "        return 'Information Gathering'\n",
    "    elif (x == 'Worms') or (x == 'Shellcode'):\n",
    "        return 'Malware'\n",
    "    elif (x == 'Generic'):\n",
    "        return 'Other'\n",
    "    else:\n",
    "        return np.nan\n",
    "    \n",
    "fets_dict = {'dur': 'feature1', 'proto': 'feature2', 'service': 'feature3', 'state': 'feature4', \\\n",
    "                                    'spkts': 'feature5', 'dpkts': 'feature6', 'sbytes': 'feature7', 'dbytes': 'feature8',\\\n",
    "                                        'sttl': 'feature9', 'dttl': 'feature10', 'sload': 'feature11', 'dload': 'feature12',\\\n",
    "                                            'sloss': 'feature13', 'dloss': 'feature14', 'sinpkt': 'feature15', 'dinpkt': 'feature16',\\\n",
    "                                                'sjit': 'feature17', 'djit': 'feature18', 'swin': 'feature19', 'stcpb': 'feature20', \\\n",
    "                                                    'dtcpb': 'feature21', 'dwin': 'feature22', 'tcprtt': 'feature23', 'synack': 'feature24',\\\n",
    "                                                        'ackdat': 'feature25', 'smean': 'feature26', 'dmean': 'feature27', 'ct_ftp_cmd': 'feature37',\\\n",
    "                                                            'response_body_len': 'feature29','ct_srv_src': 'feature30', 'ct_state_ttl': 'feature31', 'ct_dst_ltm': 'feature32', \\\n",
    "                                                                'ct_src_dport_ltm': 'feature33', 'ct_dst_sport_ltm': 'feature34', 'ct_dst_src_ltm': 'feature35',\\\n",
    "                                                                    'is_ftp_login': 'feature36', 'trans_depth': 'feature28', 'ct_flw_http_mthd': 'feature38', 'ct_src_ltm': 'feature39',\\\n",
    "                                                                    'ct_srv_dst':'feature40', 'is_sm_ips_ports':'feature41'}\n",
    "\n",
    "unswnb15 = unswnb15.rename(columns=fets_dict)\n",
    "\n",
    "unswnb15 = RawDataProcessor.apply_category_features(\n",
    "    raw_df=unswnb15,\n",
    "    categorical_cols=prob_config.categorical_cols,\n",
    "    category_index=category_index,\n",
    ")\n",
    "\n",
    "# feature 20 / feature 21 (swap?)\n",
    "# feature 23 / feature 24\n",
    "# rate -> feature ?\n",
    "\n",
    "unswnb15[\"attack_cat\"] = unswnb15[\"attack_cat\"].apply(label_mod)\n",
    "unswnb15 = unswnb15.dropna()\n",
    "\n",
    "unswnb15_t = unswnb15_t.rename(columns=fets_dict)\n",
    "unswnb15_t = RawDataProcessor.apply_category_features(\n",
    "    raw_df=unswnb15_t,\n",
    "    categorical_cols=prob_config.categorical_cols,\n",
    "    category_index=category_index,\n",
    ")\n",
    "unswnb15_t[\"attack_cat\"] = unswnb15_t[\"attack_cat\"].apply(label_mod)\n",
    "unswnb15_t = unswnb15_t.dropna()"
   ]
  },
  {
   "cell_type": "code",
   "execution_count": 30,
   "metadata": {},
   "outputs": [],
   "source": [
    "train_x_new = pd.DataFrame(np.concatenate((train_x0, data21[prob_config.feature_cols], \\\n",
    "                                           unswnb15[prob_config.feature_cols], unswnb15_t[prob_config.feature_cols])), columns=train_x.columns)\n",
    "train_y_new = pd.DataFrame(np.concatenate((train_y0, data21[[prob_config.target_col]], \\\n",
    "                                           unswnb15[['label']], unswnb15_t[['label']])), columns=train_y.columns)\n"
   ]
  },
  {
   "cell_type": "code",
   "execution_count": 44,
   "metadata": {},
   "outputs": [
    {
     "name": "stdout",
     "output_type": "stream",
     "text": [
      "[flaml.automl.logger: 08-24 22:51:04] {1679} INFO - task = classification\n",
      "[flaml.automl.logger: 08-24 22:51:04] {1690} INFO - Evaluation method: holdout\n",
      "[flaml.automl.logger: 08-24 22:51:05] {1788} INFO - Minimizing error metric: 1-roc_auc\n",
      "[flaml.automl.logger: 08-24 22:51:05] {1900} INFO - List of ML learners in AutoML Run: ['xgboost']\n",
      "[flaml.automl.logger: 08-24 22:51:05] {2218} INFO - iteration 0, current learner xgboost\n",
      "[flaml.automl.logger: 08-24 22:51:05] {2344} INFO - Estimated sufficient time budget=33969s. Estimated necessary time budget=34s.\n",
      "[flaml.automl.logger: 08-24 22:51:05] {2391} INFO -  at 2.9s,\testimator xgboost's best error=0.0403,\tbest estimator xgboost's best error=0.0403\n",
      "[flaml.automl.logger: 08-24 22:51:05] {2218} INFO - iteration 1, current learner xgboost\n",
      "[flaml.automl.logger: 08-24 22:51:05] {2391} INFO -  at 3.0s,\testimator xgboost's best error=0.0335,\tbest estimator xgboost's best error=0.0335\n"
     ]
    },
    {
     "name": "stderr",
     "output_type": "stream",
     "text": [
      "c:\\VENV\\api_prediction\\.venv\\Lib\\site-packages\\xgboost\\sklearn.py:1395: UserWarning: `use_label_encoder` is deprecated in 1.7.0.\n",
      "  warnings.warn(\"`use_label_encoder` is deprecated in 1.7.0.\")\n",
      "c:\\VENV\\api_prediction\\.venv\\Lib\\site-packages\\xgboost\\sklearn.py:1395: UserWarning: `use_label_encoder` is deprecated in 1.7.0.\n",
      "  warnings.warn(\"`use_label_encoder` is deprecated in 1.7.0.\")\n"
     ]
    },
    {
     "name": "stdout",
     "output_type": "stream",
     "text": [
      "[flaml.automl.logger: 08-24 22:51:05] {2218} INFO - iteration 2, current learner xgboost\n",
      "[flaml.automl.logger: 08-24 22:51:05] {2391} INFO -  at 3.1s,\testimator xgboost's best error=0.0335,\tbest estimator xgboost's best error=0.0335\n",
      "[flaml.automl.logger: 08-24 22:51:05] {2218} INFO - iteration 3, current learner xgboost\n",
      "[flaml.automl.logger: 08-24 22:51:06] {2391} INFO -  at 3.2s,\testimator xgboost's best error=0.0335,\tbest estimator xgboost's best error=0.0335\n"
     ]
    },
    {
     "name": "stderr",
     "output_type": "stream",
     "text": [
      "c:\\VENV\\api_prediction\\.venv\\Lib\\site-packages\\xgboost\\sklearn.py:1395: UserWarning: `use_label_encoder` is deprecated in 1.7.0.\n",
      "  warnings.warn(\"`use_label_encoder` is deprecated in 1.7.0.\")\n",
      "c:\\VENV\\api_prediction\\.venv\\Lib\\site-packages\\xgboost\\sklearn.py:1395: UserWarning: `use_label_encoder` is deprecated in 1.7.0.\n",
      "  warnings.warn(\"`use_label_encoder` is deprecated in 1.7.0.\")\n"
     ]
    },
    {
     "name": "stdout",
     "output_type": "stream",
     "text": [
      "[flaml.automl.logger: 08-24 22:51:06] {2218} INFO - iteration 4, current learner xgboost\n"
     ]
    },
    {
     "name": "stderr",
     "output_type": "stream",
     "text": [
      "c:\\VENV\\api_prediction\\.venv\\Lib\\site-packages\\xgboost\\sklearn.py:1395: UserWarning: `use_label_encoder` is deprecated in 1.7.0.\n",
      "  warnings.warn(\"`use_label_encoder` is deprecated in 1.7.0.\")\n"
     ]
    },
    {
     "name": "stdout",
     "output_type": "stream",
     "text": [
      "[flaml.automl.logger: 08-24 22:51:06] {2391} INFO -  at 3.4s,\testimator xgboost's best error=0.0157,\tbest estimator xgboost's best error=0.0157\n",
      "[flaml.automl.logger: 08-24 22:51:06] {2218} INFO - iteration 5, current learner xgboost\n",
      "[flaml.automl.logger: 08-24 22:51:06] {2391} INFO -  at 3.5s,\testimator xgboost's best error=0.0157,\tbest estimator xgboost's best error=0.0157\n",
      "[flaml.automl.logger: 08-24 22:51:06] {2218} INFO - iteration 6, current learner xgboost\n"
     ]
    },
    {
     "name": "stderr",
     "output_type": "stream",
     "text": [
      "c:\\VENV\\api_prediction\\.venv\\Lib\\site-packages\\xgboost\\sklearn.py:1395: UserWarning: `use_label_encoder` is deprecated in 1.7.0.\n",
      "  warnings.warn(\"`use_label_encoder` is deprecated in 1.7.0.\")\n",
      "c:\\VENV\\api_prediction\\.venv\\Lib\\site-packages\\xgboost\\sklearn.py:1395: UserWarning: `use_label_encoder` is deprecated in 1.7.0.\n",
      "  warnings.warn(\"`use_label_encoder` is deprecated in 1.7.0.\")\n"
     ]
    },
    {
     "name": "stdout",
     "output_type": "stream",
     "text": [
      "[flaml.automl.logger: 08-24 22:51:06] {2391} INFO -  at 4.0s,\testimator xgboost's best error=0.0157,\tbest estimator xgboost's best error=0.0157\n",
      "[flaml.automl.logger: 08-24 22:51:06] {2218} INFO - iteration 7, current learner xgboost\n",
      "[flaml.automl.logger: 08-24 22:51:07] {2391} INFO -  at 4.2s,\testimator xgboost's best error=0.0156,\tbest estimator xgboost's best error=0.0156\n"
     ]
    },
    {
     "name": "stderr",
     "output_type": "stream",
     "text": [
      "c:\\VENV\\api_prediction\\.venv\\Lib\\site-packages\\xgboost\\sklearn.py:1395: UserWarning: `use_label_encoder` is deprecated in 1.7.0.\n",
      "  warnings.warn(\"`use_label_encoder` is deprecated in 1.7.0.\")\n"
     ]
    },
    {
     "name": "stdout",
     "output_type": "stream",
     "text": [
      "[flaml.automl.logger: 08-24 22:51:07] {2218} INFO - iteration 8, current learner xgboost\n",
      "[flaml.automl.logger: 08-24 22:51:07] {2391} INFO -  at 4.4s,\testimator xgboost's best error=0.0156,\tbest estimator xgboost's best error=0.0156\n"
     ]
    },
    {
     "name": "stderr",
     "output_type": "stream",
     "text": [
      "c:\\VENV\\api_prediction\\.venv\\Lib\\site-packages\\xgboost\\sklearn.py:1395: UserWarning: `use_label_encoder` is deprecated in 1.7.0.\n",
      "  warnings.warn(\"`use_label_encoder` is deprecated in 1.7.0.\")\n"
     ]
    },
    {
     "name": "stdout",
     "output_type": "stream",
     "text": [
      "[flaml.automl.logger: 08-24 22:51:07] {2218} INFO - iteration 9, current learner xgboost\n",
      "[flaml.automl.logger: 08-24 22:51:07] {2391} INFO -  at 4.6s,\testimator xgboost's best error=0.0156,\tbest estimator xgboost's best error=0.0156\n"
     ]
    },
    {
     "name": "stderr",
     "output_type": "stream",
     "text": [
      "c:\\VENV\\api_prediction\\.venv\\Lib\\site-packages\\xgboost\\sklearn.py:1395: UserWarning: `use_label_encoder` is deprecated in 1.7.0.\n",
      "  warnings.warn(\"`use_label_encoder` is deprecated in 1.7.0.\")\n"
     ]
    },
    {
     "name": "stdout",
     "output_type": "stream",
     "text": [
      "[flaml.automl.logger: 08-24 22:51:07] {2218} INFO - iteration 10, current learner xgboost\n",
      "[flaml.automl.logger: 08-24 22:51:07] {2391} INFO -  at 4.8s,\testimator xgboost's best error=0.0156,\tbest estimator xgboost's best error=0.0156\n"
     ]
    },
    {
     "name": "stderr",
     "output_type": "stream",
     "text": [
      "c:\\VENV\\api_prediction\\.venv\\Lib\\site-packages\\xgboost\\sklearn.py:1395: UserWarning: `use_label_encoder` is deprecated in 1.7.0.\n",
      "  warnings.warn(\"`use_label_encoder` is deprecated in 1.7.0.\")\n"
     ]
    },
    {
     "name": "stdout",
     "output_type": "stream",
     "text": [
      "[flaml.automl.logger: 08-24 22:51:07] {2218} INFO - iteration 11, current learner xgboost\n"
     ]
    },
    {
     "name": "stderr",
     "output_type": "stream",
     "text": [
      "c:\\VENV\\api_prediction\\.venv\\Lib\\site-packages\\xgboost\\sklearn.py:1395: UserWarning: `use_label_encoder` is deprecated in 1.7.0.\n",
      "  warnings.warn(\"`use_label_encoder` is deprecated in 1.7.0.\")\n"
     ]
    },
    {
     "name": "stdout",
     "output_type": "stream",
     "text": [
      "[flaml.automl.logger: 08-24 22:51:07] {2391} INFO -  at 5.1s,\testimator xgboost's best error=0.0156,\tbest estimator xgboost's best error=0.0156\n",
      "[flaml.automl.logger: 08-24 22:51:07] {2218} INFO - iteration 12, current learner xgboost\n",
      "[flaml.automl.logger: 08-24 22:51:08] {2391} INFO -  at 5.3s,\testimator xgboost's best error=0.0153,\tbest estimator xgboost's best error=0.0153\n"
     ]
    },
    {
     "name": "stderr",
     "output_type": "stream",
     "text": [
      "c:\\VENV\\api_prediction\\.venv\\Lib\\site-packages\\xgboost\\sklearn.py:1395: UserWarning: `use_label_encoder` is deprecated in 1.7.0.\n",
      "  warnings.warn(\"`use_label_encoder` is deprecated in 1.7.0.\")\n"
     ]
    },
    {
     "name": "stdout",
     "output_type": "stream",
     "text": [
      "[flaml.automl.logger: 08-24 22:51:08] {2218} INFO - iteration 13, current learner xgboost\n",
      "[flaml.automl.logger: 08-24 22:51:08] {2391} INFO -  at 5.5s,\testimator xgboost's best error=0.0153,\tbest estimator xgboost's best error=0.0153\n",
      "[flaml.automl.logger: 08-24 22:51:08] {2218} INFO - iteration 14, current learner xgboost\n"
     ]
    },
    {
     "name": "stderr",
     "output_type": "stream",
     "text": [
      "c:\\VENV\\api_prediction\\.venv\\Lib\\site-packages\\xgboost\\sklearn.py:1395: UserWarning: `use_label_encoder` is deprecated in 1.7.0.\n",
      "  warnings.warn(\"`use_label_encoder` is deprecated in 1.7.0.\")\n",
      "c:\\VENV\\api_prediction\\.venv\\Lib\\site-packages\\xgboost\\sklearn.py:1395: UserWarning: `use_label_encoder` is deprecated in 1.7.0.\n",
      "  warnings.warn(\"`use_label_encoder` is deprecated in 1.7.0.\")\n"
     ]
    },
    {
     "name": "stdout",
     "output_type": "stream",
     "text": [
      "[flaml.automl.logger: 08-24 22:51:08] {2391} INFO -  at 5.9s,\testimator xgboost's best error=0.0150,\tbest estimator xgboost's best error=0.0150\n",
      "[flaml.automl.logger: 08-24 22:51:08] {2218} INFO - iteration 15, current learner xgboost\n"
     ]
    },
    {
     "name": "stderr",
     "output_type": "stream",
     "text": [
      "c:\\VENV\\api_prediction\\.venv\\Lib\\site-packages\\xgboost\\sklearn.py:1395: UserWarning: `use_label_encoder` is deprecated in 1.7.0.\n",
      "  warnings.warn(\"`use_label_encoder` is deprecated in 1.7.0.\")\n"
     ]
    },
    {
     "name": "stdout",
     "output_type": "stream",
     "text": [
      "[flaml.automl.logger: 08-24 22:51:09] {2391} INFO -  at 6.4s,\testimator xgboost's best error=0.0147,\tbest estimator xgboost's best error=0.0147\n",
      "[flaml.automl.logger: 08-24 22:51:09] {2218} INFO - iteration 16, current learner xgboost\n"
     ]
    },
    {
     "name": "stderr",
     "output_type": "stream",
     "text": [
      "c:\\VENV\\api_prediction\\.venv\\Lib\\site-packages\\xgboost\\sklearn.py:1395: UserWarning: `use_label_encoder` is deprecated in 1.7.0.\n",
      "  warnings.warn(\"`use_label_encoder` is deprecated in 1.7.0.\")\n"
     ]
    },
    {
     "name": "stdout",
     "output_type": "stream",
     "text": [
      "[flaml.automl.logger: 08-24 22:51:09] {2391} INFO -  at 6.8s,\testimator xgboost's best error=0.0147,\tbest estimator xgboost's best error=0.0147\n",
      "[flaml.automl.logger: 08-24 22:51:09] {2218} INFO - iteration 17, current learner xgboost\n"
     ]
    },
    {
     "name": "stderr",
     "output_type": "stream",
     "text": [
      "c:\\VENV\\api_prediction\\.venv\\Lib\\site-packages\\xgboost\\sklearn.py:1395: UserWarning: `use_label_encoder` is deprecated in 1.7.0.\n",
      "  warnings.warn(\"`use_label_encoder` is deprecated in 1.7.0.\")\n"
     ]
    },
    {
     "name": "stdout",
     "output_type": "stream",
     "text": [
      "[flaml.automl.logger: 08-24 22:51:10] {2391} INFO -  at 7.2s,\testimator xgboost's best error=0.0147,\tbest estimator xgboost's best error=0.0147\n",
      "[flaml.automl.logger: 08-24 22:51:10] {2218} INFO - iteration 18, current learner xgboost\n"
     ]
    },
    {
     "name": "stderr",
     "output_type": "stream",
     "text": [
      "c:\\VENV\\api_prediction\\.venv\\Lib\\site-packages\\xgboost\\sklearn.py:1395: UserWarning: `use_label_encoder` is deprecated in 1.7.0.\n",
      "  warnings.warn(\"`use_label_encoder` is deprecated in 1.7.0.\")\n"
     ]
    },
    {
     "name": "stdout",
     "output_type": "stream",
     "text": [
      "[flaml.automl.logger: 08-24 22:51:10] {2391} INFO -  at 7.9s,\testimator xgboost's best error=0.0147,\tbest estimator xgboost's best error=0.0147\n",
      "[flaml.automl.logger: 08-24 22:51:10] {2218} INFO - iteration 19, current learner xgboost\n"
     ]
    },
    {
     "name": "stderr",
     "output_type": "stream",
     "text": [
      "c:\\VENV\\api_prediction\\.venv\\Lib\\site-packages\\xgboost\\sklearn.py:1395: UserWarning: `use_label_encoder` is deprecated in 1.7.0.\n",
      "  warnings.warn(\"`use_label_encoder` is deprecated in 1.7.0.\")\n"
     ]
    },
    {
     "name": "stdout",
     "output_type": "stream",
     "text": [
      "[flaml.automl.logger: 08-24 22:51:11] {2391} INFO -  at 8.7s,\testimator xgboost's best error=0.0147,\tbest estimator xgboost's best error=0.0147\n",
      "[flaml.automl.logger: 08-24 22:51:11] {2218} INFO - iteration 20, current learner xgboost\n"
     ]
    },
    {
     "name": "stderr",
     "output_type": "stream",
     "text": [
      "c:\\VENV\\api_prediction\\.venv\\Lib\\site-packages\\xgboost\\sklearn.py:1395: UserWarning: `use_label_encoder` is deprecated in 1.7.0.\n",
      "  warnings.warn(\"`use_label_encoder` is deprecated in 1.7.0.\")\n"
     ]
    },
    {
     "name": "stdout",
     "output_type": "stream",
     "text": [
      "[flaml.automl.logger: 08-24 22:51:12] {2391} INFO -  at 9.3s,\testimator xgboost's best error=0.0121,\tbest estimator xgboost's best error=0.0121\n",
      "[flaml.automl.logger: 08-24 22:51:12] {2218} INFO - iteration 21, current learner xgboost\n"
     ]
    },
    {
     "name": "stderr",
     "output_type": "stream",
     "text": [
      "c:\\VENV\\api_prediction\\.venv\\Lib\\site-packages\\xgboost\\sklearn.py:1395: UserWarning: `use_label_encoder` is deprecated in 1.7.0.\n",
      "  warnings.warn(\"`use_label_encoder` is deprecated in 1.7.0.\")\n"
     ]
    },
    {
     "name": "stdout",
     "output_type": "stream",
     "text": [
      "[flaml.automl.logger: 08-24 22:51:13] {2391} INFO -  at 10.4s,\testimator xgboost's best error=0.0117,\tbest estimator xgboost's best error=0.0117\n",
      "[flaml.automl.logger: 08-24 22:51:13] {2218} INFO - iteration 22, current learner xgboost\n"
     ]
    },
    {
     "name": "stderr",
     "output_type": "stream",
     "text": [
      "c:\\VENV\\api_prediction\\.venv\\Lib\\site-packages\\xgboost\\sklearn.py:1395: UserWarning: `use_label_encoder` is deprecated in 1.7.0.\n",
      "  warnings.warn(\"`use_label_encoder` is deprecated in 1.7.0.\")\n"
     ]
    },
    {
     "name": "stdout",
     "output_type": "stream",
     "text": [
      "[flaml.automl.logger: 08-24 22:51:13] {2391} INFO -  at 11.0s,\testimator xgboost's best error=0.0117,\tbest estimator xgboost's best error=0.0117\n",
      "[flaml.automl.logger: 08-24 22:51:13] {2218} INFO - iteration 23, current learner xgboost\n"
     ]
    },
    {
     "name": "stderr",
     "output_type": "stream",
     "text": [
      "c:\\VENV\\api_prediction\\.venv\\Lib\\site-packages\\xgboost\\sklearn.py:1395: UserWarning: `use_label_encoder` is deprecated in 1.7.0.\n",
      "  warnings.warn(\"`use_label_encoder` is deprecated in 1.7.0.\")\n"
     ]
    },
    {
     "name": "stdout",
     "output_type": "stream",
     "text": [
      "[flaml.automl.logger: 08-24 22:51:14] {2391} INFO -  at 12.0s,\testimator xgboost's best error=0.0117,\tbest estimator xgboost's best error=0.0117\n",
      "[flaml.automl.logger: 08-24 22:51:14] {2218} INFO - iteration 24, current learner xgboost\n"
     ]
    },
    {
     "name": "stderr",
     "output_type": "stream",
     "text": [
      "c:\\VENV\\api_prediction\\.venv\\Lib\\site-packages\\xgboost\\sklearn.py:1395: UserWarning: `use_label_encoder` is deprecated in 1.7.0.\n",
      "  warnings.warn(\"`use_label_encoder` is deprecated in 1.7.0.\")\n"
     ]
    },
    {
     "name": "stdout",
     "output_type": "stream",
     "text": [
      "[flaml.automl.logger: 08-24 22:51:16] {2391} INFO -  at 13.3s,\testimator xgboost's best error=0.0117,\tbest estimator xgboost's best error=0.0117\n",
      "[flaml.automl.logger: 08-24 22:51:16] {2218} INFO - iteration 25, current learner xgboost\n"
     ]
    },
    {
     "name": "stderr",
     "output_type": "stream",
     "text": [
      "c:\\VENV\\api_prediction\\.venv\\Lib\\site-packages\\xgboost\\sklearn.py:1395: UserWarning: `use_label_encoder` is deprecated in 1.7.0.\n",
      "  warnings.warn(\"`use_label_encoder` is deprecated in 1.7.0.\")\n"
     ]
    },
    {
     "name": "stdout",
     "output_type": "stream",
     "text": [
      "[flaml.automl.logger: 08-24 22:51:16] {2391} INFO -  at 13.7s,\testimator xgboost's best error=0.0117,\tbest estimator xgboost's best error=0.0117\n",
      "[flaml.automl.logger: 08-24 22:51:16] {2218} INFO - iteration 26, current learner xgboost\n"
     ]
    },
    {
     "name": "stderr",
     "output_type": "stream",
     "text": [
      "c:\\VENV\\api_prediction\\.venv\\Lib\\site-packages\\xgboost\\sklearn.py:1395: UserWarning: `use_label_encoder` is deprecated in 1.7.0.\n",
      "  warnings.warn(\"`use_label_encoder` is deprecated in 1.7.0.\")\n"
     ]
    },
    {
     "name": "stdout",
     "output_type": "stream",
     "text": [
      "[flaml.automl.logger: 08-24 22:51:19] {2391} INFO -  at 17.1s,\testimator xgboost's best error=0.0117,\tbest estimator xgboost's best error=0.0117\n",
      "[flaml.automl.logger: 08-24 22:51:19] {2218} INFO - iteration 27, current learner xgboost\n"
     ]
    },
    {
     "name": "stderr",
     "output_type": "stream",
     "text": [
      "c:\\VENV\\api_prediction\\.venv\\Lib\\site-packages\\xgboost\\sklearn.py:1395: UserWarning: `use_label_encoder` is deprecated in 1.7.0.\n",
      "  warnings.warn(\"`use_label_encoder` is deprecated in 1.7.0.\")\n"
     ]
    },
    {
     "name": "stdout",
     "output_type": "stream",
     "text": [
      "[flaml.automl.logger: 08-24 22:51:22] {2391} INFO -  at 19.4s,\testimator xgboost's best error=0.0082,\tbest estimator xgboost's best error=0.0082\n",
      "[flaml.automl.logger: 08-24 22:51:22] {2218} INFO - iteration 28, current learner xgboost\n"
     ]
    },
    {
     "name": "stderr",
     "output_type": "stream",
     "text": [
      "c:\\VENV\\api_prediction\\.venv\\Lib\\site-packages\\xgboost\\sklearn.py:1395: UserWarning: `use_label_encoder` is deprecated in 1.7.0.\n",
      "  warnings.warn(\"`use_label_encoder` is deprecated in 1.7.0.\")\n"
     ]
    },
    {
     "name": "stdout",
     "output_type": "stream",
     "text": [
      "[flaml.automl.logger: 08-24 22:51:24] {2391} INFO -  at 21.2s,\testimator xgboost's best error=0.0082,\tbest estimator xgboost's best error=0.0082\n",
      "[flaml.automl.logger: 08-24 22:51:24] {2218} INFO - iteration 29, current learner xgboost\n"
     ]
    },
    {
     "name": "stderr",
     "output_type": "stream",
     "text": [
      "c:\\VENV\\api_prediction\\.venv\\Lib\\site-packages\\xgboost\\sklearn.py:1395: UserWarning: `use_label_encoder` is deprecated in 1.7.0.\n",
      "  warnings.warn(\"`use_label_encoder` is deprecated in 1.7.0.\")\n"
     ]
    },
    {
     "name": "stdout",
     "output_type": "stream",
     "text": [
      "[flaml.automl.logger: 08-24 22:51:27] {2391} INFO -  at 24.8s,\testimator xgboost's best error=0.0082,\tbest estimator xgboost's best error=0.0082\n",
      "[flaml.automl.logger: 08-24 22:51:27] {2218} INFO - iteration 30, current learner xgboost\n"
     ]
    },
    {
     "name": "stderr",
     "output_type": "stream",
     "text": [
      "c:\\VENV\\api_prediction\\.venv\\Lib\\site-packages\\xgboost\\sklearn.py:1395: UserWarning: `use_label_encoder` is deprecated in 1.7.0.\n",
      "  warnings.warn(\"`use_label_encoder` is deprecated in 1.7.0.\")\n"
     ]
    },
    {
     "name": "stdout",
     "output_type": "stream",
     "text": [
      "[flaml.automl.logger: 08-24 22:51:36] {2391} INFO -  at 33.4s,\testimator xgboost's best error=0.0034,\tbest estimator xgboost's best error=0.0034\n",
      "[flaml.automl.logger: 08-24 22:51:36] {2218} INFO - iteration 31, current learner xgboost\n"
     ]
    },
    {
     "name": "stderr",
     "output_type": "stream",
     "text": [
      "c:\\VENV\\api_prediction\\.venv\\Lib\\site-packages\\xgboost\\sklearn.py:1395: UserWarning: `use_label_encoder` is deprecated in 1.7.0.\n",
      "  warnings.warn(\"`use_label_encoder` is deprecated in 1.7.0.\")\n"
     ]
    },
    {
     "name": "stdout",
     "output_type": "stream",
     "text": [
      "[flaml.automl.logger: 08-24 22:51:38] {2391} INFO -  at 36.0s,\testimator xgboost's best error=0.0034,\tbest estimator xgboost's best error=0.0034\n",
      "[flaml.automl.logger: 08-24 22:51:38] {2218} INFO - iteration 32, current learner xgboost\n"
     ]
    },
    {
     "name": "stderr",
     "output_type": "stream",
     "text": [
      "c:\\VENV\\api_prediction\\.venv\\Lib\\site-packages\\xgboost\\sklearn.py:1395: UserWarning: `use_label_encoder` is deprecated in 1.7.0.\n",
      "  warnings.warn(\"`use_label_encoder` is deprecated in 1.7.0.\")\n"
     ]
    },
    {
     "name": "stdout",
     "output_type": "stream",
     "text": [
      "[flaml.automl.logger: 08-24 22:52:05] {2391} INFO -  at 62.6s,\testimator xgboost's best error=0.0034,\tbest estimator xgboost's best error=0.0034\n",
      "[flaml.automl.logger: 08-24 22:52:05] {2218} INFO - iteration 33, current learner xgboost\n"
     ]
    },
    {
     "name": "stderr",
     "output_type": "stream",
     "text": [
      "c:\\VENV\\api_prediction\\.venv\\Lib\\site-packages\\xgboost\\sklearn.py:1395: UserWarning: `use_label_encoder` is deprecated in 1.7.0.\n",
      "  warnings.warn(\"`use_label_encoder` is deprecated in 1.7.0.\")\n"
     ]
    },
    {
     "name": "stdout",
     "output_type": "stream",
     "text": [
      "[flaml.automl.logger: 08-24 22:52:09] {2391} INFO -  at 66.6s,\testimator xgboost's best error=0.0034,\tbest estimator xgboost's best error=0.0034\n",
      "[flaml.automl.logger: 08-24 22:52:09] {2218} INFO - iteration 34, current learner xgboost\n"
     ]
    },
    {
     "name": "stderr",
     "output_type": "stream",
     "text": [
      "c:\\VENV\\api_prediction\\.venv\\Lib\\site-packages\\xgboost\\sklearn.py:1395: UserWarning: `use_label_encoder` is deprecated in 1.7.0.\n",
      "  warnings.warn(\"`use_label_encoder` is deprecated in 1.7.0.\")\n"
     ]
    },
    {
     "name": "stdout",
     "output_type": "stream",
     "text": [
      "[flaml.automl.logger: 08-24 22:52:18] {2391} INFO -  at 75.6s,\testimator xgboost's best error=0.0034,\tbest estimator xgboost's best error=0.0034\n",
      "[flaml.automl.logger: 08-24 22:52:18] {2218} INFO - iteration 35, current learner xgboost\n"
     ]
    },
    {
     "name": "stderr",
     "output_type": "stream",
     "text": [
      "c:\\VENV\\api_prediction\\.venv\\Lib\\site-packages\\xgboost\\sklearn.py:1395: UserWarning: `use_label_encoder` is deprecated in 1.7.0.\n",
      "  warnings.warn(\"`use_label_encoder` is deprecated in 1.7.0.\")\n"
     ]
    },
    {
     "name": "stdout",
     "output_type": "stream",
     "text": [
      "[flaml.automl.logger: 08-24 22:52:20] {2391} INFO -  at 78.0s,\testimator xgboost's best error=0.0034,\tbest estimator xgboost's best error=0.0034\n",
      "[flaml.automl.logger: 08-24 22:52:20] {2218} INFO - iteration 36, current learner xgboost\n"
     ]
    },
    {
     "name": "stderr",
     "output_type": "stream",
     "text": [
      "c:\\VENV\\api_prediction\\.venv\\Lib\\site-packages\\xgboost\\sklearn.py:1395: UserWarning: `use_label_encoder` is deprecated in 1.7.0.\n",
      "  warnings.warn(\"`use_label_encoder` is deprecated in 1.7.0.\")\n"
     ]
    },
    {
     "name": "stdout",
     "output_type": "stream",
     "text": [
      "[flaml.automl.logger: 08-24 22:52:38] {2391} INFO -  at 95.2s,\testimator xgboost's best error=0.0024,\tbest estimator xgboost's best error=0.0024\n",
      "[flaml.automl.logger: 08-24 22:52:38] {2218} INFO - iteration 37, current learner xgboost\n"
     ]
    },
    {
     "name": "stderr",
     "output_type": "stream",
     "text": [
      "c:\\VENV\\api_prediction\\.venv\\Lib\\site-packages\\xgboost\\sklearn.py:1395: UserWarning: `use_label_encoder` is deprecated in 1.7.0.\n",
      "  warnings.warn(\"`use_label_encoder` is deprecated in 1.7.0.\")\n"
     ]
    },
    {
     "name": "stdout",
     "output_type": "stream",
     "text": [
      "[flaml.automl.logger: 08-24 22:52:42] {2391} INFO -  at 99.3s,\testimator xgboost's best error=0.0024,\tbest estimator xgboost's best error=0.0024\n",
      "[flaml.automl.logger: 08-24 22:52:42] {2218} INFO - iteration 38, current learner xgboost\n"
     ]
    },
    {
     "name": "stderr",
     "output_type": "stream",
     "text": [
      "c:\\VENV\\api_prediction\\.venv\\Lib\\site-packages\\xgboost\\sklearn.py:1395: UserWarning: `use_label_encoder` is deprecated in 1.7.0.\n",
      "  warnings.warn(\"`use_label_encoder` is deprecated in 1.7.0.\")\n"
     ]
    },
    {
     "name": "stdout",
     "output_type": "stream",
     "text": [
      "[flaml.automl.logger: 08-24 22:52:52] {2391} INFO -  at 110.1s,\testimator xgboost's best error=0.0024,\tbest estimator xgboost's best error=0.0024\n",
      "[flaml.automl.logger: 08-24 22:52:52] {2218} INFO - iteration 39, current learner xgboost\n"
     ]
    },
    {
     "name": "stderr",
     "output_type": "stream",
     "text": [
      "c:\\VENV\\api_prediction\\.venv\\Lib\\site-packages\\xgboost\\sklearn.py:1395: UserWarning: `use_label_encoder` is deprecated in 1.7.0.\n",
      "  warnings.warn(\"`use_label_encoder` is deprecated in 1.7.0.\")\n"
     ]
    },
    {
     "name": "stdout",
     "output_type": "stream",
     "text": [
      "[flaml.automl.logger: 08-24 22:53:10] {2391} INFO -  at 127.3s,\testimator xgboost's best error=0.0021,\tbest estimator xgboost's best error=0.0021\n",
      "[flaml.automl.logger: 08-24 22:53:10] {2218} INFO - iteration 40, current learner xgboost\n"
     ]
    },
    {
     "name": "stderr",
     "output_type": "stream",
     "text": [
      "c:\\VENV\\api_prediction\\.venv\\Lib\\site-packages\\xgboost\\sklearn.py:1395: UserWarning: `use_label_encoder` is deprecated in 1.7.0.\n",
      "  warnings.warn(\"`use_label_encoder` is deprecated in 1.7.0.\")\n"
     ]
    },
    {
     "name": "stdout",
     "output_type": "stream",
     "text": [
      "[flaml.automl.logger: 08-24 22:53:53] {2391} INFO -  at 170.2s,\testimator xgboost's best error=0.0021,\tbest estimator xgboost's best error=0.0021\n",
      "[flaml.automl.logger: 08-24 22:53:53] {2218} INFO - iteration 41, current learner xgboost\n"
     ]
    },
    {
     "name": "stderr",
     "output_type": "stream",
     "text": [
      "c:\\VENV\\api_prediction\\.venv\\Lib\\site-packages\\xgboost\\sklearn.py:1395: UserWarning: `use_label_encoder` is deprecated in 1.7.0.\n",
      "  warnings.warn(\"`use_label_encoder` is deprecated in 1.7.0.\")\n"
     ]
    },
    {
     "name": "stdout",
     "output_type": "stream",
     "text": [
      "[flaml.automl.logger: 08-24 22:54:03] {2391} INFO -  at 180.3s,\testimator xgboost's best error=0.0021,\tbest estimator xgboost's best error=0.0021\n",
      "[flaml.automl.logger: 08-24 22:54:03] {2218} INFO - iteration 42, current learner xgboost\n"
     ]
    },
    {
     "name": "stderr",
     "output_type": "stream",
     "text": [
      "c:\\VENV\\api_prediction\\.venv\\Lib\\site-packages\\xgboost\\sklearn.py:1395: UserWarning: `use_label_encoder` is deprecated in 1.7.0.\n",
      "  warnings.warn(\"`use_label_encoder` is deprecated in 1.7.0.\")\n"
     ]
    },
    {
     "name": "stdout",
     "output_type": "stream",
     "text": [
      "[flaml.automl.logger: 08-24 22:54:11] {2391} INFO -  at 188.3s,\testimator xgboost's best error=0.0021,\tbest estimator xgboost's best error=0.0021\n",
      "[flaml.automl.logger: 08-24 22:54:11] {2218} INFO - iteration 43, current learner xgboost\n"
     ]
    },
    {
     "name": "stderr",
     "output_type": "stream",
     "text": [
      "c:\\VENV\\api_prediction\\.venv\\Lib\\site-packages\\xgboost\\sklearn.py:1395: UserWarning: `use_label_encoder` is deprecated in 1.7.0.\n",
      "  warnings.warn(\"`use_label_encoder` is deprecated in 1.7.0.\")\n"
     ]
    },
    {
     "name": "stdout",
     "output_type": "stream",
     "text": [
      "[flaml.automl.logger: 08-24 22:54:29] {2391} INFO -  at 207.1s,\testimator xgboost's best error=0.0021,\tbest estimator xgboost's best error=0.0021\n",
      "[flaml.automl.logger: 08-24 22:54:29] {2218} INFO - iteration 44, current learner xgboost\n"
     ]
    },
    {
     "name": "stderr",
     "output_type": "stream",
     "text": [
      "c:\\VENV\\api_prediction\\.venv\\Lib\\site-packages\\xgboost\\sklearn.py:1395: UserWarning: `use_label_encoder` is deprecated in 1.7.0.\n",
      "  warnings.warn(\"`use_label_encoder` is deprecated in 1.7.0.\")\n"
     ]
    },
    {
     "name": "stdout",
     "output_type": "stream",
     "text": [
      "[flaml.automl.logger: 08-24 22:54:43] {2391} INFO -  at 220.3s,\testimator xgboost's best error=0.0018,\tbest estimator xgboost's best error=0.0018\n",
      "[flaml.automl.logger: 08-24 22:54:43] {2218} INFO - iteration 45, current learner xgboost\n"
     ]
    },
    {
     "name": "stderr",
     "output_type": "stream",
     "text": [
      "c:\\VENV\\api_prediction\\.venv\\Lib\\site-packages\\xgboost\\sklearn.py:1395: UserWarning: `use_label_encoder` is deprecated in 1.7.0.\n",
      "  warnings.warn(\"`use_label_encoder` is deprecated in 1.7.0.\")\n"
     ]
    },
    {
     "name": "stdout",
     "output_type": "stream",
     "text": [
      "[flaml.automl.logger: 08-24 22:55:00] {2391} INFO -  at 237.3s,\testimator xgboost's best error=0.0018,\tbest estimator xgboost's best error=0.0018\n",
      "[flaml.automl.logger: 08-24 22:55:00] {2218} INFO - iteration 46, current learner xgboost\n"
     ]
    },
    {
     "name": "stderr",
     "output_type": "stream",
     "text": [
      "c:\\VENV\\api_prediction\\.venv\\Lib\\site-packages\\xgboost\\sklearn.py:1395: UserWarning: `use_label_encoder` is deprecated in 1.7.0.\n",
      "  warnings.warn(\"`use_label_encoder` is deprecated in 1.7.0.\")\n"
     ]
    },
    {
     "name": "stdout",
     "output_type": "stream",
     "text": [
      "[flaml.automl.logger: 08-24 22:55:06] {2391} INFO -  at 243.2s,\testimator xgboost's best error=0.0018,\tbest estimator xgboost's best error=0.0018\n",
      "[flaml.automl.logger: 08-24 22:55:06] {2218} INFO - iteration 47, current learner xgboost\n"
     ]
    },
    {
     "name": "stderr",
     "output_type": "stream",
     "text": [
      "c:\\VENV\\api_prediction\\.venv\\Lib\\site-packages\\xgboost\\sklearn.py:1395: UserWarning: `use_label_encoder` is deprecated in 1.7.0.\n",
      "  warnings.warn(\"`use_label_encoder` is deprecated in 1.7.0.\")\n"
     ]
    },
    {
     "name": "stdout",
     "output_type": "stream",
     "text": [
      "[flaml.automl.logger: 08-24 22:55:21] {2391} INFO -  at 259.1s,\testimator xgboost's best error=0.0018,\tbest estimator xgboost's best error=0.0018\n",
      "[flaml.automl.logger: 08-24 22:55:21] {2218} INFO - iteration 48, current learner xgboost\n"
     ]
    },
    {
     "name": "stderr",
     "output_type": "stream",
     "text": [
      "c:\\VENV\\api_prediction\\.venv\\Lib\\site-packages\\xgboost\\sklearn.py:1395: UserWarning: `use_label_encoder` is deprecated in 1.7.0.\n",
      "  warnings.warn(\"`use_label_encoder` is deprecated in 1.7.0.\")\n"
     ]
    },
    {
     "name": "stdout",
     "output_type": "stream",
     "text": [
      "[flaml.automl.logger: 08-24 22:55:35] {2391} INFO -  at 272.6s,\testimator xgboost's best error=0.0018,\tbest estimator xgboost's best error=0.0018\n",
      "[flaml.automl.logger: 08-24 22:55:35] {2218} INFO - iteration 49, current learner xgboost\n"
     ]
    },
    {
     "name": "stderr",
     "output_type": "stream",
     "text": [
      "c:\\VENV\\api_prediction\\.venv\\Lib\\site-packages\\xgboost\\sklearn.py:1395: UserWarning: `use_label_encoder` is deprecated in 1.7.0.\n",
      "  warnings.warn(\"`use_label_encoder` is deprecated in 1.7.0.\")\n"
     ]
    },
    {
     "name": "stdout",
     "output_type": "stream",
     "text": [
      "[flaml.automl.logger: 08-24 22:55:45] {2391} INFO -  at 282.9s,\testimator xgboost's best error=0.0018,\tbest estimator xgboost's best error=0.0018\n",
      "[flaml.automl.logger: 08-24 22:55:45] {2218} INFO - iteration 50, current learner xgboost\n"
     ]
    },
    {
     "name": "stderr",
     "output_type": "stream",
     "text": [
      "c:\\VENV\\api_prediction\\.venv\\Lib\\site-packages\\xgboost\\sklearn.py:1395: UserWarning: `use_label_encoder` is deprecated in 1.7.0.\n",
      "  warnings.warn(\"`use_label_encoder` is deprecated in 1.7.0.\")\n"
     ]
    },
    {
     "name": "stdout",
     "output_type": "stream",
     "text": [
      "[flaml.automl.logger: 08-24 22:55:55] {2391} INFO -  at 293.0s,\testimator xgboost's best error=0.0018,\tbest estimator xgboost's best error=0.0018\n",
      "[flaml.automl.logger: 08-24 22:55:55] {2218} INFO - iteration 51, current learner xgboost\n"
     ]
    },
    {
     "name": "stderr",
     "output_type": "stream",
     "text": [
      "c:\\VENV\\api_prediction\\.venv\\Lib\\site-packages\\xgboost\\sklearn.py:1395: UserWarning: `use_label_encoder` is deprecated in 1.7.0.\n",
      "  warnings.warn(\"`use_label_encoder` is deprecated in 1.7.0.\")\n"
     ]
    },
    {
     "name": "stdout",
     "output_type": "stream",
     "text": [
      "[flaml.automl.logger: 08-24 22:56:11] {2391} INFO -  at 308.2s,\testimator xgboost's best error=0.0018,\tbest estimator xgboost's best error=0.0018\n",
      "[flaml.automl.logger: 08-24 22:56:11] {2218} INFO - iteration 52, current learner xgboost\n"
     ]
    },
    {
     "name": "stderr",
     "output_type": "stream",
     "text": [
      "c:\\VENV\\api_prediction\\.venv\\Lib\\site-packages\\xgboost\\sklearn.py:1395: UserWarning: `use_label_encoder` is deprecated in 1.7.0.\n",
      "  warnings.warn(\"`use_label_encoder` is deprecated in 1.7.0.\")\n"
     ]
    },
    {
     "name": "stdout",
     "output_type": "stream",
     "text": [
      "[flaml.automl.logger: 08-24 22:56:16] {2391} INFO -  at 313.6s,\testimator xgboost's best error=0.0018,\tbest estimator xgboost's best error=0.0018\n",
      "[flaml.automl.logger: 08-24 22:56:16] {2218} INFO - iteration 53, current learner xgboost\n"
     ]
    },
    {
     "name": "stderr",
     "output_type": "stream",
     "text": [
      "c:\\VENV\\api_prediction\\.venv\\Lib\\site-packages\\xgboost\\sklearn.py:1395: UserWarning: `use_label_encoder` is deprecated in 1.7.0.\n",
      "  warnings.warn(\"`use_label_encoder` is deprecated in 1.7.0.\")\n"
     ]
    },
    {
     "name": "stdout",
     "output_type": "stream",
     "text": [
      "[flaml.automl.logger: 08-24 22:57:01] {2391} INFO -  at 358.4s,\testimator xgboost's best error=0.0017,\tbest estimator xgboost's best error=0.0017\n",
      "[flaml.automl.logger: 08-24 22:57:01] {2218} INFO - iteration 54, current learner xgboost\n"
     ]
    },
    {
     "name": "stderr",
     "output_type": "stream",
     "text": [
      "c:\\VENV\\api_prediction\\.venv\\Lib\\site-packages\\xgboost\\sklearn.py:1395: UserWarning: `use_label_encoder` is deprecated in 1.7.0.\n",
      "  warnings.warn(\"`use_label_encoder` is deprecated in 1.7.0.\")\n"
     ]
    },
    {
     "name": "stdout",
     "output_type": "stream",
     "text": [
      "[flaml.automl.logger: 08-24 22:57:51] {2391} INFO -  at 408.5s,\testimator xgboost's best error=0.0017,\tbest estimator xgboost's best error=0.0017\n",
      "[flaml.automl.logger: 08-24 22:57:51] {2218} INFO - iteration 55, current learner xgboost\n"
     ]
    },
    {
     "name": "stderr",
     "output_type": "stream",
     "text": [
      "c:\\VENV\\api_prediction\\.venv\\Lib\\site-packages\\xgboost\\sklearn.py:1395: UserWarning: `use_label_encoder` is deprecated in 1.7.0.\n",
      "  warnings.warn(\"`use_label_encoder` is deprecated in 1.7.0.\")\n"
     ]
    },
    {
     "name": "stdout",
     "output_type": "stream",
     "text": [
      "[flaml.automl.logger: 08-24 22:58:14] {2391} INFO -  at 431.2s,\testimator xgboost's best error=0.0017,\tbest estimator xgboost's best error=0.0017\n",
      "[flaml.automl.logger: 08-24 22:58:14] {2218} INFO - iteration 56, current learner xgboost\n"
     ]
    },
    {
     "name": "stderr",
     "output_type": "stream",
     "text": [
      "c:\\VENV\\api_prediction\\.venv\\Lib\\site-packages\\xgboost\\sklearn.py:1395: UserWarning: `use_label_encoder` is deprecated in 1.7.0.\n",
      "  warnings.warn(\"`use_label_encoder` is deprecated in 1.7.0.\")\n"
     ]
    },
    {
     "name": "stdout",
     "output_type": "stream",
     "text": [
      "[flaml.automl.logger: 08-24 22:59:39] {2391} INFO -  at 516.8s,\testimator xgboost's best error=0.0017,\tbest estimator xgboost's best error=0.0017\n",
      "[flaml.automl.logger: 08-24 22:59:39] {2218} INFO - iteration 57, current learner xgboost\n"
     ]
    },
    {
     "name": "stderr",
     "output_type": "stream",
     "text": [
      "c:\\VENV\\api_prediction\\.venv\\Lib\\site-packages\\xgboost\\sklearn.py:1395: UserWarning: `use_label_encoder` is deprecated in 1.7.0.\n",
      "  warnings.warn(\"`use_label_encoder` is deprecated in 1.7.0.\")\n"
     ]
    },
    {
     "name": "stdout",
     "output_type": "stream",
     "text": [
      "[flaml.automl.logger: 08-24 22:59:46] {2391} INFO -  at 523.6s,\testimator xgboost's best error=0.0017,\tbest estimator xgboost's best error=0.0017\n",
      "[flaml.automl.logger: 08-24 22:59:46] {2218} INFO - iteration 58, current learner xgboost\n"
     ]
    },
    {
     "name": "stderr",
     "output_type": "stream",
     "text": [
      "c:\\VENV\\api_prediction\\.venv\\Lib\\site-packages\\xgboost\\sklearn.py:1395: UserWarning: `use_label_encoder` is deprecated in 1.7.0.\n",
      "  warnings.warn(\"`use_label_encoder` is deprecated in 1.7.0.\")\n"
     ]
    },
    {
     "name": "stdout",
     "output_type": "stream",
     "text": [
      "[flaml.automl.logger: 08-24 23:00:31] {2391} INFO -  at 569.0s,\testimator xgboost's best error=0.0016,\tbest estimator xgboost's best error=0.0016\n"
     ]
    },
    {
     "name": "stderr",
     "output_type": "stream",
     "text": [
      "c:\\VENV\\api_prediction\\.venv\\Lib\\site-packages\\xgboost\\sklearn.py:1395: UserWarning: `use_label_encoder` is deprecated in 1.7.0.\n",
      "  warnings.warn(\"`use_label_encoder` is deprecated in 1.7.0.\")\n"
     ]
    },
    {
     "name": "stdout",
     "output_type": "stream",
     "text": [
      "[flaml.automl.logger: 08-24 23:01:12] {2627} INFO - retrain xgboost for 40.4s\n",
      "[flaml.automl.logger: 08-24 23:01:12] {2630} INFO - retrained model: XGBClassifier(base_score=None, booster=None, callbacks=[],\n",
      "              colsample_bylevel=0.6957061218486587, colsample_bynode=None,\n",
      "              colsample_bytree=0.6621805817811603, early_stopping_rounds=None,\n",
      "              enable_categorical=False, eval_metric=None, feature_types=None,\n",
      "              gamma=None, gpu_id=None, grow_policy='lossguide',\n",
      "              importance_type=None, interaction_constraints=None,\n",
      "              learning_rate=0.38871152537031983, max_bin=None,\n",
      "              max_cat_threshold=None, max_cat_to_onehot=None,\n",
      "              max_delta_step=None, max_depth=0, max_leaves=1271,\n",
      "              min_child_weight=0.00424075605371196, missing=nan,\n",
      "              monotone_constraints=None, n_estimators=300, n_jobs=-1,\n",
      "              num_parallel_tree=None, predictor=None, random_state=None, ...)\n",
      "[flaml.automl.logger: 08-24 23:01:12] {1930} INFO - fit succeeded\n",
      "[flaml.automl.logger: 08-24 23:01:12] {1931} INFO - Time taken to find the best model: 568.9749140739441\n"
     ]
    }
   ],
   "source": [
    "''' import AutoML class from flaml package '''\n",
    "from flaml import AutoML\n",
    "automl = AutoML()\n",
    "\n",
    "settings = {\n",
    "    \"time_budget\": 600,  # total running time in seconds\n",
    "    \"metric\": 'roc_auc', \n",
    "    \"estimator_list\": ['xgboost'],#lgbm, xgboost\n",
    "    \"task\": 'classification',  # task type\n",
    "    \"log_file_name\": 'prob1_experiment.log',  # flaml log file\n",
    "    \"seed\": 123,    # random seed\n",
    "}\n",
    "\n",
    "automl.fit(X_train=train_x_new, y_train=train_y_new['label'], **settings)"
   ]
  },
  {
   "cell_type": "code",
   "execution_count": 45,
   "metadata": {},
   "outputs": [
    {
     "data": {
      "text/html": [
       "<style>#sk-container-id-7 {color: black;background-color: white;}#sk-container-id-7 pre{padding: 0;}#sk-container-id-7 div.sk-toggleable {background-color: white;}#sk-container-id-7 label.sk-toggleable__label {cursor: pointer;display: block;width: 100%;margin-bottom: 0;padding: 0.3em;box-sizing: border-box;text-align: center;}#sk-container-id-7 label.sk-toggleable__label-arrow:before {content: \"▸\";float: left;margin-right: 0.25em;color: #696969;}#sk-container-id-7 label.sk-toggleable__label-arrow:hover:before {color: black;}#sk-container-id-7 div.sk-estimator:hover label.sk-toggleable__label-arrow:before {color: black;}#sk-container-id-7 div.sk-toggleable__content {max-height: 0;max-width: 0;overflow: hidden;text-align: left;background-color: #f0f8ff;}#sk-container-id-7 div.sk-toggleable__content pre {margin: 0.2em;color: black;border-radius: 0.25em;background-color: #f0f8ff;}#sk-container-id-7 input.sk-toggleable__control:checked~div.sk-toggleable__content {max-height: 200px;max-width: 100%;overflow: auto;}#sk-container-id-7 input.sk-toggleable__control:checked~label.sk-toggleable__label-arrow:before {content: \"▾\";}#sk-container-id-7 div.sk-estimator input.sk-toggleable__control:checked~label.sk-toggleable__label {background-color: #d4ebff;}#sk-container-id-7 div.sk-label input.sk-toggleable__control:checked~label.sk-toggleable__label {background-color: #d4ebff;}#sk-container-id-7 input.sk-hidden--visually {border: 0;clip: rect(1px 1px 1px 1px);clip: rect(1px, 1px, 1px, 1px);height: 1px;margin: -1px;overflow: hidden;padding: 0;position: absolute;width: 1px;}#sk-container-id-7 div.sk-estimator {font-family: monospace;background-color: #f0f8ff;border: 1px dotted black;border-radius: 0.25em;box-sizing: border-box;margin-bottom: 0.5em;}#sk-container-id-7 div.sk-estimator:hover {background-color: #d4ebff;}#sk-container-id-7 div.sk-parallel-item::after {content: \"\";width: 100%;border-bottom: 1px solid gray;flex-grow: 1;}#sk-container-id-7 div.sk-label:hover label.sk-toggleable__label {background-color: #d4ebff;}#sk-container-id-7 div.sk-serial::before {content: \"\";position: absolute;border-left: 1px solid gray;box-sizing: border-box;top: 0;bottom: 0;left: 50%;z-index: 0;}#sk-container-id-7 div.sk-serial {display: flex;flex-direction: column;align-items: center;background-color: white;padding-right: 0.2em;padding-left: 0.2em;position: relative;}#sk-container-id-7 div.sk-item {position: relative;z-index: 1;}#sk-container-id-7 div.sk-parallel {display: flex;align-items: stretch;justify-content: center;background-color: white;position: relative;}#sk-container-id-7 div.sk-item::before, #sk-container-id-7 div.sk-parallel-item::before {content: \"\";position: absolute;border-left: 1px solid gray;box-sizing: border-box;top: 0;bottom: 0;left: 50%;z-index: -1;}#sk-container-id-7 div.sk-parallel-item {display: flex;flex-direction: column;z-index: 1;position: relative;background-color: white;}#sk-container-id-7 div.sk-parallel-item:first-child::after {align-self: flex-end;width: 50%;}#sk-container-id-7 div.sk-parallel-item:last-child::after {align-self: flex-start;width: 50%;}#sk-container-id-7 div.sk-parallel-item:only-child::after {width: 0;}#sk-container-id-7 div.sk-dashed-wrapped {border: 1px dashed gray;margin: 0 0.4em 0.5em 0.4em;box-sizing: border-box;padding-bottom: 0.4em;background-color: white;}#sk-container-id-7 div.sk-label label {font-family: monospace;font-weight: bold;display: inline-block;line-height: 1.2em;}#sk-container-id-7 div.sk-label-container {text-align: center;}#sk-container-id-7 div.sk-container {/* jupyter's `normalize.less` sets `[hidden] { display: none; }` but bootstrap.min.css set `[hidden] { display: none !important; }` so we also need the `!important` here to be able to override the default hidden behavior on the sphinx rendered scikit-learn.org. See: https://github.com/scikit-learn/scikit-learn/issues/21755 */display: inline-block !important;position: relative;}#sk-container-id-7 div.sk-text-repr-fallback {display: none;}</style><div id=\"sk-container-id-7\" class=\"sk-top-container\"><div class=\"sk-text-repr-fallback\"><pre>XGBClassifier(base_score=None, booster=None, callbacks=None,\n",
       "              colsample_bylevel=0.6957061218486587, colsample_bynode=None,\n",
       "              colsample_bytree=0.6621805817811603, early_stopping_rounds=None,\n",
       "              enable_categorical=False, eval_metric=None, feature_types=None,\n",
       "              gamma=None, gpu_id=None, grow_policy=None, importance_type=None,\n",
       "              interaction_constraints=None, learning_rate=0.38871152537031983,\n",
       "              max_bin=None, max_cat_threshold=None, max_cat_to_onehot=None,\n",
       "              max_delta_step=None, max_depth=None, max_leaves=1271,\n",
       "              min_child_weight=0.00424075605371196, missing=nan,\n",
       "              monotone_constraints=None, n_estimators=300, n_jobs=None,\n",
       "              num_parallel_tree=None, predictor=None, random_state=123, ...)</pre><b>In a Jupyter environment, please rerun this cell to show the HTML representation or trust the notebook. <br />On GitHub, the HTML representation is unable to render, please try loading this page with nbviewer.org.</b></div><div class=\"sk-container\" hidden><div class=\"sk-item\"><div class=\"sk-estimator sk-toggleable\"><input class=\"sk-toggleable__control sk-hidden--visually\" id=\"sk-estimator-id-7\" type=\"checkbox\" checked><label for=\"sk-estimator-id-7\" class=\"sk-toggleable__label sk-toggleable__label-arrow\">XGBClassifier</label><div class=\"sk-toggleable__content\"><pre>XGBClassifier(base_score=None, booster=None, callbacks=None,\n",
       "              colsample_bylevel=0.6957061218486587, colsample_bynode=None,\n",
       "              colsample_bytree=0.6621805817811603, early_stopping_rounds=None,\n",
       "              enable_categorical=False, eval_metric=None, feature_types=None,\n",
       "              gamma=None, gpu_id=None, grow_policy=None, importance_type=None,\n",
       "              interaction_constraints=None, learning_rate=0.38871152537031983,\n",
       "              max_bin=None, max_cat_threshold=None, max_cat_to_onehot=None,\n",
       "              max_delta_step=None, max_depth=None, max_leaves=1271,\n",
       "              min_child_weight=0.00424075605371196, missing=nan,\n",
       "              monotone_constraints=None, n_estimators=300, n_jobs=None,\n",
       "              num_parallel_tree=None, predictor=None, random_state=123, ...)</pre></div></div></div></div></div>"
      ],
      "text/plain": [
       "XGBClassifier(base_score=None, booster=None, callbacks=None,\n",
       "              colsample_bylevel=0.6957061218486587, colsample_bynode=None,\n",
       "              colsample_bytree=0.6621805817811603, early_stopping_rounds=None,\n",
       "              enable_categorical=False, eval_metric=None, feature_types=None,\n",
       "              gamma=None, gpu_id=None, grow_policy=None, importance_type=None,\n",
       "              interaction_constraints=None, learning_rate=0.38871152537031983,\n",
       "              max_bin=None, max_cat_threshold=None, max_cat_to_onehot=None,\n",
       "              max_delta_step=None, max_depth=None, max_leaves=1271,\n",
       "              min_child_weight=0.00424075605371196, missing=nan,\n",
       "              monotone_constraints=None, n_estimators=300, n_jobs=None,\n",
       "              num_parallel_tree=None, predictor=None, random_state=123, ...)"
      ]
     },
     "execution_count": 45,
     "metadata": {},
     "output_type": "execute_result"
    }
   ],
   "source": [
    "from xgboost import XGBClassifier\n",
    "#model1 = LGBMClassifier(objective=\"binary\", random_state=123, is_unbalance=True)\n",
    "model1 = XGBClassifier(objective=\"binary:logistic\", random_state=123, **automl.best_config)\n",
    "model1.fit(train_x_new, train_y_new['label'])"
   ]
  },
  {
   "cell_type": "code",
   "execution_count": 218,
   "metadata": {},
   "outputs": [
    {
     "data": {
      "text/plain": [
       "'83ada593deb44d00a1d7237bf7c20266'"
      ]
     },
     "execution_count": 218,
     "metadata": {},
     "output_type": "execute_result"
    }
   ],
   "source": [
    "run_description = \"\"\"\n",
    "### Header\n",
    "LGBM model, First Base Model Prob1\n",
    "Model: LGBM\n",
    "    \"\"\"\n",
    "log_model_to_tracker_lgbm(model1, metrics, run_description)"
   ]
  },
  {
   "attachments": {},
   "cell_type": "markdown",
   "metadata": {},
   "source": [
    "# Drift Detect"
   ]
  },
  {
   "cell_type": "code",
   "execution_count": 10,
   "metadata": {},
   "outputs": [],
   "source": [
    "# Save referent for drift detection.\n",
    "X_baseline = train_x0.sample(1000)\n",
    "X_baseline_df = pd.DataFrame(X_baseline, columns=prob_config.drift_cols)\n",
    "X_baseline_df.to_parquet(prob_config.driff_ref_path, index=False)"
   ]
  },
  {
   "attachments": {},
   "cell_type": "markdown",
   "metadata": {},
   "source": [
    "# Online Data"
   ]
  },
  {
   "cell_type": "code",
   "execution_count": null,
   "metadata": {},
   "outputs": [],
   "source": []
  },
  {
   "cell_type": "markdown",
   "metadata": {},
   "source": [
    "# Test Model Performance"
   ]
  },
  {
   "cell_type": "code",
   "execution_count": null,
   "metadata": {},
   "outputs": [
    {
     "name": "stdout",
     "output_type": "stream",
     "text": [
      "5.31 ms ± 1.8 ms per loop (mean ± std. dev. of 7 runs, 10 loops each)\n"
     ]
    }
   ],
   "source": [
    "%%timeit -n 10\n",
    "model0.predict(test_x.sample(2000))"
   ]
  },
  {
   "cell_type": "code",
   "execution_count": null,
   "metadata": {},
   "outputs": [],
   "source": [
    "import lleaves\n",
    "model_path = \".venv/phase2_1_lgbm.txt\"\n",
    "model0.booster_.save_model(filename=model_path)\n",
    "llvm_model = lleaves.Model(model_file=model_path)\n",
    "llvm_model.compile()"
   ]
  },
  {
   "cell_type": "code",
   "execution_count": null,
   "metadata": {},
   "outputs": [
    {
     "name": "stdout",
     "output_type": "stream",
     "text": [
      "4.38 ms ± 166 µs per loop (mean ± std. dev. of 7 runs, 10 loops each)\n"
     ]
    }
   ],
   "source": [
    "%%timeit -n 10\n",
    "llvm_model.predict(test_x.sample(2000))"
   ]
  },
  {
   "cell_type": "code",
   "execution_count": null,
   "metadata": {},
   "outputs": [],
   "source": [
    "import daal4py as d4p\n",
    "daal_model = d4p.get_gbt_model_from_lightgbm(model0.booster_)"
   ]
  },
  {
   "cell_type": "code",
   "execution_count": null,
   "metadata": {},
   "outputs": [
    {
     "name": "stdout",
     "output_type": "stream",
     "text": [
      "3.77 ms ± 299 µs per loop (mean ± std. dev. of 7 runs, 10 loops each)\n"
     ]
    }
   ],
   "source": [
    "%%timeit -n 10\n",
    "daal_prediction = d4p.gbt_classification_prediction(nClasses=2, resultsToEvaluate=\"computeClassLabels|computeClassProbabilities\").compute(test_x.sample(2000), daal_model)"
   ]
  },
  {
   "cell_type": "code",
   "execution_count": null,
   "metadata": {},
   "outputs": [
    {
     "name": "stderr",
     "output_type": "stream",
     "text": [
      "c:\\VENV\\api_prediction\\.venv\\Lib\\site-packages\\skl2onnx\\algebra\\onnx_ops.py:159: UserWarning: OpSchema.FormalParameter.typeStr is deprecated and will be removed in 1.16. Use OpSchema.FormalParameter.type_str instead.\n",
      "  tys = obj.typeStr or ''\n",
      "c:\\VENV\\api_prediction\\.venv\\Lib\\site-packages\\skl2onnx\\algebra\\automation.py:154: UserWarning: OpSchema.FormalParameter.isHomogeneous is deprecated and will be removed in 1.16. Use OpSchema.FormalParameter.is_homogeneous instead.\n",
      "  if getattr(obj, 'isHomogeneous', False):\n",
      "c:\\VENV\\api_prediction\\.venv\\Lib\\site-packages\\jinja2\\environment.py:485: UserWarning: OpSchema.FormalParameter.typeStr is deprecated and will be removed in 1.16. Use OpSchema.FormalParameter.type_str instead.\n",
      "  return getattr(obj, attribute)\n"
     ]
    }
   ],
   "source": [
    "import onnxruntime as rt\n",
    "from skl2onnx import convert_sklearn, update_registered_converter\n",
    "from skl2onnx.common.shape_calculator import calculate_linear_classifier_output_shapes  # noqa\n",
    "from onnxmltools.convert.lightgbm.operator_converters.LightGbm import convert_lightgbm  # noqa\n",
    "from skl2onnx.common.data_types import FloatTensorType\n",
    "import numpy\n",
    "from sklearn.datasets import load_iris\n",
    "from sklearn.pipeline import Pipeline\n",
    "from sklearn.preprocessing import StandardScaler\n",
    "from lightgbm import LGBMClassifier"
   ]
  },
  {
   "cell_type": "code",
   "execution_count": null,
   "metadata": {},
   "outputs": [],
   "source": [
    "update_registered_converter(\n",
    "    LGBMClassifier, 'LightGbmLGBMClassifier',\n",
    "    calculate_linear_classifier_output_shapes, convert_lightgbm,\n",
    "    options={'nocl': [True, False], 'zipmap': [True, False, 'columns']})"
   ]
  },
  {
   "cell_type": "code",
   "execution_count": null,
   "metadata": {},
   "outputs": [],
   "source": [
    "model_onnx = convert_sklearn(\n",
    "    model0, 'pipeline_lightgbm',\n",
    "    [('input', FloatTensorType([None, 41]))],\n",
    "    target_opset={'': 12, 'ai.onnx.ml': 2})\n",
    "\n",
    "# And save.\n",
    "with open(\".venv/pipeline_lightgbm1.onnx\", \"wb\") as f:\n",
    "    f.write(model_onnx.SerializeToString())"
   ]
  },
  {
   "cell_type": "code",
   "execution_count": null,
   "metadata": {},
   "outputs": [
    {
     "name": "stdout",
     "output_type": "stream",
     "text": [
      "predict [1 1 0 1 1]\n",
      "predict_proba [[0.01256021 0.98743979]]\n"
     ]
    }
   ],
   "source": [
    "print(\"predict\", model0.predict(test_x.to_numpy()[:5].astype(numpy.float32)))\n",
    "print(\"predict_proba\", model0.predict_proba(test_x.to_numpy()[:1].astype(numpy.float32)))"
   ]
  },
  {
   "cell_type": "code",
   "execution_count": null,
   "metadata": {},
   "outputs": [
    {
     "name": "stdout",
     "output_type": "stream",
     "text": [
      "predict [1 1 0 1 1]\n",
      "predict_proba [{0: 0.012560248374938965, 1: 0.987439751625061}]\n"
     ]
    }
   ],
   "source": [
    "sess = rt.InferenceSession(\".venv/pipeline_lightgbm1.onnx\")\n",
    "\n",
    "pred_onx = sess.run(None, {\"input\": test_x.to_numpy()[:5].astype(numpy.float32)})\n",
    "print(\"predict\", pred_onx[0])\n",
    "print(\"predict_proba\", pred_onx[1][:1])"
   ]
  },
  {
   "cell_type": "code",
   "execution_count": null,
   "metadata": {},
   "outputs": [
    {
     "name": "stdout",
     "output_type": "stream",
     "text": [
      "4.86 ms ± 128 µs per loop (mean ± std. dev. of 7 runs, 100 loops each)\n"
     ]
    }
   ],
   "source": [
    "%%timeit\n",
    "pred_onx = sess.run(None, {\"input\": test_x.sample(2000).to_numpy().astype(numpy.float32)})"
   ]
  },
  {
   "cell_type": "code",
   "execution_count": null,
   "metadata": {},
   "outputs": [],
   "source": [
    "import mlflow\n",
    "import pathlib\n",
    "MLFLOW_TRACKING_URI = 'http://localhost:5000'\n",
    "mlflow.set_tracking_uri(MLFLOW_TRACKING_URI)\n",
    "model_uri = str(pathlib.Path(\"models:/\", \"phase-2_prob-1_model\", \"1\").as_posix())\n",
    "model0_ref = mlflow.pyfunc.load_model(model_uri)"
   ]
  }
 ],
 "metadata": {
  "kernelspec": {
   "display_name": "deploy",
   "language": "python",
   "name": "python3"
  },
  "language_info": {
   "codemirror_mode": {
    "name": "ipython",
    "version": 3
   },
   "file_extension": ".py",
   "mimetype": "text/x-python",
   "name": "python",
   "nbconvert_exporter": "python",
   "pygments_lexer": "ipython3",
   "version": "3.11.1"
  },
  "orig_nbformat": 4
 },
 "nbformat": 4,
 "nbformat_minor": 2
}
