{
 "cells": [
  {
   "cell_type": "code",
   "execution_count": 2,
   "metadata": {},
   "outputs": [
    {
     "name": "stdout",
     "output_type": "stream",
     "text": [
      "c:\\VENV\\api_prediction\\monitor_train\n"
     ]
    }
   ],
   "source": [
    "%cd ..\n",
    "%pwd\n",
    "import sys\n",
    "sys.path.append('./src')\n",
    "from src.data_processor import DataProcessor\n",
    "from src.problem_config import create_prob_config \n",
    "prob_config = create_prob_config(\"phase-3\", \"prob-2\")"
   ]
  },
  {
   "cell_type": "markdown",
   "metadata": {},
   "source": [
    "## Load Training Data"
   ]
  },
  {
   "cell_type": "code",
   "execution_count": 3,
   "metadata": {},
   "outputs": [],
   "source": [
    "import pandas as pd\n",
    "import pickle\n",
    "from sklearn.model_selection import train_test_split\n",
    "\n",
    "training_data = pd.read_parquet(prob_config.raw_data_path)\n",
    "\n",
    "training_data, category_index = DataProcessor.build_category_features(\n",
    "            training_data, prob_config.categorical_cols\n",
    "        )\n",
    "train, dev = train_test_split(training_data, test_size=0.1, random_state=123)\n",
    "target_col = prob_config.target_col\n",
    "train_x = training_data.drop([target_col], axis=1)\n",
    "train_y = training_data[[target_col]]\n",
    "test_x = dev.drop([\"label\"], axis=1)\n",
    "test_y = dev[[target_col]]\n",
    "\n",
    "# Store the category_index\n",
    "with open(prob_config.category_index_path, \"wb\") as f:\n",
    "    pickle.dump(category_index, f)"
   ]
  },
  {
   "cell_type": "markdown",
   "metadata": {},
   "source": [
    "# Check and process saved request"
   ]
  },
  {
   "cell_type": "code",
   "execution_count": 4,
   "metadata": {},
   "outputs": [
    {
     "name": "stdout",
     "output_type": "stream",
     "text": [
      " Volume in drive C is Windows\n",
      " Volume Serial Number is 788F-AEF3\n",
      "\n",
      " Directory of c:\\VENV\\api_prediction\\monitor_train\\data\\captured\n",
      "\n",
      "07/30/2023  10:43 AM    <DIR>          .\n",
      "08/01/2023  08:54 AM    <DIR>          ..\n",
      "07/10/2023  10:32 AM        67,043,899 192.168.88.113_prob1_10_07_2023__10_32_28.pkl\n",
      "07/10/2023  10:33 AM        66,963,641 192.168.88.113_prob2_10_07_2023__10_33_13.pkl\n",
      "07/30/2023  10:43 AM       602,724,557 localhost_prob1_30_07_2023__10_43_09.pkl\n",
      "               3 File(s)    736,732,097 bytes\n",
      "               2 Dir(s)  551,852,441,600 bytes free\n"
     ]
    }
   ],
   "source": [
    "%ls \"data/captured/\""
   ]
  },
  {
   "cell_type": "code",
   "execution_count": 5,
   "metadata": {},
   "outputs": [],
   "source": [
    "saved_request = DataProcessor.load_saved_request('192.168.88.113_prob2_10_07_2023__10_33_13.pkl')\n",
    "keys = list(saved_request.keys())"
   ]
  },
  {
   "cell_type": "markdown",
   "metadata": {},
   "source": [
    "# Test API"
   ]
  },
  {
   "cell_type": "code",
   "execution_count": 8,
   "metadata": {},
   "outputs": [
    {
     "name": "stdout",
     "output_type": "stream",
     "text": [
      "<!DOCTYPE html>\n",
      "<html>\n",
      "  <head>\n",
      "    <title>Internal Server Error.</title>\n",
      "    <meta charset=\"utf-8\" />\n",
      "    <meta content='text/html; charset=utf-8' http-equiv='Content-Type'>\n",
      "    <style>\n",
      "      body {\n",
      "  font-family: sans-serif;\n",
      "  margin: 0;\n",
      "  padding: 0;\n",
      "}\n",
      "\n",
      "dl {\n",
      "  display: flex;\n",
      "  flex-flow: row;\n",
      "  flex-wrap: wrap;\n",
      "  overflow: visible;\n",
      "}\n",
      "\n",
      "dt {\n",
      "  font-weight: bold;\n",
      "  flex: 0 0 20%;\n",
      "  text-overflow: ellipsis;\n",
      "  overflow: hidden;\n",
      "  border-bottom: 1px dotted #eee;\n",
      "  padding: 10px 0;\n",
      "}\n",
      "\n",
      "dd {\n",
      "  flex: 0 0 80%;\n",
      "  margin-left: auto;\n",
      "  text-align: left;\n",
      "  text-overflow: ellipsis;\n",
      "  overflow: hidden;\n",
      "  padding: 10px 0;\n",
      "  border-bottom: 1px dotted #eee;\n",
      "}\n",
      "\n",
      "dt, dd {\n",
      "  padding: .3rem 0;\n",
      "}\n",
      "\n",
      "header {\n",
      "  background-color: #1c6962;\n",
      "  color: white;\n",
      "  padding: .5rem 2rem;\n",
      "  border-bottom: 1px solid #0f5046;\n",
      "}\n",
      "\n",
      "#content {\n",
      "  padding: .5rem 2rem;\n",
      "}\n",
      "\n",
      ".stack-trace {\n",
      "  font-family: monospace;\n",
      "  background: aliceblue;\n",
      "  padding: 1rem 3.5rem;\n",
      "  border: 1px dashed #366a62;\n",
      "  font-size: 14px;\n",
      "}\n",
      "\n",
      ".stack-trace pre {\n",
      "  padding-left: 60px;\n",
      "  word-break: break-word;\n",
      "  white-space: break-spaces;\n",
      "}\n",
      "\n",
      ".custom-counter {\n",
      "  margin: 0;\n",
      "  padding: 0 1rem 0 0;\n",
      "  list-style-type: none;\n",
      "}\n",
      "\n",
      ".custom-counter li {\n",
      "  counter-increment: step-counter;\n",
      "  margin-bottom: 5px;\n",
      "}\n",
      "\n",
      ".custom-counter li::before {\n",
      "  content: counter(step-counter);\n",
      "  margin-right: 20px;\n",
      "  font-size: 80%;\n",
      "  background-color: rgb(54 106 98);\n",
      "  color: white;\n",
      "  font-weight: bold;\n",
      "  padding: 3px 8px;\n",
      "  float: left;\n",
      "  border-radius: 11px;\n",
      "  margin-left: 20px;\n",
      "}\n",
      "\n",
      ".notes {\n",
      "  padding: 1rem 0;\n",
      "  font-size: small;\n",
      "}\n",
      "\n",
      "    </style>\n",
      "  </head>\n",
      "  <body>\n",
      "    <header>\n",
      "      <h1>Internal Server Error.</h1>\n",
      "      <p>While handling request: POST /phase-3/prob-2/predict</p>\n",
      "    </header>\n",
      "    <div id=\"content\">\n",
      "      <div>\n",
      "        <dl>\n",
      "            <dt>Exception type:</dt>\n",
      "            <dd>AttributeError</dd>\n",
      "            <dt>Exception message:</dt>\n",
      "            <dd>'ModelPredictor' object has no attribute 'model_classes'</dd>\n",
      "            <dt>Method:</dt>\n",
      "            <dd>POST</dd>\n",
      "            <dt>URL:</dt>\n",
      "            <dd>http://172.25.0.4/phase-3/prob-2/predict</dd>\n",
      "        </dl>\n",
      "      </div>\n",
      "      <hr/>\n",
      "      <h3>Stack trace:</h3>\n",
      "      <ol class=\"stack-trace custom-counter\"><li><pre>Traceback (most recent call last):\n",
      "</pre></li><li><pre>  File &quot;blacksheep/baseapp.pyx&quot;, line 84, in blacksheep.baseapp.BaseApplication.handle\n",
      "</pre></li><li><pre>  File &quot;/opt/venv/lib/python3.11/site-packages/blacksheep/server/normalization.py&quot;, line 543, in handler\n",
      "    return ensure_response(await method(request))\n",
      "                           ^^^^^^^^^^^^^^^^^^^^^\n",
      "</pre></li><li><pre>  File &quot;/opt/venv/lib/python3.11/site-packages/blacksheep/server/normalization.py&quot;, line 533, in handler\n",
      "    return await method(*values)\n",
      "           ^^^^^^^^^^^^^^^^^^^^^\n",
      "</pre></li><li><pre>  File &quot;/model_predictor/src/model_api.py&quot;, line 56, in predict\n",
      "    response = await predictor[2].predict(data)\n",
      "               ^^^^^^^^^^^^^^^^^^^^^^^^^^^^^^^^\n",
      "</pre></li><li><pre>  File &quot;/model_predictor/./src/model_predictor.py&quot;, line 181, in predict\n",
      "    prediction = [self.model_classes[i] for i in labels]\n",
      "                 ^^^^^^^^^^^^^^^^^^^^^^^^^^^^^^^^^^^^^^^\n",
      "</pre></li><li><pre>  File &quot;/model_predictor/./src/model_predictor.py&quot;, line 181, in &lt;listcomp&gt;\n",
      "    prediction = [self.model_classes[i] for i in labels]\n",
      "                  ^^^^^^^^^^^^^^^^^^\n",
      "</pre></li><li><pre>AttributeError: &#x27;ModelPredictor&#x27; object has no attribute &#x27;model_classes&#x27;\n",
      "</pre></li></ol>\n",
      "      <hr/>\n",
      "      <div class=\"notes\">\n",
      "        <span>\n",
      "          This error is displayed for diagnostic purpose. Error details\n",
      "          should be hidden during normal service operation.\n",
      "        </span>\n",
      "      </div>\n",
      "    </div>\n",
      "  </body>\n",
      "</html>\n",
      "\n"
     ]
    }
   ],
   "source": [
    "rows = []\n",
    "test = saved_request[keys[8]]\n",
    "\n",
    "for index, row in test.iterrows():\n",
    "    rows.append(row.to_list())\n",
    "\n",
    "data = {\n",
    "  \"id\": None,\n",
    "  \"rows\": rows,\n",
    "  \"columns\": test.columns.to_list()\n",
    "}\n",
    "\n",
    "import requests\n",
    "response = requests.post('http://14.225.205.204:80/phase-3/prob-2/predict', json=data)\n",
    "#response = requests.post('http://52.221.238.201:5040/phase-2/prob-2/predict', json=data)\n",
    "#response = requests.post('http://52.221.238.201:5040/phase-2/prob-2/predict', data=data, headers={'Content-Type': 'text/plain'})\n",
    "#response = requests.post('http://localhost:8000/phase-2/prob-1/predict', json=data)\n",
    "print(response.text)"
   ]
  },
  {
   "cell_type": "code",
   "execution_count": 48,
   "metadata": {},
   "outputs": [
    {
     "data": {
      "text/plain": [
       "<Task pending name='Task-9' coro=<requests_test() running at C:\\Users\\buikh\\AppData\\Local\\Temp\\ipykernel_43952\\3787563301.py:5>>"
      ]
     },
     "execution_count": 48,
     "metadata": {},
     "output_type": "execute_result"
    }
   ],
   "source": [
    "import random\n",
    "import asyncio\n",
    "import requests\n",
    "\n",
    "async def requests_test():\n",
    "    key = random.randint(0, len(keys) - 1)\n",
    "    id = random.randint(1000, 2000)\n",
    "    test = saved_request[keys[key]]\n",
    "    rows = []\n",
    "    for index, row in test.iterrows():\n",
    "        rows.append(row.to_list())\n",
    "    data = {\n",
    "        \"id\": id,\n",
    "        \"rows\": rows,\n",
    "        \"columns\": test.columns.to_list()\n",
    "        }\n",
    "    #response = requests.post('http://14.225.205.204:80/phase-2/prob-2/predict', json=data)\n",
    "    response = requests.post('http://52.221.238.201:5040/phase-2/prob-2/predict', json=data)\n",
    "    #response = requests.post('http://localhost:8000/phase-2/prob-2/predict', json=data)\n",
    "    #print(response.text)\n",
    "    return response\n",
    "\n",
    "asyncio.create_task(requests_test())"
   ]
  },
  {
   "cell_type": "code",
   "execution_count": null,
   "metadata": {},
   "outputs": [],
   "source": [
    "from aiocache import Cache\n",
    "from aiocache.serializers import PickleSerializer\n",
    "\n",
    "cacherequest = Cache(Cache.REDIS, endpoint=\"localhost\", port=6379, db=1, serializer=PickleSerializer())\n",
    "await cacherequest.clear()"
   ]
  },
  {
   "cell_type": "markdown",
   "metadata": {},
   "source": [
    "# Load request data to DF"
   ]
  },
  {
   "cell_type": "code",
   "execution_count": 18,
   "metadata": {},
   "outputs": [],
   "source": [
    "import pandas as pd\n",
    "import redis\n",
    "import pickle\n",
    "# Load data for problem 1\n",
    "rc2 = redis.Redis(host='localhost', db=2, port=6379)\n",
    "\n",
    "captured_x = pd.DataFrame()\n",
    "for key in rc2.keys():\n",
    "    captured_data = pickle.loads(rc2.get(key))\n",
    "    captured_x = pd.concat([captured_x, captured_data])"
   ]
  },
  {
   "cell_type": "code",
   "execution_count": 21,
   "metadata": {},
   "outputs": [],
   "source": [
    "captured_x.drop_duplicates(inplace=True, ignore_index=True)"
   ]
  },
  {
   "cell_type": "code",
   "execution_count": 6,
   "metadata": {},
   "outputs": [],
   "source": [
    "captured_x = pd.concat(saved_request.values(), ignore_index=True)\n",
    "captured_x.drop_duplicates(inplace=True, ignore_index=True)"
   ]
  },
  {
   "cell_type": "code",
   "execution_count": 43,
   "metadata": {},
   "outputs": [
    {
     "name": "stderr",
     "output_type": "stream",
     "text": [
      "c:\\VENV\\api_prediction\\.venv\\Lib\\site-packages\\sklearn\\preprocessing\\_label.py:99: DataConversionWarning: A column-vector y was passed when a 1d array was expected. Please change the shape of y to (n_samples, ), for example using ravel().\n",
      "  y = column_or_1d(y, warn=True)\n",
      "c:\\VENV\\api_prediction\\.venv\\Lib\\site-packages\\sklearn\\preprocessing\\_label.py:134: DataConversionWarning: A column-vector y was passed when a 1d array was expected. Please change the shape of y to (n_samples, ), for example using ravel().\n",
      "  y = column_or_1d(y, dtype=self.classes_.dtype, warn=True)\n"
     ]
    },
    {
     "data": {
      "text/html": [
       "<style>#sk-container-id-2 {color: black;background-color: white;}#sk-container-id-2 pre{padding: 0;}#sk-container-id-2 div.sk-toggleable {background-color: white;}#sk-container-id-2 label.sk-toggleable__label {cursor: pointer;display: block;width: 100%;margin-bottom: 0;padding: 0.3em;box-sizing: border-box;text-align: center;}#sk-container-id-2 label.sk-toggleable__label-arrow:before {content: \"▸\";float: left;margin-right: 0.25em;color: #696969;}#sk-container-id-2 label.sk-toggleable__label-arrow:hover:before {color: black;}#sk-container-id-2 div.sk-estimator:hover label.sk-toggleable__label-arrow:before {color: black;}#sk-container-id-2 div.sk-toggleable__content {max-height: 0;max-width: 0;overflow: hidden;text-align: left;background-color: #f0f8ff;}#sk-container-id-2 div.sk-toggleable__content pre {margin: 0.2em;color: black;border-radius: 0.25em;background-color: #f0f8ff;}#sk-container-id-2 input.sk-toggleable__control:checked~div.sk-toggleable__content {max-height: 200px;max-width: 100%;overflow: auto;}#sk-container-id-2 input.sk-toggleable__control:checked~label.sk-toggleable__label-arrow:before {content: \"▾\";}#sk-container-id-2 div.sk-estimator input.sk-toggleable__control:checked~label.sk-toggleable__label {background-color: #d4ebff;}#sk-container-id-2 div.sk-label input.sk-toggleable__control:checked~label.sk-toggleable__label {background-color: #d4ebff;}#sk-container-id-2 input.sk-hidden--visually {border: 0;clip: rect(1px 1px 1px 1px);clip: rect(1px, 1px, 1px, 1px);height: 1px;margin: -1px;overflow: hidden;padding: 0;position: absolute;width: 1px;}#sk-container-id-2 div.sk-estimator {font-family: monospace;background-color: #f0f8ff;border: 1px dotted black;border-radius: 0.25em;box-sizing: border-box;margin-bottom: 0.5em;}#sk-container-id-2 div.sk-estimator:hover {background-color: #d4ebff;}#sk-container-id-2 div.sk-parallel-item::after {content: \"\";width: 100%;border-bottom: 1px solid gray;flex-grow: 1;}#sk-container-id-2 div.sk-label:hover label.sk-toggleable__label {background-color: #d4ebff;}#sk-container-id-2 div.sk-serial::before {content: \"\";position: absolute;border-left: 1px solid gray;box-sizing: border-box;top: 0;bottom: 0;left: 50%;z-index: 0;}#sk-container-id-2 div.sk-serial {display: flex;flex-direction: column;align-items: center;background-color: white;padding-right: 0.2em;padding-left: 0.2em;position: relative;}#sk-container-id-2 div.sk-item {position: relative;z-index: 1;}#sk-container-id-2 div.sk-parallel {display: flex;align-items: stretch;justify-content: center;background-color: white;position: relative;}#sk-container-id-2 div.sk-item::before, #sk-container-id-2 div.sk-parallel-item::before {content: \"\";position: absolute;border-left: 1px solid gray;box-sizing: border-box;top: 0;bottom: 0;left: 50%;z-index: -1;}#sk-container-id-2 div.sk-parallel-item {display: flex;flex-direction: column;z-index: 1;position: relative;background-color: white;}#sk-container-id-2 div.sk-parallel-item:first-child::after {align-self: flex-end;width: 50%;}#sk-container-id-2 div.sk-parallel-item:last-child::after {align-self: flex-start;width: 50%;}#sk-container-id-2 div.sk-parallel-item:only-child::after {width: 0;}#sk-container-id-2 div.sk-dashed-wrapped {border: 1px dashed gray;margin: 0 0.4em 0.5em 0.4em;box-sizing: border-box;padding-bottom: 0.4em;background-color: white;}#sk-container-id-2 div.sk-label label {font-family: monospace;font-weight: bold;display: inline-block;line-height: 1.2em;}#sk-container-id-2 div.sk-label-container {text-align: center;}#sk-container-id-2 div.sk-container {/* jupyter's `normalize.less` sets `[hidden] { display: none; }` but bootstrap.min.css set `[hidden] { display: none !important; }` so we also need the `!important` here to be able to override the default hidden behavior on the sphinx rendered scikit-learn.org. See: https://github.com/scikit-learn/scikit-learn/issues/21755 */display: inline-block !important;position: relative;}#sk-container-id-2 div.sk-text-repr-fallback {display: none;}</style><div id=\"sk-container-id-2\" class=\"sk-top-container\"><div class=\"sk-text-repr-fallback\"><pre>LGBMClassifier(objective=&#x27;multiclass&#x27;, random_state=123)</pre><b>In a Jupyter environment, please rerun this cell to show the HTML representation or trust the notebook. <br />On GitHub, the HTML representation is unable to render, please try loading this page with nbviewer.org.</b></div><div class=\"sk-container\" hidden><div class=\"sk-item\"><div class=\"sk-estimator sk-toggleable\"><input class=\"sk-toggleable__control sk-hidden--visually\" id=\"sk-estimator-id-2\" type=\"checkbox\" checked><label for=\"sk-estimator-id-2\" class=\"sk-toggleable__label sk-toggleable__label-arrow\">LGBMClassifier</label><div class=\"sk-toggleable__content\"><pre>LGBMClassifier(objective=&#x27;multiclass&#x27;, random_state=123)</pre></div></div></div></div></div>"
      ],
      "text/plain": [
       "LGBMClassifier(objective='multiclass', random_state=123)"
      ]
     },
     "execution_count": 43,
     "metadata": {},
     "output_type": "execute_result"
    }
   ],
   "source": [
    "from lightgbm import LGBMClassifier\n",
    "model0 = LGBMClassifier(objective=\"multiclass\", random_state=123)#, **trial.params)\n",
    "model0.fit(train_x, train_y)"
   ]
  },
  {
   "cell_type": "code",
   "execution_count": 29,
   "metadata": {},
   "outputs": [
    {
     "data": {
      "text/plain": [
       "array(['Normal', 'Normal', 'Normal', ..., 'Other', 'Denial of Service',\n",
       "       'Denial of Service'], dtype=object)"
      ]
     },
     "execution_count": 29,
     "metadata": {},
     "output_type": "execute_result"
    }
   ],
   "source": [
    "model0.predict(captured_x)"
   ]
  },
  {
   "cell_type": "code",
   "execution_count": 45,
   "metadata": {},
   "outputs": [
    {
     "name": "stdout",
     "output_type": "stream",
     "text": [
      "{'accuracy_score': 0.8633791430881164}\n"
     ]
    }
   ],
   "source": [
    "from sklearn.metrics import accuracy_score\n",
    "predictions = model0.predict(test_x)\n",
    "accuracy = accuracy_score(predictions, test_y)\n",
    "metrics = {\"accuracy_score\": accuracy}\n",
    "print(metrics)"
   ]
  },
  {
   "cell_type": "code",
   "execution_count": 33,
   "metadata": {},
   "outputs": [
    {
     "data": {
      "text/plain": [
       "label                \n",
       "Normal                   20143\n",
       "Other                    12614\n",
       "Exploits                  9781\n",
       "Denial of Service         8627\n",
       "Information Gathering     3639\n",
       "Malware                    852\n",
       "Name: count, dtype: int64"
      ]
     },
     "execution_count": 33,
     "metadata": {},
     "output_type": "execute_result"
    }
   ],
   "source": [
    "train_y.value_counts()"
   ]
  },
  {
   "cell_type": "code",
   "execution_count": 46,
   "metadata": {},
   "outputs": [
    {
     "name": "stderr",
     "output_type": "stream",
     "text": [
      "c:\\VENV\\api_prediction\\.venv\\Lib\\site-packages\\_distutils_hack\\__init__.py:33: UserWarning: Setuptools is replacing distutils.\n",
      "  warnings.warn(\"Setuptools is replacing distutils.\")\n",
      "Registered model 'phase-2_prob-2_model' already exists. Creating a new version of this model...\n",
      "2023/07/30 17:36:56 INFO mlflow.tracking._model_registry.client: Waiting up to 300 seconds for model version to finish creation. Model name: phase-2_prob-2_model, version 2\n",
      "Created version '2' of model 'phase-2_prob-2_model'.\n"
     ]
    }
   ],
   "source": [
    "import mlflow\n",
    "import numpy as np\n",
    "from mlflow.models.signature import infer_signature\n",
    "\n",
    "desc = \"\"\"\n",
    "### Header\n",
    "LGBM model, Tunned Model For Prob2\n",
    "Model: LGBM\n",
    "    \"\"\"\n",
    "\n",
    "MLFLOW_TRACKING_URI = 'http://127.0.0.1:5000'\n",
    "mlflow.set_tracking_uri(MLFLOW_TRACKING_URI)\n",
    "mlflow.set_experiment(\"phase-2_prob-2_lgbm\")\n",
    "MLFLOW_MODEL_PREFIX = \"model\"\n",
    "mlflow.start_run(description=desc)\n",
    "mlflow.log_metrics(metrics)\n",
    "mlflow.log_params(model0.get_params())\n",
    "signature = infer_signature(test_x.astype(np.float64), predictions)\n",
    "mlflow.sklearn.log_model(\n",
    "    sk_model=model0,\n",
    "    artifact_path=MLFLOW_MODEL_PREFIX,\n",
    "    signature=signature,\n",
    "    pip_requirements ='src/requirements.txt',\n",
    "    registered_model_name=\"phase-2_prob-2_model\"\n",
    ")\n",
    "\n",
    "experimentid = mlflow.active_run().info.run_id\n",
    "mlflow.end_run()"
   ]
  },
  {
   "cell_type": "markdown",
   "metadata": {},
   "source": [
    "# Rejected code"
   ]
  },
  {
   "cell_type": "code",
   "execution_count": 34,
   "metadata": {},
   "outputs": [
    {
     "data": {
      "text/plain": [
       "['data/phase-2/prob-2/kmeans.cpk']"
      ]
     },
     "execution_count": 34,
     "metadata": {},
     "output_type": "execute_result"
    }
   ],
   "source": [
    "from sklearn.cluster import MiniBatchKMeans\n",
    "import joblib\n",
    "import numpy as np\n",
    "# N là số lượng cluster\n",
    "N = 30000\n",
    "# Train clustering model cho data đã có label\n",
    "kmeans = MiniBatchKMeans(n_clusters=N, random_state=0, n_init='auto').fit(train_x)\n",
    "joblib.dump(kmeans, 'data/phase-2/prob-2/kmeans.cpk')"
   ]
  },
  {
   "cell_type": "code",
   "execution_count": 39,
   "metadata": {},
   "outputs": [],
   "source": [
    "import joblib\n",
    "import numpy as np\n",
    "\n",
    "N = 30000\n",
    "kmeans = joblib.load('data/phase-2/prob-2/kmeans.cpk')\n",
    "new_labels = []\n",
    "\n",
    "# Duyệt từng cluster\n",
    "for  i  in  range(N):\n",
    "\t# Lấy các label của các data point thuộc cluster i\n",
    "\tmask = (kmeans.labels_ == i)\n",
    "\tcluster_labels = train_y[mask]\n",
    "\n",
    "\tif  len(cluster_labels) == 0:\n",
    "\t\t# Nếu cluster i rỗng thì xác định cluster i ánh xạ với 1 label mặc định (ở đây lựa chọn là 0)\n",
    "\t\tnew_labels.append(\"Other\")\n",
    "\telse:\n",
    "\t\t# Tìm label mới cho cả cụm cluster trong trường hợp cụm cluster khác rỗng\n",
    "\t\t#if  isinstance(train_y.flatten()[0], float):\n",
    "\t\t\t# Nếu là bài toán Regression thì lấy giá trị trung bình của các label thuộc cluster\n",
    "\t\t#\tnew_labels.append(np.mean(cluster_labels.flatten()))\n",
    "\t\t#else:\n",
    "\t\t\t# Nếu là bài toán Classification thì lấy label xuất hiện nhiều nhất trong cluster\n",
    "\t\t\tnew_labels.append(cluster_labels.value_counts().idxmax()[0])\n",
    "\n",
    "# Ánh xạ lại label cho data drift dựa trên kết quả predict cluster ở trên\n",
    "y_drift_propagated = [new_labels[c] for  c  in  kmeans.labels_]"
   ]
  },
  {
   "cell_type": "code",
   "execution_count": 41,
   "metadata": {},
   "outputs": [
    {
     "data": {
      "text/plain": [
       "0.6497978981406629"
      ]
     },
     "execution_count": 41,
     "metadata": {},
     "output_type": "execute_result"
    }
   ],
   "source": [
    "y_drift_test_propagated = [ new_labels[c] for c in kmeans.predict(test_x)]\n",
    "from sklearn.metrics import accuracy_score\n",
    "accuracy_score(y_drift_test_propagated, test_y)"
   ]
  },
  {
   "cell_type": "code",
   "execution_count": null,
   "metadata": {},
   "outputs": [],
   "source": [
    "# Prepair label data for training\n",
    "kmeans_clusters = kmeans.predict(test_x)\n",
    "#approx_label0 = [new_labels[c] for c in kmeans_clusters]\n",
    "approx_label0 = yourFavoriteModel.predict(test_x)\n",
    "approx_label_df0 = pd.DataFrame(approx_label0, columns=[prob_config.target_col])\n",
    "\n",
    "# Model 0 training\n",
    "train_x_new = pd.DataFrame(np.concatenate((train_x, test_x)), columns=train_x.columns)\n",
    "train_y_new = pd.DataFrame(np.concatenate((train_y, approx_label_df0)), columns=train_y.columns)"
   ]
  },
  {
   "cell_type": "code",
   "execution_count": null,
   "metadata": {},
   "outputs": [],
   "source": [
    "import featurewiz as fw\n",
    "\n",
    "selected_features, trainm = fw.featurewiz(training_data, target=target_col, corr_limit=0.9, verbose=2)\n",
    "print('Selected features:', selected_features)"
   ]
  },
  {
   "cell_type": "code",
   "execution_count": null,
   "metadata": {},
   "outputs": [],
   "source": [
    "\"\"\"\n",
    "Optuna example that optimizes a classifier configuration for cancer dataset using LightGBM.\n",
    "\n",
    "In this example, we optimize the validation accuracy of cancer detection using LightGBM.\n",
    "We optimize both the choice of booster model and their hyperparameters.\n",
    "\n",
    "\"\"\"\n",
    "\n",
    "import numpy as np\n",
    "import optuna\n",
    "\n",
    "import lightgbm as lgb\n",
    "import sklearn.datasets\n",
    "import sklearn.metrics\n",
    "from sklearn.model_selection import train_test_split\n",
    "\n",
    "\n",
    "# FYI: Objective functions can take additional arguments\n",
    "# (https://optuna.readthedocs.io/en/stable/faq.html#objective-func-additional-args).\n",
    "def objective(trial):\n",
    "    dtrain = lgb.Dataset(train_x, label=train_y)\n",
    "\n",
    "    param = {\n",
    "        \"objective\": \"multiclass\",\n",
    "        \"metric\": \"multi_logloss\",\n",
    "        \"verbosity\": -1,\n",
    "        \"boosting_type\": \"gbdt\",\n",
    "        \"lambda_l1\": trial.suggest_float(\"lambda_l1\", 1e-8, 10.0, log=True),\n",
    "        \"lambda_l2\": trial.suggest_float(\"lambda_l2\", 1e-8, 10.0, log=True),\n",
    "        \"num_leaves\": trial.suggest_int(\"num_leaves\", 2, 256),\n",
    "        \"feature_fraction\": trial.suggest_float(\"feature_fraction\", 0.4, 1.0),\n",
    "        \"bagging_fraction\": trial.suggest_float(\"bagging_fraction\", 0.4, 1.0),\n",
    "        \"bagging_freq\": trial.suggest_int(\"bagging_freq\", 1, 7),\n",
    "        \"min_child_samples\": trial.suggest_int(\"min_child_samples\", 5, 100),\n",
    "    }\n",
    "    gbm = LGBMClassifier(**param)\n",
    "    gbm = gbm.fit(train_x, train_y)\n",
    "    preds = gbm.predict(test_x)\n",
    "    accuracy = sklearn.metrics.accuracy_score(test_y, preds)\n",
    "    return accuracy\n",
    "\n",
    "\n",
    "study = optuna.create_study(direction=\"maximize\")\n",
    "study.optimize(objective, n_trials=100)\n",
    "\n",
    "print(\"Number of finished trials: {}\".format(len(study.trials)))\n",
    "\n",
    "print(\"Best trial:\")\n",
    "trial = study.best_trial\n",
    "\n",
    "print(\"  Value: {}\".format(trial.value))\n",
    "\n",
    "print(\"  Params: \")\n",
    "for key, value in trial.params.items():\n",
    "    print(\"    {}: {}\".format(key, value))"
   ]
  }
 ],
 "metadata": {
  "kernelspec": {
   "display_name": "deploy",
   "language": "python",
   "name": "python3"
  },
  "language_info": {
   "codemirror_mode": {
    "name": "ipython",
    "version": 3
   },
   "file_extension": ".py",
   "mimetype": "text/x-python",
   "name": "python",
   "nbconvert_exporter": "python",
   "pygments_lexer": "ipython3",
   "version": "3.11.1"
  },
  "orig_nbformat": 4
 },
 "nbformat": 4,
 "nbformat_minor": 2
}
