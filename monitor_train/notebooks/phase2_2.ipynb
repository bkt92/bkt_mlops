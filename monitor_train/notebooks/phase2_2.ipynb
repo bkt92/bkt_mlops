{
 "cells": [
  {
   "cell_type": "code",
   "execution_count": 1,
   "metadata": {},
   "outputs": [
    {
     "name": "stdout",
     "output_type": "stream",
     "text": [
      "c:\\VENV\\api_prediction\\monitor_train\n"
     ]
    }
   ],
   "source": [
    "%cd ..\n",
    "%pwd\n",
    "import sys\n",
    "sys.path.append('./src')\n",
    "from src.data_processor import DataProcessor\n",
    "from src.problem_config import create_prob_config \n",
    "prob_config = create_prob_config(\"phase-2\", \"prob-2\")"
   ]
  },
  {
   "cell_type": "markdown",
   "metadata": {},
   "source": [
    "## Load Training Data"
   ]
  },
  {
   "cell_type": "code",
   "execution_count": 15,
   "metadata": {},
   "outputs": [],
   "source": [
    "import pandas as pd\n",
    "import pickle\n",
    "\n",
    "training_data = pd.read_parquet(prob_config.raw_data_path)\n",
    "\n",
    "training_data, category_index = DataProcessor.build_category_features(\n",
    "            training_data, prob_config.categorical_cols\n",
    "        )\n",
    "\n",
    "target_col = prob_config.target_col\n",
    "train_x = training_data.drop([target_col], axis=1)\n",
    "train_y = training_data[[target_col]]\n",
    "\n",
    "# Store the category_index\n",
    "with open(prob_config.category_index_path, \"wb\") as f:\n",
    "    pickle.dump(category_index, f)"
   ]
  },
  {
   "cell_type": "markdown",
   "metadata": {},
   "source": [
    "# Check and process saved request"
   ]
  },
  {
   "cell_type": "code",
   "execution_count": 6,
   "metadata": {},
   "outputs": [
    {
     "name": "stdout",
     "output_type": "stream",
     "text": [
      " Volume in drive C is Windows\n",
      " Volume Serial Number is 788F-AEF3\n",
      "\n",
      " Directory of c:\\VENV\\api_prediction\\monitor_train\\data\n",
      "\n",
      "07/10/2023  10:33 AM    <DIR>          .\n",
      "07/10/2023  10:25 AM    <DIR>          ..\n",
      "07/10/2023  10:32 AM        67,043,899 192.168.88.113_prob1_10_07_2023__10_32_28.pkl\n",
      "07/10/2023  10:33 AM        66,963,641 192.168.88.113_prob2_10_07_2023__10_33_13.pkl\n",
      "               2 File(s)    134,007,540 bytes\n",
      "               2 Dir(s)  80,110,854,144 bytes free\n"
     ]
    }
   ],
   "source": [
    "%ls \"data\""
   ]
  },
  {
   "cell_type": "code",
   "execution_count": 7,
   "metadata": {},
   "outputs": [],
   "source": [
    "saved_request = DataProcessor.load_saved_request('192.168.88.113_prob2_10_07_2023__10_33_13.pkl')\n",
    "keys = list(saved_request.keys())"
   ]
  },
  {
   "cell_type": "markdown",
   "metadata": {},
   "source": [
    "# Test API"
   ]
  },
  {
   "cell_type": "code",
   "execution_count": 8,
   "metadata": {},
   "outputs": [
    {
     "name": "stdout",
     "output_type": "stream",
     "text": [
      "{\"id\":\"123\",\"predictions\":[\"Normal\",\"Information Gathering\",\"Normal\",\"Exploits\",\"Exploits\",\"Exploits\",\"Normal\",\"Other\",\"Information Gathering\",\"Exploits\",\"Normal\",\"Information Gathering\",\"Normal\",\"Normal\",\"Information Gathering\",\"Normal\",\"Normal\",\"Normal\",\"Other\",\"Exploits\",\"Denial of Service\",\"Normal\",\"Normal\",\"Normal\",\"Normal\",\"Exploits\",\"Other\",\"Other\",\"Normal\",\"Denial of Service\",\"Denial of Service\",\"Denial of Service\",\"Other\",\"Normal\",\"Other\",\"Normal\",\"Other\",\"Information Gathering\",\"Other\",\"Normal\",\"Normal\",\"Normal\",\"Exploits\",\"Other\",\"Normal\",\"Exploits\",\"Normal\",\"Exploits\",\"Normal\",\"Information Gathering\",\"Normal\",\"Normal\",\"Exploits\",\"Exploits\",\"Denial of Service\",\"Normal\",\"Denial of Service\",\"Normal\",\"Normal\",\"Exploits\",\"Normal\",\"Normal\",\"Denial of Service\",\"Exploits\",\"Exploits\",\"Other\",\"Other\",\"Normal\",\"Other\",\"Normal\",\"Normal\",\"Information Gathering\",\"Normal\",\"Exploits\",\"Exploits\",\"Denial of Service\",\"Normal\",\"Exploits\",\"Exploits\",\"Normal\",\"Exploits\",\"Denial of Service\",\"Exploits\",\"Normal\",\"Denial of Service\",\"Exploits\",\"Normal\",\"Exploits\",\"Normal\",\"Other\",\"Normal\",\"Normal\",\"Exploits\",\"Denial of Service\",\"Normal\",\"Exploits\",\"Normal\",\"Exploits\",\"Exploits\",\"Exploits\",\"Exploits\",\"Information Gathering\",\"Normal\",\"Information Gathering\",\"Normal\",\"Malware\",\"Other\",\"Normal\",\"Other\",\"Denial of Service\",\"Information Gathering\",\"Denial of Service\",\"Normal\",\"Exploits\",\"Exploits\",\"Denial of Service\",\"Other\",\"Other\",\"Normal\",\"Other\",\"Denial of Service\",\"Normal\",\"Information Gathering\",\"Other\",\"Other\",\"Exploits\",\"Normal\",\"Normal\",\"Normal\",\"Denial of Service\",\"Exploits\",\"Information Gathering\",\"Exploits\",\"Exploits\",\"Exploits\",\"Other\",\"Other\",\"Normal\",\"Other\",\"Exploits\",\"Denial of Service\",\"Malware\",\"Exploits\",\"Normal\",\"Normal\",\"Normal\",\"Normal\",\"Other\",\"Normal\",\"Normal\",\"Normal\",\"Normal\",\"Normal\",\"Other\",\"Normal\",\"Denial of Service\",\"Normal\",\"Normal\",\"Information Gathering\",\"Normal\",\"Normal\",\"Normal\",\"Denial of Service\",\"Normal\",\"Exploits\",\"Exploits\",\"Exploits\",\"Normal\",\"Exploits\",\"Other\",\"Other\",\"Normal\",\"Normal\",\"Exploits\",\"Exploits\",\"Denial of Service\",\"Normal\",\"Denial of Service\",\"Normal\",\"Normal\",\"Normal\",\"Normal\",\"Denial of Service\",\"Other\",\"Exploits\",\"Exploits\",\"Normal\",\"Other\",\"Normal\",\"Other\",\"Normal\",\"Normal\",\"Other\",\"Exploits\",\"Other\",\"Exploits\",\"Other\",\"Other\",\"Normal\",\"Normal\",\"Other\",\"Information Gathering\",\"Malware\",\"Exploits\",\"Denial of Service\",\"Other\",\"Malware\",\"Exploits\",\"Exploits\",\"Normal\",\"Exploits\",\"Exploits\",\"Normal\",\"Normal\",\"Normal\",\"Information Gathering\",\"Normal\",\"Normal\",\"Normal\",\"Exploits\",\"Denial of Service\",\"Normal\",\"Normal\",\"Other\",\"Normal\",\"Normal\",\"Exploits\",\"Exploits\",\"Exploits\",\"Exploits\",\"Normal\",\"Denial of Service\",\"Denial of Service\",\"Normal\",\"Exploits\",\"Normal\",\"Normal\",\"Denial of Service\",\"Normal\",\"Normal\",\"Exploits\",\"Exploits\",\"Normal\",\"Exploits\",\"Normal\",\"Other\",\"Normal\",\"Normal\",\"Exploits\",\"Normal\",\"Normal\",\"Normal\",\"Normal\",\"Normal\",\"Exploits\",\"Normal\",\"Denial of Service\",\"Denial of Service\",\"Exploits\",\"Normal\",\"Other\",\"Exploits\",\"Exploits\",\"Other\",\"Denial of Service\",\"Normal\",\"Other\",\"Other\",\"Other\",\"Denial of Service\",\"Other\",\"Normal\",\"Exploits\",\"Denial of Service\",\"Exploits\",\"Other\",\"Normal\",\"Denial of Service\",\"Exploits\",\"Information Gathering\",\"Information Gathering\",\"Normal\",\"Exploits\",\"Other\",\"Exploits\",\"Information Gathering\",\"Normal\",\"Exploits\",\"Normal\",\"Normal\",\"Information Gathering\",\"Other\",\"Exploits\",\"Normal\",\"Exploits\",\"Denial of Service\",\"Normal\",\"Normal\",\"Normal\",\"Other\",\"Normal\",\"Normal\",\"Exploits\",\"Exploits\",\"Information Gathering\",\"Normal\",\"Other\",\"Denial of Service\",\"Normal\",\"Normal\",\"Normal\",\"Other\",\"Other\",\"Normal\",\"Normal\",\"Exploits\",\"Other\",\"Normal\",\"Normal\",\"Normal\",\"Exploits\",\"Other\",\"Exploits\",\"Normal\",\"Other\",\"Other\",\"Information Gathering\",\"Exploits\",\"Exploits\",\"Denial of Service\",\"Exploits\",\"Other\",\"Denial of Service\",\"Normal\",\"Normal\",\"Normal\",\"Exploits\",\"Exploits\",\"Other\",\"Normal\",\"Information Gathering\",\"Normal\",\"Information Gathering\",\"Exploits\",\"Other\",\"Other\",\"Denial of Service\",\"Other\",\"Exploits\",\"Exploits\",\"Exploits\",\"Normal\",\"Normal\",\"Other\",\"Other\",\"Normal\",\"Exploits\",\"Exploits\",\"Normal\",\"Other\",\"Exploits\",\"Denial of Service\",\"Denial of Service\",\"Other\",\"Normal\",\"Normal\",\"Normal\",\"Normal\",\"Exploits\",\"Normal\",\"Normal\",\"Other\",\"Other\",\"Normal\",\"Exploits\",\"Other\",\"Normal\",\"Normal\",\"Normal\",\"Normal\",\"Denial of Service\",\"Normal\",\"Normal\",\"Exploits\",\"Normal\",\"Other\",\"Other\",\"Other\",\"Exploits\",\"Normal\",\"Other\",\"Exploits\",\"Normal\",\"Normal\",\"Exploits\",\"Other\",\"Other\",\"Exploits\",\"Other\",\"Malware\",\"Exploits\",\"Normal\",\"Normal\",\"Normal\",\"Denial of Service\",\"Other\",\"Other\",\"Other\",\"Normal\",\"Exploits\",\"Normal\",\"Normal\",\"Exploits\",\"Exploits\",\"Normal\",\"Normal\",\"Exploits\",\"Normal\",\"Exploits\",\"Other\",\"Denial of Service\",\"Normal\",\"Exploits\",\"Exploits\",\"Other\",\"Other\",\"Other\",\"Exploits\",\"Normal\",\"Normal\",\"Other\",\"Normal\",\"Normal\",\"Other\",\"Normal\",\"Normal\",\"Exploits\",\"Normal\",\"Exploits\",\"Exploits\",\"Denial of Service\",\"Normal\",\"Exploits\",\"Other\",\"Normal\",\"Normal\",\"Exploits\",\"Normal\",\"Other\",\"Information Gathering\",\"Other\",\"Normal\",\"Exploits\",\"Normal\",\"Denial of Service\",\"Exploits\",\"Other\",\"Denial of Service\",\"Normal\",\"Exploits\",\"Other\",\"Other\",\"Exploits\",\"Exploits\",\"Normal\",\"Exploits\",\"Information Gathering\",\"Exploits\",\"Exploits\",\"Other\",\"Normal\",\"Other\",\"Normal\",\"Normal\",\"Denial of Service\",\"Normal\",\"Information Gathering\",\"Normal\",\"Denial of Service\",\"Denial of Service\",\"Exploits\",\"Other\",\"Normal\",\"Normal\",\"Normal\",\"Exploits\",\"Information Gathering\",\"Normal\",\"Exploits\",\"Normal\",\"Normal\",\"Denial of Service\",\"Normal\",\"Other\",\"Other\",\"Normal\",\"Normal\",\"Other\",\"Other\",\"Normal\",\"Other\",\"Exploits\",\"Denial of Service\",\"Normal\",\"Other\",\"Normal\",\"Malware\",\"Denial of Service\",\"Exploits\",\"Normal\",\"Normal\",\"Information Gathering\",\"Normal\",\"Denial of Service\",\"Normal\",\"Other\",\"Denial of Service\",\"Other\",\"Normal\",\"Normal\",\"Normal\",\"Normal\",\"Exploits\",\"Normal\",\"Denial of Service\",\"Denial of Service\",\"Other\",\"Exploits\",\"Normal\",\"Exploits\",\"Other\",\"Denial of Service\",\"Exploits\",\"Normal\",\"Exploits\",\"Exploits\",\"Exploits\",\"Exploits\",\"Exploits\",\"Exploits\",\"Exploits\",\"Malware\",\"Normal\",\"Normal\",\"Exploits\",\"Other\",\"Other\",\"Exploits\",\"Denial of Service\",\"Normal\",\"Other\",\"Information Gathering\",\"Normal\",\"Normal\",\"Normal\",\"Denial of Service\",\"Normal\",\"Exploits\",\"Normal\",\"Other\",\"Other\",\"Exploits\",\"Normal\",\"Normal\",\"Other\",\"Other\",\"Normal\",\"Normal\",\"Normal\",\"Other\",\"Exploits\",\"Exploits\",\"Normal\",\"Exploits\",\"Denial of Service\",\"Malware\",\"Exploits\",\"Normal\",\"Normal\",\"Information Gathering\",\"Other\",\"Exploits\",\"Exploits\",\"Exploits\",\"Normal\",\"Normal\",\"Other\",\"Other\",\"Exploits\",\"Denial of Service\",\"Information Gathering\",\"Other\",\"Other\",\"Information Gathering\",\"Other\",\"Exploits\",\"Normal\",\"Other\",\"Other\",\"Denial of Service\",\"Normal\",\"Exploits\",\"Normal\",\"Exploits\",\"Normal\",\"Normal\",\"Denial of Service\",\"Denial of Service\",\"Denial of Service\",\"Normal\",\"Denial of Service\",\"Normal\",\"Denial of Service\",\"Other\",\"Other\",\"Exploits\",\"Exploits\",\"Denial of Service\",\"Exploits\",\"Denial of Service\",\"Exploits\",\"Exploits\",\"Other\",\"Normal\",\"Normal\",\"Other\",\"Normal\",\"Normal\",\"Other\",\"Other\",\"Normal\",\"Information Gathering\",\"Other\",\"Normal\",\"Other\",\"Other\",\"Normal\",\"Denial of Service\",\"Exploits\",\"Normal\",\"Other\",\"Normal\",\"Exploits\",\"Denial of Service\",\"Normal\",\"Normal\",\"Other\",\"Normal\",\"Normal\",\"Normal\",\"Malware\",\"Normal\",\"Normal\",\"Normal\",\"Other\",\"Normal\",\"Normal\",\"Exploits\",\"Exploits\",\"Other\",\"Normal\",\"Normal\",\"Other\",\"Normal\",\"Other\",\"Normal\",\"Exploits\",\"Other\",\"Information Gathering\",\"Other\",\"Normal\",\"Denial of Service\",\"Other\",\"Exploits\",\"Normal\",\"Exploits\",\"Normal\",\"Information Gathering\",\"Normal\",\"Denial of Service\",\"Normal\",\"Normal\",\"Exploits\",\"Normal\",\"Normal\",\"Exploits\",\"Exploits\",\"Denial of Service\",\"Normal\",\"Denial of Service\",\"Exploits\",\"Other\",\"Other\",\"Normal\",\"Normal\",\"Other\",\"Other\",\"Normal\",\"Normal\",\"Other\",\"Other\",\"Denial of Service\",\"Other\",\"Other\",\"Normal\",\"Other\",\"Information Gathering\",\"Normal\",\"Other\",\"Normal\",\"Other\",\"Denial of Service\",\"Denial of Service\",\"Denial of Service\",\"Denial of Service\",\"Exploits\",\"Normal\",\"Denial of Service\",\"Exploits\",\"Normal\",\"Denial of Service\",\"Normal\",\"Other\",\"Other\",\"Normal\",\"Other\",\"Other\",\"Exploits\",\"Normal\",\"Information Gathering\",\"Normal\",\"Exploits\",\"Normal\",\"Exploits\",\"Normal\",\"Normal\",\"Exploits\",\"Other\",\"Normal\",\"Normal\",\"Normal\",\"Other\",\"Other\",\"Other\",\"Exploits\",\"Other\",\"Other\",\"Normal\",\"Information Gathering\",\"Normal\",\"Exploits\",\"Other\",\"Information Gathering\",\"Normal\",\"Other\",\"Exploits\",\"Exploits\",\"Normal\",\"Exploits\",\"Normal\",\"Exploits\",\"Exploits\",\"Denial of Service\",\"Normal\",\"Information Gathering\",\"Normal\",\"Other\",\"Denial of Service\",\"Exploits\",\"Other\",\"Normal\",\"Denial of Service\",\"Denial of Service\",\"Exploits\",\"Other\",\"Other\",\"Other\",\"Normal\",\"Normal\",\"Other\",\"Denial of Service\",\"Other\",\"Denial of Service\",\"Information Gathering\",\"Information Gathering\",\"Normal\",\"Information Gathering\",\"Normal\",\"Normal\",\"Other\",\"Normal\",\"Denial of Service\",\"Normal\",\"Information Gathering\",\"Exploits\",\"Exploits\",\"Denial of Service\",\"Normal\",\"Normal\",\"Exploits\",\"Normal\",\"Normal\",\"Normal\",\"Normal\",\"Information Gathering\",\"Exploits\",\"Normal\",\"Exploits\",\"Normal\",\"Denial of Service\",\"Normal\",\"Normal\",\"Exploits\",\"Other\",\"Denial of Service\",\"Normal\",\"Exploits\",\"Denial of Service\",\"Denial of Service\",\"Normal\",\"Denial of Service\",\"Other\",\"Other\",\"Denial of Service\",\"Normal\",\"Normal\",\"Normal\",\"Exploits\",\"Information Gathering\",\"Exploits\",\"Exploits\",\"Other\",\"Exploits\",\"Other\",\"Other\",\"Other\",\"Information Gathering\",\"Normal\",\"Normal\",\"Normal\",\"Normal\",\"Normal\",\"Other\",\"Normal\",\"Other\",\"Malware\",\"Other\",\"Exploits\",\"Normal\",\"Denial of Service\",\"Information Gathering\",\"Exploits\",\"Denial of Service\",\"Normal\",\"Normal\",\"Other\",\"Other\",\"Malware\",\"Other\",\"Normal\",\"Exploits\",\"Other\",\"Exploits\",\"Exploits\",\"Normal\",\"Exploits\",\"Denial of Service\",\"Normal\",\"Other\",\"Other\",\"Information Gathering\",\"Normal\",\"Denial of Service\",\"Denial of Service\",\"Normal\",\"Exploits\",\"Denial of Service\",\"Exploits\",\"Denial of Service\",\"Other\",\"Information Gathering\",\"Normal\",\"Normal\",\"Normal\",\"Other\",\"Normal\",\"Normal\",\"Other\",\"Exploits\",\"Normal\",\"Exploits\",\"Normal\",\"Normal\",\"Information Gathering\",\"Exploits\",\"Exploits\",\"Other\",\"Other\",\"Denial of Service\",\"Information Gathering\",\"Normal\",\"Other\",\"Exploits\",\"Normal\",\"Denial of Service\",\"Other\",\"Normal\",\"Normal\",\"Other\",\"Exploits\",\"Other\",\"Normal\",\"Other\",\"Other\",\"Normal\",\"Information Gathering\",\"Normal\",\"Denial of Service\",\"Denial of Service\",\"Denial of Service\",\"Exploits\",\"Normal\",\"Other\",\"Normal\",\"Denial of Service\",\"Normal\",\"Normal\",\"Other\",\"Denial of Service\",\"Other\",\"Other\",\"Other\",\"Denial of Service\",\"Exploits\",\"Denial of Service\",\"Denial of Service\",\"Normal\",\"Normal\",\"Information Gathering\",\"Other\",\"Normal\",\"Normal\",\"Other\",\"Normal\",\"Normal\",\"Denial of Service\",\"Normal\",\"Exploits\",\"Denial of Service\",\"Information Gathering\",\"Exploits\",\"Other\",\"Other\",\"Exploits\",\"Exploits\",\"Normal\",\"Exploits\",\"Exploits\",\"Other\",\"Exploits\",\"Normal\",\"Normal\",\"Other\",\"Normal\",\"Exploits\",\"Other\",\"Normal\",\"Exploits\",\"Exploits\",\"Normal\",\"Denial of Service\",\"Exploits\",\"Normal\",\"Normal\",\"Exploits\",\"Denial of Service\",\"Denial of Service\",\"Exploits\",\"Information Gathering\",\"Normal\",\"Exploits\",\"Normal\",\"Normal\",\"Denial of Service\",\"Denial of Service\",\"Normal\",\"Other\",\"Other\",\"Normal\",\"Denial of Service\",\"Other\",\"Other\",\"Normal\",\"Other\",\"Normal\",\"Exploits\",\"Denial of Service\",\"Exploits\",\"Exploits\",\"Normal\",\"Normal\",\"Denial of Service\",\"Normal\",\"Other\",\"Exploits\",\"Denial of Service\",\"Other\",\"Normal\",\"Other\",\"Information Gathering\",\"Normal\",\"Exploits\",\"Information Gathering\",\"Information Gathering\",\"Information Gathering\",\"Other\",\"Normal\",\"Normal\",\"Information Gathering\",\"Exploits\",\"Information Gathering\",\"Other\",\"Normal\",\"Denial of Service\",\"Other\",\"Information Gathering\",\"Other\",\"Denial of Service\",\"Normal\",\"Normal\",\"Normal\",\"Denial of Service\",\"Other\",\"Other\",\"Normal\",\"Normal\",\"Normal\",\"Other\",\"Exploits\",\"Normal\",\"Normal\",\"Other\",\"Other\",\"Exploits\",\"Normal\",\"Other\",\"Normal\",\"Normal\",\"Normal\",\"Normal\",\"Normal\",\"Normal\",\"Exploits\",\"Normal\",\"Exploits\",\"Exploits\",\"Denial of Service\",\"Normal\",\"Denial of Service\",\"Exploits\",\"Other\",\"Denial of Service\",\"Other\",\"Information Gathering\",\"Other\",\"Exploits\",\"Exploits\",\"Other\",\"Denial of Service\",\"Denial of Service\",\"Normal\",\"Exploits\",\"Exploits\",\"Exploits\",\"Exploits\",\"Exploits\",\"Exploits\",\"Other\",\"Information Gathering\",\"Normal\",\"Exploits\",\"Other\",\"Other\",\"Exploits\",\"Normal\",\"Normal\",\"Malware\",\"Exploits\",\"Normal\",\"Exploits\",\"Normal\",\"Normal\",\"Other\",\"Normal\",\"Other\",\"Exploits\",\"Denial of Service\",\"Normal\",\"Other\",\"Other\",\"Other\",\"Denial of Service\",\"Other\",\"Information Gathering\",\"Exploits\",\"Other\",\"Other\",\"Other\",\"Other\",\"Normal\",\"Normal\",\"Normal\",\"Denial of Service\",\"Normal\",\"Normal\",\"Denial of Service\",\"Other\",\"Exploits\",\"Normal\",\"Normal\",\"Other\",\"Normal\",\"Normal\",\"Exploits\",\"Normal\",\"Normal\",\"Normal\",\"Exploits\",\"Exploits\",\"Exploits\",\"Exploits\",\"Exploits\",\"Normal\",\"Normal\",\"Exploits\",\"Malware\",\"Exploits\",\"Exploits\",\"Normal\",\"Exploits\",\"Denial of Service\",\"Exploits\",\"Other\",\"Other\",\"Denial of Service\",\"Normal\",\"Exploits\",\"Normal\",\"Normal\",\"Denial of Service\",\"Other\",\"Normal\",\"Denial of Service\",\"Exploits\",\"Normal\",\"Normal\",\"Exploits\",\"Normal\",\"Information Gathering\",\"Exploits\",\"Normal\",\"Other\",\"Exploits\",\"Other\",\"Exploits\",\"Information Gathering\",\"Normal\",\"Other\",\"Normal\",\"Exploits\",\"Normal\",\"Denial of Service\",\"Normal\",\"Exploits\",\"Denial of Service\",\"Normal\",\"Denial of Service\",\"Normal\",\"Denial of Service\",\"Exploits\",\"Other\",\"Normal\",\"Normal\",\"Exploits\",\"Normal\",\"Exploits\",\"Normal\",\"Normal\",\"Other\",\"Normal\",\"Exploits\",\"Normal\",\"Malware\",\"Normal\",\"Other\",\"Exploits\",\"Other\",\"Other\",\"Denial of Service\",\"Normal\",\"Normal\",\"Other\",\"Normal\",\"Normal\",\"Other\",\"Other\",\"Denial of Service\",\"Exploits\",\"Other\",\"Exploits\",\"Other\",\"Normal\",\"Normal\",\"Exploits\",\"Normal\",\"Information Gathering\",\"Normal\",\"Exploits\",\"Other\",\"Normal\",\"Other\",\"Normal\",\"Denial of Service\",\"Exploits\",\"Other\",\"Normal\",\"Normal\",\"Exploits\",\"Denial of Service\",\"Exploits\",\"Normal\",\"Exploits\",\"Denial of Service\",\"Other\",\"Exploits\",\"Normal\",\"Other\",\"Normal\",\"Normal\",\"Other\",\"Normal\",\"Exploits\",\"Normal\",\"Other\",\"Normal\",\"Normal\",\"Other\",\"Denial of Service\",\"Other\",\"Denial of Service\",\"Other\",\"Denial of Service\",\"Normal\",\"Normal\",\"Exploits\",\"Normal\",\"Other\",\"Normal\",\"Normal\",\"Other\",\"Other\",\"Denial of Service\",\"Other\",\"Exploits\",\"Normal\",\"Normal\",\"Exploits\",\"Other\"],\"drift\":0}\n"
     ]
    }
   ],
   "source": [
    "rows = []\n",
    "test = saved_request[keys[8]]\n",
    "\n",
    "for index, row in test.iterrows():\n",
    "    rows.append(row.to_list())\n",
    "\n",
    "data = {\n",
    "  \"id\": 123,\n",
    "  \"rows\": rows,\n",
    "  \"columns\": test.columns.to_list()\n",
    "}\n",
    "\n",
    "import requests\n",
    "#response = requests.post('http://14.225.205.204:80/phase-2/prob-2/predict', json=data)\n",
    "#response = requests.post('http://27.71.25.203:5040/phase-2/prob-2/predict', json=data)\n",
    "response = requests.post('http://localhost:8000/phase-2/prob-2/predict', json=data)\n",
    "print(response.text)"
   ]
  },
  {
   "cell_type": "code",
   "execution_count": 16,
   "metadata": {},
   "outputs": [],
   "source": [
    "import random\n",
    "for i in range(10):\n",
    "    key = random.randint(0, len(keys))\n",
    "    id = random.randint(1000, 2000)\n",
    "    test = saved_request[keys[key]]\n",
    "    rows = []\n",
    "    for index, row in test.iterrows():\n",
    "        rows.append(row.to_list())\n",
    "    data = {\n",
    "        \"id\": id,\n",
    "        \"rows\": rows,\n",
    "        \"columns\": test.columns.to_list()\n",
    "        }\n",
    "    #response = requests.post('http://14.225.205.204:80/phase-2/prob-2/predict', json=data)\n",
    "    response = requests.post('http://localhost:8000/phase-2/prob-2/predict', json=data)\n",
    "    #print(response.text)"
   ]
  },
  {
   "cell_type": "code",
   "execution_count": null,
   "metadata": {},
   "outputs": [],
   "source": [
    "from aiocache import Cache\n",
    "from aiocache.serializers import PickleSerializer\n",
    "\n",
    "cacherequest = Cache(Cache.REDIS, endpoint=\"localhost\", port=6379, db=1, serializer=PickleSerializer())\n",
    "await cacherequest.clear()"
   ]
  },
  {
   "cell_type": "markdown",
   "metadata": {},
   "source": [
    "# Load request data to DF"
   ]
  },
  {
   "cell_type": "code",
   "execution_count": 10,
   "metadata": {},
   "outputs": [],
   "source": [
    "captured_x = pd.concat(saved_request.values(), ignore_index=True)\n",
    "captured_x.drop_duplicates(inplace=True, ignore_index=True)"
   ]
  },
  {
   "cell_type": "code",
   "execution_count": 22,
   "metadata": {},
   "outputs": [],
   "source": [
    "from src.utils import AppPath"
   ]
  },
  {
   "cell_type": "code",
   "execution_count": 27,
   "metadata": {},
   "outputs": [
    {
     "data": {
      "text/plain": [
       "['phase-2_prob-1.yaml', 'phase-2_prob-2.yaml']"
      ]
     },
     "execution_count": 27,
     "metadata": {},
     "output_type": "execute_result"
    }
   ],
   "source": [
    "import glob\n",
    "import os\n",
    "[os.path.basename(x) for x in glob.glob(str(AppPath.MODEL_CONFIG_DIR / '*.yaml'))]"
   ]
  },
  {
   "cell_type": "code",
   "execution_count": 20,
   "metadata": {},
   "outputs": [
    {
     "data": {
      "text/plain": [
       "['src\\\\dashboard.py',\n",
       " 'src\\\\data_processor.py',\n",
       " 'src\\\\problem_config.py',\n",
       " 'src\\\\train_model.py',\n",
       " 'src\\\\utils.py']"
      ]
     },
     "execution_count": 20,
     "metadata": {},
     "output_type": "execute_result"
    }
   ],
   "source": []
  }
 ],
 "metadata": {
  "kernelspec": {
   "display_name": "deploy",
   "language": "python",
   "name": "python3"
  },
  "language_info": {
   "codemirror_mode": {
    "name": "ipython",
    "version": 3
   },
   "file_extension": ".py",
   "mimetype": "text/x-python",
   "name": "python",
   "nbconvert_exporter": "python",
   "pygments_lexer": "ipython3",
   "version": "3.11.1"
  },
  "orig_nbformat": 4
 },
 "nbformat": 4,
 "nbformat_minor": 2
}
