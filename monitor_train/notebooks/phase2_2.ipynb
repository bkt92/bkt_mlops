{
 "cells": [
  {
   "attachments": {},
   "cell_type": "markdown",
   "metadata": {},
   "source": [
    "# Model drift"
   ]
  },
  {
   "cell_type": "code",
   "execution_count": 1,
   "metadata": {},
   "outputs": [],
   "source": [
    "import pandas as pd\n",
    "import redis\n",
    "import pickle\n",
    "# Load data for problem 1\n",
    "rc2 = redis.Redis(host='192.168.88.113', db=2, port=6379)\n",
    "\n",
    "captured_x = pd.DataFrame()\n",
    "for key in rc2.keys():\n",
    "    captured_data = pickle.loads(rc2.get(key))\n",
    "    captured_x = pd.concat([captured_x, captured_data])\n",
    "\n",
    "captured_x.drop_duplicates(inplace=True, ignore_index=True)\n",
    "\n",
    "#captured_x = apply_category_features(\n",
    "#    raw_df=captured_x[train_x0.columns],\n",
    "#    categorical_cols=prob_config.categorical_cols,\n",
    "#    category_index=category_index,\n",
    "#)"
   ]
  },
  {
   "cell_type": "code",
   "execution_count": null,
   "metadata": {},
   "outputs": [],
   "source": [
    "np_captured_x = captured_x.copy() #drop([\"is_drift\", \"batch_id\"], axis=1)\n",
    "np_captured_x = np_captured_x.astype(train_x.dtypes.to_dict())\n",
    "np_captured_x['label'].fillna(-1, inplace=True)"
   ]
  },
  {
   "cell_type": "code",
   "execution_count": 2,
   "metadata": {},
   "outputs": [],
   "source": [
    "allkey = rc2.keys()"
   ]
  },
  {
   "attachments": {},
   "cell_type": "markdown",
   "metadata": {},
   "source": [
    "# Test API"
   ]
  },
  {
   "cell_type": "code",
   "execution_count": 6,
   "metadata": {},
   "outputs": [
    {
     "name": "stdout",
     "output_type": "stream",
     "text": [
      "{\"id\":\"123\",\"predictions\":[\"Normal\",\"Normal\",\"Normal\",\"Normal\",\"Normal\",\"Exploits\",\"Normal\",\"Normal\",\"Exploits\",\"Exploits\",\"Normal\",\"Exploits\",\"Normal\",\"Other\",\"Malware\",\"Exploits\",\"Normal\",\"Normal\",\"Other\",\"Information Gathering\",\"Other\",\"Other\",\"Exploits\",\"Other\",\"Denial of Service\",\"Exploits\",\"Other\",\"Exploits\",\"Other\",\"Denial of Service\",\"Normal\",\"Normal\",\"Exploits\",\"Exploits\",\"Denial of Service\",\"Other\",\"Exploits\",\"Denial of Service\",\"Information Gathering\",\"Normal\",\"Other\",\"Denial of Service\",\"Information Gathering\",\"Other\",\"Normal\",\"Normal\",\"Normal\",\"Normal\",\"Other\",\"Normal\",\"Normal\",\"Normal\",\"Other\",\"Other\",\"Information Gathering\",\"Other\",\"Normal\",\"Other\",\"Normal\",\"Normal\",\"Exploits\",\"Normal\",\"Normal\",\"Exploits\",\"Normal\",\"Other\",\"Denial of Service\",\"Normal\",\"Exploits\",\"Exploits\",\"Exploits\",\"Information Gathering\",\"Other\",\"Normal\",\"Other\",\"Denial of Service\",\"Information Gathering\",\"Exploits\",\"Other\",\"Denial of Service\",\"Other\",\"Normal\",\"Exploits\",\"Other\",\"Normal\",\"Denial of Service\",\"Exploits\",\"Other\",\"Other\",\"Other\",\"Other\",\"Exploits\",\"Exploits\",\"Malware\",\"Denial of Service\",\"Information Gathering\",\"Normal\",\"Denial of Service\",\"Denial of Service\",\"Other\",\"Normal\",\"Normal\",\"Normal\",\"Other\",\"Exploits\",\"Normal\",\"Information Gathering\",\"Normal\",\"Normal\",\"Exploits\",\"Exploits\",\"Exploits\",\"Normal\",\"Normal\",\"Exploits\",\"Denial of Service\",\"Normal\",\"Other\",\"Other\",\"Other\",\"Normal\",\"Other\",\"Normal\",\"Other\",\"Exploits\",\"Normal\",\"Exploits\",\"Normal\",\"Exploits\",\"Other\",\"Denial of Service\",\"Denial of Service\",\"Information Gathering\",\"Malware\",\"Normal\",\"Other\",\"Other\",\"Exploits\",\"Normal\",\"Exploits\",\"Exploits\",\"Normal\",\"Other\",\"Exploits\",\"Normal\",\"Normal\",\"Exploits\",\"Normal\",\"Normal\",\"Exploits\",\"Exploits\",\"Normal\",\"Normal\",\"Normal\",\"Normal\",\"Denial of Service\",\"Denial of Service\",\"Exploits\",\"Other\",\"Normal\",\"Denial of Service\",\"Other\",\"Denial of Service\",\"Denial of Service\",\"Exploits\",\"Information Gathering\",\"Denial of Service\",\"Normal\",\"Normal\",\"Normal\",\"Normal\",\"Other\",\"Normal\",\"Exploits\",\"Other\",\"Normal\",\"Denial of Service\",\"Normal\",\"Normal\",\"Denial of Service\",\"Other\",\"Normal\",\"Normal\",\"Denial of Service\",\"Exploits\",\"Exploits\",\"Normal\",\"Normal\",\"Normal\",\"Exploits\",\"Information Gathering\",\"Information Gathering\",\"Normal\",\"Normal\",\"Normal\",\"Other\",\"Other\",\"Normal\",\"Normal\",\"Exploits\",\"Other\",\"Normal\",\"Normal\",\"Other\",\"Information Gathering\",\"Normal\",\"Normal\",\"Other\",\"Exploits\",\"Malware\",\"Exploits\",\"Denial of Service\",\"Exploits\",\"Denial of Service\",\"Normal\",\"Normal\",\"Denial of Service\",\"Normal\",\"Denial of Service\",\"Denial of Service\",\"Exploits\",\"Malware\",\"Normal\",\"Normal\",\"Exploits\",\"Other\",\"Other\",\"Exploits\",\"Denial of Service\",\"Exploits\",\"Normal\",\"Normal\",\"Other\",\"Normal\",\"Exploits\",\"Normal\",\"Malware\",\"Normal\",\"Normal\",\"Denial of Service\",\"Normal\",\"Normal\",\"Other\",\"Other\",\"Other\",\"Other\",\"Other\",\"Normal\",\"Exploits\",\"Other\",\"Normal\",\"Exploits\",\"Normal\",\"Other\",\"Normal\",\"Normal\",\"Other\",\"Exploits\",\"Information Gathering\",\"Normal\",\"Normal\",\"Normal\",\"Normal\",\"Normal\",\"Other\",\"Exploits\",\"Exploits\",\"Normal\",\"Information Gathering\",\"Other\",\"Exploits\",\"Normal\",\"Normal\",\"Other\",\"Other\",\"Normal\",\"Exploits\",\"Information Gathering\",\"Other\",\"Normal\",\"Normal\",\"Normal\",\"Denial of Service\",\"Normal\",\"Exploits\",\"Exploits\",\"Normal\",\"Exploits\",\"Exploits\",\"Other\",\"Other\",\"Normal\",\"Denial of Service\",\"Denial of Service\",\"Exploits\",\"Other\",\"Exploits\",\"Other\",\"Normal\",\"Normal\",\"Normal\",\"Other\",\"Exploits\",\"Other\",\"Denial of Service\",\"Normal\",\"Denial of Service\",\"Exploits\",\"Normal\",\"Normal\",\"Exploits\",\"Other\",\"Normal\",\"Denial of Service\",\"Exploits\",\"Normal\",\"Exploits\",\"Denial of Service\",\"Exploits\",\"Other\",\"Exploits\",\"Denial of Service\",\"Malware\",\"Normal\",\"Exploits\",\"Normal\",\"Normal\",\"Denial of Service\",\"Exploits\",\"Normal\",\"Normal\",\"Denial of Service\",\"Normal\",\"Normal\",\"Information Gathering\",\"Exploits\",\"Normal\",\"Normal\",\"Normal\",\"Denial of Service\",\"Normal\",\"Other\",\"Exploits\",\"Normal\",\"Normal\",\"Other\",\"Exploits\",\"Normal\",\"Denial of Service\",\"Normal\",\"Exploits\",\"Denial of Service\",\"Denial of Service\",\"Other\",\"Other\",\"Normal\",\"Exploits\",\"Other\",\"Denial of Service\",\"Exploits\",\"Exploits\",\"Exploits\",\"Denial of Service\",\"Normal\",\"Normal\",\"Other\",\"Other\",\"Exploits\",\"Normal\",\"Exploits\",\"Information Gathering\",\"Other\",\"Exploits\",\"Denial of Service\",\"Denial of Service\",\"Denial of Service\",\"Other\",\"Other\",\"Other\",\"Other\",\"Normal\",\"Denial of Service\",\"Information Gathering\",\"Normal\",\"Other\",\"Denial of Service\",\"Other\",\"Normal\",\"Exploits\",\"Other\",\"Exploits\",\"Other\",\"Normal\",\"Information Gathering\",\"Normal\",\"Normal\",\"Normal\",\"Denial of Service\",\"Denial of Service\",\"Exploits\",\"Normal\",\"Denial of Service\",\"Normal\",\"Exploits\",\"Malware\",\"Other\",\"Other\",\"Other\",\"Normal\",\"Denial of Service\",\"Normal\",\"Denial of Service\",\"Normal\",\"Other\",\"Exploits\",\"Normal\",\"Exploits\",\"Normal\",\"Other\",\"Normal\",\"Normal\",\"Other\",\"Exploits\",\"Other\",\"Exploits\",\"Other\",\"Normal\",\"Other\",\"Exploits\",\"Normal\",\"Normal\",\"Other\",\"Normal\",\"Denial of Service\",\"Normal\",\"Normal\",\"Exploits\",\"Other\",\"Denial of Service\",\"Denial of Service\",\"Exploits\",\"Exploits\",\"Malware\",\"Exploits\",\"Exploits\",\"Denial of Service\",\"Normal\",\"Information Gathering\",\"Denial of Service\",\"Normal\",\"Normal\",\"Normal\",\"Normal\",\"Normal\",\"Other\",\"Exploits\",\"Normal\",\"Other\",\"Normal\",\"Exploits\",\"Normal\",\"Normal\",\"Normal\",\"Exploits\",\"Normal\",\"Exploits\",\"Other\",\"Denial of Service\",\"Other\",\"Exploits\",\"Normal\",\"Other\",\"Other\",\"Exploits\",\"Normal\",\"Other\",\"Exploits\",\"Normal\",\"Normal\",\"Exploits\",\"Exploits\",\"Other\",\"Normal\",\"Normal\",\"Exploits\",\"Exploits\",\"Normal\",\"Normal\",\"Normal\",\"Normal\",\"Normal\",\"Normal\",\"Normal\",\"Other\",\"Normal\",\"Denial of Service\",\"Other\",\"Exploits\",\"Other\",\"Denial of Service\",\"Exploits\",\"Normal\",\"Exploits\",\"Normal\",\"Exploits\",\"Other\",\"Normal\",\"Normal\",\"Exploits\",\"Normal\",\"Exploits\",\"Normal\",\"Normal\",\"Denial of Service\",\"Normal\",\"Normal\",\"Denial of Service\",\"Normal\",\"Normal\",\"Normal\",\"Exploits\",\"Exploits\",\"Other\",\"Normal\",\"Information Gathering\",\"Denial of Service\",\"Exploits\",\"Other\",\"Information Gathering\",\"Other\",\"Normal\",\"Normal\",\"Exploits\",\"Other\",\"Denial of Service\",\"Normal\",\"Information Gathering\",\"Denial of Service\",\"Denial of Service\",\"Other\",\"Normal\",\"Information Gathering\",\"Exploits\",\"Other\",\"Normal\",\"Normal\",\"Normal\",\"Denial of Service\",\"Exploits\",\"Normal\",\"Normal\",\"Denial of Service\",\"Normal\",\"Normal\",\"Other\",\"Exploits\",\"Normal\",\"Exploits\",\"Exploits\",\"Exploits\",\"Normal\",\"Information Gathering\",\"Normal\",\"Other\",\"Denial of Service\",\"Normal\",\"Exploits\",\"Information Gathering\",\"Normal\",\"Other\",\"Normal\",\"Normal\",\"Exploits\",\"Exploits\",\"Normal\",\"Normal\",\"Exploits\",\"Normal\",\"Other\",\"Other\",\"Other\",\"Other\",\"Other\",\"Other\",\"Exploits\",\"Malware\",\"Denial of Service\",\"Other\",\"Other\",\"Normal\",\"Other\",\"Denial of Service\",\"Normal\",\"Other\",\"Normal\",\"Normal\",\"Other\",\"Denial of Service\",\"Other\",\"Denial of Service\",\"Exploits\",\"Normal\",\"Exploits\",\"Information Gathering\",\"Normal\",\"Information Gathering\",\"Exploits\",\"Exploits\",\"Exploits\",\"Exploits\",\"Normal\",\"Normal\",\"Other\",\"Denial of Service\",\"Other\",\"Exploits\",\"Exploits\",\"Other\",\"Denial of Service\",\"Exploits\",\"Information Gathering\",\"Exploits\",\"Other\",\"Exploits\",\"Normal\",\"Normal\",\"Exploits\",\"Exploits\",\"Exploits\",\"Other\",\"Normal\",\"Exploits\",\"Denial of Service\",\"Normal\",\"Other\",\"Exploits\",\"Normal\",\"Other\",\"Exploits\",\"Normal\",\"Exploits\",\"Denial of Service\",\"Other\",\"Other\",\"Normal\",\"Normal\",\"Other\",\"Other\",\"Other\",\"Other\",\"Other\",\"Exploits\",\"Other\",\"Normal\",\"Other\",\"Exploits\",\"Normal\",\"Normal\",\"Other\",\"Normal\",\"Denial of Service\",\"Normal\",\"Other\",\"Other\",\"Denial of Service\",\"Exploits\",\"Exploits\",\"Denial of Service\",\"Normal\",\"Exploits\",\"Other\",\"Exploits\",\"Exploits\",\"Information Gathering\",\"Other\",\"Information Gathering\",\"Exploits\",\"Exploits\",\"Other\",\"Exploits\",\"Normal\",\"Denial of Service\",\"Other\",\"Other\",\"Other\",\"Normal\",\"Exploits\",\"Normal\",\"Exploits\",\"Exploits\",\"Other\",\"Other\",\"Information Gathering\",\"Exploits\",\"Other\",\"Exploits\",\"Exploits\",\"Normal\",\"Normal\",\"Other\",\"Normal\",\"Exploits\",\"Other\",\"Information Gathering\",\"Exploits\",\"Denial of Service\",\"Normal\",\"Exploits\",\"Normal\",\"Normal\",\"Exploits\",\"Other\",\"Normal\",\"Exploits\",\"Other\",\"Normal\",\"Normal\",\"Normal\",\"Other\",\"Other\",\"Normal\",\"Denial of Service\",\"Denial of Service\",\"Exploits\",\"Other\",\"Normal\",\"Other\",\"Normal\",\"Information Gathering\",\"Exploits\",\"Normal\",\"Other\",\"Information Gathering\",\"Exploits\",\"Normal\",\"Denial of Service\",\"Exploits\",\"Information Gathering\",\"Normal\",\"Other\",\"Exploits\",\"Other\",\"Exploits\",\"Normal\",\"Exploits\",\"Normal\",\"Exploits\",\"Normal\",\"Other\",\"Normal\",\"Normal\",\"Exploits\",\"Normal\",\"Other\",\"Normal\",\"Other\",\"Denial of Service\",\"Other\",\"Exploits\",\"Normal\",\"Normal\",\"Normal\",\"Normal\",\"Other\",\"Other\",\"Normal\",\"Denial of Service\",\"Other\",\"Exploits\",\"Exploits\",\"Normal\",\"Normal\",\"Normal\",\"Other\",\"Exploits\",\"Denial of Service\",\"Other\",\"Normal\",\"Normal\",\"Normal\",\"Normal\",\"Information Gathering\",\"Normal\",\"Normal\",\"Other\",\"Denial of Service\",\"Denial of Service\",\"Exploits\",\"Normal\",\"Exploits\",\"Other\",\"Exploits\",\"Normal\",\"Normal\",\"Other\",\"Exploits\",\"Exploits\",\"Normal\",\"Normal\",\"Normal\",\"Normal\",\"Normal\",\"Other\",\"Exploits\",\"Other\",\"Other\",\"Other\",\"Normal\",\"Exploits\",\"Other\",\"Normal\",\"Other\",\"Normal\",\"Normal\",\"Exploits\",\"Normal\",\"Other\",\"Other\",\"Normal\",\"Denial of Service\",\"Normal\",\"Denial of Service\",\"Other\",\"Exploits\",\"Denial of Service\",\"Other\",\"Normal\",\"Normal\",\"Normal\",\"Denial of Service\",\"Normal\",\"Other\",\"Other\",\"Other\",\"Other\",\"Other\",\"Denial of Service\",\"Normal\",\"Other\",\"Normal\",\"Denial of Service\",\"Denial of Service\",\"Other\",\"Denial of Service\",\"Exploits\",\"Other\",\"Information Gathering\",\"Information Gathering\",\"Normal\",\"Normal\",\"Exploits\",\"Normal\",\"Malware\",\"Other\",\"Other\",\"Normal\",\"Other\",\"Information Gathering\",\"Normal\",\"Normal\",\"Normal\",\"Other\",\"Other\",\"Normal\",\"Normal\",\"Normal\",\"Exploits\",\"Exploits\",\"Denial of Service\",\"Normal\",\"Other\",\"Exploits\",\"Exploits\",\"Normal\",\"Other\",\"Malware\",\"Normal\",\"Normal\",\"Exploits\",\"Denial of Service\",\"Normal\",\"Normal\",\"Normal\",\"Normal\",\"Normal\",\"Other\",\"Other\",\"Normal\",\"Other\",\"Exploits\",\"Normal\",\"Other\",\"Normal\",\"Other\",\"Exploits\",\"Information Gathering\",\"Denial of Service\",\"Normal\",\"Exploits\",\"Exploits\",\"Normal\",\"Information Gathering\",\"Other\",\"Denial of Service\",\"Other\",\"Exploits\",\"Normal\",\"Exploits\",\"Normal\",\"Normal\",\"Denial of Service\",\"Normal\",\"Other\",\"Normal\",\"Exploits\",\"Denial of Service\",\"Normal\",\"Normal\",\"Other\",\"Normal\",\"Other\",\"Normal\",\"Normal\",\"Other\",\"Normal\",\"Normal\",\"Exploits\",\"Other\",\"Exploits\",\"Normal\",\"Exploits\",\"Normal\",\"Denial of Service\",\"Other\",\"Denial of Service\",\"Normal\",\"Denial of Service\",\"Normal\",\"Denial of Service\",\"Normal\",\"Normal\",\"Other\",\"Normal\",\"Normal\",\"Normal\",\"Exploits\",\"Exploits\",\"Normal\",\"Normal\",\"Exploits\",\"Normal\",\"Normal\",\"Other\",\"Other\",\"Other\",\"Normal\",\"Exploits\",\"Other\",\"Exploits\",\"Information Gathering\",\"Denial of Service\",\"Normal\",\"Normal\",\"Exploits\",\"Exploits\",\"Exploits\",\"Other\",\"Normal\",\"Other\",\"Exploits\",\"Normal\",\"Exploits\",\"Exploits\",\"Normal\",\"Normal\",\"Denial of Service\",\"Exploits\",\"Denial of Service\",\"Exploits\",\"Exploits\",\"Normal\",\"Other\",\"Normal\",\"Normal\",\"Normal\",\"Normal\",\"Other\",\"Normal\",\"Normal\",\"Exploits\",\"Other\",\"Normal\",\"Normal\",\"Normal\",\"Information Gathering\",\"Exploits\",\"Normal\",\"Exploits\",\"Normal\",\"Normal\"],\"drift\":0}\n"
     ]
    }
   ],
   "source": [
    "rows = []\n",
    "test = pickle.loads(rc2.get(allkey[6]))\n",
    "\n",
    "for index, row in test.iterrows():\n",
    "    rows.append(row.to_list())\n",
    "\n",
    "data = {\n",
    "  \"id\": \"123\",\n",
    "  \"rows\": rows,\n",
    "  \"columns\": test.columns.to_list()\n",
    "}\n",
    "\n",
    "import requests\n",
    "#response = requests.post('http://14.225.205.204:5040/phase-2/prob-1/predict', json=data)\n",
    "response = requests.post('http://localhost:8000/phase-2/prob-2/predict', json=data)\n",
    "#response = requests.post('http://27.71.25.203:8000/phase-2/prob-2/predict', json=data)\n",
    "print(response.text)"
   ]
  },
  {
   "cell_type": "code",
   "execution_count": 35,
   "metadata": {},
   "outputs": [
    {
     "data": {
      "text/plain": [
       "True"
      ]
     },
     "execution_count": 35,
     "metadata": {},
     "output_type": "execute_result"
    }
   ],
   "source": [
    "# Clear cache\n",
    "\n",
    "from aiocache import Cache\n",
    "from aiocache.serializers import PickleSerializer\n",
    "\n",
    "cacherequest = Cache(Cache.REDIS, endpoint=\"localhost\", port=6379, db=2, serializer=PickleSerializer())\n",
    "await cacherequest.clear()"
   ]
  },
  {
   "cell_type": "code",
   "execution_count": 39,
   "metadata": {},
   "outputs": [
    {
     "data": {
      "text/plain": [
       "<coroutine object BaseCache.set at 0x0000020BA7B83B50>"
      ]
     },
     "execution_count": 39,
     "metadata": {},
     "output_type": "execute_result"
    }
   ],
   "source": [
    "cacherequest.set(1, 2)"
   ]
  },
  {
   "cell_type": "code",
   "execution_count": 42,
   "metadata": {},
   "outputs": [],
   "source": [
    "x = await cacherequest.get(1)"
   ]
  }
 ],
 "metadata": {
  "kernelspec": {
   "display_name": "deploy",
   "language": "python",
   "name": "python3"
  },
  "language_info": {
   "codemirror_mode": {
    "name": "ipython",
    "version": 3
   },
   "file_extension": ".py",
   "mimetype": "text/x-python",
   "name": "python",
   "nbconvert_exporter": "python",
   "pygments_lexer": "ipython3",
   "version": "3.11.1"
  },
  "orig_nbformat": 4
 },
 "nbformat": 4,
 "nbformat_minor": 2
}
